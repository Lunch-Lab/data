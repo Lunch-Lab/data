{
 "cells": [
  {
   "cell_type": "markdown",
   "metadata": {},
   "source": [
    "# 네이버 매장정보 크롤링\n",
    "\n",
    "#### 자료 \n",
    "https://www.localdata.go.kr/devcenter/dataDown.do?menuNo=20001\n",
    "\n",
    "1. 관광식당, 일반음식점, 휴게음식점 데이터셋 다운로드(07_24_01_P_.csv.zip, 07_24_04_P_.csv.zip , 07_24_05_P_.csv.zip)\n",
    "2. 다운로드한 파일들을 data 폴더에 넣어주세요. (압축풀지말고)"
   ]
  },
  {
   "cell_type": "markdown",
   "metadata": {},
   "source": [
    "문제 \n",
    "1. 강남구 매장이지만, 네이버로 검색하는 경우 강남구가 아닌 다른 지역의 매장명이 검색됨\n",
    "2. 데이터 반영이 빠른편이지만, 네이버에 매장이 없는 경우가 있음 (없는 매장 : 맥도날드, 교촌, 굽네) \n",
    "3. 검색하면 전혀 다른 업체가 나오는 경우가 있음 -> 네이버 업태구분명을 크롤링해와서 참고하여 반영해야 \n",
    "4. 나라에서 제공하는 data를 사용하는 경우 인기도를 알기 어려움. 아닌가. -> 네이버 지도 api를 사용해서 점수를 부여할까? \n",
    "5. 자료 업데이트 시기 문제 - data를 다운로드 받아서 사용하는 경우, 매장 정보는 계속 바뀐는데 업데이트가 늦잖아... 매장 정보의 변동이 생기 사람이 계속 업로드를 해야 하잖아.. "
   ]
  },
  {
   "cell_type": "code",
   "execution_count": 24,
   "metadata": {},
   "outputs": [
    {
     "name": "stdout",
     "output_type": "stream",
     "text": [
      "Requirement already satisfied: selenium in c:\\python310\\lib\\site-packages (4.18.1)\n",
      "Requirement already satisfied: webdriver_manager in c:\\python310\\lib\\site-packages (4.0.1)\n",
      "Requirement already satisfied: beautifulsoup4 in c:\\python310\\lib\\site-packages (4.10.0)\n",
      "Collecting beautifulsoup4\n",
      "  Using cached beautifulsoup4-4.12.3-py3-none-any.whl.metadata (3.8 kB)\n",
      "Requirement already satisfied: numpy in c:\\python310\\lib\\site-packages (1.24.3)\n",
      "Collecting numpy\n",
      "  Using cached numpy-1.26.4-cp310-cp310-win_amd64.whl.metadata (61 kB)\n",
      "Requirement already satisfied: pandas in c:\\python310\\lib\\site-packages (2.1.0)\n",
      "Collecting pandas\n",
      "  Using cached pandas-2.2.0-cp310-cp310-win_amd64.whl.metadata (19 kB)\n",
      "Requirement already satisfied: tqdm in c:\\python310\\lib\\site-packages (4.66.2)\n",
      "Requirement already satisfied: chromedriver_autoinstaller in c:\\python310\\lib\\site-packages (0.6.4)\n"
     ]
    },
    {
     "name": "stderr",
     "output_type": "stream",
     "text": [
      "ERROR: Could not find a version that satisfies the requirement webbrowser (from versions: none)\n",
      "ERROR: No matching distribution found for webbrowser\n"
     ]
    }
   ],
   "source": [
    "! pip install --upgrade selenium webdriver_manager beautifulsoup4 numpy pandas tqdm chromedriver_autoinstaller webbrowser\n"
   ]
  },
  {
   "cell_type": "code",
   "execution_count": 25,
   "metadata": {},
   "outputs": [],
   "source": [
    "# 웹 드라이버 설정\n",
    "from selenium import webdriver  \n",
    "from webdriver_manager.chrome import ChromeDriverManager \n",
    "\n",
    "# 대기 관련 라이브러리\n",
    "from selenium.webdriver.support.ui import WebDriverWait \n",
    "from selenium.webdriver.support import expected_conditions as EC \n",
    "\n",
    "# 예외 처리 관련 라이브러리\n",
    "from selenium.common.exceptions import TimeoutException, NoSuchElementException  \n",
    "\n",
    "# 웹 요소 찾기 관련 라이브러리\n",
    "from selenium.webdriver.common.by import By  \n",
    "from selenium.webdriver.support.ui import Select  \n",
    "from selenium.webdriver.common.keys import Keys  \n",
    "\n",
    "# 그 외 \n",
    "import time \n",
    "import warnings\n",
    "warnings.filterwarnings('ignore')\n",
    "from bs4 import BeautifulSoup \n",
    "import numpy as np  \n",
    "import pandas as pd \n",
    "\n",
    "import re  \n",
    "from tqdm import tqdm  # 반복문 진행 상황 시각화 모듈\n",
    "import zipfile\n",
    "import os\n",
    "\n",
    "\n",
    "from selenium import webdriver\n",
    "import chromedriver_autoinstaller\n",
    "import webbrowser"
   ]
  },
  {
   "cell_type": "code",
   "execution_count": 26,
   "metadata": {},
   "outputs": [
    {
     "data": {
      "text/html": [
       "<div>\n",
       "<style scoped>\n",
       "    .dataframe tbody tr th:only-of-type {\n",
       "        vertical-align: middle;\n",
       "    }\n",
       "\n",
       "    .dataframe tbody tr th {\n",
       "        vertical-align: top;\n",
       "    }\n",
       "\n",
       "    .dataframe thead th {\n",
       "        text-align: right;\n",
       "    }\n",
       "</style>\n",
       "<table border=\"1\" class=\"dataframe\">\n",
       "  <thead>\n",
       "    <tr style=\"text-align: right;\">\n",
       "      <th></th>\n",
       "      <th>영업상태명</th>\n",
       "      <th>소재지전체주소</th>\n",
       "      <th>도로명전체주소</th>\n",
       "      <th>사업장명</th>\n",
       "      <th>최종수정시점</th>\n",
       "      <th>데이터갱신일자</th>\n",
       "      <th>업태구분명</th>\n",
       "      <th>좌표정보(x)</th>\n",
       "      <th>좌표정보(y)</th>\n",
       "      <th>위생업태명</th>\n",
       "      <th>시도</th>\n",
       "      <th>지역구</th>\n",
       "    </tr>\n",
       "  </thead>\n",
       "  <tbody>\n",
       "    <tr>\n",
       "      <th>0</th>\n",
       "      <td>영업/정상</td>\n",
       "      <td>서울특별시 강남구 논현동 198-9</td>\n",
       "      <td>서울특별시 강남구 강남대로114길 18, 지상1층 102호 (논현동)</td>\n",
       "      <td>정식당</td>\n",
       "      <td>2023-09-22 11:33:55</td>\n",
       "      <td>2023-09-24 00:17:57</td>\n",
       "      <td>한식</td>\n",
       "      <td>202203.971845</td>\n",
       "      <td>444853.761458</td>\n",
       "      <td>한식</td>\n",
       "      <td>서울특별시</td>\n",
       "      <td>강남구</td>\n",
       "    </tr>\n",
       "    <tr>\n",
       "      <th>1</th>\n",
       "      <td>영업/정상</td>\n",
       "      <td>서울특별시 강남구 역삼동 825-9 준빌딩</td>\n",
       "      <td>서울특별시 강남구 강남대로 378, 준빌딩 지상1층 (역삼동)</td>\n",
       "      <td>채선당 샤브보트 강남역점</td>\n",
       "      <td>2023-09-22 10:20:03</td>\n",
       "      <td>2023-09-24 00:17:57</td>\n",
       "      <td>한식</td>\n",
       "      <td>202462.794327</td>\n",
       "      <td>443827.961945</td>\n",
       "      <td>한식</td>\n",
       "      <td>서울특별시</td>\n",
       "      <td>강남구</td>\n",
       "    </tr>\n",
       "    <tr>\n",
       "      <th>2</th>\n",
       "      <td>영업/정상</td>\n",
       "      <td>서울특별시 강남구 삼성동 159 코엑스</td>\n",
       "      <td>서울특별시 강남구 영동대로 513, 코엑스 C홀 지상3층 (삼성동)</td>\n",
       "      <td>(주)푸들</td>\n",
       "      <td>2023-12-01 17:58:46</td>\n",
       "      <td>2023-12-03 00:17:36</td>\n",
       "      <td>기타</td>\n",
       "      <td>205130.591679</td>\n",
       "      <td>445590.096838</td>\n",
       "      <td>기타</td>\n",
       "      <td>서울특별시</td>\n",
       "      <td>강남구</td>\n",
       "    </tr>\n",
       "    <tr>\n",
       "      <th>3</th>\n",
       "      <td>영업/정상</td>\n",
       "      <td>서울특별시 강남구 압구정동 494 갤러리아백화점</td>\n",
       "      <td>서울특별시 강남구 압구정로 343, 갤러리아백화점 지하1층 (압구정동)</td>\n",
       "      <td>수아당</td>\n",
       "      <td>2023-12-01 17:01:54</td>\n",
       "      <td>2023-12-03 00:17:36</td>\n",
       "      <td>한식</td>\n",
       "      <td>203470.848439</td>\n",
       "      <td>447369.579852</td>\n",
       "      <td>한식</td>\n",
       "      <td>서울특별시</td>\n",
       "      <td>강남구</td>\n",
       "    </tr>\n",
       "    <tr>\n",
       "      <th>4</th>\n",
       "      <td>영업/정상</td>\n",
       "      <td>서울특별시 강남구 삼성동 116-10</td>\n",
       "      <td>서울특별시 강남구 봉은사로72길 11, 지하1층 (삼성동)</td>\n",
       "      <td>오늘은 철판</td>\n",
       "      <td>2023-12-01 16:01:58</td>\n",
       "      <td>2023-12-03 00:17:36</td>\n",
       "      <td>일식</td>\n",
       "      <td>204447.401189</td>\n",
       "      <td>445478.066611</td>\n",
       "      <td>일식</td>\n",
       "      <td>서울특별시</td>\n",
       "      <td>강남구</td>\n",
       "    </tr>\n",
       "  </tbody>\n",
       "</table>\n",
       "</div>"
      ],
      "text/plain": [
       "   영업상태명                     소재지전체주소                                  도로명전체주소  \\\n",
       "0  영업/정상         서울특별시 강남구 논현동 198-9   서울특별시 강남구 강남대로114길 18, 지상1층 102호 (논현동)   \n",
       "1  영업/정상     서울특별시 강남구 역삼동 825-9 준빌딩       서울특별시 강남구 강남대로 378, 준빌딩 지상1층 (역삼동)   \n",
       "2  영업/정상       서울특별시 강남구 삼성동 159 코엑스    서울특별시 강남구 영동대로 513, 코엑스 C홀 지상3층 (삼성동)   \n",
       "3  영업/정상  서울특별시 강남구 압구정동 494 갤러리아백화점  서울특별시 강남구 압구정로 343, 갤러리아백화점 지하1층 (압구정동)   \n",
       "4  영업/정상        서울특별시 강남구 삼성동 116-10         서울특별시 강남구 봉은사로72길 11, 지하1층 (삼성동)   \n",
       "\n",
       "            사업장명               최종수정시점              데이터갱신일자 업태구분명  \\\n",
       "0            정식당  2023-09-22 11:33:55  2023-09-24 00:17:57    한식   \n",
       "1  채선당 샤브보트 강남역점  2023-09-22 10:20:03  2023-09-24 00:17:57    한식   \n",
       "2          (주)푸들  2023-12-01 17:58:46  2023-12-03 00:17:36    기타   \n",
       "3            수아당  2023-12-01 17:01:54  2023-12-03 00:17:36    한식   \n",
       "4         오늘은 철판  2023-12-01 16:01:58  2023-12-03 00:17:36    일식   \n",
       "\n",
       "         좌표정보(x)        좌표정보(y) 위생업태명     시도  지역구  \n",
       "0  202203.971845  444853.761458    한식  서울특별시  강남구  \n",
       "1  202462.794327  443827.961945    한식  서울특별시  강남구  \n",
       "2  205130.591679  445590.096838    기타  서울특별시  강남구  \n",
       "3  203470.848439  447369.579852    한식  서울특별시  강남구  \n",
       "4  204447.401189  445478.066611    일식  서울특별시  강남구  "
      ]
     },
     "execution_count": 26,
     "metadata": {},
     "output_type": "execute_result"
    }
   ],
   "source": [
    "df = pd.read_csv('./data/filtered_data_서울특별시강남구.csv')\n",
    "df.head(5)"
   ]
  },
  {
   "cell_type": "code",
   "execution_count": 27,
   "metadata": {},
   "outputs": [
    {
     "data": {
      "text/plain": [
       "영업상태명       0\n",
       "소재지전체주소     0\n",
       "도로명전체주소    95\n",
       "사업장명        0\n",
       "최종수정시점      0\n",
       "데이터갱신일자     0\n",
       "업태구분명       1\n",
       "좌표정보(x)    81\n",
       "좌표정보(y)    81\n",
       "위생업태명       1\n",
       "시도          0\n",
       "지역구         0\n",
       "dtype: int64"
      ]
     },
     "execution_count": 27,
     "metadata": {},
     "output_type": "execute_result"
    }
   ],
   "source": [
    "df.isna().sum()"
   ]
  },
  {
   "cell_type": "code",
   "execution_count": 28,
   "metadata": {},
   "outputs": [
    {
     "name": "stdout",
     "output_type": "stream",
     "text": [
      "<class 'pandas.core.frame.DataFrame'>\n",
      "RangeIndex: 16384 entries, 0 to 16383\n",
      "Data columns (total 12 columns):\n",
      " #   Column   Non-Null Count  Dtype  \n",
      "---  ------   --------------  -----  \n",
      " 0   영업상태명    16384 non-null  object \n",
      " 1   소재지전체주소  16384 non-null  object \n",
      " 2   도로명전체주소  16289 non-null  object \n",
      " 3   사업장명     16384 non-null  object \n",
      " 4   최종수정시점   16384 non-null  object \n",
      " 5   데이터갱신일자  16384 non-null  object \n",
      " 6   업태구분명    16383 non-null  object \n",
      " 7   좌표정보(x)  16303 non-null  float64\n",
      " 8   좌표정보(y)  16303 non-null  float64\n",
      " 9   위생업태명    16383 non-null  object \n",
      " 10  시도       16384 non-null  object \n",
      " 11  지역구      16384 non-null  object \n",
      "dtypes: float64(2), object(10)\n",
      "memory usage: 1.5+ MB\n"
     ]
    }
   ],
   "source": [
    "df.info()"
   ]
  },
  {
   "cell_type": "code",
   "execution_count": 29,
   "metadata": {},
   "outputs": [
    {
     "data": {
      "text/html": [
       "<div>\n",
       "<style scoped>\n",
       "    .dataframe tbody tr th:only-of-type {\n",
       "        vertical-align: middle;\n",
       "    }\n",
       "\n",
       "    .dataframe tbody tr th {\n",
       "        vertical-align: top;\n",
       "    }\n",
       "\n",
       "    .dataframe thead th {\n",
       "        text-align: right;\n",
       "    }\n",
       "</style>\n",
       "<table border=\"1\" class=\"dataframe\">\n",
       "  <thead>\n",
       "    <tr style=\"text-align: right;\">\n",
       "      <th></th>\n",
       "      <th>영업상태명</th>\n",
       "      <th>소재지전체주소</th>\n",
       "      <th>도로명전체주소</th>\n",
       "      <th>사업장명</th>\n",
       "      <th>업태구분명</th>\n",
       "      <th>좌표정보(x)</th>\n",
       "      <th>좌표정보(y)</th>\n",
       "      <th>시도</th>\n",
       "      <th>지역구</th>\n",
       "      <th>상세주소</th>\n",
       "    </tr>\n",
       "  </thead>\n",
       "  <tbody>\n",
       "    <tr>\n",
       "      <th>0</th>\n",
       "      <td>영업/정상</td>\n",
       "      <td>서울특별시 강남구 논현동 198-9</td>\n",
       "      <td>서울특별시 강남구 강남대로114길 18, 지상1층 102호 (논현동)</td>\n",
       "      <td>정식당</td>\n",
       "      <td>한식</td>\n",
       "      <td>202203.971845</td>\n",
       "      <td>444853.761458</td>\n",
       "      <td>서울특별시</td>\n",
       "      <td>강남구</td>\n",
       "      <td>강남대로114길18,</td>\n",
       "    </tr>\n",
       "    <tr>\n",
       "      <th>1</th>\n",
       "      <td>영업/정상</td>\n",
       "      <td>서울특별시 강남구 역삼동 825-9 준빌딩</td>\n",
       "      <td>서울특별시 강남구 강남대로 378, 준빌딩 지상1층 (역삼동)</td>\n",
       "      <td>채선당 샤브보트 강남역점</td>\n",
       "      <td>한식</td>\n",
       "      <td>202462.794327</td>\n",
       "      <td>443827.961945</td>\n",
       "      <td>서울특별시</td>\n",
       "      <td>강남구</td>\n",
       "      <td>강남대로378,</td>\n",
       "    </tr>\n",
       "    <tr>\n",
       "      <th>2</th>\n",
       "      <td>영업/정상</td>\n",
       "      <td>서울특별시 강남구 삼성동 159 코엑스</td>\n",
       "      <td>서울특별시 강남구 영동대로 513, 코엑스 C홀 지상3층 (삼성동)</td>\n",
       "      <td>(주)푸들</td>\n",
       "      <td>기타</td>\n",
       "      <td>205130.591679</td>\n",
       "      <td>445590.096838</td>\n",
       "      <td>서울특별시</td>\n",
       "      <td>강남구</td>\n",
       "      <td>영동대로513,</td>\n",
       "    </tr>\n",
       "    <tr>\n",
       "      <th>3</th>\n",
       "      <td>영업/정상</td>\n",
       "      <td>서울특별시 강남구 압구정동 494 갤러리아백화점</td>\n",
       "      <td>서울특별시 강남구 압구정로 343, 갤러리아백화점 지하1층 (압구정동)</td>\n",
       "      <td>수아당</td>\n",
       "      <td>한식</td>\n",
       "      <td>203470.848439</td>\n",
       "      <td>447369.579852</td>\n",
       "      <td>서울특별시</td>\n",
       "      <td>강남구</td>\n",
       "      <td>압구정로343,</td>\n",
       "    </tr>\n",
       "    <tr>\n",
       "      <th>4</th>\n",
       "      <td>영업/정상</td>\n",
       "      <td>서울특별시 강남구 삼성동 116-10</td>\n",
       "      <td>서울특별시 강남구 봉은사로72길 11, 지하1층 (삼성동)</td>\n",
       "      <td>오늘은 철판</td>\n",
       "      <td>일식</td>\n",
       "      <td>204447.401189</td>\n",
       "      <td>445478.066611</td>\n",
       "      <td>서울특별시</td>\n",
       "      <td>강남구</td>\n",
       "      <td>봉은사로72길11,</td>\n",
       "    </tr>\n",
       "    <tr>\n",
       "      <th>5</th>\n",
       "      <td>영업/정상</td>\n",
       "      <td>서울특별시 강남구 역삼동 769-1 삼환 아르누보</td>\n",
       "      <td>서울특별시 강남구 역삼로 204, 삼환 아르누보 지하1층 B09,B10호 중 107...</td>\n",
       "      <td>알찬한끼</td>\n",
       "      <td>분식</td>\n",
       "      <td>203453.074369</td>\n",
       "      <td>443736.685792</td>\n",
       "      <td>서울특별시</td>\n",
       "      <td>강남구</td>\n",
       "      <td>역삼로204,</td>\n",
       "    </tr>\n",
       "    <tr>\n",
       "      <th>6</th>\n",
       "      <td>영업/정상</td>\n",
       "      <td>서울특별시 강남구 삼성동 124-27</td>\n",
       "      <td>서울특별시 강남구 테헤란로77길 41, 지상1층 (삼성동)</td>\n",
       "      <td>마스터즈</td>\n",
       "      <td>한식</td>\n",
       "      <td>204648.781835</td>\n",
       "      <td>445194.685321</td>\n",
       "      <td>서울특별시</td>\n",
       "      <td>강남구</td>\n",
       "      <td>테헤란로77길41,</td>\n",
       "    </tr>\n",
       "    <tr>\n",
       "      <th>7</th>\n",
       "      <td>영업/정상</td>\n",
       "      <td>서울특별시 강남구 삼성동 155-11</td>\n",
       "      <td>서울특별시 강남구 삼성로96길 11, 지상2층 (삼성동)</td>\n",
       "      <td>세계관</td>\n",
       "      <td>한식</td>\n",
       "      <td>204952.006872</td>\n",
       "      <td>445195.026116</td>\n",
       "      <td>서울특별시</td>\n",
       "      <td>강남구</td>\n",
       "      <td>삼성로96길11,</td>\n",
       "    </tr>\n",
       "    <tr>\n",
       "      <th>8</th>\n",
       "      <td>영업/정상</td>\n",
       "      <td>서울특별시 강남구 대치동 907-12 아티스톤</td>\n",
       "      <td>서울특별시 강남구 역삼로 409, 지상1층 102호 (대치동, 아티스톤)</td>\n",
       "      <td>분식을 품다</td>\n",
       "      <td>분식</td>\n",
       "      <td>204506.415174</td>\n",
       "      <td>444321.238711</td>\n",
       "      <td>서울특별시</td>\n",
       "      <td>강남구</td>\n",
       "      <td>역삼로409,</td>\n",
       "    </tr>\n",
       "    <tr>\n",
       "      <th>9</th>\n",
       "      <td>영업/정상</td>\n",
       "      <td>서울특별시 강남구 역삼동 660-25</td>\n",
       "      <td>서울특별시 강남구 언주로103길 35, 지하1층 101호 (역삼동)</td>\n",
       "      <td>곰푸드</td>\n",
       "      <td>한식</td>\n",
       "      <td>203218.312570</td>\n",
       "      <td>444859.547190</td>\n",
       "      <td>서울특별시</td>\n",
       "      <td>강남구</td>\n",
       "      <td>언주로103길35,</td>\n",
       "    </tr>\n",
       "    <tr>\n",
       "      <th>10</th>\n",
       "      <td>영업/정상</td>\n",
       "      <td>서울특별시 강남구 역삼동 660-25</td>\n",
       "      <td>서울특별시 강남구 언주로103길 35, 지하1층 101호 (역삼동)</td>\n",
       "      <td>곰프레시</td>\n",
       "      <td>한식</td>\n",
       "      <td>203218.312570</td>\n",
       "      <td>444859.547190</td>\n",
       "      <td>서울특별시</td>\n",
       "      <td>강남구</td>\n",
       "      <td>언주로103길35,</td>\n",
       "    </tr>\n",
       "    <tr>\n",
       "      <th>11</th>\n",
       "      <td>영업/정상</td>\n",
       "      <td>서울특별시 강남구 역삼동 660-25</td>\n",
       "      <td>서울특별시 강남구 언주로103길 35, 지하1층 101호 (역삼동)</td>\n",
       "      <td>바로푸드</td>\n",
       "      <td>한식</td>\n",
       "      <td>203218.312570</td>\n",
       "      <td>444859.547190</td>\n",
       "      <td>서울특별시</td>\n",
       "      <td>강남구</td>\n",
       "      <td>언주로103길35,</td>\n",
       "    </tr>\n",
       "    <tr>\n",
       "      <th>12</th>\n",
       "      <td>영업/정상</td>\n",
       "      <td>서울특별시 강남구 논현동 66-35</td>\n",
       "      <td>서울특별시 강남구 논현로146길 11, 지상2층 (논현동)</td>\n",
       "      <td>식당 민홍</td>\n",
       "      <td>일식</td>\n",
       "      <td>202574.840575</td>\n",
       "      <td>446222.990406</td>\n",
       "      <td>서울특별시</td>\n",
       "      <td>강남구</td>\n",
       "      <td>논현로146길11,</td>\n",
       "    </tr>\n",
       "    <tr>\n",
       "      <th>13</th>\n",
       "      <td>영업/정상</td>\n",
       "      <td>서울특별시 강남구 신사동 555</td>\n",
       "      <td>서울특별시 강남구 논현로157길 55, 지상1층 103호 (신사동)</td>\n",
       "      <td>디어(Dear)</td>\n",
       "      <td>기타</td>\n",
       "      <td>202072.552980</td>\n",
       "      <td>446507.442186</td>\n",
       "      <td>서울특별시</td>\n",
       "      <td>강남구</td>\n",
       "      <td>논현로157길55,</td>\n",
       "    </tr>\n",
       "    <tr>\n",
       "      <th>14</th>\n",
       "      <td>영업/정상</td>\n",
       "      <td>서울특별시 강남구 개포동 186-14 청우빌딩</td>\n",
       "      <td>서울특별시 강남구 개포로 506, 청우빌딩 지상1층 2호 (개포동)</td>\n",
       "      <td>버거리 개포동점</td>\n",
       "      <td>기타</td>\n",
       "      <td>205901.723630</td>\n",
       "      <td>442995.181704</td>\n",
       "      <td>서울특별시</td>\n",
       "      <td>강남구</td>\n",
       "      <td>개포로506,</td>\n",
       "    </tr>\n",
       "    <tr>\n",
       "      <th>15</th>\n",
       "      <td>영업/정상</td>\n",
       "      <td>서울특별시 강남구 개포동 1187-11</td>\n",
       "      <td>서울특별시 강남구 논현로8길 11, 지상1층 (개포동)</td>\n",
       "      <td>제주그집</td>\n",
       "      <td>한식</td>\n",
       "      <td>204337.295359</td>\n",
       "      <td>441316.681277</td>\n",
       "      <td>서울특별시</td>\n",
       "      <td>강남구</td>\n",
       "      <td>논현로8길11,</td>\n",
       "    </tr>\n",
       "    <tr>\n",
       "      <th>16</th>\n",
       "      <td>영업/정상</td>\n",
       "      <td>서울특별시 강남구 신사동 644-2 신사동빌딩</td>\n",
       "      <td>서울특별시 강남구 압구정로42길 35, 지하1층 (신사동)</td>\n",
       "      <td>카이센클럽(Kaisen Club)</td>\n",
       "      <td>일식</td>\n",
       "      <td>203018.890300</td>\n",
       "      <td>447153.646792</td>\n",
       "      <td>서울특별시</td>\n",
       "      <td>강남구</td>\n",
       "      <td>압구정로42길35,</td>\n",
       "    </tr>\n",
       "    <tr>\n",
       "      <th>17</th>\n",
       "      <td>영업/정상</td>\n",
       "      <td>서울특별시 강남구 청담동 85-7</td>\n",
       "      <td>서울특별시 강남구 선릉로152길 7, 지상2층 (청담동)</td>\n",
       "      <td>무(MUU)청담</td>\n",
       "      <td>한식</td>\n",
       "      <td>203480.768880</td>\n",
       "      <td>446892.111759</td>\n",
       "      <td>서울특별시</td>\n",
       "      <td>강남구</td>\n",
       "      <td>선릉로152길7,</td>\n",
       "    </tr>\n",
       "    <tr>\n",
       "      <th>18</th>\n",
       "      <td>영업/정상</td>\n",
       "      <td>서울특별시 강남구 신사동 502-1 비율라빌딩</td>\n",
       "      <td>서울특별시 강남구 강남대로 628, 비율라빌딩 지상1층 (신사동)</td>\n",
       "      <td>만수정 강남점</td>\n",
       "      <td>한식</td>\n",
       "      <td>201653.207483</td>\n",
       "      <td>446184.429131</td>\n",
       "      <td>서울특별시</td>\n",
       "      <td>강남구</td>\n",
       "      <td>강남대로628,</td>\n",
       "    </tr>\n",
       "    <tr>\n",
       "      <th>19</th>\n",
       "      <td>영업/정상</td>\n",
       "      <td>서울특별시 강남구 논현동 146-15</td>\n",
       "      <td>서울특별시 강남구 강남대로124길 39, 지하1층 101호 (논현동)</td>\n",
       "      <td>어웨이크닝</td>\n",
       "      <td>한식</td>\n",
       "      <td>202193.171333</td>\n",
       "      <td>445273.808141</td>\n",
       "      <td>서울특별시</td>\n",
       "      <td>강남구</td>\n",
       "      <td>강남대로124길39,</td>\n",
       "    </tr>\n",
       "    <tr>\n",
       "      <th>20</th>\n",
       "      <td>영업/정상</td>\n",
       "      <td>서울특별시 강남구 역삼동 751-18</td>\n",
       "      <td>서울특별시 강남구 역삼로 135, 지하1층 B01호 (역삼동)</td>\n",
       "      <td>찬스키친</td>\n",
       "      <td>한식</td>\n",
       "      <td>202969.804275</td>\n",
       "      <td>443592.513813</td>\n",
       "      <td>서울특별시</td>\n",
       "      <td>강남구</td>\n",
       "      <td>역삼로135,</td>\n",
       "    </tr>\n",
       "  </tbody>\n",
       "</table>\n",
       "</div>"
      ],
      "text/plain": [
       "    영업상태명                      소재지전체주소  \\\n",
       "0   영업/정상          서울특별시 강남구 논현동 198-9   \n",
       "1   영업/정상      서울특별시 강남구 역삼동 825-9 준빌딩   \n",
       "2   영업/정상        서울특별시 강남구 삼성동 159 코엑스   \n",
       "3   영업/정상   서울특별시 강남구 압구정동 494 갤러리아백화점   \n",
       "4   영업/정상         서울특별시 강남구 삼성동 116-10   \n",
       "5   영업/정상  서울특별시 강남구 역삼동 769-1 삼환 아르누보   \n",
       "6   영업/정상         서울특별시 강남구 삼성동 124-27   \n",
       "7   영업/정상         서울특별시 강남구 삼성동 155-11   \n",
       "8   영업/정상    서울특별시 강남구 대치동 907-12 아티스톤   \n",
       "9   영업/정상         서울특별시 강남구 역삼동 660-25   \n",
       "10  영업/정상         서울특별시 강남구 역삼동 660-25   \n",
       "11  영업/정상         서울특별시 강남구 역삼동 660-25   \n",
       "12  영업/정상          서울특별시 강남구 논현동 66-35   \n",
       "13  영업/정상            서울특별시 강남구 신사동 555   \n",
       "14  영업/정상    서울특별시 강남구 개포동 186-14 청우빌딩   \n",
       "15  영업/정상        서울특별시 강남구 개포동 1187-11   \n",
       "16  영업/정상    서울특별시 강남구 신사동 644-2 신사동빌딩   \n",
       "17  영업/정상           서울특별시 강남구 청담동 85-7   \n",
       "18  영업/정상    서울특별시 강남구 신사동 502-1 비율라빌딩   \n",
       "19  영업/정상         서울특별시 강남구 논현동 146-15   \n",
       "20  영업/정상         서울특별시 강남구 역삼동 751-18   \n",
       "\n",
       "                                              도로명전체주소                사업장명  \\\n",
       "0              서울특별시 강남구 강남대로114길 18, 지상1층 102호 (논현동)                 정식당   \n",
       "1                  서울특별시 강남구 강남대로 378, 준빌딩 지상1층 (역삼동)       채선당 샤브보트 강남역점   \n",
       "2               서울특별시 강남구 영동대로 513, 코엑스 C홀 지상3층 (삼성동)               (주)푸들   \n",
       "3             서울특별시 강남구 압구정로 343, 갤러리아백화점 지하1층 (압구정동)                 수아당   \n",
       "4                    서울특별시 강남구 봉은사로72길 11, 지하1층 (삼성동)              오늘은 철판   \n",
       "5   서울특별시 강남구 역삼로 204, 삼환 아르누보 지하1층 B09,B10호 중 107...                알찬한끼   \n",
       "6                    서울특별시 강남구 테헤란로77길 41, 지상1층 (삼성동)                마스터즈   \n",
       "7                     서울특별시 강남구 삼성로96길 11, 지상2층 (삼성동)                 세계관   \n",
       "8            서울특별시 강남구 역삼로 409, 지상1층 102호 (대치동, 아티스톤)              분식을 품다   \n",
       "9               서울특별시 강남구 언주로103길 35, 지하1층 101호 (역삼동)                 곰푸드   \n",
       "10              서울특별시 강남구 언주로103길 35, 지하1층 101호 (역삼동)                곰프레시   \n",
       "11              서울특별시 강남구 언주로103길 35, 지하1층 101호 (역삼동)                바로푸드   \n",
       "12                   서울특별시 강남구 논현로146길 11, 지상2층 (논현동)               식당 민홍   \n",
       "13              서울특별시 강남구 논현로157길 55, 지상1층 103호 (신사동)            디어(Dear)   \n",
       "14              서울특별시 강남구 개포로 506, 청우빌딩 지상1층 2호 (개포동)            버거리 개포동점   \n",
       "15                     서울특별시 강남구 논현로8길 11, 지상1층 (개포동)                제주그집   \n",
       "16                   서울특별시 강남구 압구정로42길 35, 지하1층 (신사동)  카이센클럽(Kaisen Club)   \n",
       "17                    서울특별시 강남구 선릉로152길 7, 지상2층 (청담동)            무(MUU)청담   \n",
       "18               서울특별시 강남구 강남대로 628, 비율라빌딩 지상1층 (신사동)             만수정 강남점   \n",
       "19             서울특별시 강남구 강남대로124길 39, 지하1층 101호 (논현동)               어웨이크닝   \n",
       "20                 서울특별시 강남구 역삼로 135, 지하1층 B01호 (역삼동)                찬스키친   \n",
       "\n",
       "   업태구분명        좌표정보(x)        좌표정보(y)     시도  지역구         상세주소  \n",
       "0     한식  202203.971845  444853.761458  서울특별시  강남구  강남대로114길18,  \n",
       "1     한식  202462.794327  443827.961945  서울특별시  강남구     강남대로378,  \n",
       "2     기타  205130.591679  445590.096838  서울특별시  강남구     영동대로513,  \n",
       "3     한식  203470.848439  447369.579852  서울특별시  강남구     압구정로343,  \n",
       "4     일식  204447.401189  445478.066611  서울특별시  강남구   봉은사로72길11,  \n",
       "5     분식  203453.074369  443736.685792  서울특별시  강남구      역삼로204,  \n",
       "6     한식  204648.781835  445194.685321  서울특별시  강남구   테헤란로77길41,  \n",
       "7     한식  204952.006872  445195.026116  서울특별시  강남구    삼성로96길11,  \n",
       "8     분식  204506.415174  444321.238711  서울특별시  강남구      역삼로409,  \n",
       "9     한식  203218.312570  444859.547190  서울특별시  강남구   언주로103길35,  \n",
       "10    한식  203218.312570  444859.547190  서울특별시  강남구   언주로103길35,  \n",
       "11    한식  203218.312570  444859.547190  서울특별시  강남구   언주로103길35,  \n",
       "12    일식  202574.840575  446222.990406  서울특별시  강남구   논현로146길11,  \n",
       "13    기타  202072.552980  446507.442186  서울특별시  강남구   논현로157길55,  \n",
       "14    기타  205901.723630  442995.181704  서울특별시  강남구      개포로506,  \n",
       "15    한식  204337.295359  441316.681277  서울특별시  강남구     논현로8길11,  \n",
       "16    일식  203018.890300  447153.646792  서울특별시  강남구   압구정로42길35,  \n",
       "17    한식  203480.768880  446892.111759  서울특별시  강남구    선릉로152길7,  \n",
       "18    한식  201653.207483  446184.429131  서울특별시  강남구     강남대로628,  \n",
       "19    한식  202193.171333  445273.808141  서울특별시  강남구  강남대로124길39,  \n",
       "20    한식  202969.804275  443592.513813  서울특별시  강남구      역삼로135,  "
      ]
     },
     "execution_count": 29,
     "metadata": {},
     "output_type": "execute_result"
    }
   ],
   "source": [
    "# 업태구분명 확인\n",
    "unique_values = df['업태구분명'].unique()\n",
    "unique_values\n",
    "\n",
    "# 필요없는 카테고리(카페, 술, 출장요리 등등) 제거\n",
    "제외 = ['전통찻집','호프/통닭','뷔페식','출장조리','정종/대포집/소주방','이동조리', '감성주점','까페','라이브카페','키즈카페','커피숍','편의점', '일반조리판매','아이스크림', '떡카페', '철도역구내', '푸드트럭', '과자점', '다방', '관광호텔']\n",
    "for i in 제외 :\n",
    "    df = df.drop(df[df['업태구분명'] == i].index)\n",
    "\n",
    "# 필요없는 칼럼 제거 \n",
    "df.drop(['최종수정시점','데이터갱신일자','위생업태명'],axis=1,inplace=True)\n",
    "\n",
    "# 도로명 주소만 추출\n",
    "df['상세주소'] = df['도로명전체주소'].apply(lambda x: x.split(' ',4)[2] if pd.notna(x) else None) + df['도로명전체주소'].apply(lambda x: x.split(' ',4)[3] if pd.notna(x) else None)\n",
    "df.reset_index(inplace=True, drop=True)\n",
    "\n",
    "df.head(21)"
   ]
  },
  {
   "cell_type": "code",
   "execution_count": 30,
   "metadata": {},
   "outputs": [
    {
     "name": "stdout",
     "output_type": "stream",
     "text": [
      "<class 'pandas.core.frame.DataFrame'>\n",
      "RangeIndex: 12535 entries, 0 to 12534\n",
      "Data columns (total 10 columns):\n",
      " #   Column   Non-Null Count  Dtype  \n",
      "---  ------   --------------  -----  \n",
      " 0   영업상태명    12535 non-null  object \n",
      " 1   소재지전체주소  12535 non-null  object \n",
      " 2   도로명전체주소  12475 non-null  object \n",
      " 3   사업장명     12535 non-null  object \n",
      " 4   업태구분명    12534 non-null  object \n",
      " 5   좌표정보(x)  12490 non-null  float64\n",
      " 6   좌표정보(y)  12490 non-null  float64\n",
      " 7   시도       12535 non-null  object \n",
      " 8   지역구      12535 non-null  object \n",
      " 9   상세주소     12475 non-null  object \n",
      "dtypes: float64(2), object(8)\n",
      "memory usage: 979.4+ KB\n"
     ]
    }
   ],
   "source": [
    "df.info()"
   ]
  },
  {
   "cell_type": "markdown",
   "metadata": {},
   "source": [
    "# 셀레니움"
   ]
  },
  {
   "cell_type": "markdown",
   "metadata": {},
   "source": [
    "- 원래 코드로 하면 계속 오류났음 \n",
    "\n",
    "    -> ChromeDriverManager로 하면 오류나는 듯 해서 chromedriver_autoinstaller로 했습니다"
   ]
  },
  {
   "cell_type": "code",
   "execution_count": 31,
   "metadata": {},
   "outputs": [
    {
     "data": {
      "text/html": [
       "<div>\n",
       "<style scoped>\n",
       "    .dataframe tbody tr th:only-of-type {\n",
       "        vertical-align: middle;\n",
       "    }\n",
       "\n",
       "    .dataframe tbody tr th {\n",
       "        vertical-align: top;\n",
       "    }\n",
       "\n",
       "    .dataframe thead th {\n",
       "        text-align: right;\n",
       "    }\n",
       "</style>\n",
       "<table border=\"1\" class=\"dataframe\">\n",
       "  <thead>\n",
       "    <tr style=\"text-align: right;\">\n",
       "      <th></th>\n",
       "      <th>영업상태명</th>\n",
       "      <th>소재지전체주소</th>\n",
       "      <th>도로명전체주소</th>\n",
       "      <th>사업장명</th>\n",
       "      <th>업태구분명</th>\n",
       "      <th>좌표정보(x)</th>\n",
       "      <th>좌표정보(y)</th>\n",
       "      <th>시도</th>\n",
       "      <th>지역구</th>\n",
       "      <th>상세주소</th>\n",
       "    </tr>\n",
       "  </thead>\n",
       "  <tbody>\n",
       "    <tr>\n",
       "      <th>0</th>\n",
       "      <td>영업/정상</td>\n",
       "      <td>서울특별시 강남구 역삼동 817-18 정해빌딩 2층동</td>\n",
       "      <td>서울특별시 강남구 강남대로96길 15, 2층동 (역삼동,정해빌딩)</td>\n",
       "      <td>육미당 몽산</td>\n",
       "      <td>경양식</td>\n",
       "      <td>202427.491136</td>\n",
       "      <td>444209.275456</td>\n",
       "      <td>서울특별시</td>\n",
       "      <td>강남구</td>\n",
       "      <td>강남대로96길15,</td>\n",
       "    </tr>\n",
       "    <tr>\n",
       "      <th>1</th>\n",
       "      <td>영업/정상</td>\n",
       "      <td>서울특별시 강남구 논현동 98-6</td>\n",
       "      <td>서울특별시 강남구 언주로148길 6, 지하1층 (논현동)</td>\n",
       "      <td>케렌시아.장금이네</td>\n",
       "      <td>한식</td>\n",
       "      <td>203034.658806</td>\n",
       "      <td>446445.535888</td>\n",
       "      <td>서울특별시</td>\n",
       "      <td>강남구</td>\n",
       "      <td>언주로148길6,</td>\n",
       "    </tr>\n",
       "    <tr>\n",
       "      <th>2</th>\n",
       "      <td>영업/정상</td>\n",
       "      <td>서울특별시 강남구 신사동 620-0번지 4층407호</td>\n",
       "      <td>서울특별시 강남구 압구정로34길 11 (신사동,4층407호)</td>\n",
       "      <td>로데오</td>\n",
       "      <td>경양식</td>\n",
       "      <td>202666.717098</td>\n",
       "      <td>447239.218593</td>\n",
       "      <td>서울특별시</td>\n",
       "      <td>강남구</td>\n",
       "      <td>압구정로34길11</td>\n",
       "    </tr>\n",
       "    <tr>\n",
       "      <th>3</th>\n",
       "      <td>영업/정상</td>\n",
       "      <td>서울특별시 강남구 청담동 90-3번지 지하1층</td>\n",
       "      <td>서울특별시 강남구 도산대로61길 27 (청담동,지하1층)</td>\n",
       "      <td>2</td>\n",
       "      <td>경양식</td>\n",
       "      <td>203743.205741</td>\n",
       "      <td>447049.623113</td>\n",
       "      <td>서울특별시</td>\n",
       "      <td>강남구</td>\n",
       "      <td>도산대로61길27</td>\n",
       "    </tr>\n",
       "    <tr>\n",
       "      <th>4</th>\n",
       "      <td>영업/정상</td>\n",
       "      <td>서울특별시 강남구 논현동 192-1 지하1층</td>\n",
       "      <td>서울특별시 강남구 논현로113길 7, 지하1층 B101호 (논현동, 리더스빌)</td>\n",
       "      <td>참달달한포차</td>\n",
       "      <td>한식</td>\n",
       "      <td>202805.403854</td>\n",
       "      <td>445111.004762</td>\n",
       "      <td>서울특별시</td>\n",
       "      <td>강남구</td>\n",
       "      <td>논현로113길7,</td>\n",
       "    </tr>\n",
       "    <tr>\n",
       "      <th>5</th>\n",
       "      <td>영업/정상</td>\n",
       "      <td>서울특별시 강남구 논현동 85-10</td>\n",
       "      <td>서울특별시 강남구 언주로133길 15, 지상1층 (논현동)</td>\n",
       "      <td>작은뜰</td>\n",
       "      <td>경양식</td>\n",
       "      <td>202945.074532</td>\n",
       "      <td>445978.077904</td>\n",
       "      <td>서울특별시</td>\n",
       "      <td>강남구</td>\n",
       "      <td>언주로133길15,</td>\n",
       "    </tr>\n",
       "    <tr>\n",
       "      <th>6</th>\n",
       "      <td>영업/정상</td>\n",
       "      <td>서울특별시 강남구 논현동 111-5</td>\n",
       "      <td>서울특별시 강남구 선릉로135길 6, 지상2층 (논현동)</td>\n",
       "      <td>스타일비건</td>\n",
       "      <td>경양식</td>\n",
       "      <td>203471.666260</td>\n",
       "      <td>446283.746446</td>\n",
       "      <td>서울특별시</td>\n",
       "      <td>강남구</td>\n",
       "      <td>선릉로135길6,</td>\n",
       "    </tr>\n",
       "    <tr>\n",
       "      <th>7</th>\n",
       "      <td>영업/정상</td>\n",
       "      <td>서울특별시 강남구 신사동 656-2</td>\n",
       "      <td>서울특별시 강남구 선릉로155길 25, 1층 103호 (신사동)</td>\n",
       "      <td>수리다라</td>\n",
       "      <td>한식</td>\n",
       "      <td>203244.739677</td>\n",
       "      <td>447040.262357</td>\n",
       "      <td>서울특별시</td>\n",
       "      <td>강남구</td>\n",
       "      <td>선릉로155길25,</td>\n",
       "    </tr>\n",
       "    <tr>\n",
       "      <th>8</th>\n",
       "      <td>영업/정상</td>\n",
       "      <td>서울특별시 강남구 논현동 11-5번지 지상2층</td>\n",
       "      <td>서울특별시 강남구 논현로149길 51, 지상2층 (논현동)</td>\n",
       "      <td>홀리즌</td>\n",
       "      <td>패스트푸드</td>\n",
       "      <td>202100.731049</td>\n",
       "      <td>446102.757158</td>\n",
       "      <td>서울특별시</td>\n",
       "      <td>강남구</td>\n",
       "      <td>논현로149길51,</td>\n",
       "    </tr>\n",
       "    <tr>\n",
       "      <th>9</th>\n",
       "      <td>영업/정상</td>\n",
       "      <td>서울특별시 강남구 청담동 34-9번지</td>\n",
       "      <td>서울특별시 강남구 학동로67길 12 (청담동)</td>\n",
       "      <td>발리밥</td>\n",
       "      <td>경양식</td>\n",
       "      <td>204063.240151</td>\n",
       "      <td>446315.452315</td>\n",
       "      <td>서울특별시</td>\n",
       "      <td>강남구</td>\n",
       "      <td>학동로67길12</td>\n",
       "    </tr>\n",
       "  </tbody>\n",
       "</table>\n",
       "</div>"
      ],
      "text/plain": [
       "   영업상태명                        소재지전체주소  \\\n",
       "0  영업/정상  서울특별시 강남구 역삼동 817-18 정해빌딩 2층동   \n",
       "1  영업/정상             서울특별시 강남구 논현동 98-6   \n",
       "2  영업/정상   서울특별시 강남구 신사동 620-0번지 4층407호   \n",
       "3  영업/정상      서울특별시 강남구 청담동 90-3번지 지하1층   \n",
       "4  영업/정상       서울특별시 강남구 논현동 192-1 지하1층   \n",
       "5  영업/정상            서울특별시 강남구 논현동 85-10   \n",
       "6  영업/정상            서울특별시 강남구 논현동 111-5   \n",
       "7  영업/정상            서울특별시 강남구 신사동 656-2   \n",
       "8  영업/정상      서울특별시 강남구 논현동 11-5번지 지상2층   \n",
       "9  영업/정상           서울특별시 강남구 청담동 34-9번지   \n",
       "\n",
       "                                       도로명전체주소       사업장명  업태구분명  \\\n",
       "0         서울특별시 강남구 강남대로96길 15, 2층동 (역삼동,정해빌딩)     육미당 몽산    경양식   \n",
       "1              서울특별시 강남구 언주로148길 6, 지하1층 (논현동)  케렌시아.장금이네     한식   \n",
       "2            서울특별시 강남구 압구정로34길 11 (신사동,4층407호)        로데오    경양식   \n",
       "3              서울특별시 강남구 도산대로61길 27 (청담동,지하1층)          2    경양식   \n",
       "4  서울특별시 강남구 논현로113길 7, 지하1층 B101호 (논현동, 리더스빌)     참달달한포차     한식   \n",
       "5             서울특별시 강남구 언주로133길 15, 지상1층 (논현동)        작은뜰    경양식   \n",
       "6              서울특별시 강남구 선릉로135길 6, 지상2층 (논현동)      스타일비건    경양식   \n",
       "7          서울특별시 강남구 선릉로155길 25, 1층 103호 (신사동)       수리다라     한식   \n",
       "8             서울특별시 강남구 논현로149길 51, 지상2층 (논현동)        홀리즌  패스트푸드   \n",
       "9                    서울특별시 강남구 학동로67길 12 (청담동)        발리밥    경양식   \n",
       "\n",
       "         좌표정보(x)        좌표정보(y)     시도  지역구        상세주소  \n",
       "0  202427.491136  444209.275456  서울특별시  강남구  강남대로96길15,  \n",
       "1  203034.658806  446445.535888  서울특별시  강남구   언주로148길6,  \n",
       "2  202666.717098  447239.218593  서울특별시  강남구   압구정로34길11  \n",
       "3  203743.205741  447049.623113  서울특별시  강남구   도산대로61길27  \n",
       "4  202805.403854  445111.004762  서울특별시  강남구   논현로113길7,  \n",
       "5  202945.074532  445978.077904  서울특별시  강남구  언주로133길15,  \n",
       "6  203471.666260  446283.746446  서울특별시  강남구   선릉로135길6,  \n",
       "7  203244.739677  447040.262357  서울특별시  강남구  선릉로155길25,  \n",
       "8  202100.731049  446102.757158  서울특별시  강남구  논현로149길51,  \n",
       "9  204063.240151  446315.452315  서울특별시  강남구    학동로67길12  "
      ]
     },
     "execution_count": 31,
     "metadata": {},
     "output_type": "execute_result"
    }
   ],
   "source": [
    "# 샘플용 데이터 200개 추출 \n",
    "\n",
    "# # 1. 인덱스 기준 200개 추출\n",
    "# df_200 = df.iloc[:200,:]\n",
    "\n",
    "# 2. 랜덤으로 100개 추출\n",
    "df_200 = df.sample(n=300, random_state=42)\n",
    "df_200.reset_index(inplace=True, drop=True)\n",
    "df_200.head(10)"
   ]
  },
  {
   "cell_type": "code",
   "execution_count": 32,
   "metadata": {},
   "outputs": [
    {
     "name": "stdout",
     "output_type": "stream",
     "text": [
      "Requirement already satisfied: webdriver-manager in c:\\python310\\lib\\site-packages (4.0.1)\n",
      "Requirement already satisfied: requests in c:\\python310\\lib\\site-packages (from webdriver-manager) (2.31.0)\n",
      "Requirement already satisfied: python-dotenv in c:\\python310\\lib\\site-packages (from webdriver-manager) (1.0.1)\n",
      "Requirement already satisfied: packaging in c:\\python310\\lib\\site-packages (from webdriver-manager) (23.1)\n",
      "Requirement already satisfied: charset-normalizer<4,>=2 in c:\\python310\\lib\\site-packages (from requests->webdriver-manager) (3.1.0)\n",
      "Requirement already satisfied: idna<4,>=2.5 in c:\\python310\\lib\\site-packages (from requests->webdriver-manager) (3.4)\n",
      "Requirement already satisfied: urllib3<3,>=1.21.1 in c:\\python310\\lib\\site-packages (from requests->webdriver-manager) (1.26.16)\n",
      "Requirement already satisfied: certifi>=2017.4.17 in c:\\python310\\lib\\site-packages (from requests->webdriver-manager) (2023.5.7)\n"
     ]
    }
   ],
   "source": [
    "! pip install webdriver-manager"
   ]
  },
  {
   "cell_type": "code",
   "execution_count": 33,
   "metadata": {},
   "outputs": [],
   "source": [
    "from selenium import webdriver\n",
    "from selenium.webdriver.chrome.service import Service\n",
    "from webdriver_manager.chrome import ChromeDriverManager\n",
    "\n",
    "chrome_options = webdriver.ChromeOptions()\n",
    "driver = webdriver.Chrome(service=Service(ChromeDriverManager().install()), options=chrome_options)\n",
    "\n",
    "\n",
    "# 주소 이동\n",
    "url = 'https://map.naver.com/'\n",
    "driver.get(url)\n",
    "time.sleep(1)\n"
   ]
  },
  {
   "cell_type": "code",
   "execution_count": null,
   "metadata": {},
   "outputs": [],
   "source": [
    "\n"
   ]
  },
  {
   "cell_type": "code",
   "execution_count": 34,
   "metadata": {},
   "outputs": [],
   "source": [
    "# # webdriver_manager를 사용하여 ChromeDriver 다운로드 및 설정\n",
    "\n",
    "# import chromedriver_autoinstaller\n",
    "# chromedriver_autoinstaller.install()\n",
    "# driver = webdriver.Chrome()\n",
    "\n",
    "\n",
    "# # 주소 이동\n",
    "# url = 'https://map.naver.com/'\n",
    "# driver.get(url)\n",
    "# time.sleep(1)"
   ]
  },
  {
   "cell_type": "markdown",
   "metadata": {},
   "source": [
    "엑셀 파일엔 정보가 존재하는데 실제 식당이 없는경우 or 서브웨이처럼 이름은 같은데 지점만 다른 경우를 대비해서, '도로명 주소 + 식당이름' 으로 크롤링함\n",
    " "
   ]
  },
  {
   "cell_type": "code",
   "execution_count": 35,
   "metadata": {},
   "outputs": [
    {
     "name": "stderr",
     "output_type": "stream",
     "text": [
      "  0%|          | 1/300 [00:03<18:00,  3.61s/it]"
     ]
    },
    {
     "name": "stdout",
     "output_type": "stream",
     "text": [
      "강남대로96길15, 육미당 몽산 해결\n"
     ]
    },
    {
     "name": "stderr",
     "output_type": "stream",
     "text": [
      "  2%|▏         | 5/300 [00:14<13:44,  2.79s/it]"
     ]
    },
    {
     "name": "stdout",
     "output_type": "stream",
     "text": [
      "논현로113길7, 참달달한포차 해결\n"
     ]
    },
    {
     "name": "stderr",
     "output_type": "stream",
     "text": [
      "  2%|▏         | 6/300 [00:17<13:10,  2.69s/it]"
     ]
    },
    {
     "name": "stdout",
     "output_type": "stream",
     "text": [
      "언주로133길15, 작은뜰 해결\n"
     ]
    },
    {
     "name": "stderr",
     "output_type": "stream",
     "text": [
      "  2%|▏         | 7/300 [00:19<12:54,  2.64s/it]"
     ]
    },
    {
     "name": "stdout",
     "output_type": "stream",
     "text": [
      "선릉로135길6, 스타일비건 해결\n"
     ]
    },
    {
     "name": "stderr",
     "output_type": "stream",
     "text": [
      "  3%|▎         | 8/300 [00:22<12:41,  2.61s/it]"
     ]
    },
    {
     "name": "stdout",
     "output_type": "stream",
     "text": [
      "선릉로155길25, 수리다라 해결\n"
     ]
    },
    {
     "name": "stderr",
     "output_type": "stream",
     "text": [
      "  4%|▍         | 13/300 [00:35<12:21,  2.58s/it]"
     ]
    },
    {
     "name": "stdout",
     "output_type": "stream",
     "text": [
      "압구정로4길13-20, 루에랑 해결\n"
     ]
    },
    {
     "name": "stderr",
     "output_type": "stream",
     "text": [
      "  5%|▍         | 14/300 [00:37<12:09,  2.55s/it]"
     ]
    },
    {
     "name": "stdout",
     "output_type": "stream",
     "text": [
      "선릉로86길12, 분틀 해결\n"
     ]
    },
    {
     "name": "stderr",
     "output_type": "stream",
     "text": [
      "  5%|▌         | 16/300 [00:42<11:55,  2.52s/it]"
     ]
    },
    {
     "name": "stdout",
     "output_type": "stream",
     "text": [
      "밤고개로1길10, 미태리 수서역점 해결\n"
     ]
    },
    {
     "name": "stderr",
     "output_type": "stream",
     "text": [
      "  6%|▌         | 17/300 [00:45<12:26,  2.64s/it]"
     ]
    },
    {
     "name": "stdout",
     "output_type": "stream",
     "text": [
      "삼성로82길15 22번가 해결\n"
     ]
    },
    {
     "name": "stderr",
     "output_type": "stream",
     "text": [
      "  6%|▌         | 18/300 [00:48<12:48,  2.73s/it]"
     ]
    },
    {
     "name": "stdout",
     "output_type": "stream",
     "text": [
      "논현로150길17, 백미우 해결\n"
     ]
    },
    {
     "name": "stderr",
     "output_type": "stream",
     "text": [
      "  6%|▋         | 19/300 [00:50<12:38,  2.70s/it]"
     ]
    },
    {
     "name": "stdout",
     "output_type": "stream",
     "text": [
      "테헤란로77길11-18, 아우라엔알 해결\n"
     ]
    },
    {
     "name": "stderr",
     "output_type": "stream",
     "text": [
      "  7%|▋         | 20/300 [00:53<12:23,  2.65s/it]"
     ]
    },
    {
     "name": "stdout",
     "output_type": "stream",
     "text": [
      "테헤란로22길11, 멘야 유메미루 해결\n"
     ]
    },
    {
     "name": "stderr",
     "output_type": "stream",
     "text": [
      "  8%|▊         | 24/300 [01:03<11:36,  2.52s/it]"
     ]
    },
    {
     "name": "stdout",
     "output_type": "stream",
     "text": [
      "삼성로58길9, 하남돼지집 대치은마점 해결\n"
     ]
    },
    {
     "name": "stderr",
     "output_type": "stream",
     "text": [
      "  9%|▉         | 27/300 [01:10<11:21,  2.49s/it]"
     ]
    },
    {
     "name": "stdout",
     "output_type": "stream",
     "text": [
      "논현로34길19, 삼식이감자탕 해결\n"
     ]
    },
    {
     "name": "stderr",
     "output_type": "stream",
     "text": [
      "  9%|▉         | 28/300 [01:13<11:18,  2.49s/it]"
     ]
    },
    {
     "name": "stdout",
     "output_type": "stream",
     "text": [
      "삼성로85길38, 고메갈비 해결\n"
     ]
    },
    {
     "name": "stderr",
     "output_type": "stream",
     "text": [
      " 10%|▉         | 29/300 [01:16<11:57,  2.65s/it]"
     ]
    },
    {
     "name": "stdout",
     "output_type": "stream",
     "text": [
      "언주로152길15-3, 켄 해결\n"
     ]
    },
    {
     "name": "stderr",
     "output_type": "stream",
     "text": [
      " 11%|█         | 33/300 [01:26<11:13,  2.52s/it]"
     ]
    },
    {
     "name": "stdout",
     "output_type": "stream",
     "text": [
      "테헤란로20길20 아레나(ARENA) 해결\n"
     ]
    },
    {
     "name": "stderr",
     "output_type": "stream",
     "text": [
      " 11%|█▏        | 34/300 [01:28<11:11,  2.52s/it]"
     ]
    },
    {
     "name": "stdout",
     "output_type": "stream",
     "text": [
      "테헤란로86길16 이화수 전통육개장 해결\n"
     ]
    },
    {
     "name": "stderr",
     "output_type": "stream",
     "text": [
      " 12%|█▏        | 37/300 [01:36<11:01,  2.52s/it]"
     ]
    },
    {
     "name": "stdout",
     "output_type": "stream",
     "text": [
      "영동대로96길20, 카페 머머 해결\n"
     ]
    },
    {
     "name": "stderr",
     "output_type": "stream",
     "text": [
      " 13%|█▎        | 38/300 [01:38<10:57,  2.51s/it]"
     ]
    },
    {
     "name": "stdout",
     "output_type": "stream",
     "text": [
      "논현로80길9, 언더씨유 해결\n"
     ]
    },
    {
     "name": "stderr",
     "output_type": "stream",
     "text": [
      " 13%|█▎        | 39/300 [01:41<10:56,  2.52s/it]"
     ]
    },
    {
     "name": "stdout",
     "output_type": "stream",
     "text": [
      "압구정로42길24, 아우프글렛 도산 해결\n"
     ]
    },
    {
     "name": "stderr",
     "output_type": "stream",
     "text": [
      " 14%|█▎        | 41/300 [01:46<10:49,  2.51s/it]"
     ]
    },
    {
     "name": "stdout",
     "output_type": "stream",
     "text": [
      "영동대로128길15 오시오 해결\n"
     ]
    },
    {
     "name": "stderr",
     "output_type": "stream",
     "text": [
      " 14%|█▍        | 42/300 [01:48<10:48,  2.51s/it]"
     ]
    },
    {
     "name": "stdout",
     "output_type": "stream",
     "text": [
      "봉은사로21길8 내아들밥상 해결\n"
     ]
    },
    {
     "name": "stderr",
     "output_type": "stream",
     "text": [
      " 14%|█▍        | 43/300 [01:51<10:42,  2.50s/it]"
     ]
    },
    {
     "name": "stdout",
     "output_type": "stream",
     "text": [
      "역삼로1길18, 스마트 호프광장 해결\n"
     ]
    },
    {
     "name": "stderr",
     "output_type": "stream",
     "text": [
      " 15%|█▌        | 45/300 [01:56<10:35,  2.49s/it]"
     ]
    },
    {
     "name": "stdout",
     "output_type": "stream",
     "text": [
      "강남대로152길30 샤오당쟈 신사본점 해결\n"
     ]
    },
    {
     "name": "stderr",
     "output_type": "stream",
     "text": [
      " 15%|█▌        | 46/300 [01:58<10:33,  2.49s/it]"
     ]
    },
    {
     "name": "stdout",
     "output_type": "stream",
     "text": [
      "테헤란로37길13-6, 만타 해결\n"
     ]
    },
    {
     "name": "stderr",
     "output_type": "stream",
     "text": [
      " 16%|█▋        | 49/300 [02:06<10:28,  2.51s/it]"
     ]
    },
    {
     "name": "stdout",
     "output_type": "stream",
     "text": [
      "언주로98길39-5, 에이스크랩 강남점 해결\n"
     ]
    },
    {
     "name": "stderr",
     "output_type": "stream",
     "text": [
      " 17%|█▋        | 50/300 [02:08<10:24,  2.50s/it]"
     ]
    },
    {
     "name": "stdout",
     "output_type": "stream",
     "text": [
      "강남대로112길35, 우생 해결\n"
     ]
    },
    {
     "name": "stderr",
     "output_type": "stream",
     "text": [
      " 17%|█▋        | 51/300 [02:11<10:22,  2.50s/it]"
     ]
    },
    {
     "name": "stdout",
     "output_type": "stream",
     "text": [
      "학동로4길48, 홍로 해결\n"
     ]
    },
    {
     "name": "stderr",
     "output_type": "stream",
     "text": [
      " 17%|█▋        | 52/300 [02:13<10:18,  2.50s/it]"
     ]
    },
    {
     "name": "stdout",
     "output_type": "stream",
     "text": [
      "도산대로45길10-5, 레스토랑 에빗(EVETT) 해결\n"
     ]
    },
    {
     "name": "stderr",
     "output_type": "stream",
     "text": [
      " 18%|█▊        | 53/300 [02:16<10:17,  2.50s/it]"
     ]
    },
    {
     "name": "stdout",
     "output_type": "stream",
     "text": [
      "테헤란로87길58, 파파야리프 코엑스점 해결\n"
     ]
    },
    {
     "name": "stderr",
     "output_type": "stream",
     "text": [
      " 18%|█▊        | 55/300 [02:21<10:11,  2.50s/it]"
     ]
    },
    {
     "name": "stdout",
     "output_type": "stream",
     "text": [
      "테헤란로108길11, 다빈치(DAVINCI) 해결\n"
     ]
    },
    {
     "name": "stderr",
     "output_type": "stream",
     "text": [
      " 19%|█▉        | 58/300 [02:28<10:03,  2.49s/it]"
     ]
    },
    {
     "name": "stdout",
     "output_type": "stream",
     "text": [
      "선릉로418, 집밥한끼 해결\n"
     ]
    },
    {
     "name": "stderr",
     "output_type": "stream",
     "text": [
      " 20%|█▉        | 59/300 [02:31<10:11,  2.54s/it]"
     ]
    },
    {
     "name": "stdout",
     "output_type": "stream",
     "text": [
      "선릉로135길29, 꼼모아 해결\n"
     ]
    },
    {
     "name": "stderr",
     "output_type": "stream",
     "text": [
      " 22%|██▏       | 65/300 [02:46<09:46,  2.50s/it]"
     ]
    },
    {
     "name": "stdout",
     "output_type": "stream",
     "text": [
      "테헤란로19길28, 어깨춤 해결\n"
     ]
    },
    {
     "name": "stderr",
     "output_type": "stream",
     "text": [
      " 23%|██▎       | 68/300 [02:53<09:36,  2.48s/it]"
     ]
    },
    {
     "name": "stdout",
     "output_type": "stream",
     "text": [
      "강남대로78길25, 대성집 해결\n"
     ]
    },
    {
     "name": "stderr",
     "output_type": "stream",
     "text": [
      " 24%|██▎       | 71/300 [03:01<09:29,  2.48s/it]"
     ]
    },
    {
     "name": "stdout",
     "output_type": "stream",
     "text": [
      "테헤란로4길46 이창영 참치 해결\n"
     ]
    },
    {
     "name": "stderr",
     "output_type": "stream",
     "text": [
      " 24%|██▍       | 73/300 [03:06<09:24,  2.49s/it]"
     ]
    },
    {
     "name": "stdout",
     "output_type": "stream",
     "text": [
      "테헤란로4길46 코코이찌방야 강남역점 해결\n"
     ]
    },
    {
     "name": "stderr",
     "output_type": "stream",
     "text": [
      " 25%|██▌       | 75/300 [03:11<09:18,  2.48s/it]"
     ]
    },
    {
     "name": "stdout",
     "output_type": "stream",
     "text": [
      "선릉로129길13 한국순대본점 해결\n"
     ]
    },
    {
     "name": "stderr",
     "output_type": "stream",
     "text": [
      " 25%|██▌       | 76/300 [03:13<09:18,  2.49s/it]"
     ]
    },
    {
     "name": "stdout",
     "output_type": "stream",
     "text": [
      "도산대로49길41, 청담이상 블랙 해결\n"
     ]
    },
    {
     "name": "stderr",
     "output_type": "stream",
     "text": [
      " 26%|██▌       | 77/300 [03:16<09:16,  2.49s/it]"
     ]
    },
    {
     "name": "stdout",
     "output_type": "stream",
     "text": [
      "역삼로420, 막떼기 해결\n"
     ]
    },
    {
     "name": "stderr",
     "output_type": "stream",
     "text": [
      " 26%|██▌       | 78/300 [03:18<09:18,  2.52s/it]"
     ]
    },
    {
     "name": "stdout",
     "output_type": "stream",
     "text": [
      "테헤란로38길40, 에그스팟 해결\n"
     ]
    },
    {
     "name": "stderr",
     "output_type": "stream",
     "text": [
      " 26%|██▋       | 79/300 [03:21<09:15,  2.51s/it]"
     ]
    },
    {
     "name": "stdout",
     "output_type": "stream",
     "text": [
      "강남대로358, 효뜨 강남점 해결\n"
     ]
    },
    {
     "name": "stderr",
     "output_type": "stream",
     "text": [
      " 27%|██▋       | 80/300 [03:23<09:11,  2.51s/it]"
     ]
    },
    {
     "name": "stdout",
     "output_type": "stream",
     "text": [
      "광평로56길10, 광양불고기 수서 해결\n"
     ]
    },
    {
     "name": "stderr",
     "output_type": "stream",
     "text": [
      " 28%|██▊       | 83/300 [03:31<08:59,  2.49s/it]"
     ]
    },
    {
     "name": "stdout",
     "output_type": "stream",
     "text": [
      "봉은사로114길12, 온가솥밥 삼성점 해결\n"
     ]
    },
    {
     "name": "stderr",
     "output_type": "stream",
     "text": [
      " 28%|██▊       | 85/300 [03:36<08:54,  2.49s/it]"
     ]
    },
    {
     "name": "stdout",
     "output_type": "stream",
     "text": [
      "테헤란로151, 파스쿠찌 역삼테헤란 해결\n"
     ]
    },
    {
     "name": "stderr",
     "output_type": "stream",
     "text": [
      " 29%|██▉       | 87/300 [03:41<08:52,  2.50s/it]"
     ]
    },
    {
     "name": "stdout",
     "output_type": "stream",
     "text": [
      "언주로93길21, 양문(역삼점) 해결\n"
     ]
    },
    {
     "name": "stderr",
     "output_type": "stream",
     "text": [
      " 29%|██▉       | 88/300 [03:43<08:52,  2.51s/it]"
     ]
    },
    {
     "name": "stdout",
     "output_type": "stream",
     "text": [
      "선릉로162길12, 안티트러스트 해결\n"
     ]
    },
    {
     "name": "stderr",
     "output_type": "stream",
     "text": [
      " 30%|███       | 90/300 [03:48<08:47,  2.51s/it]"
     ]
    },
    {
     "name": "stdout",
     "output_type": "stream",
     "text": [
      "테헤란로147, 즐거운돈까스 강남점 해결\n"
     ]
    },
    {
     "name": "stderr",
     "output_type": "stream",
     "text": [
      " 30%|███       | 91/300 [03:51<08:47,  2.52s/it]"
     ]
    },
    {
     "name": "stdout",
     "output_type": "stream",
     "text": [
      "논현로36길22, 올리브,그레인 앤 해결\n"
     ]
    },
    {
     "name": "stderr",
     "output_type": "stream",
     "text": [
      " 31%|███       | 92/300 [03:53<08:45,  2.53s/it]"
     ]
    },
    {
     "name": "stdout",
     "output_type": "stream",
     "text": [
      "남부순환로359길16, 그린네 은쟁반 해결\n"
     ]
    },
    {
     "name": "stderr",
     "output_type": "stream",
     "text": [
      " 31%|███       | 93/300 [03:56<08:40,  2.51s/it]"
     ]
    },
    {
     "name": "stdout",
     "output_type": "stream",
     "text": [
      "역삼로135, 밀가 해결\n"
     ]
    },
    {
     "name": "stderr",
     "output_type": "stream",
     "text": [
      " 31%|███▏      | 94/300 [03:58<08:37,  2.51s/it]"
     ]
    },
    {
     "name": "stdout",
     "output_type": "stream",
     "text": [
      "도곡로18길57, 헨델과그레텔 해결\n"
     ]
    },
    {
     "name": "stderr",
     "output_type": "stream",
     "text": [
      " 32%|███▏      | 95/300 [04:01<08:37,  2.52s/it]"
     ]
    },
    {
     "name": "stdout",
     "output_type": "stream",
     "text": [
      "테헤란로83길15 바른식탁 해결\n"
     ]
    },
    {
     "name": "stderr",
     "output_type": "stream",
     "text": [
      " 32%|███▏      | 97/300 [04:06<08:28,  2.51s/it]"
     ]
    },
    {
     "name": "stdout",
     "output_type": "stream",
     "text": [
      "테헤란로231, OPH (오리지널팬케이크하우스) 해결\n"
     ]
    },
    {
     "name": "stderr",
     "output_type": "stream",
     "text": [
      " 33%|███▎      | 100/300 [04:13<08:18,  2.49s/it]"
     ]
    },
    {
     "name": "stdout",
     "output_type": "stream",
     "text": [
      "선릉로112길6 김치찌개 해결\n"
     ]
    },
    {
     "name": "stderr",
     "output_type": "stream",
     "text": [
      " 34%|███▎      | 101/300 [04:16<08:16,  2.49s/it]"
     ]
    },
    {
     "name": "stdout",
     "output_type": "stream",
     "text": [
      "선릉로161길32, 베트남쌀국수 포몬스 해결\n"
     ]
    },
    {
     "name": "stderr",
     "output_type": "stream",
     "text": [
      " 34%|███▍      | 102/300 [04:18<08:13,  2.49s/it]"
     ]
    },
    {
     "name": "stdout",
     "output_type": "stream",
     "text": [
      "삼성로96길6, 생활맥주 삼성코엑스2호점 해결\n"
     ]
    },
    {
     "name": "stderr",
     "output_type": "stream",
     "text": [
      " 35%|███▍      | 104/300 [04:24<08:23,  2.57s/it]"
     ]
    },
    {
     "name": "stdout",
     "output_type": "stream",
     "text": [
      "테헤란로84길12, 유로스커피로스터스 대치본점 해결\n"
     ]
    },
    {
     "name": "stderr",
     "output_type": "stream",
     "text": [
      " 35%|███▌      | 106/300 [04:29<08:35,  2.66s/it]"
     ]
    },
    {
     "name": "stdout",
     "output_type": "stream",
     "text": [
      "논현로36, 바우네나주곰탕 개포점 해결\n"
     ]
    },
    {
     "name": "stderr",
     "output_type": "stream",
     "text": [
      " 36%|███▌      | 107/300 [04:32<08:37,  2.68s/it]"
     ]
    },
    {
     "name": "stdout",
     "output_type": "stream",
     "text": [
      "논현로150길36, 쿠시마사 논현분점 해결\n"
     ]
    },
    {
     "name": "stderr",
     "output_type": "stream",
     "text": [
      " 36%|███▋      | 109/300 [04:37<08:27,  2.66s/it]"
     ]
    },
    {
     "name": "stdout",
     "output_type": "stream",
     "text": [
      "압구정로12길27 판도라 해결\n"
     ]
    },
    {
     "name": "stderr",
     "output_type": "stream",
     "text": [
      " 37%|███▋      | 110/300 [04:40<08:23,  2.65s/it]"
     ]
    },
    {
     "name": "stdout",
     "output_type": "stream",
     "text": [
      "언주로114길11, 명소한우 해결\n"
     ]
    },
    {
     "name": "stderr",
     "output_type": "stream",
     "text": [
      " 37%|███▋      | 112/300 [04:45<08:29,  2.71s/it]"
     ]
    },
    {
     "name": "stdout",
     "output_type": "stream",
     "text": [
      "개포로623 대청집 해결\n"
     ]
    },
    {
     "name": "stderr",
     "output_type": "stream",
     "text": [
      " 38%|███▊      | 114/300 [04:51<08:37,  2.78s/it]"
     ]
    },
    {
     "name": "stdout",
     "output_type": "stream",
     "text": [
      "선릉로64길5 베스킨라빈스대치2호점 해결\n"
     ]
    },
    {
     "name": "stderr",
     "output_type": "stream",
     "text": [
      " 38%|███▊      | 115/300 [04:54<08:35,  2.79s/it]"
     ]
    },
    {
     "name": "stdout",
     "output_type": "stream",
     "text": [
      "역삼로234, 유끼스시 해결\n"
     ]
    },
    {
     "name": "stderr",
     "output_type": "stream",
     "text": [
      " 39%|███▉      | 117/300 [04:59<08:15,  2.71s/it]"
     ]
    },
    {
     "name": "stdout",
     "output_type": "stream",
     "text": [
      "도산대로66길19, 맥클린 McLean 해결\n"
     ]
    },
    {
     "name": "stderr",
     "output_type": "stream",
     "text": [
      " 39%|███▉      | 118/300 [05:02<08:08,  2.68s/it]"
     ]
    },
    {
     "name": "stdout",
     "output_type": "stream",
     "text": [
      "테헤란로517, 봉계타 현대백화점 해결\n"
     ]
    },
    {
     "name": "stderr",
     "output_type": "stream",
     "text": [
      " 40%|███▉      | 119/300 [05:04<08:04,  2.68s/it]"
     ]
    },
    {
     "name": "stdout",
     "output_type": "stream",
     "text": [
      "도곡로413, 레드175 해결\n"
     ]
    },
    {
     "name": "stderr",
     "output_type": "stream",
     "text": [
      " 41%|████      | 123/300 [05:15<07:41,  2.61s/it]"
     ]
    },
    {
     "name": "stdout",
     "output_type": "stream",
     "text": [
      "봉은사로504 아소보이 해결\n"
     ]
    },
    {
     "name": "stderr",
     "output_type": "stream",
     "text": [
      " 41%|████▏     | 124/300 [05:17<07:36,  2.59s/it]"
     ]
    },
    {
     "name": "stdout",
     "output_type": "stream",
     "text": [
      "삼성로104길8 신사골감자탕 삼성점 해결\n"
     ]
    },
    {
     "name": "stderr",
     "output_type": "stream",
     "text": [
      " 42%|████▏     | 127/300 [05:25<07:31,  2.61s/it]"
     ]
    },
    {
     "name": "stdout",
     "output_type": "stream",
     "text": [
      "강남대로106길14, 잭슨 하이볼 해결\n"
     ]
    },
    {
     "name": "stderr",
     "output_type": "stream",
     "text": [
      " 43%|████▎     | 128/300 [05:28<07:30,  2.62s/it]"
     ]
    },
    {
     "name": "stdout",
     "output_type": "stream",
     "text": [
      "영동대로513, 슈퍼두퍼 코엑스스타필드점 해결\n"
     ]
    },
    {
     "name": "stderr",
     "output_type": "stream",
     "text": [
      " 43%|████▎     | 129/300 [05:30<07:26,  2.61s/it]"
     ]
    },
    {
     "name": "stdout",
     "output_type": "stream",
     "text": [
      "선릉로64길23, 도사반점 해결\n"
     ]
    },
    {
     "name": "stderr",
     "output_type": "stream",
     "text": [
      " 44%|████▍     | 132/300 [05:38<07:22,  2.63s/it]"
     ]
    },
    {
     "name": "stdout",
     "output_type": "stream",
     "text": [
      "학동로2길32, 우연이네 해결\n"
     ]
    },
    {
     "name": "stderr",
     "output_type": "stream",
     "text": [
      " 45%|████▍     | 134/300 [05:43<07:19,  2.65s/it]"
     ]
    },
    {
     "name": "stdout",
     "output_type": "stream",
     "text": [
      "논현로430 루안 해결\n"
     ]
    },
    {
     "name": "stderr",
     "output_type": "stream",
     "text": [
      " 46%|████▌     | 137/300 [05:51<07:01,  2.59s/it]"
     ]
    },
    {
     "name": "stdout",
     "output_type": "stream",
     "text": [
      "테헤란로4길6, 스노우폭스 강남센트럴점 해결\n"
     ]
    },
    {
     "name": "stderr",
     "output_type": "stream",
     "text": [
      " 46%|████▌     | 138/300 [05:54<06:56,  2.57s/it]"
     ]
    },
    {
     "name": "stdout",
     "output_type": "stream",
     "text": [
      "테헤란로64길24, 장독대 김치찌개 해결\n"
     ]
    },
    {
     "name": "stderr",
     "output_type": "stream",
     "text": [
      " 46%|████▋     | 139/300 [05:56<06:51,  2.55s/it]"
     ]
    },
    {
     "name": "stdout",
     "output_type": "stream",
     "text": [
      "강남대로120길11, 순자포차 논현본점 해결\n"
     ]
    },
    {
     "name": "stderr",
     "output_type": "stream",
     "text": [
      " 47%|████▋     | 140/300 [05:59<06:48,  2.55s/it]"
     ]
    },
    {
     "name": "stdout",
     "output_type": "stream",
     "text": [
      "삼성로352, 맘스터치LAB 대치사거리점 해결\n"
     ]
    },
    {
     "name": "stderr",
     "output_type": "stream",
     "text": [
      " 47%|████▋     | 141/300 [06:01<06:52,  2.59s/it]"
     ]
    },
    {
     "name": "stdout",
     "output_type": "stream",
     "text": [
      "봉은사로426, 쭈돼집 해결\n"
     ]
    },
    {
     "name": "stderr",
     "output_type": "stream",
     "text": [
      " 47%|████▋     | 142/300 [06:04<06:46,  2.57s/it]"
     ]
    },
    {
     "name": "stdout",
     "output_type": "stream",
     "text": [
      "논현로85길52, 위스키 배럴(Whisky 해결\n"
     ]
    },
    {
     "name": "stderr",
     "output_type": "stream",
     "text": [
      " 48%|████▊     | 143/300 [06:06<06:45,  2.58s/it]"
     ]
    },
    {
     "name": "stdout",
     "output_type": "stream",
     "text": [
      "봉은사로113, 메리가든 해결\n"
     ]
    },
    {
     "name": "stderr",
     "output_type": "stream",
     "text": [
      " 48%|████▊     | 144/300 [06:09<06:50,  2.63s/it]"
     ]
    },
    {
     "name": "stdout",
     "output_type": "stream",
     "text": [
      "남부순환로359길10, 마라홀릭 양재역점 해결\n"
     ]
    },
    {
     "name": "stderr",
     "output_type": "stream",
     "text": [
      " 48%|████▊     | 145/300 [06:13<07:42,  2.98s/it]"
     ]
    },
    {
     "name": "stdout",
     "output_type": "stream",
     "text": [
      "논현로159길47, 오셀리에 해결\n"
     ]
    },
    {
     "name": "stderr",
     "output_type": "stream",
     "text": [
      " 49%|████▉     | 147/300 [06:18<07:05,  2.78s/it]"
     ]
    },
    {
     "name": "stdout",
     "output_type": "stream",
     "text": [
      "삼성로150, 해남식당 해결\n"
     ]
    },
    {
     "name": "stderr",
     "output_type": "stream",
     "text": [
      " 50%|████▉     | 149/300 [06:23<06:45,  2.69s/it]"
     ]
    },
    {
     "name": "stdout",
     "output_type": "stream",
     "text": [
      "테헤란로313, 빨강우산 부대찌개 해결\n"
     ]
    },
    {
     "name": "stderr",
     "output_type": "stream",
     "text": [
      " 50%|█████     | 150/300 [06:26<06:40,  2.67s/it]"
     ]
    },
    {
     "name": "stdout",
     "output_type": "stream",
     "text": [
      "테헤란로33길13, 오성식당 역삼 해결\n"
     ]
    },
    {
     "name": "stderr",
     "output_type": "stream",
     "text": [
      " 51%|█████▏    | 154/300 [06:36<06:26,  2.65s/it]"
     ]
    },
    {
     "name": "stdout",
     "output_type": "stream",
     "text": [
      "학동로43길7 지리산 해결\n"
     ]
    },
    {
     "name": "stderr",
     "output_type": "stream",
     "text": [
      " 53%|█████▎    | 158/300 [06:47<06:02,  2.55s/it]"
     ]
    },
    {
     "name": "stdout",
     "output_type": "stream",
     "text": [
      "학동로45길8 꽃삼살롱 해결\n"
     ]
    },
    {
     "name": "stderr",
     "output_type": "stream",
     "text": [
      " 53%|█████▎    | 160/300 [06:52<05:57,  2.55s/it]"
     ]
    },
    {
     "name": "stdout",
     "output_type": "stream",
     "text": [
      "논현로74길5, 타운샌드위치 역삼점 해결\n"
     ]
    },
    {
     "name": "stderr",
     "output_type": "stream",
     "text": [
      " 54%|█████▍    | 162/300 [06:57<05:50,  2.54s/it]"
     ]
    },
    {
     "name": "stdout",
     "output_type": "stream",
     "text": [
      "삼성로108길8 아야진생태찌개 해결\n"
     ]
    },
    {
     "name": "stderr",
     "output_type": "stream",
     "text": [
      " 54%|█████▍    | 163/300 [06:59<05:53,  2.58s/it]"
     ]
    },
    {
     "name": "stdout",
     "output_type": "stream",
     "text": [
      "강남대로152길62, 야사이마끼 쿠이신보 해결\n"
     ]
    },
    {
     "name": "stderr",
     "output_type": "stream",
     "text": [
      " 56%|█████▌    | 168/300 [07:12<05:35,  2.54s/it]"
     ]
    },
    {
     "name": "stdout",
     "output_type": "stream",
     "text": [
      "강남대로156길22 천우목장 신사점 해결\n"
     ]
    },
    {
     "name": "stderr",
     "output_type": "stream",
     "text": [
      " 56%|█████▋    | 169/300 [07:15<05:32,  2.54s/it]"
     ]
    },
    {
     "name": "stdout",
     "output_type": "stream",
     "text": [
      "도산대로30길15 목련식당 해결\n"
     ]
    },
    {
     "name": "stderr",
     "output_type": "stream",
     "text": [
      " 57%|█████▋    | 171/300 [07:20<05:24,  2.52s/it]"
     ]
    },
    {
     "name": "stdout",
     "output_type": "stream",
     "text": [
      "압구정로212 김밥천국 해결\n"
     ]
    },
    {
     "name": "stderr",
     "output_type": "stream",
     "text": [
      " 57%|█████▋    | 172/300 [07:22<05:26,  2.55s/it]"
     ]
    },
    {
     "name": "stdout",
     "output_type": "stream",
     "text": [
      "삼성로321 소문난바지락칼국수 해결\n"
     ]
    },
    {
     "name": "stderr",
     "output_type": "stream",
     "text": [
      " 58%|█████▊    | 174/300 [07:28<05:41,  2.71s/it]"
     ]
    },
    {
     "name": "stdout",
     "output_type": "stream",
     "text": [
      "언주로134길9, 강남불백 해결\n"
     ]
    },
    {
     "name": "stderr",
     "output_type": "stream",
     "text": [
      " 58%|█████▊    | 175/300 [07:31<05:40,  2.73s/it]"
     ]
    },
    {
     "name": "stdout",
     "output_type": "stream",
     "text": [
      "개포로615, 소담 해결\n"
     ]
    },
    {
     "name": "stderr",
     "output_type": "stream",
     "text": [
      " 59%|█████▉    | 177/300 [07:36<05:31,  2.69s/it]"
     ]
    },
    {
     "name": "stdout",
     "output_type": "stream",
     "text": [
      "압구정로214, 비노615 Vino615 해결\n"
     ]
    },
    {
     "name": "stderr",
     "output_type": "stream",
     "text": [
      " 59%|█████▉    | 178/300 [07:39<05:47,  2.85s/it]"
     ]
    },
    {
     "name": "stdout",
     "output_type": "stream",
     "text": [
      "선릉로93길56, 흑다돈 해결\n"
     ]
    },
    {
     "name": "stderr",
     "output_type": "stream",
     "text": [
      " 60%|█████▉    | 179/300 [07:43<06:27,  3.20s/it]"
     ]
    },
    {
     "name": "stdout",
     "output_type": "stream",
     "text": [
      "학동로213, 칙바이칙 학동역점 해결\n"
     ]
    },
    {
     "name": "stderr",
     "output_type": "stream",
     "text": [
      " 60%|██████    | 180/300 [07:47<06:38,  3.32s/it]"
     ]
    },
    {
     "name": "stdout",
     "output_type": "stream",
     "text": [
      "압구정로10길37, 이코복스커피 스튜디오 해결\n"
     ]
    },
    {
     "name": "stderr",
     "output_type": "stream",
     "text": [
      " 60%|██████    | 181/300 [07:50<06:39,  3.35s/it]"
     ]
    },
    {
     "name": "stdout",
     "output_type": "stream",
     "text": [
      "도산대로49길10-3, 로지 해결\n"
     ]
    },
    {
     "name": "stderr",
     "output_type": "stream",
     "text": [
      " 61%|██████    | 182/300 [07:54<06:41,  3.40s/it]"
     ]
    },
    {
     "name": "stdout",
     "output_type": "stream",
     "text": [
      "논현로93길4, 오봉집 역삼역점 해결\n"
     ]
    },
    {
     "name": "stderr",
     "output_type": "stream",
     "text": [
      " 61%|██████    | 183/300 [07:56<06:12,  3.18s/it]"
     ]
    },
    {
     "name": "stdout",
     "output_type": "stream",
     "text": [
      "광평로280, 육대장 수서역점 해결\n"
     ]
    },
    {
     "name": "stderr",
     "output_type": "stream",
     "text": [
      " 62%|██████▏   | 185/300 [08:01<05:27,  2.85s/it]"
     ]
    },
    {
     "name": "stdout",
     "output_type": "stream",
     "text": [
      "선릉로153길34, 코메 해결\n"
     ]
    },
    {
     "name": "stderr",
     "output_type": "stream",
     "text": [
      " 62%|██████▏   | 187/300 [08:07<05:08,  2.73s/it]"
     ]
    },
    {
     "name": "stdout",
     "output_type": "stream",
     "text": [
      "선릉로603 반포식스 선정릉역점 해결\n"
     ]
    },
    {
     "name": "stderr",
     "output_type": "stream",
     "text": [
      " 63%|██████▎   | 190/300 [08:14<04:47,  2.62s/it]"
     ]
    },
    {
     "name": "stdout",
     "output_type": "stream",
     "text": [
      "자곡로202, 백채 김치찌개 해결\n"
     ]
    },
    {
     "name": "stderr",
     "output_type": "stream",
     "text": [
      " 64%|██████▎   | 191/300 [08:17<04:42,  2.59s/it]"
     ]
    },
    {
     "name": "stdout",
     "output_type": "stream",
     "text": [
      "삼성로58길29, 지지미 해결\n"
     ]
    },
    {
     "name": "stderr",
     "output_type": "stream",
     "text": [
      " 64%|██████▍   | 192/300 [08:19<04:39,  2.59s/it]"
     ]
    },
    {
     "name": "stdout",
     "output_type": "stream",
     "text": [
      "강남대로62길30, 봉평착한메밀 해결\n"
     ]
    },
    {
     "name": "stderr",
     "output_type": "stream",
     "text": [
      " 64%|██████▍   | 193/300 [08:22<04:34,  2.57s/it]"
     ]
    },
    {
     "name": "stdout",
     "output_type": "stream",
     "text": [
      "언주로98길22, 아랑졸 해결\n"
     ]
    },
    {
     "name": "stderr",
     "output_type": "stream",
     "text": [
      " 65%|██████▍   | 194/300 [08:25<04:33,  2.58s/it]"
     ]
    },
    {
     "name": "stdout",
     "output_type": "stream",
     "text": [
      "논현로159길15, comme chez 해결\n"
     ]
    },
    {
     "name": "stderr",
     "output_type": "stream",
     "text": [
      " 65%|██████▌   | 195/300 [08:27<04:31,  2.58s/it]"
     ]
    },
    {
     "name": "stdout",
     "output_type": "stream",
     "text": [
      "도산대로62길15, 엘라보레(Elabore) 해결\n"
     ]
    },
    {
     "name": "stderr",
     "output_type": "stream",
     "text": [
      " 67%|██████▋   | 202/300 [08:48<04:21,  2.67s/it]"
     ]
    },
    {
     "name": "stdout",
     "output_type": "stream",
     "text": [
      "선릉로86길28, 마담가토(Madam Gato) 해결\n"
     ]
    },
    {
     "name": "stderr",
     "output_type": "stream",
     "text": [
      " 68%|██████▊   | 203/300 [08:51<04:21,  2.69s/it]"
     ]
    },
    {
     "name": "stdout",
     "output_type": "stream",
     "text": [
      "삼성로149길32 맛고을 해결\n"
     ]
    },
    {
     "name": "stderr",
     "output_type": "stream",
     "text": [
      " 68%|██████▊   | 204/300 [08:53<04:18,  2.69s/it]"
     ]
    },
    {
     "name": "stdout",
     "output_type": "stream",
     "text": [
      "도산대로17길22, 엘피(LP) 해결\n"
     ]
    },
    {
     "name": "stderr",
     "output_type": "stream",
     "text": [
      " 69%|██████▉   | 207/300 [09:03<04:33,  2.94s/it]"
     ]
    },
    {
     "name": "stdout",
     "output_type": "stream",
     "text": [
      "개포로623, 신토리 해장국 해결\n"
     ]
    },
    {
     "name": "stderr",
     "output_type": "stream",
     "text": [
      " 69%|██████▉   | 208/300 [09:05<04:20,  2.83s/it]"
     ]
    },
    {
     "name": "stdout",
     "output_type": "stream",
     "text": [
      "일원로9길60, 달빛오징어광어 해결\n"
     ]
    },
    {
     "name": "stderr",
     "output_type": "stream",
     "text": [
      " 70%|██████▉   | 209/300 [09:08<04:09,  2.74s/it]"
     ]
    },
    {
     "name": "stdout",
     "output_type": "stream",
     "text": [
      "테헤란로55길17, 리본레시피 선릉점 해결\n"
     ]
    },
    {
     "name": "stderr",
     "output_type": "stream",
     "text": [
      " 70%|███████   | 211/300 [09:13<03:54,  2.64s/it]"
     ]
    },
    {
     "name": "stdout",
     "output_type": "stream",
     "text": [
      "테헤란로146, 푸에르코 역삼 해결\n"
     ]
    },
    {
     "name": "stderr",
     "output_type": "stream",
     "text": [
      " 71%|███████   | 213/300 [09:18<03:46,  2.61s/it]"
     ]
    },
    {
     "name": "stdout",
     "output_type": "stream",
     "text": [
      "밤고개로1길10, 백채 김치찌개 해결\n"
     ]
    },
    {
     "name": "stderr",
     "output_type": "stream",
     "text": [
      " 72%|███████▏  | 215/300 [09:23<03:38,  2.56s/it]"
     ]
    },
    {
     "name": "stdout",
     "output_type": "stream",
     "text": [
      "도곡로7길19, 블루마운틴 해결\n"
     ]
    },
    {
     "name": "stderr",
     "output_type": "stream",
     "text": [
      " 72%|███████▏  | 217/300 [09:28<03:30,  2.54s/it]"
     ]
    },
    {
     "name": "stdout",
     "output_type": "stream",
     "text": [
      "선릉로155길26, 구들 해결\n"
     ]
    },
    {
     "name": "stderr",
     "output_type": "stream",
     "text": [
      " 73%|███████▎  | 218/300 [09:30<03:28,  2.54s/it]"
     ]
    },
    {
     "name": "stdout",
     "output_type": "stream",
     "text": [
      "언주로93길29 하남돼지집 역삼1호점 해결\n"
     ]
    },
    {
     "name": "stderr",
     "output_type": "stream",
     "text": [
      " 74%|███████▎  | 221/300 [09:38<03:21,  2.56s/it]"
     ]
    },
    {
     "name": "stdout",
     "output_type": "stream",
     "text": [
      "언주로150길24, 해월 해결\n"
     ]
    },
    {
     "name": "stderr",
     "output_type": "stream",
     "text": [
      " 75%|███████▍  | 224/300 [09:46<03:16,  2.58s/it]"
     ]
    },
    {
     "name": "stdout",
     "output_type": "stream",
     "text": [
      "테헤란로52길15, 선릉돈까스 해결\n"
     ]
    },
    {
     "name": "stderr",
     "output_type": "stream",
     "text": [
      " 75%|███████▌  | 225/300 [09:48<03:13,  2.59s/it]"
     ]
    },
    {
     "name": "stdout",
     "output_type": "stream",
     "text": [
      "영동대로114길10, 서문떡볶이 해결\n"
     ]
    },
    {
     "name": "stderr",
     "output_type": "stream",
     "text": [
      " 76%|███████▌  | 227/300 [09:54<03:06,  2.56s/it]"
     ]
    },
    {
     "name": "stdout",
     "output_type": "stream",
     "text": [
      "언주로98길21, 착한덮밥본점 해결\n"
     ]
    },
    {
     "name": "stderr",
     "output_type": "stream",
     "text": [
      " 76%|███████▌  | 228/300 [09:56<03:04,  2.56s/it]"
     ]
    },
    {
     "name": "stdout",
     "output_type": "stream",
     "text": [
      "테헤란로521, 스트릿 파르나스몰점 해결\n"
     ]
    },
    {
     "name": "stderr",
     "output_type": "stream",
     "text": [
      " 77%|███████▋  | 230/300 [10:01<02:58,  2.56s/it]"
     ]
    },
    {
     "name": "stdout",
     "output_type": "stream",
     "text": [
      "선릉로86길16-3 내고향 소주리 해결\n"
     ]
    },
    {
     "name": "stderr",
     "output_type": "stream",
     "text": [
      " 77%|███████▋  | 232/300 [10:07<02:58,  2.62s/it]"
     ]
    },
    {
     "name": "stdout",
     "output_type": "stream",
     "text": [
      "압구정로50길13, 로코컴플렉스(LOCO COMPLEX) 해결\n"
     ]
    },
    {
     "name": "stderr",
     "output_type": "stream",
     "text": [
      " 78%|███████▊  | 233/300 [10:09<02:54,  2.60s/it]"
     ]
    },
    {
     "name": "stdout",
     "output_type": "stream",
     "text": [
      "테헤란로43길17 포베이 해결\n"
     ]
    },
    {
     "name": "stderr",
     "output_type": "stream",
     "text": [
      " 79%|███████▊  | 236/300 [10:17<02:44,  2.57s/it]"
     ]
    },
    {
     "name": "stdout",
     "output_type": "stream",
     "text": [
      "봉은사로637 노블발렌티 해결\n"
     ]
    },
    {
     "name": "stderr",
     "output_type": "stream",
     "text": [
      " 79%|███████▉  | 237/300 [10:19<02:41,  2.57s/it]"
     ]
    },
    {
     "name": "stdout",
     "output_type": "stream",
     "text": [
      "압구정로48길35, 골드피쉬 딤섬퀴진 해결\n"
     ]
    },
    {
     "name": "stderr",
     "output_type": "stream",
     "text": [
      " 79%|███████▉  | 238/300 [10:22<02:39,  2.57s/it]"
     ]
    },
    {
     "name": "stdout",
     "output_type": "stream",
     "text": [
      "영동대로114길7 만리장성 해결\n"
     ]
    },
    {
     "name": "stderr",
     "output_type": "stream",
     "text": [
      " 80%|████████  | 241/300 [10:29<02:25,  2.47s/it]"
     ]
    },
    {
     "name": "stdout",
     "output_type": "stream",
     "text": [
      "언주로90길4, 우리순대국 해결\n"
     ]
    },
    {
     "name": "stderr",
     "output_type": "stream",
     "text": [
      " 81%|████████▏ | 244/300 [10:37<02:19,  2.50s/it]"
     ]
    },
    {
     "name": "stdout",
     "output_type": "stream",
     "text": [
      "역삼로64길7, 버닝스톤 해결\n"
     ]
    },
    {
     "name": "stderr",
     "output_type": "stream",
     "text": [
      " 82%|████████▏ | 245/300 [10:39<02:17,  2.50s/it]"
     ]
    },
    {
     "name": "stdout",
     "output_type": "stream",
     "text": [
      "논현로167길15, 수퍼판 해결\n"
     ]
    },
    {
     "name": "stderr",
     "output_type": "stream",
     "text": [
      " 82%|████████▏ | 247/300 [10:44<02:13,  2.53s/it]"
     ]
    },
    {
     "name": "stdout",
     "output_type": "stream",
     "text": [
      "언주로133길11, 티티엠서울(TTM SEOUL) 해결\n"
     ]
    },
    {
     "name": "stderr",
     "output_type": "stream",
     "text": [
      " 83%|████████▎ | 248/300 [10:47<02:10,  2.52s/it]"
     ]
    },
    {
     "name": "stdout",
     "output_type": "stream",
     "text": [
      "언주로85길32, 골라먹는 팔도밥상 해결\n"
     ]
    },
    {
     "name": "stderr",
     "output_type": "stream",
     "text": [
      " 83%|████████▎ | 249/300 [10:49<02:08,  2.51s/it]"
     ]
    },
    {
     "name": "stdout",
     "output_type": "stream",
     "text": [
      "테헤란로81길9, 바나프레소 삼성점 해결\n"
     ]
    },
    {
     "name": "stderr",
     "output_type": "stream",
     "text": [
      " 83%|████████▎ | 250/300 [10:52<02:06,  2.54s/it]"
     ]
    },
    {
     "name": "stdout",
     "output_type": "stream",
     "text": [
      "역삼로145, 두찜 강남역삼점 해결\n"
     ]
    },
    {
     "name": "stderr",
     "output_type": "stream",
     "text": [
      " 84%|████████▎ | 251/300 [10:54<02:03,  2.52s/it]"
     ]
    },
    {
     "name": "stdout",
     "output_type": "stream",
     "text": [
      "강남대로98길14 가가린 철우 해결\n"
     ]
    },
    {
     "name": "stderr",
     "output_type": "stream",
     "text": [
      " 85%|████████▍ | 254/300 [11:02<01:55,  2.51s/it]"
     ]
    },
    {
     "name": "stdout",
     "output_type": "stream",
     "text": [
      "삼성로133길8 엄마정원 해결\n"
     ]
    },
    {
     "name": "stderr",
     "output_type": "stream",
     "text": [
      " 85%|████████▌ | 256/300 [11:07<01:51,  2.55s/it]"
     ]
    },
    {
     "name": "stdout",
     "output_type": "stream",
     "text": [
      "봉은사로2길37, 다이스타운 해결\n"
     ]
    },
    {
     "name": "stderr",
     "output_type": "stream",
     "text": [
      " 86%|████████▌ | 257/300 [11:10<01:49,  2.54s/it]"
     ]
    },
    {
     "name": "stdout",
     "output_type": "stream",
     "text": [
      "선릉로660, 청담오뎅 해결\n"
     ]
    },
    {
     "name": "stderr",
     "output_type": "stream",
     "text": [
      " 86%|████████▌ | 258/300 [11:12<01:46,  2.54s/it]"
     ]
    },
    {
     "name": "stdout",
     "output_type": "stream",
     "text": [
      "선릉로157길13-5, 야키토리(Yakitori)파노 해결\n"
     ]
    },
    {
     "name": "stderr",
     "output_type": "stream",
     "text": [
      " 86%|████████▋ | 259/300 [11:15<01:43,  2.53s/it]"
     ]
    },
    {
     "name": "stdout",
     "output_type": "stream",
     "text": [
      "선릉로155길12, 도산정육 청담본점 해결\n"
     ]
    },
    {
     "name": "stderr",
     "output_type": "stream",
     "text": [
      " 87%|████████▋ | 260/300 [11:17<01:41,  2.55s/it]"
     ]
    },
    {
     "name": "stdout",
     "output_type": "stream",
     "text": [
      "학동로2길50 우제홍 참치 해결\n"
     ]
    },
    {
     "name": "stderr",
     "output_type": "stream",
     "text": [
      " 87%|████████▋ | 261/300 [11:20<01:39,  2.54s/it]"
     ]
    },
    {
     "name": "stdout",
     "output_type": "stream",
     "text": [
      "강남대로152길20, 마이위스키 테이블 해결\n"
     ]
    },
    {
     "name": "stderr",
     "output_type": "stream",
     "text": [
      " 87%|████████▋ | 262/300 [11:22<01:36,  2.54s/it]"
     ]
    },
    {
     "name": "stdout",
     "output_type": "stream",
     "text": [
      "선릉로93길26 본죽 선릉역점 해결\n"
     ]
    },
    {
     "name": "stderr",
     "output_type": "stream",
     "text": [
      " 88%|████████▊ | 264/300 [11:27<01:30,  2.52s/it]"
     ]
    },
    {
     "name": "stdout",
     "output_type": "stream",
     "text": [
      "압구정로29길72-1, 향촌면옥 해결\n"
     ]
    },
    {
     "name": "stderr",
     "output_type": "stream",
     "text": [
      " 88%|████████▊ | 265/300 [11:30<01:31,  2.60s/it]"
     ]
    },
    {
     "name": "stdout",
     "output_type": "stream",
     "text": [
      "테헤란로517, 도원style무역센터점 해결\n"
     ]
    },
    {
     "name": "stderr",
     "output_type": "stream",
     "text": [
      " 89%|████████▉ | 267/300 [11:35<01:26,  2.61s/it]"
     ]
    },
    {
     "name": "stdout",
     "output_type": "stream",
     "text": [
      "강남대로124길45, 컴앤쉽 (come 해결\n"
     ]
    },
    {
     "name": "stderr",
     "output_type": "stream",
     "text": [
      " 90%|████████▉ | 269/300 [11:40<01:19,  2.56s/it]"
     ]
    },
    {
     "name": "stdout",
     "output_type": "stream",
     "text": [
      "압구정로79길49, 텐파 마라탕 해결\n"
     ]
    },
    {
     "name": "stderr",
     "output_type": "stream",
     "text": [
      " 90%|█████████ | 270/300 [11:43<01:16,  2.56s/it]"
     ]
    },
    {
     "name": "stdout",
     "output_type": "stream",
     "text": [
      "논현로34길26, 퀸즈블러바드 해결\n"
     ]
    },
    {
     "name": "stderr",
     "output_type": "stream",
     "text": [
      " 90%|█████████ | 271/300 [11:45<01:14,  2.57s/it]"
     ]
    },
    {
     "name": "stdout",
     "output_type": "stream",
     "text": [
      "도곡로63길13 신촌설렁탕대치점 해결\n"
     ]
    },
    {
     "name": "stderr",
     "output_type": "stream",
     "text": [
      " 91%|█████████ | 273/300 [11:51<01:10,  2.61s/it]"
     ]
    },
    {
     "name": "stdout",
     "output_type": "stream",
     "text": [
      "테헤란로83길13 월스트리트(Wall Street) 해결\n"
     ]
    },
    {
     "name": "stderr",
     "output_type": "stream",
     "text": [
      " 91%|█████████▏| 274/300 [11:53<01:07,  2.60s/it]"
     ]
    },
    {
     "name": "stdout",
     "output_type": "stream",
     "text": [
      "봉은사로103길6, 시골집 해결\n"
     ]
    },
    {
     "name": "stderr",
     "output_type": "stream",
     "text": [
      " 92%|█████████▏| 275/300 [11:56<01:04,  2.59s/it]"
     ]
    },
    {
     "name": "stdout",
     "output_type": "stream",
     "text": [
      "봉은사로68길19 씽크씽크 해결\n"
     ]
    },
    {
     "name": "stderr",
     "output_type": "stream",
     "text": [
      " 92%|█████████▏| 276/300 [11:58<01:02,  2.59s/it]"
     ]
    },
    {
     "name": "stdout",
     "output_type": "stream",
     "text": [
      "삼성로81길37 한국관 선릉점 해결\n"
     ]
    },
    {
     "name": "stderr",
     "output_type": "stream",
     "text": [
      " 92%|█████████▏| 277/300 [12:01<00:59,  2.60s/it]"
     ]
    },
    {
     "name": "stdout",
     "output_type": "stream",
     "text": [
      "역삼로213, GS25역삼대로점 해결\n"
     ]
    },
    {
     "name": "stderr",
     "output_type": "stream",
     "text": [
      " 93%|█████████▎| 278/300 [12:04<00:57,  2.60s/it]"
     ]
    },
    {
     "name": "stdout",
     "output_type": "stream",
     "text": [
      "도곡로523, 반포식스 대치점 해결\n"
     ]
    },
    {
     "name": "stderr",
     "output_type": "stream",
     "text": [
      " 93%|█████████▎| 280/300 [12:09<00:51,  2.57s/it]"
     ]
    },
    {
     "name": "stdout",
     "output_type": "stream",
     "text": [
      "논현로150길16, 전주식당 해결\n"
     ]
    },
    {
     "name": "stderr",
     "output_type": "stream",
     "text": [
      " 94%|█████████▎| 281/300 [12:11<00:48,  2.57s/it]"
     ]
    },
    {
     "name": "stdout",
     "output_type": "stream",
     "text": [
      "테헤란로322, 아임샌드 해결\n"
     ]
    },
    {
     "name": "stderr",
     "output_type": "stream",
     "text": [
      " 94%|█████████▍| 282/300 [12:14<00:46,  2.60s/it]\n"
     ]
    },
    {
     "ename": "TypeError",
     "evalue": "unsupported operand type(s) for +: 'float' and 'str'",
     "output_type": "error",
     "traceback": [
      "\u001b[1;31m---------------------------------------------------------------------------\u001b[0m",
      "\u001b[1;31mTypeError\u001b[0m                                 Traceback (most recent call last)",
      "\u001b[1;32mc:\\Users\\user\\Desktop\\workspace\\data\\naver_매장존재확인_크롤링.ipynb Cell 18\u001b[0m line \u001b[0;36m1\n\u001b[0;32m      <a href='vscode-notebook-cell:/c%3A/Users/user/Desktop/workspace/data/naver_%EB%A7%A4%EC%9E%A5%EC%A1%B4%EC%9E%AC%ED%99%95%EC%9D%B8_%ED%81%AC%EB%A1%A4%EB%A7%81.ipynb#X16sZmlsZQ%3D%3D?line=7'>8</a>\u001b[0m \u001b[39mfor\u001b[39;00m i \u001b[39min\u001b[39;00m tqdm(\u001b[39mrange\u001b[39m(\u001b[39mlen\u001b[39m(df_200\u001b[39m.\u001b[39mloc[:,[\u001b[39m'\u001b[39m\u001b[39m사업장명\u001b[39m\u001b[39m'\u001b[39m,\u001b[39m'\u001b[39m\u001b[39m상세주소\u001b[39m\u001b[39m'\u001b[39m]]))):\n\u001b[0;32m     <a href='vscode-notebook-cell:/c%3A/Users/user/Desktop/workspace/data/naver_%EB%A7%A4%EC%9E%A5%EC%A1%B4%EC%9E%AC%ED%99%95%EC%9D%B8_%ED%81%AC%EB%A1%A4%EB%A7%81.ipynb#X16sZmlsZQ%3D%3D?line=9'>10</a>\u001b[0m     \u001b[39mglobal\u001b[39;00m driver  \u001b[39m# 전역 변수로 driver 사용\u001b[39;00m\n\u001b[1;32m---> <a href='vscode-notebook-cell:/c%3A/Users/user/Desktop/workspace/data/naver_%EB%A7%A4%EC%9E%A5%EC%A1%B4%EC%9E%AC%ED%99%95%EC%9D%B8_%ED%81%AC%EB%A1%A4%EB%A7%81.ipynb#X16sZmlsZQ%3D%3D?line=11'>12</a>\u001b[0m     name \u001b[39m=\u001b[39m df_200[\u001b[39m'\u001b[39;49m\u001b[39m상세주소\u001b[39;49m\u001b[39m'\u001b[39;49m][i] \u001b[39m+\u001b[39;49m \u001b[39m'\u001b[39;49m\u001b[39m \u001b[39;49m\u001b[39m'\u001b[39;49m \u001b[39m+\u001b[39m df_200[\u001b[39m'\u001b[39m\u001b[39m사업장명\u001b[39m\u001b[39m'\u001b[39m][i]\n\u001b[0;32m     <a href='vscode-notebook-cell:/c%3A/Users/user/Desktop/workspace/data/naver_%EB%A7%A4%EC%9E%A5%EC%A1%B4%EC%9E%AC%ED%99%95%EC%9D%B8_%ED%81%AC%EB%A1%A4%EB%A7%81.ipynb#X16sZmlsZQ%3D%3D?line=13'>14</a>\u001b[0m     \u001b[39m# 매장이 검색되는 경우 \u001b[39;00m\n\u001b[0;32m     <a href='vscode-notebook-cell:/c%3A/Users/user/Desktop/workspace/data/naver_%EB%A7%A4%EC%9E%A5%EC%A1%B4%EC%9E%AC%ED%99%95%EC%9D%B8_%ED%81%AC%EB%A1%A4%EB%A7%81.ipynb#X16sZmlsZQ%3D%3D?line=14'>15</a>\u001b[0m     \u001b[39mtry\u001b[39;00m :\n",
      "\u001b[1;31mTypeError\u001b[0m: unsupported operand type(s) for +: 'float' and 'str'"
     ]
    }
   ],
   "source": [
    "# 상세주소 + 사업장명으로 검색하는 코드 \n",
    "# 식당이 존재하지 않는경우 검색결과가 없는데, 검색여부를 보고 실제 존재하는 식당만 추릴것임.\n",
    "\n",
    "# 칼럼 생성 \n",
    "df_200['검색여부'] = ''\n",
    "\n",
    "# tqdm 데코레이터를 사용하여 반복문 진행 상황을 표시\n",
    "for i in tqdm(range(len(df_200.loc[:,['사업장명','상세주소']]))):\n",
    "\n",
    "    global driver  # 전역 변수로 driver 사용\n",
    "\n",
    "    name = df_200['상세주소'][i] + ' ' + df_200['사업장명'][i]\n",
    "\n",
    "    # 매장이 검색되는 경우 \n",
    "    try :\n",
    "        searchIframe = driver.find_element(By.ID,'searchIframe')\n",
    "        driver.switch_to.frame(searchIframe)\n",
    "        df_200['검색여부'][i] = '가능'\n",
    "\n",
    "    # 매장이 검색되지 않는 경우 \n",
    "    except :\n",
    "        # 전처리 ((주)빼기, 첫번째 단어만 검색 ex. '언주로 34,서브웨이 도곡본점' -> '언주로 34,서브웨이') \n",
    "        new_name = df_200['사업장명'][i].replace('(주)', '')\n",
    "        new_name = new_name.split(' ', 2)[:2]\n",
    "        new_name = ' '.join(new_name)\n",
    "        name = df_200['상세주소'][i] + ' ' + new_name\n",
    "\n",
    "        driver.get('https://map.naver.com/p/search/{}'.format(name))\n",
    "        time.sleep(2.2)  \n",
    "\n",
    "        try :\n",
    "            searchIframe = driver.find_element(By.ID,'searchIframe')\n",
    "            driver.switch_to.frame(searchIframe)\n",
    "            df_200['검색여부'][i] = '가능'\n",
    "            df_200['사업장명'][i] = new_name # 사업장명 이름도 바꿔놓기\n",
    "            \n",
    "        except NoSuchElementException:\n",
    "            continue\n",
    "\n"
   ]
  },
  {
   "cell_type": "code",
   "execution_count": 1,
   "metadata": {},
   "outputs": [
    {
     "ename": "NameError",
     "evalue": "name 'df_200' is not defined",
     "output_type": "error",
     "traceback": [
      "\u001b[1;31m---------------------------------------------------------------------------\u001b[0m",
      "\u001b[1;31mNameError\u001b[0m                                 Traceback (most recent call last)",
      "\u001b[1;32mc:\\Users\\user\\Desktop\\workspace\\data\\naver_매장존재확인_크롤링.ipynb Cell 19\u001b[0m line \u001b[0;36m2\n\u001b[0;32m      <a href='vscode-notebook-cell:/c%3A/Users/user/Desktop/workspace/data/naver_%EB%A7%A4%EC%9E%A5%EC%A1%B4%EC%9E%AC%ED%99%95%EC%9D%B8_%ED%81%AC%EB%A1%A4%EB%A7%81.ipynb#X24sZmlsZQ%3D%3D?line=0'>1</a>\u001b[0m \u001b[39m# 저장 \u001b[39;00m\n\u001b[1;32m----> <a href='vscode-notebook-cell:/c%3A/Users/user/Desktop/workspace/data/naver_%EB%A7%A4%EC%9E%A5%EC%A1%B4%EC%9E%AC%ED%99%95%EC%9D%B8_%ED%81%AC%EB%A1%A4%EB%A7%81.ipynb#X24sZmlsZQ%3D%3D?line=1'>2</a>\u001b[0m df_200\u001b[39m.\u001b[39mto_excel(\u001b[39m'\u001b[39m\u001b[39mdata/df_200_test.xlsx\u001b[39m\u001b[39m'\u001b[39m, index\u001b[39m=\u001b[39m\u001b[39mFalse\u001b[39;00m)\n",
      "\u001b[1;31mNameError\u001b[0m: name 'df_200' is not defined"
     ]
    }
   ],
   "source": [
    "# 저장 \n",
    "df_200.to_excel('data/df_200_test.xlsx', index=False)\n"
   ]
  },
  {
   "cell_type": "code",
   "execution_count": null,
   "metadata": {},
   "outputs": [],
   "source": [
    "# 기존\n",
    "\n",
    "# for i in range(0,len(df_200.loc[:,['사업장명','상세주소']])):\n",
    "#     # 검색어를 네이버 url에 포함시켜 이동 + 검색 \n",
    "    \n",
    "#     name = df_200['상세주소'][i] + ' ' +df_200['사업장명'][i]\n",
    "#     driver.get('https://map.naver.com/p/search/{}'.format(name))\n",
    "\n",
    "#     time.sleep(3)  \n",
    "\n",
    "#     try :\n",
    "#         searchIframe = driver.find_element(By.ID,'searchIframe')\n",
    "#         driver.switch_to.frame(searchIframe)\n",
    "#         time.sleep(3) \n",
    "#         df_200['검색여부'][i] = '가능'\n",
    "#         print(name,'검색 완')\n",
    "#     except NoSuchElementException:\n",
    "#         print(\"식당 존재 x \", name)\n",
    "#         df_200['검색여부'][i] = '불가능'\n",
    "#         continue\n",
    "    \n",
    "# # 검색 가능/불가능 추가 확인 \n",
    "# df_200"
   ]
  },
  {
   "cell_type": "code",
   "execution_count": null,
   "metadata": {},
   "outputs": [],
   "source": []
  },
  {
   "cell_type": "markdown",
   "metadata": {},
   "source": [
    "# 문제 1\n",
    "\n",
    "식당 존재 x  압구정로343, 메밀집 압구정갤러리아점 -> 메밀집 갤러리아백화점 명품관 WEST점\n",
    "\n",
    "식당 존재 x  언주로123, (주)일일향 도곡1호점 -> 언주로 123 일일향 도곡점\n",
    "\n",
    "식당 존재 x  강남대로152길64, 이끼롤까스 가로수길본점 -> 서울 강남구 강남대로156길 35 1층\n",
    "\n",
    "# 문제 2 \n",
    "뻑남\n"
   ]
  },
  {
   "cell_type": "markdown",
   "metadata": {},
   "source": [
    "실제 존재하는 식당만 추려냄 \n"
   ]
  },
  {
   "cell_type": "code",
   "execution_count": null,
   "metadata": {},
   "outputs": [],
   "source": [
    "new_df_200 = df_200.loc[df_200['검색여부']=='가능',:]\n",
    "new_df_200\n",
    "count_possible_stores = len(new_df_200)\n",
    "\n",
    "print(f'\\'가능\\'한 매장 수: {count_possible_stores}')"
   ]
  },
  {
   "cell_type": "markdown",
   "metadata": {},
   "source": [
    "카테고리 + 이름 없으면 ㄱㄱ "
   ]
  },
  {
   "cell_type": "code",
   "execution_count": null,
   "metadata": {},
   "outputs": [],
   "source": [
    "new_df_200.to_csv('data/new_df_200.csv')"
   ]
  }
 ],
 "metadata": {
  "kernelspec": {
   "display_name": "Python 3",
   "language": "python",
   "name": "python3"
  },
  "language_info": {
   "codemirror_mode": {
    "name": "ipython",
    "version": 3
   },
   "file_extension": ".py",
   "mimetype": "text/x-python",
   "name": "python",
   "nbconvert_exporter": "python",
   "pygments_lexer": "ipython3",
   "version": "3.10.0"
  }
 },
 "nbformat": 4,
 "nbformat_minor": 2
}
