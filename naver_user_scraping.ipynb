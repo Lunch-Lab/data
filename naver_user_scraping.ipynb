{
 "cells": [
  {
   "cell_type": "markdown",
   "metadata": {},
   "source": [
    "# User scraping \n",
    "\n",
    "- 강남역 맛집 리뷰 수가 많은 유저의 myplace를 크롤링"
   ]
  },
  {
   "cell_type": "markdown",
   "metadata": {},
   "source": [
    "### 문제\n",
    "\n",
    "1. 인기 리뷰어라면 핫플레이스만 다녀서 평범한 음식점에 대한 정보는 못얻지 않을까?"
   ]
  },
  {
   "cell_type": "code",
   "execution_count": 1,
   "metadata": {},
   "outputs": [
    {
     "name": "stderr",
     "output_type": "stream",
     "text": [
      "c:\\Users\\hare0\\AppData\\Local\\Programs\\Python\\Python310\\lib\\site-packages\\requests\\__init__.py:109: RequestsDependencyWarning: urllib3 (1.26.12) or chardet (5.2.0)/charset_normalizer (2.0.12) doesn't match a supported version!\n",
      "  warnings.warn(\n"
     ]
    }
   ],
   "source": [
    "# 웹 드라이버 설정\n",
    "from selenium import webdriver  \n",
    "from webdriver_manager.chrome import ChromeDriverManager \n",
    "\n",
    "# 대기 관련 라이브러리\n",
    "from selenium.webdriver.support.ui import WebDriverWait \n",
    "from selenium.webdriver.support import expected_conditions as EC \n",
    "\n",
    "# 예외 처리 관련 라이브러리\n",
    "from selenium.common.exceptions import TimeoutException, NoSuchElementException  \n",
    "\n",
    "# 웹 요소 찾기 관련 라이브러리\n",
    "from selenium.webdriver.common.by import By  \n",
    "from selenium.webdriver.support.ui import Select  \n",
    "from selenium.webdriver.common.keys import Keys  \n",
    "\n",
    "# 그 외 \n",
    "import time \n",
    "import warnings\n",
    "warnings.filterwarnings('ignore')\n",
    "from bs4 import BeautifulSoup \n",
    "import numpy as np  \n",
    "import pandas as pd \n",
    "import re  \n",
    "from tqdm import tqdm  # 반복문 진행 상황 시각화 모듈\n",
    "import zipfile\n",
    "import os"
   ]
  },
  {
   "cell_type": "markdown",
   "metadata": {},
   "source": [
    "https://m.place.naver.com/my/5c36b9f1e511a8856c50c832/review?v=2\n",
    "https://m.place.naver.com/my/5e1370ce8f87a842bc017bc5/review?v=2\n",
    "https://m.place.naver.com/my/5bd2f3682db9d1bdd38eedca/review?v=2\n",
    "https://m.place.naver.com/my/5f1dd9049ec8258e4a657f78/review?v=2\n",
    "https://m.place.naver.com/my/review/65bda752011aacbd86f5ef9e?v=2"
   ]
  },
  {
   "cell_type": "code",
   "execution_count": 10,
   "metadata": {},
   "outputs": [],
   "source": [
    "# webdriver_manager를 사용하여 ChromeDriver 다운로드 및 설정\n",
    "driver = webdriver.Chrome(ChromeDriverManager().install())\n",
    "\n",
    "# 주소 이동 (TEST)\n",
    "url = 'https://m.place.naver.com/my/5bd2f3682db9d1bdd38eedca/review?v=2'\n",
    "driver.get(url)\n",
    "time.sleep(1)\n"
   ]
  },
  {
   "cell_type": "code",
   "execution_count": 14,
   "metadata": {},
   "outputs": [],
   "source": [
    "# 저장 \n",
    "User_df = pd.DataFrame()\n",
    "time.sleep(3)  \n",
    "\n",
    "# 맨 처음 게시물 클릭\n",
    "button = driver.find_element(By.CLASS_NAME, '_3P-5HQ')\n",
    "button.click()\n",
    "time.sleep(0.4)"
   ]
  },
  {
   "cell_type": "code",
   "execution_count": 21,
   "metadata": {},
   "outputs": [
    {
     "data": {
      "text/plain": [
       "[]"
      ]
     },
     "execution_count": 21,
     "metadata": {},
     "output_type": "execute_result"
    }
   ],
   "source": []
  },
  {
   "cell_type": "code",
   "execution_count": 4,
   "metadata": {},
   "outputs": [
    {
     "ename": "WebDriverException",
     "evalue": "Message: disconnected: not connected to DevTools\n  (failed to check if window was closed: disconnected: not connected to DevTools)\n  (Session info: chrome=121.0.6167.140)\n",
     "output_type": "error",
     "traceback": [
      "\u001b[1;31m---------------------------------------------------------------------------\u001b[0m",
      "\u001b[1;31mWebDriverException\u001b[0m                        Traceback (most recent call last)",
      "Input \u001b[1;32mIn [4]\u001b[0m, in \u001b[0;36m<cell line: 6>\u001b[1;34m()\u001b[0m\n\u001b[0;32m      3\u001b[0m time\u001b[38;5;241m.\u001b[39msleep(\u001b[38;5;241m3\u001b[39m)  \n\u001b[0;32m      5\u001b[0m \u001b[38;5;66;03m# 맨 처음 게시물 클릭\u001b[39;00m\n\u001b[1;32m----> 6\u001b[0m \u001b[43mdriver\u001b[49m\u001b[38;5;241;43m.\u001b[39;49m\u001b[43mfind_element_by_xpath\u001b[49m\u001b[43m(\u001b[49m\u001b[38;5;124;43m'\u001b[39;49m\u001b[38;5;124;43m//*[@id=\u001b[39;49m\u001b[38;5;124;43m\"\u001b[39;49m\u001b[38;5;124;43m__next\u001b[39;49m\u001b[38;5;124;43m\"\u001b[39;49m\u001b[38;5;124;43m]/div/div[2]/div[1]/div[5]/div/ul/li[1]/button\u001b[39;49m\u001b[38;5;124;43m'\u001b[39;49m\u001b[43m)\u001b[49m\u001b[38;5;241m.\u001b[39mclick()\n\u001b[0;32m      9\u001b[0m \u001b[38;5;66;03m# 데이터 가져오기 \u001b[39;00m\n\u001b[0;32m     10\u001b[0m reviews \u001b[38;5;241m=\u001b[39m driver\u001b[38;5;241m.\u001b[39mfind_element(By\u001b[38;5;241m.\u001b[39mCLASS_NAME,\u001b[38;5;124m'\u001b[39m\u001b[38;5;124m_8T8NHS EDzhnZ\u001b[39m\u001b[38;5;124m'\u001b[39m)\n",
      "File \u001b[1;32mc:\\Users\\hare0\\AppData\\Local\\Programs\\Python\\Python310\\lib\\site-packages\\selenium\\webdriver\\remote\\webdriver.py:394\u001b[0m, in \u001b[0;36mWebDriver.find_element_by_xpath\u001b[1;34m(self, xpath)\u001b[0m\n\u001b[0;32m    378\u001b[0m \u001b[38;5;28;01mdef\u001b[39;00m \u001b[38;5;21mfind_element_by_xpath\u001b[39m(\u001b[38;5;28mself\u001b[39m, xpath):\n\u001b[0;32m    379\u001b[0m     \u001b[38;5;124;03m\"\"\"\u001b[39;00m\n\u001b[0;32m    380\u001b[0m \u001b[38;5;124;03m    Finds an element by xpath.\u001b[39;00m\n\u001b[0;32m    381\u001b[0m \n\u001b[1;32m   (...)\u001b[0m\n\u001b[0;32m    392\u001b[0m \u001b[38;5;124;03m        element = driver.find_element_by_xpath('//div/td[1]')\u001b[39;00m\n\u001b[0;32m    393\u001b[0m \u001b[38;5;124;03m    \"\"\"\u001b[39;00m\n\u001b[1;32m--> 394\u001b[0m     \u001b[38;5;28;01mreturn\u001b[39;00m \u001b[38;5;28;43mself\u001b[39;49m\u001b[38;5;241;43m.\u001b[39;49m\u001b[43mfind_element\u001b[49m\u001b[43m(\u001b[49m\u001b[43mby\u001b[49m\u001b[38;5;241;43m=\u001b[39;49m\u001b[43mBy\u001b[49m\u001b[38;5;241;43m.\u001b[39;49m\u001b[43mXPATH\u001b[49m\u001b[43m,\u001b[49m\u001b[43m \u001b[49m\u001b[43mvalue\u001b[49m\u001b[38;5;241;43m=\u001b[39;49m\u001b[43mxpath\u001b[49m\u001b[43m)\u001b[49m\n",
      "File \u001b[1;32mc:\\Users\\hare0\\AppData\\Local\\Programs\\Python\\Python310\\lib\\site-packages\\selenium\\webdriver\\remote\\webdriver.py:976\u001b[0m, in \u001b[0;36mWebDriver.find_element\u001b[1;34m(self, by, value)\u001b[0m\n\u001b[0;32m    974\u001b[0m         by \u001b[38;5;241m=\u001b[39m By\u001b[38;5;241m.\u001b[39mCSS_SELECTOR\n\u001b[0;32m    975\u001b[0m         value \u001b[38;5;241m=\u001b[39m \u001b[38;5;124m'\u001b[39m\u001b[38;5;124m[name=\u001b[39m\u001b[38;5;124m\"\u001b[39m\u001b[38;5;132;01m%s\u001b[39;00m\u001b[38;5;124m\"\u001b[39m\u001b[38;5;124m]\u001b[39m\u001b[38;5;124m'\u001b[39m \u001b[38;5;241m%\u001b[39m value\n\u001b[1;32m--> 976\u001b[0m \u001b[38;5;28;01mreturn\u001b[39;00m \u001b[38;5;28;43mself\u001b[39;49m\u001b[38;5;241;43m.\u001b[39;49m\u001b[43mexecute\u001b[49m\u001b[43m(\u001b[49m\u001b[43mCommand\u001b[49m\u001b[38;5;241;43m.\u001b[39;49m\u001b[43mFIND_ELEMENT\u001b[49m\u001b[43m,\u001b[49m\u001b[43m \u001b[49m\u001b[43m{\u001b[49m\n\u001b[0;32m    977\u001b[0m \u001b[43m    \u001b[49m\u001b[38;5;124;43m'\u001b[39;49m\u001b[38;5;124;43musing\u001b[39;49m\u001b[38;5;124;43m'\u001b[39;49m\u001b[43m:\u001b[49m\u001b[43m \u001b[49m\u001b[43mby\u001b[49m\u001b[43m,\u001b[49m\n\u001b[0;32m    978\u001b[0m \u001b[43m    \u001b[49m\u001b[38;5;124;43m'\u001b[39;49m\u001b[38;5;124;43mvalue\u001b[39;49m\u001b[38;5;124;43m'\u001b[39;49m\u001b[43m:\u001b[49m\u001b[43m \u001b[49m\u001b[43mvalue\u001b[49m\u001b[43m}\u001b[49m\u001b[43m)\u001b[49m[\u001b[38;5;124m'\u001b[39m\u001b[38;5;124mvalue\u001b[39m\u001b[38;5;124m'\u001b[39m]\n",
      "File \u001b[1;32mc:\\Users\\hare0\\AppData\\Local\\Programs\\Python\\Python310\\lib\\site-packages\\selenium\\webdriver\\remote\\webdriver.py:321\u001b[0m, in \u001b[0;36mWebDriver.execute\u001b[1;34m(self, driver_command, params)\u001b[0m\n\u001b[0;32m    319\u001b[0m response \u001b[38;5;241m=\u001b[39m \u001b[38;5;28mself\u001b[39m\u001b[38;5;241m.\u001b[39mcommand_executor\u001b[38;5;241m.\u001b[39mexecute(driver_command, params)\n\u001b[0;32m    320\u001b[0m \u001b[38;5;28;01mif\u001b[39;00m response:\n\u001b[1;32m--> 321\u001b[0m     \u001b[38;5;28;43mself\u001b[39;49m\u001b[38;5;241;43m.\u001b[39;49m\u001b[43merror_handler\u001b[49m\u001b[38;5;241;43m.\u001b[39;49m\u001b[43mcheck_response\u001b[49m\u001b[43m(\u001b[49m\u001b[43mresponse\u001b[49m\u001b[43m)\u001b[49m\n\u001b[0;32m    322\u001b[0m     response[\u001b[38;5;124m'\u001b[39m\u001b[38;5;124mvalue\u001b[39m\u001b[38;5;124m'\u001b[39m] \u001b[38;5;241m=\u001b[39m \u001b[38;5;28mself\u001b[39m\u001b[38;5;241m.\u001b[39m_unwrap_value(\n\u001b[0;32m    323\u001b[0m         response\u001b[38;5;241m.\u001b[39mget(\u001b[38;5;124m'\u001b[39m\u001b[38;5;124mvalue\u001b[39m\u001b[38;5;124m'\u001b[39m, \u001b[38;5;28;01mNone\u001b[39;00m))\n\u001b[0;32m    324\u001b[0m     \u001b[38;5;28;01mreturn\u001b[39;00m response\n",
      "File \u001b[1;32mc:\\Users\\hare0\\AppData\\Local\\Programs\\Python\\Python310\\lib\\site-packages\\selenium\\webdriver\\remote\\errorhandler.py:242\u001b[0m, in \u001b[0;36mErrorHandler.check_response\u001b[1;34m(self, response)\u001b[0m\n\u001b[0;32m    240\u001b[0m         alert_text \u001b[38;5;241m=\u001b[39m value[\u001b[38;5;124m'\u001b[39m\u001b[38;5;124malert\u001b[39m\u001b[38;5;124m'\u001b[39m]\u001b[38;5;241m.\u001b[39mget(\u001b[38;5;124m'\u001b[39m\u001b[38;5;124mtext\u001b[39m\u001b[38;5;124m'\u001b[39m)\n\u001b[0;32m    241\u001b[0m     \u001b[38;5;28;01mraise\u001b[39;00m exception_class(message, screen, stacktrace, alert_text)\n\u001b[1;32m--> 242\u001b[0m \u001b[38;5;28;01mraise\u001b[39;00m exception_class(message, screen, stacktrace)\n",
      "\u001b[1;31mWebDriverException\u001b[0m: Message: disconnected: not connected to DevTools\n  (failed to check if window was closed: disconnected: not connected to DevTools)\n  (Session info: chrome=121.0.6167.140)\n"
     ]
    }
   ],
   "source": [
    "# 데이터 가져오기 \n",
    "reviews = driver.find_element(By.CLASS_NAME,'_8T8NHS EDzhnZ')\n",
    "driver.switch_to.frame(reviews)\n",
    "#driver.find_element(By.TAG_NAME,'body').send_keys(Keys.PAGE_DOWN)\n",
    "\n",
    "\n",
    "reviews\n"
   ]
  },
  {
   "cell_type": "code",
   "execution_count": 41,
   "metadata": {},
   "outputs": [],
   "source": [
    "\n",
    "\n",
    "# webdriver_manager를 사용하여 ChromeDriver 다운로드 및 설정\n",
    "driver = webdriver.Chrome(ChromeDriverManager().install())\n",
    "\n",
    "# 주소 이동 (TEST)\n",
    "url = 'https://map.naver.com/p/search/%EB%96%A1%EB%8F%84%EB%A6%AC%ED%83%95%20%EA%B0%95%EB%82%A8/place/34461836?c=15.00,0,0,0,dh&placePath=%3Fentry%253Dbmp'\n",
    "driver.get(url)\n",
    "time.sleep(1)\n"
   ]
  },
  {
   "cell_type": "code",
   "execution_count": null,
   "metadata": {},
   "outputs": [],
   "source": [
    "# webdriver_manager를 사용하여 ChromeDriver 다운로드 및 설정\n",
    "driver = webdriver.Chrome(ChromeDriverManager().install())\n",
    "\n",
    "# 주소 이동 (TEST)\n",
    "url = 'https://map.naver.com/p/search/%EB%96%A1%EB%8F%84%EB%A6%AC%ED%83%95%20%EA%B0%95%EB%82%A8/place/34461836?c=15.00,0,0,0,dh&placePath=%3Fentry%253Dbmp'\n",
    "driver.get(url)\n",
    "time.sleep(3)\n"
   ]
  },
  {
   "cell_type": "code",
   "execution_count": 55,
   "metadata": {},
   "outputs": [
    {
     "data": {
      "text/plain": [
       "<div class=\"pOj49R\"><div class=\"_1tkuel\"><button class=\"wTaI4v _32RzH1 L8r2xO\" type=\"button\"><span class=\"_1RsN0z\">이용 방법<span class=\"_3al_mf\">예약 없이</span></span><span class=\"_1RsN0z\">대기 시간<span class=\"_3al_mf\">바로 입장</span></span><span class=\"_1RsN0z\">목적<span class=\"_3al_mf\">데이트</span></span><span class=\"_1RsN0z\">동행<span class=\"_3al_mf\">연인·배우자</span></span></button></div><div class=\"z0t_8b\"><div class=\"_3-ITu7\"><span class=\"whnFhQ\" style=\"line-height: 2.4rem; word-break: break-all; font-size: 1.5rem;\">검색으로 우연히 알게 된 카패인데 베이커리류도 다양하고 맛있네\n",
       "요. 커피도 흔하게 먹을 수 있는 그런 맛이 아니네요~~  고양이도 \n",
       "있어서 포근한 느낌을 주네요^^~~  한마리는 내내 자서 조...<button aria-expanded=\"false\" class=\"wTaI4v _1dVUyi\" type=\"button\"><svg class=\"_2K0LuT\" viewbox=\"0 0 12 7\"><path d=\"M6 5.59L11.347 0 12 .707 6 7 0 .707.653 0z\"></path></svg><span class=\"place_blind\">내용 더보기</span></button></span></div></div><div class=\"_3NlbrF\"><div class=\"_1oWLID\"><span class=\"COw42b\"><img alt=\"\" class=\"_3N9CKb\" height=\"18\" src=\"https://ssl.pstatic.net/static/pup/emoji/camera_with_flash20220119222227.png\" width=\"18\"/>사진이 잘 나와요</span><span class=\"COw42b\" role=\"button\" tabindex=\"0\">+4<span class=\"place_blind\">개의 리뷰 더 있습니다</span></span></div></div><div class=\"_15xwjO\"><div class=\"hol3Ic\"><div><span class=\"_3nNYBi\"><time aria-hidden=\"true\">1.8.월</time><span class=\"place_blind\">년 1월 8일 월요일</span></span><span class=\"_3nNYBi\">1번째 방문</span><span class=\"_3nNYBi\">영수증</span></div></div><div class=\"_2eX55F\"><div class=\"_18ydja\"><button aria-expanded=\"false\" aria-haspopup=\"true\" class=\"wTaI4v _21NaTg\" type=\"button\"><span class=\"_1EZO9c _2pIoZp\"><svg aria-hidden=\"true\" class=\"_1kl9y3\" viewbox=\"0 0 22 22\"><path d=\"M11,22C4.9,22,0,17.1,0,11S4.9,0,11,0s11,4.9,11,11S17.1,22,11,22z M11,1.5c-5.2,0-9.5,4.3-9.5,9.5s4.3,9.5,9.5,9.5 s9.5-4.3,9.5-9.5S16.2,1.5,11,1.5z M15,13.9c0.3-0.3,0.4-0.7,0.1-1.1c-0.3-0.3-0.7-0.4-1.1-0.1c-1.7,1.4-4.3,1.4-5.8,0 c-0.3-0.3-0.8-0.3-1.1,0c-0.3,0.3-0.3,0.8,0,1.1c1,1,2.4,1.4,3.8,1.4C12.4,15.3,13.8,14.9,15,13.9z M8.1,10c0.6,0,1.1-0.7,1.1-1.5 S8.8,7,8.1,7S7,7.7,7,8.5S7.5,10,8.1,10z M13.9,10c0.6,0,1.1-0.7,1.1-1.5S14.5,7,13.9,7s-1.1,0.7-1.1,1.5S13.2,10,13.9,10z\"></path></svg></span>반응 남기기</button><div class=\"_2XK877\"></div></div><div class=\"hol3Ic\"><span class=\"_3nNYBi _15JhHP\"><svg aria-hidden=\"true\" class=\"S9KiIM\" viewbox=\"0 0 15 15\"><path d=\"M6.502 3C10.34 3 13 6.425 13 7.5c0 1.07-2.657 4.5-6.498 4.5C2.71 12 0 8.57 0 7.5 0 6.425 2.69 3 6.502 3zM6.5 5.5c-1.105 0-2 .895-2 2s.895 2 2 2 2-.895 2-2-.895-2-2-2z\"></path></svg><span class=\"place_blind\">조회수</span>1,441</span></div></div></div></div>"
      ]
     },
     "execution_count": 55,
     "metadata": {},
     "output_type": "execute_result"
    }
   ],
   "source": [
    "from bs4 import BeautifulSoup\n",
    "\n",
    "html_content = \"\"\"\n",
    "    <!-- The HTML content you provided -->\n",
    "\"\"\"\n",
    "\n",
    "soup = BeautifulSoup(html_content, 'html.parser')\n",
    "\n",
    "# Extract information from the HTML\n",
    "menu_items = []\n",
    "\n",
    "# Find all list items with class 'gHmZ_'\n",
    "menu_elements = soup.find_all('li', class_='gHmZ_')\n",
    "\n",
    "for menu_element in menu_elements:\n",
    "    menu_name = menu_element.select_one('.RhpMT a.place_bluelink').get_text(strip=True)\n",
    "    order_count = menu_element.select_one('.Emfnh em').get_text(strip=True)\n",
    "    price = menu_element.select_one('.mkBm3 em').get_text(strip=True)\n",
    "\n",
    "    menu_items.append({\n",
    "        'menu_name': menu_name,\n",
    "        'order_count': order_count,\n",
    "        'price': price,\n",
    "    })\n",
    "\n",
    "# Print the extracted information\n",
    "for item in menu_items:\n",
    "    print(f\"메뉴: {item['menu_name']}, 주문수: {item['order_count']}, 가격: {item['price']}\")\n",
    "\n",
    "item\n"
   ]
  },
  {
   "cell_type": "code",
   "execution_count": 42,
   "metadata": {},
   "outputs": [
    {
     "ename": "NoSuchElementException",
     "evalue": "Message: no such element: Unable to locate element: {\"method\":\"xpath\",\"selector\":\"//*[@id=\"_pcmap_list_scroll_container\"]/ul\"}\n  (Session info: chrome=121.0.6167.140)\n",
     "output_type": "error",
     "traceback": [
      "\u001b[1;31m---------------------------------------------------------------------------\u001b[0m",
      "\u001b[1;31mNoSuchElementException\u001b[0m                    Traceback (most recent call last)",
      "Input \u001b[1;32mIn [42]\u001b[0m, in \u001b[0;36m<cell line: 11>\u001b[1;34m()\u001b[0m\n\u001b[0;32m      9\u001b[0m     button \u001b[38;5;241m=\u001b[39m temp\u001b[38;5;241m.\u001b[39mfind_elements_by_tag_name(\u001b[38;5;124m'\u001b[39m\u001b[38;5;124ma\u001b[39m\u001b[38;5;124m'\u001b[39m)\n\u001b[0;32m     10\u001b[0m     driver\u001b[38;5;241m.\u001b[39mimplicitly_wait(\u001b[38;5;241m20\u001b[39m)\n\u001b[1;32m---> 11\u001b[0m \u001b[43mmenu\u001b[49m\u001b[43m(\u001b[49m\u001b[38;5;124;43m'\u001b[39;49m\u001b[38;5;124;43m강남구 떡도리탕\u001b[39;49m\u001b[38;5;124;43m'\u001b[39;49m\u001b[43m)\u001b[49m\n",
      "Input \u001b[1;32mIn [42]\u001b[0m, in \u001b[0;36mmenu\u001b[1;34m(data)\u001b[0m\n\u001b[0;32m      5\u001b[0m driver\u001b[38;5;241m.\u001b[39mget(\u001b[38;5;124m\"\u001b[39m\u001b[38;5;124mhttps://map.naver.com/v5/search/\u001b[39m\u001b[38;5;124m\"\u001b[39m\u001b[38;5;241m+\u001b[39mdata) \u001b[38;5;66;03m# 검색창에 가게이름 입력\u001b[39;00m\n\u001b[0;32m      6\u001b[0m time\u001b[38;5;241m.\u001b[39msleep(\u001b[38;5;241m3\u001b[39m)\n\u001b[1;32m----> 7\u001b[0m temp \u001b[38;5;241m=\u001b[39m \u001b[43mdriver\u001b[49m\u001b[38;5;241;43m.\u001b[39;49m\u001b[43mfind_element_by_xpath\u001b[49m\u001b[43m(\u001b[49m\u001b[38;5;124;43m'\u001b[39;49m\u001b[38;5;124;43m//*[@id=\u001b[39;49m\u001b[38;5;124;43m\"\u001b[39;49m\u001b[38;5;124;43m_pcmap_list_scroll_container\u001b[39;49m\u001b[38;5;124;43m\"\u001b[39;49m\u001b[38;5;124;43m]/ul\u001b[39;49m\u001b[38;5;124;43m'\u001b[39;49m\u001b[43m)\u001b[49m \u001b[38;5;66;03m# 메뉴표에 있는 텍스트 모두 들고옴(개발자 도구에서 그때그때 xpath 복사해서 들고오는게 좋다)\u001b[39;00m\n\u001b[0;32m      8\u001b[0m driver\u001b[38;5;241m.\u001b[39mimplicitly_wait(\u001b[38;5;241m20\u001b[39m) \u001b[38;5;66;03m# selenium에서 가끔씩 태그 시간내에 못찾는 경우 때문에 일부러 길게 설정해놓음\u001b[39;00m\n\u001b[0;32m      9\u001b[0m button \u001b[38;5;241m=\u001b[39m temp\u001b[38;5;241m.\u001b[39mfind_elements_by_tag_name(\u001b[38;5;124m'\u001b[39m\u001b[38;5;124ma\u001b[39m\u001b[38;5;124m'\u001b[39m)\n",
      "File \u001b[1;32mc:\\Users\\hare0\\AppData\\Local\\Programs\\Python\\Python310\\lib\\site-packages\\selenium\\webdriver\\remote\\webdriver.py:394\u001b[0m, in \u001b[0;36mWebDriver.find_element_by_xpath\u001b[1;34m(self, xpath)\u001b[0m\n\u001b[0;32m    378\u001b[0m \u001b[38;5;28;01mdef\u001b[39;00m \u001b[38;5;21mfind_element_by_xpath\u001b[39m(\u001b[38;5;28mself\u001b[39m, xpath):\n\u001b[0;32m    379\u001b[0m     \u001b[38;5;124;03m\"\"\"\u001b[39;00m\n\u001b[0;32m    380\u001b[0m \u001b[38;5;124;03m    Finds an element by xpath.\u001b[39;00m\n\u001b[0;32m    381\u001b[0m \n\u001b[1;32m   (...)\u001b[0m\n\u001b[0;32m    392\u001b[0m \u001b[38;5;124;03m        element = driver.find_element_by_xpath('//div/td[1]')\u001b[39;00m\n\u001b[0;32m    393\u001b[0m \u001b[38;5;124;03m    \"\"\"\u001b[39;00m\n\u001b[1;32m--> 394\u001b[0m     \u001b[38;5;28;01mreturn\u001b[39;00m \u001b[38;5;28;43mself\u001b[39;49m\u001b[38;5;241;43m.\u001b[39;49m\u001b[43mfind_element\u001b[49m\u001b[43m(\u001b[49m\u001b[43mby\u001b[49m\u001b[38;5;241;43m=\u001b[39;49m\u001b[43mBy\u001b[49m\u001b[38;5;241;43m.\u001b[39;49m\u001b[43mXPATH\u001b[49m\u001b[43m,\u001b[49m\u001b[43m \u001b[49m\u001b[43mvalue\u001b[49m\u001b[38;5;241;43m=\u001b[39;49m\u001b[43mxpath\u001b[49m\u001b[43m)\u001b[49m\n",
      "File \u001b[1;32mc:\\Users\\hare0\\AppData\\Local\\Programs\\Python\\Python310\\lib\\site-packages\\selenium\\webdriver\\remote\\webdriver.py:976\u001b[0m, in \u001b[0;36mWebDriver.find_element\u001b[1;34m(self, by, value)\u001b[0m\n\u001b[0;32m    974\u001b[0m         by \u001b[38;5;241m=\u001b[39m By\u001b[38;5;241m.\u001b[39mCSS_SELECTOR\n\u001b[0;32m    975\u001b[0m         value \u001b[38;5;241m=\u001b[39m \u001b[38;5;124m'\u001b[39m\u001b[38;5;124m[name=\u001b[39m\u001b[38;5;124m\"\u001b[39m\u001b[38;5;132;01m%s\u001b[39;00m\u001b[38;5;124m\"\u001b[39m\u001b[38;5;124m]\u001b[39m\u001b[38;5;124m'\u001b[39m \u001b[38;5;241m%\u001b[39m value\n\u001b[1;32m--> 976\u001b[0m \u001b[38;5;28;01mreturn\u001b[39;00m \u001b[38;5;28;43mself\u001b[39;49m\u001b[38;5;241;43m.\u001b[39;49m\u001b[43mexecute\u001b[49m\u001b[43m(\u001b[49m\u001b[43mCommand\u001b[49m\u001b[38;5;241;43m.\u001b[39;49m\u001b[43mFIND_ELEMENT\u001b[49m\u001b[43m,\u001b[49m\u001b[43m \u001b[49m\u001b[43m{\u001b[49m\n\u001b[0;32m    977\u001b[0m \u001b[43m    \u001b[49m\u001b[38;5;124;43m'\u001b[39;49m\u001b[38;5;124;43musing\u001b[39;49m\u001b[38;5;124;43m'\u001b[39;49m\u001b[43m:\u001b[49m\u001b[43m \u001b[49m\u001b[43mby\u001b[49m\u001b[43m,\u001b[49m\n\u001b[0;32m    978\u001b[0m \u001b[43m    \u001b[49m\u001b[38;5;124;43m'\u001b[39;49m\u001b[38;5;124;43mvalue\u001b[39;49m\u001b[38;5;124;43m'\u001b[39;49m\u001b[43m:\u001b[49m\u001b[43m \u001b[49m\u001b[43mvalue\u001b[49m\u001b[43m}\u001b[49m\u001b[43m)\u001b[49m[\u001b[38;5;124m'\u001b[39m\u001b[38;5;124mvalue\u001b[39m\u001b[38;5;124m'\u001b[39m]\n",
      "File \u001b[1;32mc:\\Users\\hare0\\AppData\\Local\\Programs\\Python\\Python310\\lib\\site-packages\\selenium\\webdriver\\remote\\webdriver.py:321\u001b[0m, in \u001b[0;36mWebDriver.execute\u001b[1;34m(self, driver_command, params)\u001b[0m\n\u001b[0;32m    319\u001b[0m response \u001b[38;5;241m=\u001b[39m \u001b[38;5;28mself\u001b[39m\u001b[38;5;241m.\u001b[39mcommand_executor\u001b[38;5;241m.\u001b[39mexecute(driver_command, params)\n\u001b[0;32m    320\u001b[0m \u001b[38;5;28;01mif\u001b[39;00m response:\n\u001b[1;32m--> 321\u001b[0m     \u001b[38;5;28;43mself\u001b[39;49m\u001b[38;5;241;43m.\u001b[39;49m\u001b[43merror_handler\u001b[49m\u001b[38;5;241;43m.\u001b[39;49m\u001b[43mcheck_response\u001b[49m\u001b[43m(\u001b[49m\u001b[43mresponse\u001b[49m\u001b[43m)\u001b[49m\n\u001b[0;32m    322\u001b[0m     response[\u001b[38;5;124m'\u001b[39m\u001b[38;5;124mvalue\u001b[39m\u001b[38;5;124m'\u001b[39m] \u001b[38;5;241m=\u001b[39m \u001b[38;5;28mself\u001b[39m\u001b[38;5;241m.\u001b[39m_unwrap_value(\n\u001b[0;32m    323\u001b[0m         response\u001b[38;5;241m.\u001b[39mget(\u001b[38;5;124m'\u001b[39m\u001b[38;5;124mvalue\u001b[39m\u001b[38;5;124m'\u001b[39m, \u001b[38;5;28;01mNone\u001b[39;00m))\n\u001b[0;32m    324\u001b[0m     \u001b[38;5;28;01mreturn\u001b[39;00m response\n",
      "File \u001b[1;32mc:\\Users\\hare0\\AppData\\Local\\Programs\\Python\\Python310\\lib\\site-packages\\selenium\\webdriver\\remote\\errorhandler.py:242\u001b[0m, in \u001b[0;36mErrorHandler.check_response\u001b[1;34m(self, response)\u001b[0m\n\u001b[0;32m    240\u001b[0m         alert_text \u001b[38;5;241m=\u001b[39m value[\u001b[38;5;124m'\u001b[39m\u001b[38;5;124malert\u001b[39m\u001b[38;5;124m'\u001b[39m]\u001b[38;5;241m.\u001b[39mget(\u001b[38;5;124m'\u001b[39m\u001b[38;5;124mtext\u001b[39m\u001b[38;5;124m'\u001b[39m)\n\u001b[0;32m    241\u001b[0m     \u001b[38;5;28;01mraise\u001b[39;00m exception_class(message, screen, stacktrace, alert_text)\n\u001b[1;32m--> 242\u001b[0m \u001b[38;5;28;01mraise\u001b[39;00m exception_class(message, screen, stacktrace)\n",
      "\u001b[1;31mNoSuchElementException\u001b[0m: Message: no such element: Unable to locate element: {\"method\":\"xpath\",\"selector\":\"//*[@id=\"_pcmap_list_scroll_container\"]/ul\"}\n  (Session info: chrome=121.0.6167.140)\n"
     ]
    }
   ],
   "source": [
    "\n",
    "# BeautifulSoup을 사용하여 HTML 파싱\n",
    "soup = BeautifulSoup(url, 'html.parser')\n",
    "\n",
    "def menu(data): # 메뉴 크롤링\n",
    "    driver.get(\"https://map.naver.com/v5/search/\"+data) # 검색창에 가게이름 입력\n",
    "    time.sleep(3)\n",
    "    temp = driver.find_element_by_xpath('//*[@id=\"_pcmap_list_scroll_container\"]/ul') # 메뉴표에 있는 텍스트 모두 들고옴(개발자 도구에서 그때그때 xpath 복사해서 들고오는게 좋다)\n",
    "    driver.implicitly_wait(20) # selenium에서 가끔씩 태그 시간내에 못찾는 경우 때문에 일부러 길게 설정해놓음\n",
    "    button = temp.find_elements_by_tag_name('a')\n",
    "    driver.implicitly_wait(20)\n",
    "menu('강남구 떡도리탕')"
   ]
  }
 ],
 "metadata": {
  "kernelspec": {
   "display_name": "Python 3",
   "language": "python",
   "name": "python3"
  },
  "language_info": {
   "codemirror_mode": {
    "name": "ipython",
    "version": 3
   },
   "file_extension": ".py",
   "mimetype": "text/x-python",
   "name": "python",
   "nbconvert_exporter": "python",
   "pygments_lexer": "ipython3",
   "version": "3.10.5"
  }
 },
 "nbformat": 4,
 "nbformat_minor": 2
}
