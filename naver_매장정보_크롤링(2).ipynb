{
 "cells": [
  {
   "cell_type": "markdown",
   "metadata": {},
   "source": [
    "# 네이버 매장정보 크롤링\n",
    "\n",
    "### naver_매장존재확인_크롤링에서 만든 파일을 사용합니다"
   ]
  },
  {
   "cell_type": "code",
   "execution_count": 1,
   "metadata": {},
   "outputs": [],
   "source": [
    "# 웹 드라이버 설정\n",
    "from selenium import webdriver  \n",
    "from webdriver_manager.chrome import ChromeDriverManager \n",
    "\n",
    "# 대기 관련 라이브러리\n",
    "from selenium.webdriver.support.ui import WebDriverWait \n",
    "from selenium.webdriver.support import expected_conditions as EC \n",
    "\n",
    "# 예외 처리 관련 라이브러리\n",
    "from selenium.common.exceptions import TimeoutException, NoSuchElementException  \n",
    "\n",
    "# 웹 요소 찾기 관련 라이브러리\n",
    "from selenium.webdriver.common.by import By  \n",
    "from selenium.webdriver.support.ui import Select  \n",
    "from selenium.webdriver.common.keys import Keys  \n",
    "\n",
    "# 그 외 \n",
    "import time \n",
    "import warnings\n",
    "warnings.filterwarnings('ignore')\n",
    "from bs4 import BeautifulSoup \n",
    "import numpy as np  \n",
    "import pandas as pd \n",
    "import re  \n",
    "from tqdm import tqdm  "
   ]
  },
  {
   "cell_type": "markdown",
   "metadata": {},
   "source": [
    "데이터 가져오기"
   ]
  },
  {
   "cell_type": "code",
   "execution_count": 2,
   "metadata": {},
   "outputs": [],
   "source": [
    "# # 데이터 불러오기\n",
    "# original_res_df = pd.read_excel('combined_file.xlsx')\n",
    "# res_df = original_res_df.copy()\n",
    "# res_df = res_df.loc[res_df['검색여부'] == '가능'].reset_index(drop=True)\n",
    "# res_df.drop('Unnamed: 0', axis=1, inplace=True)\n",
    "\n",
    "\n",
    "# # 컬럼 순서 바꾸기 -> 보기 좋으라고 바꿈\n",
    "# res_df['검색어'] = res_df['상세주소'] + \" \" + res_df['사업장명']\n",
    "# column_order = ['검색어', '업태구분명', '사업장명', '사업장명_원본', '시도', '지역구', '상세주소', '소재지전체주소', '도로명전체주소', '좌표정보(x)', '좌표정보(y)', '검색여부', '영업상태명']\n",
    "# res_df = res_df[column_order]\n",
    "# res_df.tail()"
   ]
  },
  {
   "cell_type": "code",
   "execution_count": 3,
   "metadata": {},
   "outputs": [
    {
     "data": {
      "text/html": [
       "<div>\n",
       "<style scoped>\n",
       "    .dataframe tbody tr th:only-of-type {\n",
       "        vertical-align: middle;\n",
       "    }\n",
       "\n",
       "    .dataframe tbody tr th {\n",
       "        vertical-align: top;\n",
       "    }\n",
       "\n",
       "    .dataframe thead th {\n",
       "        text-align: right;\n",
       "    }\n",
       "</style>\n",
       "<table border=\"1\" class=\"dataframe\">\n",
       "  <thead>\n",
       "    <tr style=\"text-align: right;\">\n",
       "      <th></th>\n",
       "      <th>검색어</th>\n",
       "      <th>업태구분명</th>\n",
       "      <th>사업장명</th>\n",
       "      <th>사업장명_원본</th>\n",
       "      <th>시도</th>\n",
       "      <th>지역구</th>\n",
       "      <th>상세주소</th>\n",
       "      <th>소재지전체주소</th>\n",
       "      <th>도로명전체주소</th>\n",
       "      <th>좌표정보(x)</th>\n",
       "      <th>좌표정보(y)</th>\n",
       "      <th>검색여부</th>\n",
       "      <th>영업상태명</th>\n",
       "    </tr>\n",
       "  </thead>\n",
       "  <tbody>\n",
       "    <tr>\n",
       "      <th>0</th>\n",
       "      <td>선릉로82길 23, 브롱스</td>\n",
       "      <td>기타</td>\n",
       "      <td>브롱스</td>\n",
       "      <td>브롱스 선릉점</td>\n",
       "      <td>서울특별시</td>\n",
       "      <td>강남구</td>\n",
       "      <td>선릉로82길 23,</td>\n",
       "      <td>서울특별시 강남구 대치동 896-3</td>\n",
       "      <td>서울특별시 강남구 선릉로82길 23, 3층 (대치동, 리치빌딩)</td>\n",
       "      <td>204520.809001</td>\n",
       "      <td>444535.969338</td>\n",
       "      <td>가능</td>\n",
       "      <td>영업/정상</td>\n",
       "    </tr>\n",
       "    <tr>\n",
       "      <th>1</th>\n",
       "      <td>삼성로84길 15, 김동진장호왕곱창</td>\n",
       "      <td>한식</td>\n",
       "      <td>김동진장호왕곱창</td>\n",
       "      <td>김동진장호왕곱창</td>\n",
       "      <td>서울특별시</td>\n",
       "      <td>강남구</td>\n",
       "      <td>삼성로84길 15,</td>\n",
       "      <td>서울특별시 강남구 대치동 957-7번지</td>\n",
       "      <td>서울특별시 강남구 삼성로84길 15, 지하1층 (대치동)</td>\n",
       "      <td>205133.129847</td>\n",
       "      <td>444826.116205</td>\n",
       "      <td>가능</td>\n",
       "      <td>영업/정상</td>\n",
       "    </tr>\n",
       "    <tr>\n",
       "      <th>2</th>\n",
       "      <td>삼성로81길 23 춘하추동밀면</td>\n",
       "      <td>한식</td>\n",
       "      <td>춘하추동밀면</td>\n",
       "      <td>춘하추동밀면 대치직영점</td>\n",
       "      <td>서울특별시</td>\n",
       "      <td>강남구</td>\n",
       "      <td>삼성로81길 23</td>\n",
       "      <td>서울특별시 강남구 대치동 901-65</td>\n",
       "      <td>서울특별시 강남구 삼성로81길 23 (대치동)</td>\n",
       "      <td>204864.262676</td>\n",
       "      <td>444652.961363</td>\n",
       "      <td>가능</td>\n",
       "      <td>영업/정상</td>\n",
       "    </tr>\n",
       "    <tr>\n",
       "      <th>3</th>\n",
       "      <td>선릉로131길 19, 앙마꼬치</td>\n",
       "      <td>기타</td>\n",
       "      <td>앙마꼬치</td>\n",
       "      <td>앙마꼬치</td>\n",
       "      <td>서울특별시</td>\n",
       "      <td>강남구</td>\n",
       "      <td>선릉로131길 19,</td>\n",
       "      <td>서울특별시 강남구 논현동 118-2</td>\n",
       "      <td>서울특별시 강남구 선릉로131길 19, 지하1층 (논현동)</td>\n",
       "      <td>203407.179297</td>\n",
       "      <td>446115.386972</td>\n",
       "      <td>가능</td>\n",
       "      <td>영업/정상</td>\n",
       "    </tr>\n",
       "    <tr>\n",
       "      <th>4</th>\n",
       "      <td>도산대로94길 20, 커피엠스테이블</td>\n",
       "      <td>기타</td>\n",
       "      <td>커피엠스테이블</td>\n",
       "      <td>커피엠스테이블(COFFEE M STABLE)</td>\n",
       "      <td>서울특별시</td>\n",
       "      <td>강남구</td>\n",
       "      <td>도산대로94길 20,</td>\n",
       "      <td>서울특별시 강남구 청담동 57-2번지</td>\n",
       "      <td>서울특별시 강남구 도산대로94길 20, 지상1층 (청담동)</td>\n",
       "      <td>204493.269617</td>\n",
       "      <td>446843.324331</td>\n",
       "      <td>가능</td>\n",
       "      <td>영업/정상</td>\n",
       "    </tr>\n",
       "  </tbody>\n",
       "</table>\n",
       "</div>"
      ],
      "text/plain": [
       "                   검색어 업태구분명      사업장명                   사업장명_원본     시도  지역구  \\\n",
       "0       선릉로82길 23, 브롱스    기타       브롱스                   브롱스 선릉점  서울특별시  강남구   \n",
       "1  삼성로84길 15, 김동진장호왕곱창    한식  김동진장호왕곱창                  김동진장호왕곱창  서울특별시  강남구   \n",
       "2     삼성로81길 23 춘하추동밀면    한식    춘하추동밀면              춘하추동밀면 대치직영점  서울특별시  강남구   \n",
       "3     선릉로131길 19, 앙마꼬치    기타      앙마꼬치                      앙마꼬치  서울특별시  강남구   \n",
       "4  도산대로94길 20, 커피엠스테이블    기타   커피엠스테이블  커피엠스테이블(COFFEE M STABLE)  서울특별시  강남구   \n",
       "\n",
       "          상세주소                소재지전체주소                              도로명전체주소  \\\n",
       "0   선릉로82길 23,    서울특별시 강남구 대치동 896-3  서울특별시 강남구 선릉로82길 23, 3층 (대치동, 리치빌딩)   \n",
       "1   삼성로84길 15,  서울특별시 강남구 대치동 957-7번지      서울특별시 강남구 삼성로84길 15, 지하1층 (대치동)   \n",
       "2    삼성로81길 23   서울특별시 강남구 대치동 901-65            서울특별시 강남구 삼성로81길 23 (대치동)   \n",
       "3  선릉로131길 19,    서울특별시 강남구 논현동 118-2     서울특별시 강남구 선릉로131길 19, 지하1층 (논현동)   \n",
       "4  도산대로94길 20,   서울특별시 강남구 청담동 57-2번지     서울특별시 강남구 도산대로94길 20, 지상1층 (청담동)   \n",
       "\n",
       "         좌표정보(x)        좌표정보(y) 검색여부  영업상태명  \n",
       "0  204520.809001  444535.969338   가능  영업/정상  \n",
       "1  205133.129847  444826.116205   가능  영업/정상  \n",
       "2  204864.262676  444652.961363   가능  영업/정상  \n",
       "3  203407.179297  446115.386972   가능  영업/정상  \n",
       "4  204493.269617  446843.324331   가능  영업/정상  "
      ]
     },
     "execution_count": 3,
     "metadata": {},
     "output_type": "execute_result"
    }
   ],
   "source": [
    "이름 = '해민' # 본인 이름을 입력하세요\n",
    "\n",
    "# 데이터 불러오기\n",
    "original_res_df = pd.read_excel(f'data/restaurant_info_data(2)/{이름}.xlsx')\n",
    "original_df = original_res_df.copy()\n",
    "original_df.head()"
   ]
  },
  {
   "cell_type": "markdown",
   "metadata": {},
   "source": [
    "한번에 몇개씩 크롤링할지 결정"
   ]
  },
  {
   "cell_type": "code",
   "execution_count": 4,
   "metadata": {},
   "outputs": [
    {
     "data": {
      "text/html": [
       "<div>\n",
       "<style scoped>\n",
       "    .dataframe tbody tr th:only-of-type {\n",
       "        vertical-align: middle;\n",
       "    }\n",
       "\n",
       "    .dataframe tbody tr th {\n",
       "        vertical-align: top;\n",
       "    }\n",
       "\n",
       "    .dataframe thead th {\n",
       "        text-align: right;\n",
       "    }\n",
       "</style>\n",
       "<table border=\"1\" class=\"dataframe\">\n",
       "  <thead>\n",
       "    <tr style=\"text-align: right;\">\n",
       "      <th></th>\n",
       "      <th>검색어</th>\n",
       "      <th>업태구분명</th>\n",
       "      <th>사업장명</th>\n",
       "      <th>사업장명_원본</th>\n",
       "      <th>시도</th>\n",
       "      <th>지역구</th>\n",
       "      <th>상세주소</th>\n",
       "      <th>소재지전체주소</th>\n",
       "      <th>도로명전체주소</th>\n",
       "      <th>좌표정보(x)</th>\n",
       "      <th>좌표정보(y)</th>\n",
       "      <th>검색여부</th>\n",
       "      <th>영업상태명</th>\n",
       "    </tr>\n",
       "  </thead>\n",
       "  <tbody>\n",
       "    <tr>\n",
       "      <th>0</th>\n",
       "      <td>선릉로82길 23, 브롱스</td>\n",
       "      <td>기타</td>\n",
       "      <td>브롱스</td>\n",
       "      <td>브롱스 선릉점</td>\n",
       "      <td>서울특별시</td>\n",
       "      <td>강남구</td>\n",
       "      <td>선릉로82길 23,</td>\n",
       "      <td>서울특별시 강남구 대치동 896-3</td>\n",
       "      <td>서울특별시 강남구 선릉로82길 23, 3층 (대치동, 리치빌딩)</td>\n",
       "      <td>204520.809001</td>\n",
       "      <td>444535.969338</td>\n",
       "      <td>가능</td>\n",
       "      <td>영업/정상</td>\n",
       "    </tr>\n",
       "    <tr>\n",
       "      <th>1</th>\n",
       "      <td>삼성로84길 15, 김동진장호왕곱창</td>\n",
       "      <td>한식</td>\n",
       "      <td>김동진장호왕곱창</td>\n",
       "      <td>김동진장호왕곱창</td>\n",
       "      <td>서울특별시</td>\n",
       "      <td>강남구</td>\n",
       "      <td>삼성로84길 15,</td>\n",
       "      <td>서울특별시 강남구 대치동 957-7번지</td>\n",
       "      <td>서울특별시 강남구 삼성로84길 15, 지하1층 (대치동)</td>\n",
       "      <td>205133.129847</td>\n",
       "      <td>444826.116205</td>\n",
       "      <td>가능</td>\n",
       "      <td>영업/정상</td>\n",
       "    </tr>\n",
       "    <tr>\n",
       "      <th>2</th>\n",
       "      <td>삼성로81길 23 춘하추동밀면</td>\n",
       "      <td>한식</td>\n",
       "      <td>춘하추동밀면</td>\n",
       "      <td>춘하추동밀면 대치직영점</td>\n",
       "      <td>서울특별시</td>\n",
       "      <td>강남구</td>\n",
       "      <td>삼성로81길 23</td>\n",
       "      <td>서울특별시 강남구 대치동 901-65</td>\n",
       "      <td>서울특별시 강남구 삼성로81길 23 (대치동)</td>\n",
       "      <td>204864.262676</td>\n",
       "      <td>444652.961363</td>\n",
       "      <td>가능</td>\n",
       "      <td>영업/정상</td>\n",
       "    </tr>\n",
       "  </tbody>\n",
       "</table>\n",
       "</div>"
      ],
      "text/plain": [
       "                   검색어 업태구분명      사업장명       사업장명_원본     시도  지역구        상세주소  \\\n",
       "0       선릉로82길 23, 브롱스    기타       브롱스       브롱스 선릉점  서울특별시  강남구  선릉로82길 23,   \n",
       "1  삼성로84길 15, 김동진장호왕곱창    한식  김동진장호왕곱창      김동진장호왕곱창  서울특별시  강남구  삼성로84길 15,   \n",
       "2     삼성로81길 23 춘하추동밀면    한식    춘하추동밀면  춘하추동밀면 대치직영점  서울특별시  강남구   삼성로81길 23   \n",
       "\n",
       "                 소재지전체주소                              도로명전체주소        좌표정보(x)  \\\n",
       "0    서울특별시 강남구 대치동 896-3  서울특별시 강남구 선릉로82길 23, 3층 (대치동, 리치빌딩)  204520.809001   \n",
       "1  서울특별시 강남구 대치동 957-7번지      서울특별시 강남구 삼성로84길 15, 지하1층 (대치동)  205133.129847   \n",
       "2   서울특별시 강남구 대치동 901-65            서울특별시 강남구 삼성로81길 23 (대치동)  204864.262676   \n",
       "\n",
       "         좌표정보(y) 검색여부  영업상태명  \n",
       "0  444535.969338   가능  영업/정상  \n",
       "1  444826.116205   가능  영업/정상  \n",
       "2  444652.961363   가능  영업/정상  "
      ]
     },
     "execution_count": 4,
     "metadata": {},
     "output_type": "execute_result"
    }
   ],
   "source": [
    "start_num = 0 # 할 차례, 여기를 계속 수정해주세요. \n",
    "num = 5 # 몇개씩 크롤링할지(기본은 100개를 추천합니다.)\n",
    "end_num = start_num + num\n",
    "res_df = original_df[start_num:end_num] # 맨 마지막 크롤링할떄는 end_num을 지우세요. [start_num:] <-이렇게 \n",
    "res_df = res_df.reset_index(drop=True)\n",
    "res_df.head(3)\n"
   ]
  },
  {
   "cell_type": "markdown",
   "metadata": {},
   "source": [
    "driver 세팅"
   ]
  },
  {
   "cell_type": "code",
   "execution_count": 5,
   "metadata": {},
   "outputs": [],
   "source": [
    "# webdriver_manager를 사용하여 ChromeDriver 다운로드 및 설정 \n",
    "driver = webdriver.Chrome(ChromeDriverManager().install())\n",
    "\n",
    "\n",
    "# # # webdriver_manager를 사용하여 ChromeDriver 다운로드 및 설정\n",
    "# import chromedriver_autoinstaller\n",
    "# chromedriver_autoinstaller.install()\n",
    "# driver = webdriver.Chrome()"
   ]
  },
  {
   "cell_type": "markdown",
   "metadata": {},
   "source": [
    "크롤링 시작"
   ]
  },
  {
   "cell_type": "code",
   "execution_count": 6,
   "metadata": {},
   "outputs": [
    {
     "name": "stderr",
     "output_type": "stream",
     "text": [
      "진행 중:  20%|██        | 1/5 [00:07<00:31,  7.78s/it]"
     ]
    },
    {
     "name": "stdout",
     "output_type": "stream",
     "text": [
      "에러 메시지: Message: element click intercepted: Element <iframe id=\"searchIframe\" title=\"Naver Place Search\" src=\"https://pcmap.place.naver.com/place/list?query=%EC%84%A0%EB%A6%89%EB%A1%9C82%EA%B8%B8%2023%2C%20%EB%B8%8C%EB%A1%B1%EC%8A%A4&amp;x=127.033357&amp;y=37.495484&amp;clientX=127.033357&amp;clientY=37.495484&amp;ts=1709799866867&amp;mapUrl=https%3A%2F%2Fmap.naver.com%2Fp%2Fsearch%2F%EC%84%A0%EB%A6%89%EB%A1%9C82%EA%B8%B8%2023%2C%20%EB%B8%8C%EB%A1%B1%EC%8A%A4\" cd_frame_id_=\"2efd785ace0ae37eed4acc580b0b5da6\"></iframe> is not clickable at point (140, 106). Other element would receive the click: <div class=\"sc-tge8yo dGNdJi\">...</div>\n",
      "  (Session info: chrome=122.0.6261.95)\n",
      "\n",
      "식당 이름: 선릉로82길 23, 브롱스\n",
      "식당 카테고리: 전처리필요\n",
      "주소: 전처리필요\n",
      "대표 메뉴: 메뉴없음\n",
      "가격: 가격없음\n",
      "방문자리뷰 :  0\n",
      "블로그리뷰 :  0\n",
      "-----------------------------\n"
     ]
    },
    {
     "name": "stderr",
     "output_type": "stream",
     "text": [
      "진행 중:  40%|████      | 2/5 [00:21<00:34, 11.54s/it]"
     ]
    },
    {
     "name": "stdout",
     "output_type": "stream",
     "text": [
      "식당 이름: 김동진의 장호왕곱창 대치동분점\n",
      "식당 카테고리: 곱창,막창,양\n",
      "주소: 서울 강남구 삼성로84길 15\n",
      "대표 메뉴: 묵은지 김치찌개\n",
      "가격: 7,500원\n",
      "방문자리뷰 :  80\n",
      "블로그리뷰 :  12\n",
      "-----------------------------\n"
     ]
    },
    {
     "name": "stderr",
     "output_type": "stream",
     "text": [
      "진행 중:  60%|██████    | 3/5 [00:31<00:20, 10.49s/it]"
     ]
    },
    {
     "name": "stdout",
     "output_type": "stream",
     "text": [
      "식당 이름: 춘하추동밀면 대치직영점\n",
      "식당 카테고리: 국수\n",
      "주소: 서울 강남구 삼성로81길 23 1층\n",
      "대표 메뉴: 물 밀면\n",
      "가격: 10,000원\n",
      "방문자리뷰 :  190\n",
      "블로그리뷰 :  57\n",
      "-----------------------------\n"
     ]
    },
    {
     "name": "stderr",
     "output_type": "stream",
     "text": [
      "진행 중:  80%|████████  | 4/5 [00:40<00:10, 10.04s/it]"
     ]
    },
    {
     "name": "stdout",
     "output_type": "stream",
     "text": [
      "식당 이름: 앙마꼬치\n",
      "식당 카테고리: 포장마차\n",
      "주소: 서울 강남구 선릉로131길 19\n",
      "대표 메뉴: 30cm 대왕닭꼬치 3꼬치\n",
      "가격: 14,500원\n",
      "방문자리뷰 :  36\n",
      "블로그리뷰 :  15\n",
      "-----------------------------\n"
     ]
    },
    {
     "name": "stderr",
     "output_type": "stream",
     "text": [
      "진행 중: 100%|██████████| 5/5 [00:49<00:00,  9.84s/it]"
     ]
    },
    {
     "name": "stdout",
     "output_type": "stream",
     "text": [
      "식당 이름: 커피엠스테이블 청담본점\n",
      "식당 카테고리: 카페\n",
      "주소: 서울 강남구 도산대로94길 20\n",
      "대표 메뉴: 핸드 드립 HOT\n",
      "가격: 6,500원\n",
      "방문자리뷰 :  185\n",
      "블로그리뷰 :  46\n",
      "-----------------------------\n"
     ]
    },
    {
     "name": "stderr",
     "output_type": "stream",
     "text": [
      "\n"
     ]
    }
   ],
   "source": [
    "# 가져올 정보들에 대한 리스트 지정\n",
    "# 가게명, 업태명, 주소, 주력메뉴(맨첫번째메뉴) + 가격까지, 방문자리뷰수,블로그리뷰수\n",
    "\n",
    "restaurant_name_list = []\n",
    "category_name_list = []\n",
    "address_list = []\n",
    "menu_list = []\n",
    "price_list = []\n",
    "visitor_review_list =[]\n",
    "blog_review_list =[]\n",
    "\n",
    "# 크롤링 시작합니다.\n",
    "total_iterations = len(res_df) # 크롤링 진행 과정을 파악하기 위해 tqdm 사용 \n",
    "for i in tqdm(range(total_iterations), desc='진행 중', position=0, leave=True):\n",
    "\n",
    "\n",
    "    # 검색어를 네이버 url에 포함시켜 이동 + 검색 \n",
    "        \n",
    "    name = res_df['검색어'][i]\n",
    "    driver.get('https://map.naver.com/p/search/{}'.format(name))\n",
    "\n",
    "        \n",
    "    time.sleep(3)  \n",
    "\n",
    "    ## 화면이 안넘어가고 검색결과에 머물러 있을 때는 entryIframe 이 없음\n",
    "    ## 그래서 검색어 쳤을때 entryIframe 있으면 --> 화면이 넘어갔다는 뜻이고 \n",
    "    ## 없으면 아직 안넘어간 뜻이니깐 searchIframe 에서 클릭해서 넘어가야함 .\n",
    "    try :\n",
    "        if driver.find_elements(By.ID,'entryIframe') :\n",
    "            entryIframe = driver.find_element(By.ID,'entryIframe')\n",
    "            driver.switch_to.frame(entryIframe)\n",
    "            \n",
    "            time.sleep(3) \n",
    "            \n",
    "            # 가게 이름, 변수로 지정\n",
    "            # 메뉴와 가격이 존재하는지의 여부를 고려 \n",
    "            # 매장마다 메뉴를 보여주는 테마가 2가지 존재하기 때문에 이를 고려\n",
    "\n",
    "            restaurant_name = driver.find_element(By.CLASS_NAME,'Fc1rA').text\n",
    "            category_name = driver.find_element(By.CLASS_NAME,'DJJvD').text\n",
    "            address = driver.find_element(By.CLASS_NAME,'LDgIH').text\n",
    "            if driver.find_elements(By.CLASS_NAME,'ihmWt') :\n",
    "                menu = driver.find_element(By.CLASS_NAME,'ihmWt').text\n",
    "                price = driver.find_element(By.CLASS_NAME,'mkBm3').text\n",
    "            elif driver.find_elements(By.CLASS_NAME,'VQvNX') :\n",
    "                menu = driver.find_element(By.CLASS_NAME,'VQvNX').text\n",
    "                price = driver.find_element(By.CLASS_NAME,'Yrsei').text\n",
    "            else : \n",
    "                menu = '메뉴없음'\n",
    "                price = \"가격없음\"\n",
    "            \n",
    "            # 리뷰 긁어오기 \n",
    "            # PXMot 클래스 요소들을 모두 찾음\n",
    "            # PXMot 는 리뷰의 클래스 이름인데 별점, 방문자리뷰, 블로그리뷰 총 3개가 존재\n",
    "            pxmot_elements = driver.find_elements(By.CLASS_NAME, 'PXMot')\n",
    "            \n",
    "            visitor_review = 0\n",
    "            blog_review = 0\n",
    "            # PXMot 가 존재할 때 (별점 방문자 블로그 중  뭐라도 존재)\n",
    "            if pxmot_elements:\n",
    "                for element in pxmot_elements:\n",
    "                    element_text = element.text\n",
    "                    if element_text.startswith('별점'):\n",
    "                        # 별점이 있으면 다음 요소 검사\n",
    "                        continue\n",
    "                    elif element_text.startswith('방문자리뷰'):\n",
    "                        # 방문자 리뷰가 존재하는 경우\n",
    "                        review_text = element_text.replace('방문자리뷰', '')\n",
    "                        # 쉼표(,) 제거 후 정수로 변환\n",
    "                        try : \n",
    "                            visitor_review = int(review_text.replace(',', '')) if ',' in review_text else int(review_text)\n",
    "                        except ValueError :\n",
    "                            visitor_review = 0\n",
    "                    elif element_text.startswith('블로그리뷰'):\n",
    "                        # 블로그 리뷰가 존재하는 경우\n",
    "                        review_text = element_text.replace('블로그리뷰', '')\n",
    "                        # 쉼표(,) 제거 후 정수로 변환\n",
    "                        try :\n",
    "                            blog_review = int(review_text.replace(',', '')) if ',' in review_text else int(review_text)\n",
    "                        except ValueError :\n",
    "                            blog_review = 0\n",
    "            # PXMot 가 없을 때(별점 방문자 블로그 중  뭐라도 존재x)\n",
    "            else  : \n",
    "                visitor_review = 0\n",
    "                blog_review = 0      \n",
    "        else: \n",
    "            # searchIframe 프레임 \n",
    "            # searchIframe 프레임으로 가야하는 경우는 검색했을 때 결과가 바로 안나오고 식당리스트가 먼저나오는 경우\n",
    "            # 그래서 searchIFrame에서 첫번쨰 식당을 선택하고 그다음에 entryIFrame으로 들어가야함\n",
    "            searchIframe = driver.find_element(By.ID,'searchIframe')\n",
    "            driver.switch_to.frame(searchIframe)\n",
    "\n",
    "\n",
    "            ## 클릭 \n",
    "            driver.find_element(By.CLASS_NAME,'YwYLL').click()\n",
    "            \n",
    "            # 기본프레임 \n",
    "            time.sleep(1)\n",
    "            driver.switch_to.default_content()\n",
    "        \n",
    "\n",
    "            # entryIframe 프레임 \n",
    "            entryIframe = driver.find_element(By.ID,'entryIframe')\n",
    "            driver.switch_to.frame(entryIframe)\n",
    "\n",
    "            time.sleep(3) \n",
    "            # 가게 이름, 변수로 지정\n",
    "            restaurant_name = driver.find_element(By.CLASS_NAME,'Fc1rA').text\n",
    "            category_name = driver.find_element(By.CLASS_NAME,'DJJvD').text\n",
    "            address = driver.find_element(By.CLASS_NAME,'LDgIH').text\n",
    "\n",
    "            # 메뉴와 가격이 존재하는지의 여부를 고려 \n",
    "            # 매장마다 메뉴를 보여주는 테마가 2가지 존재하기 때문에 이를 고려\n",
    "\n",
    "            if driver.find_elements(By.CLASS_NAME,'ihmWt') :\n",
    "                menu = driver.find_element(By.CLASS_NAME,'ihmWt').text\n",
    "                price = driver.find_element(By.CLASS_NAME,'mkBm3').text\n",
    "            elif driver.find_elements(By.CLASS_NAME,'VQvNX') :\n",
    "                menu = driver.find_element(By.CLASS_NAME,'VQvNX').text\n",
    "                price = driver.find_element(By.CLASS_NAME,'Yrsei').text\n",
    "            else : \n",
    "                menu = '메뉴없음'\n",
    "                price = \"가격없음\"\n",
    "\n",
    "            # 리뷰 수 긁어오기\n",
    "            # PXMot 클래스 요소들을 모두 찾음\n",
    "            # PXMot 는 리뷰의 클래스 이름인데 별점, 방문자리뷰, 블로그리뷰 총 3개가 존재\n",
    "            pxmot_elements = driver.find_elements(By.CLASS_NAME, 'PXMot')\n",
    "        \n",
    "            # PXMot 가 존재할 때 (별점 방문자 블로그 중  뭐라도 존재)\n",
    "            if pxmot_elements:\n",
    "                for element in pxmot_elements:\n",
    "                    element_text = element.text\n",
    "                    if element_text.startswith('별점'):\n",
    "                        # 별점이 있으면 다음 요소 검사\n",
    "                        continue\n",
    "                    elif element_text.startswith('방문자리뷰'):\n",
    "                        # 방문자 리뷰가 존재하는 경우\n",
    "                        review_text = element_text.replace('방문자리뷰', '')\n",
    "                        # 쉼표(,) 제거 후 정수로 변환\n",
    "                        try : \n",
    "                            visitor_review = int(review_text.replace(',', '')) if ',' in review_text else int(review_text)\n",
    "                        except ValueError :\n",
    "                            visitor_review = 0\n",
    "                    elif element_text.startswith('블로그리뷰'):\n",
    "                        # 블로그 리뷰가 존재하는 경우\n",
    "                        review_text = element_text.replace('블로그리뷰', '').strip()\n",
    "                        # 쉼표(,) 제거 후 정수로 변환\n",
    "                        try :\n",
    "                            blog_review = int(review_text.replace(',', '')) if ',' in review_text else int(review_text)\n",
    "                        except ValueError :\n",
    "                            blog_review = 0\n",
    "            # PXMot 가 없을 때(별점 방문자 블로그 중  뭐라도 존재x)\n",
    "            else  : \n",
    "                visitor_review = 0\n",
    "                blog_review = 0        \n",
    "    ## 예외처리 : vscode 상태가 안좋아서 그냥 검색이 안된경우 이거나 진짜 없는 식당일 때.\n",
    "    except Exception as e : \n",
    "        restaurant_name = name \n",
    "        category_name = '전처리필요'\n",
    "        address = '전처리필요'\n",
    "        menu = '메뉴없음'\n",
    "        price = \"가격없음\"\n",
    "        visitor_review = 0\n",
    "        blog_review = 0\n",
    "\n",
    "        print(f\"에러 메시지: {str(e)}\")\n",
    "\n",
    "\n",
    "    ## 리스트에 추가\n",
    "    restaurant_name_list.append(restaurant_name)\n",
    "    category_name_list.append(category_name)\n",
    "    address_list.append(address)\n",
    "    menu_list.append(menu)\n",
    "    price_list.append(price)\n",
    "    visitor_review_list.append(visitor_review)\n",
    "    blog_review_list.append(blog_review)\n",
    "\n",
    "    \n",
    "    print('식당 이름:',restaurant_name)\n",
    "    print('식당 카테고리:',category_name)\n",
    "    print('주소:',address)\n",
    "    print('대표 메뉴:',menu)\n",
    "    print('가격:',price)\n",
    "    print('방문자리뷰 : ',visitor_review)\n",
    "    print('블로그리뷰 : ',blog_review)\n",
    "    print('-----------------------------')\n",
    "res_info_df = pd.DataFrame({'식당이름':restaurant_name_list ,\n",
    "                             '업태구분' :category_name_list ,\n",
    "                             '주소' :address_list ,\n",
    "                             '메뉴': menu_list,\n",
    "                             '가격':price_list,\n",
    "                             '방문자리뷰':visitor_review_list,\n",
    "                             '블로그리뷰':blog_review_list,\n",
    "                             })\n",
    "\n",
    "\n",
    "## 결과 데이터에 검색어 칼럼 추가\n",
    "## 추후에 인덱스로 쓸 예정이기 떄문\n",
    "\n",
    "res_info_df['검색어'] = res_df['검색어']\n",
    "res_info_df.to_excel(f'./data/restaurant_info_data(2)/restaurant_info_data/restaurant_tag_df_{이름}_{start_num}_{end_num}.xlsx', index=False)\n",
    "    "
   ]
  },
  {
   "cell_type": "markdown",
   "metadata": {},
   "source": []
  },
  {
   "cell_type": "markdown",
   "metadata": {},
   "source": []
  },
  {
   "cell_type": "markdown",
   "metadata": {},
   "source": []
  },
  {
   "cell_type": "markdown",
   "metadata": {},
   "source": [
    "만약에 에러나면 에러난 식당의 리뷰가 그 전 식당의 리뷰수를 따라가더라 "
   ]
  },
  {
   "cell_type": "code",
   "execution_count": 7,
   "metadata": {},
   "outputs": [],
   "source": [
    "# ## 잘 긁어왔나 확인합니다\n",
    "\n",
    "# res_info_df.head()"
   ]
  },
  {
   "cell_type": "code",
   "execution_count": 8,
   "metadata": {},
   "outputs": [],
   "source": [
    "# ## 엑셀파일에 잘 저장합니다\n",
    "\n",
    "# res_info_df.to_excel('매장정보.xlsx')\n"
   ]
  },
  {
   "cell_type": "markdown",
   "metadata": {},
   "source": [
    "# --------------------------------------------------------------------------------------\n",
    "\n",
    "# 여기서부턴 파일 옮겨서 돌려야 할 듯 합니다\n",
    "\n",
    "# 업태가 뭐있는지 몰라서입니다  + 리뷰도 다른 파일에서 취합하는ㄱ네 맞는듯 싶습니다 \n"
   ]
  },
  {
   "cell_type": "code",
   "execution_count": 9,
   "metadata": {},
   "outputs": [],
   "source": [
    "# res_info_df['업태구분'].unique()"
   ]
  },
  {
   "cell_type": "code",
   "execution_count": 10,
   "metadata": {},
   "outputs": [],
   "source": [
    "# # 필요없는 카테고리(카페, 술, 출장요리 등등) 제거\n",
    "# 제외 = ['바나프레소','이자카야','바(BAR)','카페,디저트','요리주점','장소대여','카페','PC','예식장']\n",
    "# for i in 제외 :\n",
    "#     res_info_df = res_info_df.drop(res_info_df[res_info_df['업태구분'] == i].index)\n",
    "\n",
    "# len(res_info_df)"
   ]
  },
  {
   "cell_type": "code",
   "execution_count": 11,
   "metadata": {},
   "outputs": [],
   "source": [
    "# res_info_df"
   ]
  },
  {
   "cell_type": "code",
   "execution_count": 12,
   "metadata": {},
   "outputs": [],
   "source": [
    "# ## 한식 하나 더 만들어서 정렬되는지 확인하려고 만들었음 \n",
    "\n",
    "# res_info_df.loc[df_test_result['업태구분']=='한식뷔페','업태구분' ] = '한식'"
   ]
  },
  {
   "cell_type": "code",
   "execution_count": 13,
   "metadata": {},
   "outputs": [],
   "source": [
    "# res_df_groupby = res_info_df.groupby('업태구분').apply(lambda x : x.sort_values(by='리뷰',ascending=False))\n"
   ]
  },
  {
   "cell_type": "code",
   "execution_count": 14,
   "metadata": {},
   "outputs": [],
   "source": [
    "# res_df_groupby"
   ]
  },
  {
   "cell_type": "code",
   "execution_count": 15,
   "metadata": {},
   "outputs": [],
   "source": [
    "\n",
    "# # 예제 데이터프레임 생성\n",
    "# test = pd.DataFrame({\n",
    "#     '업태구분': ['식당', '식당', '카페', '카페', '호텔', '호텔'],\n",
    "#     '리뷰': [5, 4, 3, 2, 1, 6]\n",
    "# })\n",
    "\n",
    "# # 상위 n개를 뽑는 함수 정의\n",
    "# def top_n(group, n=2):\n",
    "#     return group.head(n)\n",
    "\n",
    "# # '업태구분' 칼럼을 기준으로 그룹화하고, 각 그룹별로 정렬한 후 상위 2개의 데이터를 뽑아 새로운 데이터프레임으로 생성\n",
    "# test_groupby = test.groupby('업태구분', group_keys=False).apply(lambda x: x.sort_values(by='리뷰', ascending=False)).groupby('업태구분').apply(top_n, n=2)\n",
    "\n",
    "# print(test_groupby)"
   ]
  },
  {
   "cell_type": "code",
   "execution_count": 16,
   "metadata": {},
   "outputs": [],
   "source": [
    "# res_df_groupby"
   ]
  },
  {
   "cell_type": "code",
   "execution_count": 17,
   "metadata": {},
   "outputs": [],
   "source": [
    "# res_df_groupby.to_csv('매장_업태별_결과.csv')"
   ]
  }
 ],
 "metadata": {
  "kernelspec": {
   "display_name": "Python 3",
   "language": "python",
   "name": "python3"
  },
  "language_info": {
   "codemirror_mode": {
    "name": "ipython",
    "version": 3
   },
   "file_extension": ".py",
   "mimetype": "text/x-python",
   "name": "python",
   "nbconvert_exporter": "python",
   "pygments_lexer": "ipython3",
   "version": "3.10.5"
  }
 },
 "nbformat": 4,
 "nbformat_minor": 2
}
