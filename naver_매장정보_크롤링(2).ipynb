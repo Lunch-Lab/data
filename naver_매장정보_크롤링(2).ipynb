{
 "cells": [
  {
   "cell_type": "markdown",
   "metadata": {},
   "source": [
    "# 네이버 매장정보 크롤링\n",
    "\n",
    "### naver_매장존재확인_크롤링에서 만든 파일을 사용합니다"
   ]
  },
  {
   "cell_type": "code",
   "execution_count": 1,
   "metadata": {},
   "outputs": [],
   "source": [
    "# 웹 드라이버 설정\n",
    "from selenium import webdriver  \n",
    "from webdriver_manager.chrome import ChromeDriverManager \n",
    "\n",
    "# 대기 관련 라이브러리\n",
    "from selenium.webdriver.support.ui import WebDriverWait \n",
    "from selenium.webdriver.support import expected_conditions as EC \n",
    "\n",
    "# 웹 요소 찾기 관련 라이브러리\n",
    "from selenium.webdriver.common.by import By  \n",
    "from selenium.webdriver.support.ui import Select  \n",
    "from selenium.webdriver.common.keys import Keys  \n",
    "import chromedriver_autoinstaller\n",
    "\n",
    "\n",
    "# 그 외 \n",
    "import time \n",
    "import warnings\n",
    "warnings.filterwarnings('ignore')\n",
    "from bs4 import BeautifulSoup \n",
    "import numpy as np  \n",
    "import pandas as pd \n",
    "from tqdm import tqdm  "
   ]
  },
  {
   "cell_type": "markdown",
   "metadata": {},
   "source": [
    "데이터 가져오기"
   ]
  },
  {
   "cell_type": "code",
   "execution_count": 2,
   "metadata": {},
   "outputs": [
    {
     "data": {
      "text/html": [
       "<div>\n",
       "<style scoped>\n",
       "    .dataframe tbody tr th:only-of-type {\n",
       "        vertical-align: middle;\n",
       "    }\n",
       "\n",
       "    .dataframe tbody tr th {\n",
       "        vertical-align: top;\n",
       "    }\n",
       "\n",
       "    .dataframe thead th {\n",
       "        text-align: right;\n",
       "    }\n",
       "</style>\n",
       "<table border=\"1\" class=\"dataframe\">\n",
       "  <thead>\n",
       "    <tr style=\"text-align: right;\">\n",
       "      <th></th>\n",
       "      <th>검색어</th>\n",
       "      <th>업태구분명</th>\n",
       "      <th>사업장명</th>\n",
       "      <th>사업장명_원본</th>\n",
       "      <th>시도</th>\n",
       "      <th>지역구</th>\n",
       "      <th>상세주소</th>\n",
       "      <th>소재지전체주소</th>\n",
       "      <th>도로명전체주소</th>\n",
       "      <th>좌표정보(x)</th>\n",
       "      <th>좌표정보(y)</th>\n",
       "      <th>검색여부</th>\n",
       "      <th>영업상태명</th>\n",
       "    </tr>\n",
       "  </thead>\n",
       "  <tbody>\n",
       "    <tr>\n",
       "      <th>8291</th>\n",
       "      <td>도곡로 401, 간코</td>\n",
       "      <td>일식</td>\n",
       "      <td>간코</td>\n",
       "      <td>간코 롯데백화점강남점</td>\n",
       "      <td>서울특별시</td>\n",
       "      <td>강남구</td>\n",
       "      <td>도곡로 401,</td>\n",
       "      <td>서울특별시 강남구 대치동 937 롯데백화점</td>\n",
       "      <td>서울특별시 강남구 도곡로 401, 롯데백화점 지하1층 (대치동)</td>\n",
       "      <td>204669.543367</td>\n",
       "      <td>443873.621189</td>\n",
       "      <td>가능</td>\n",
       "      <td>영업/정상</td>\n",
       "    </tr>\n",
       "    <tr>\n",
       "      <th>8292</th>\n",
       "      <td>압구정로 108, 오토김밥</td>\n",
       "      <td>분식</td>\n",
       "      <td>오토김밥</td>\n",
       "      <td>오토김밥 신사점</td>\n",
       "      <td>서울특별시</td>\n",
       "      <td>강남구</td>\n",
       "      <td>압구정로 108,</td>\n",
       "      <td>서울특별시 강남구 신사동 528-3 덕산빌딩</td>\n",
       "      <td>서울특별시 강남구 압구정로 108, 덕산빌딩 지상1층 10호 (신사동)</td>\n",
       "      <td>201749.456414</td>\n",
       "      <td>446742.828124</td>\n",
       "      <td>가능</td>\n",
       "      <td>영업/정상</td>\n",
       "    </tr>\n",
       "    <tr>\n",
       "      <th>8293</th>\n",
       "      <td>압구정로42길 36, 마들마들</td>\n",
       "      <td>한식</td>\n",
       "      <td>마들마들</td>\n",
       "      <td>마들마들</td>\n",
       "      <td>서울특별시</td>\n",
       "      <td>강남구</td>\n",
       "      <td>압구정로42길 36,</td>\n",
       "      <td>서울특별시 강남구 신사동 635-14 금광아크존1</td>\n",
       "      <td>서울특별시 강남구 압구정로42길 36, 지상1층 101호 (신사동, 금광아크존1)</td>\n",
       "      <td>202990.870783</td>\n",
       "      <td>447146.555568</td>\n",
       "      <td>가능</td>\n",
       "      <td>영업/정상</td>\n",
       "    </tr>\n",
       "    <tr>\n",
       "      <th>8294</th>\n",
       "      <td>언주로151길 21, 세바</td>\n",
       "      <td>경양식</td>\n",
       "      <td>세바</td>\n",
       "      <td>세바(Sevva)</td>\n",
       "      <td>서울특별시</td>\n",
       "      <td>강남구</td>\n",
       "      <td>언주로151길 21,</td>\n",
       "      <td>서울특별시 강남구 신사동 629-1</td>\n",
       "      <td>서울특별시 강남구 언주로151길 21, 지상1층 (신사동)</td>\n",
       "      <td>202731.421127</td>\n",
       "      <td>446609.460134</td>\n",
       "      <td>가능</td>\n",
       "      <td>영업/정상</td>\n",
       "    </tr>\n",
       "    <tr>\n",
       "      <th>8295</th>\n",
       "      <td>논현로161길 37, 구구구</td>\n",
       "      <td>경양식</td>\n",
       "      <td>구구구</td>\n",
       "      <td>구구구 (GOOGOOGOO)</td>\n",
       "      <td>서울특별시</td>\n",
       "      <td>강남구</td>\n",
       "      <td>논현로161길 37,</td>\n",
       "      <td>서울특별시 강남구 신사동 552-5</td>\n",
       "      <td>서울특별시 강남구 논현로161길 37, 동쪽 지상1층 (신사동)</td>\n",
       "      <td>202153.410454</td>\n",
       "      <td>446748.562578</td>\n",
       "      <td>가능</td>\n",
       "      <td>영업/정상</td>\n",
       "    </tr>\n",
       "  </tbody>\n",
       "</table>\n",
       "</div>"
      ],
      "text/plain": [
       "                   검색어 업태구분명  사업장명          사업장명_원본     시도  지역구         상세주소  \\\n",
       "8291       도곡로 401, 간코    일식    간코      간코 롯데백화점강남점  서울특별시  강남구     도곡로 401,   \n",
       "8292    압구정로 108, 오토김밥    분식  오토김밥         오토김밥 신사점  서울특별시  강남구    압구정로 108,   \n",
       "8293  압구정로42길 36, 마들마들    한식  마들마들             마들마들  서울특별시  강남구  압구정로42길 36,   \n",
       "8294    언주로151길 21, 세바   경양식    세바        세바(Sevva)  서울특별시  강남구  언주로151길 21,   \n",
       "8295  논현로161길 37, 구구구    경양식  구구구   구구구 (GOOGOOGOO)  서울특별시  강남구  논현로161길 37,   \n",
       "\n",
       "                          소재지전체주소  \\\n",
       "8291      서울특별시 강남구 대치동 937 롯데백화점   \n",
       "8292     서울특별시 강남구 신사동 528-3 덕산빌딩   \n",
       "8293  서울특별시 강남구 신사동 635-14 금광아크존1   \n",
       "8294          서울특별시 강남구 신사동 629-1   \n",
       "8295          서울특별시 강남구 신사동 552-5   \n",
       "\n",
       "                                            도로명전체주소        좌표정보(x)  \\\n",
       "8291            서울특별시 강남구 도곡로 401, 롯데백화점 지하1층 (대치동)  204669.543367   \n",
       "8292        서울특별시 강남구 압구정로 108, 덕산빌딩 지상1층 10호 (신사동)  201749.456414   \n",
       "8293  서울특별시 강남구 압구정로42길 36, 지상1층 101호 (신사동, 금광아크존1)  202990.870783   \n",
       "8294               서울특별시 강남구 언주로151길 21, 지상1층 (신사동)  202731.421127   \n",
       "8295            서울특별시 강남구 논현로161길 37, 동쪽 지상1층 (신사동)  202153.410454   \n",
       "\n",
       "            좌표정보(y) 검색여부  영업상태명  \n",
       "8291  443873.621189   가능  영업/정상  \n",
       "8292  446742.828124   가능  영업/정상  \n",
       "8293  447146.555568   가능  영업/정상  \n",
       "8294  446609.460134   가능  영업/정상  \n",
       "8295  446748.562578   가능  영업/정상  "
      ]
     },
     "execution_count": 2,
     "metadata": {},
     "output_type": "execute_result"
    }
   ],
   "source": [
    "# 데이터 불러오기\n",
    "original_res_df = pd.read_excel('combined_file.xlsx')\n",
    "res_df = original_res_df.copy()\n",
    "res_df = res_df.loc[res_df['검색여부'] == '가능'].reset_index(drop=True)\n",
    "res_df.drop('Unnamed: 0', axis=1, inplace=True)\n",
    "\n",
    "\n",
    "# 컬럼 순서 바꾸기 -> 보기 좋으라고 바꿈\n",
    "res_df['검색어'] = res_df['상세주소'] + \" \" + res_df['사업장명']\n",
    "column_order = ['검색어', '업태구분명', '사업장명', '사업장명_원본', '시도', '지역구', '상세주소', '소재지전체주소', '도로명전체주소', '좌표정보(x)', '좌표정보(y)', '검색여부', '영업상태명']\n",
    "res_df = res_df[column_order]\n",
    "res_df.tail()"
   ]
  },
  {
   "cell_type": "code",
   "execution_count": 3,
   "metadata": {},
   "outputs": [
    {
     "data": {
      "text/html": [
       "<div>\n",
       "<style scoped>\n",
       "    .dataframe tbody tr th:only-of-type {\n",
       "        vertical-align: middle;\n",
       "    }\n",
       "\n",
       "    .dataframe tbody tr th {\n",
       "        vertical-align: top;\n",
       "    }\n",
       "\n",
       "    .dataframe thead th {\n",
       "        text-align: right;\n",
       "    }\n",
       "</style>\n",
       "<table border=\"1\" class=\"dataframe\">\n",
       "  <thead>\n",
       "    <tr style=\"text-align: right;\">\n",
       "      <th></th>\n",
       "      <th>검색어</th>\n",
       "      <th>업태구분명</th>\n",
       "      <th>사업장명</th>\n",
       "      <th>사업장명_원본</th>\n",
       "      <th>시도</th>\n",
       "      <th>지역구</th>\n",
       "      <th>상세주소</th>\n",
       "      <th>소재지전체주소</th>\n",
       "      <th>도로명전체주소</th>\n",
       "      <th>좌표정보(x)</th>\n",
       "      <th>좌표정보(y)</th>\n",
       "      <th>검색여부</th>\n",
       "      <th>영업상태명</th>\n",
       "      <th>데이터기준일</th>\n",
       "      <th>담당자</th>\n",
       "    </tr>\n",
       "  </thead>\n",
       "  <tbody>\n",
       "    <tr>\n",
       "      <th>0</th>\n",
       "      <td>선릉로82길 23, 브롱스</td>\n",
       "      <td>기타</td>\n",
       "      <td>브롱스</td>\n",
       "      <td>브롱스 선릉점</td>\n",
       "      <td>서울특별시</td>\n",
       "      <td>강남구</td>\n",
       "      <td>선릉로82길 23,</td>\n",
       "      <td>서울특별시 강남구 대치동 896-3</td>\n",
       "      <td>서울특별시 강남구 선릉로82길 23, 3층 (대치동, 리치빌딩)</td>\n",
       "      <td>204520.809001</td>\n",
       "      <td>444535.969338</td>\n",
       "      <td>가능</td>\n",
       "      <td>영업/정상</td>\n",
       "      <td>2024-02-01</td>\n",
       "      <td>해민</td>\n",
       "    </tr>\n",
       "    <tr>\n",
       "      <th>1</th>\n",
       "      <td>삼성로84길 15, 김동진장호왕곱창</td>\n",
       "      <td>한식</td>\n",
       "      <td>김동진장호왕곱창</td>\n",
       "      <td>김동진장호왕곱창</td>\n",
       "      <td>서울특별시</td>\n",
       "      <td>강남구</td>\n",
       "      <td>삼성로84길 15,</td>\n",
       "      <td>서울특별시 강남구 대치동 957-7번지</td>\n",
       "      <td>서울특별시 강남구 삼성로84길 15, 지하1층 (대치동)</td>\n",
       "      <td>205133.129847</td>\n",
       "      <td>444826.116205</td>\n",
       "      <td>가능</td>\n",
       "      <td>영업/정상</td>\n",
       "      <td>2024-02-01</td>\n",
       "      <td>해민</td>\n",
       "    </tr>\n",
       "    <tr>\n",
       "      <th>2</th>\n",
       "      <td>삼성로81길 23 춘하추동밀면</td>\n",
       "      <td>한식</td>\n",
       "      <td>춘하추동밀면</td>\n",
       "      <td>춘하추동밀면 대치직영점</td>\n",
       "      <td>서울특별시</td>\n",
       "      <td>강남구</td>\n",
       "      <td>삼성로81길 23</td>\n",
       "      <td>서울특별시 강남구 대치동 901-65</td>\n",
       "      <td>서울특별시 강남구 삼성로81길 23 (대치동)</td>\n",
       "      <td>204864.262676</td>\n",
       "      <td>444652.961363</td>\n",
       "      <td>가능</td>\n",
       "      <td>영업/정상</td>\n",
       "      <td>2024-02-01</td>\n",
       "      <td>해민</td>\n",
       "    </tr>\n",
       "    <tr>\n",
       "      <th>3</th>\n",
       "      <td>선릉로131길 19, 앙마꼬치</td>\n",
       "      <td>기타</td>\n",
       "      <td>앙마꼬치</td>\n",
       "      <td>앙마꼬치</td>\n",
       "      <td>서울특별시</td>\n",
       "      <td>강남구</td>\n",
       "      <td>선릉로131길 19,</td>\n",
       "      <td>서울특별시 강남구 논현동 118-2</td>\n",
       "      <td>서울특별시 강남구 선릉로131길 19, 지하1층 (논현동)</td>\n",
       "      <td>203407.179297</td>\n",
       "      <td>446115.386972</td>\n",
       "      <td>가능</td>\n",
       "      <td>영업/정상</td>\n",
       "      <td>2024-02-01</td>\n",
       "      <td>해민</td>\n",
       "    </tr>\n",
       "    <tr>\n",
       "      <th>4</th>\n",
       "      <td>도산대로94길 20, 커피엠스테이블</td>\n",
       "      <td>기타</td>\n",
       "      <td>커피엠스테이블</td>\n",
       "      <td>커피엠스테이블(COFFEE M STABLE)</td>\n",
       "      <td>서울특별시</td>\n",
       "      <td>강남구</td>\n",
       "      <td>도산대로94길 20,</td>\n",
       "      <td>서울특별시 강남구 청담동 57-2번지</td>\n",
       "      <td>서울특별시 강남구 도산대로94길 20, 지상1층 (청담동)</td>\n",
       "      <td>204493.269617</td>\n",
       "      <td>446843.324331</td>\n",
       "      <td>가능</td>\n",
       "      <td>영업/정상</td>\n",
       "      <td>2024-02-01</td>\n",
       "      <td>해민</td>\n",
       "    </tr>\n",
       "  </tbody>\n",
       "</table>\n",
       "</div>"
      ],
      "text/plain": [
       "                   검색어 업태구분명      사업장명                   사업장명_원본     시도  지역구  \\\n",
       "0       선릉로82길 23, 브롱스    기타       브롱스                   브롱스 선릉점  서울특별시  강남구   \n",
       "1  삼성로84길 15, 김동진장호왕곱창    한식  김동진장호왕곱창                  김동진장호왕곱창  서울특별시  강남구   \n",
       "2     삼성로81길 23 춘하추동밀면    한식    춘하추동밀면              춘하추동밀면 대치직영점  서울특별시  강남구   \n",
       "3     선릉로131길 19, 앙마꼬치    기타      앙마꼬치                      앙마꼬치  서울특별시  강남구   \n",
       "4  도산대로94길 20, 커피엠스테이블    기타   커피엠스테이블  커피엠스테이블(COFFEE M STABLE)  서울특별시  강남구   \n",
       "\n",
       "          상세주소                소재지전체주소                              도로명전체주소  \\\n",
       "0   선릉로82길 23,    서울특별시 강남구 대치동 896-3  서울특별시 강남구 선릉로82길 23, 3층 (대치동, 리치빌딩)   \n",
       "1   삼성로84길 15,  서울특별시 강남구 대치동 957-7번지      서울특별시 강남구 삼성로84길 15, 지하1층 (대치동)   \n",
       "2    삼성로81길 23   서울특별시 강남구 대치동 901-65            서울특별시 강남구 삼성로81길 23 (대치동)   \n",
       "3  선릉로131길 19,    서울특별시 강남구 논현동 118-2     서울특별시 강남구 선릉로131길 19, 지하1층 (논현동)   \n",
       "4  도산대로94길 20,   서울특별시 강남구 청담동 57-2번지     서울특별시 강남구 도산대로94길 20, 지상1층 (청담동)   \n",
       "\n",
       "         좌표정보(x)        좌표정보(y) 검색여부  영업상태명      데이터기준일 담당자  \n",
       "0  204520.809001  444535.969338   가능  영업/정상  2024-02-01  해민  \n",
       "1  205133.129847  444826.116205   가능  영업/정상  2024-02-01  해민  \n",
       "2  204864.262676  444652.961363   가능  영업/정상  2024-02-01  해민  \n",
       "3  203407.179297  446115.386972   가능  영업/정상  2024-02-01  해민  \n",
       "4  204493.269617  446843.324331   가능  영업/정상  2024-02-01  해민  "
      ]
     },
     "execution_count": 3,
     "metadata": {},
     "output_type": "execute_result"
    }
   ],
   "source": [
    "이름 = '해민' # 본인 이름을 입력하세요\n",
    "\n",
    "# 데이터 불러오기\n",
    "original_res_df = pd.read_excel(f'data/restaurant_info_data(2)/{이름}.xlsx')\n",
    "original_df = original_res_df.copy()\n",
    "original_df.head()"
   ]
  },
  {
   "cell_type": "markdown",
   "metadata": {},
   "source": [
    "한번에 몇개씩 크롤링할지 결정"
   ]
  },
  {
   "cell_type": "code",
   "execution_count": null,
   "metadata": {},
   "outputs": [],
   "source": []
  },
  {
   "cell_type": "code",
   "execution_count": 4,
   "metadata": {},
   "outputs": [
    {
     "data": {
      "text/html": [
       "<div>\n",
       "<style scoped>\n",
       "    .dataframe tbody tr th:only-of-type {\n",
       "        vertical-align: middle;\n",
       "    }\n",
       "\n",
       "    .dataframe tbody tr th {\n",
       "        vertical-align: top;\n",
       "    }\n",
       "\n",
       "    .dataframe thead th {\n",
       "        text-align: right;\n",
       "    }\n",
       "</style>\n",
       "<table border=\"1\" class=\"dataframe\">\n",
       "  <thead>\n",
       "    <tr style=\"text-align: right;\">\n",
       "      <th></th>\n",
       "      <th>검색어</th>\n",
       "      <th>업태구분명</th>\n",
       "      <th>사업장명</th>\n",
       "      <th>사업장명_원본</th>\n",
       "      <th>시도</th>\n",
       "      <th>지역구</th>\n",
       "      <th>상세주소</th>\n",
       "      <th>소재지전체주소</th>\n",
       "      <th>도로명전체주소</th>\n",
       "      <th>좌표정보(x)</th>\n",
       "      <th>좌표정보(y)</th>\n",
       "      <th>검색여부</th>\n",
       "      <th>영업상태명</th>\n",
       "      <th>데이터기준일</th>\n",
       "      <th>담당자</th>\n",
       "    </tr>\n",
       "  </thead>\n",
       "  <tbody>\n",
       "    <tr>\n",
       "      <th>0</th>\n",
       "      <td>일원로9길 6 치어스</td>\n",
       "      <td>일식</td>\n",
       "      <td>치어스</td>\n",
       "      <td>치어스</td>\n",
       "      <td>서울특별시</td>\n",
       "      <td>강남구</td>\n",
       "      <td>일원로9길 6</td>\n",
       "      <td>서울특별시 강남구 일원동 687-1</td>\n",
       "      <td>서울특별시 강남구 일원로9길 6 (일원동)</td>\n",
       "      <td>207182.470517</td>\n",
       "      <td>443019.043050</td>\n",
       "      <td>가능</td>\n",
       "      <td>영업/정상</td>\n",
       "      <td>2024-02-01</td>\n",
       "      <td>해민</td>\n",
       "    </tr>\n",
       "    <tr>\n",
       "      <th>1</th>\n",
       "      <td>언주로150길 50 청사포산꼼장어</td>\n",
       "      <td>경양식</td>\n",
       "      <td>청사포산꼼장어</td>\n",
       "      <td>청사포산꼼장어</td>\n",
       "      <td>서울특별시</td>\n",
       "      <td>강남구</td>\n",
       "      <td>언주로150길 50</td>\n",
       "      <td>서울특별시 강남구 논현동 95-7번지</td>\n",
       "      <td>서울특별시 강남구 언주로150길 50 (논현동)</td>\n",
       "      <td>203312.954546</td>\n",
       "      <td>446638.270970</td>\n",
       "      <td>가능</td>\n",
       "      <td>영업/정상</td>\n",
       "      <td>2024-02-01</td>\n",
       "      <td>해민</td>\n",
       "    </tr>\n",
       "    <tr>\n",
       "      <th>2</th>\n",
       "      <td>압구정로 152, 비엔나커피하우스</td>\n",
       "      <td>기타</td>\n",
       "      <td>비엔나커피하우스</td>\n",
       "      <td>비엔나커피하우스 압구정극동타워점</td>\n",
       "      <td>서울특별시</td>\n",
       "      <td>강남구</td>\n",
       "      <td>압구정로 152,</td>\n",
       "      <td>서울특별시 강남구 신사동 575번지</td>\n",
       "      <td>서울특별시 강남구 압구정로 152, 1층 110, 111, 112, 113, 114...</td>\n",
       "      <td>202231.679116</td>\n",
       "      <td>447037.821825</td>\n",
       "      <td>가능</td>\n",
       "      <td>영업/정상</td>\n",
       "      <td>2024-02-01</td>\n",
       "      <td>해민</td>\n",
       "    </tr>\n",
       "  </tbody>\n",
       "</table>\n",
       "</div>"
      ],
      "text/plain": [
       "                  검색어 업태구분명      사업장명            사업장명_원본     시도  지역구  \\\n",
       "0         일원로9길 6 치어스    일식       치어스                치어스  서울특별시  강남구   \n",
       "1  언주로150길 50 청사포산꼼장어   경양식   청사포산꼼장어            청사포산꼼장어  서울특별시  강남구   \n",
       "2  압구정로 152, 비엔나커피하우스    기타  비엔나커피하우스  비엔나커피하우스 압구정극동타워점  서울특별시  강남구   \n",
       "\n",
       "         상세주소               소재지전체주소  \\\n",
       "0     일원로9길 6   서울특별시 강남구 일원동 687-1   \n",
       "1  언주로150길 50  서울특별시 강남구 논현동 95-7번지   \n",
       "2   압구정로 152,   서울특별시 강남구 신사동 575번지   \n",
       "\n",
       "                                             도로명전체주소        좌표정보(x)  \\\n",
       "0                            서울특별시 강남구 일원로9길 6 (일원동)  207182.470517   \n",
       "1                         서울특별시 강남구 언주로150길 50 (논현동)  203312.954546   \n",
       "2  서울특별시 강남구 압구정로 152, 1층 110, 111, 112, 113, 114...  202231.679116   \n",
       "\n",
       "         좌표정보(y) 검색여부  영업상태명      데이터기준일 담당자  \n",
       "0  443019.043050   가능  영업/정상  2024-02-01  해민  \n",
       "1  446638.270970   가능  영업/정상  2024-02-01  해민  \n",
       "2  447037.821825   가능  영업/정상  2024-02-01  해민  "
      ]
     },
     "execution_count": 4,
     "metadata": {},
     "output_type": "execute_result"
    }
   ],
   "source": [
    "start_num = 2000 # 할 차례, 여기를 계속 수정해주세요. \n",
    "num = 100  # 몇개씩 크롤링할지(기본은 100개를 추천합니다. -> 16분)\n",
    "end_num = start_num + num\n",
    "res_df = original_df[start_num:] # 맨 마지막 크롤링할떄는 end_num을 지우세요. [start_num:] <-이렇게 \n",
    "res_df = res_df.reset_index(drop=True)\n",
    "res_df.head(3)"
   ]
  },
  {
   "cell_type": "markdown",
   "metadata": {},
   "source": [
    "driver 세팅"
   ]
  },
  {
   "cell_type": "code",
   "execution_count": 5,
   "metadata": {},
   "outputs": [
    {
     "name": "stderr",
     "output_type": "stream",
     "text": [
      "WARNING:root:Can not find chromedriver for currently installed chrome version.\n"
     ]
    }
   ],
   "source": [
    "# # # webdriver_manager를 사용하여 ChromeDriver 다운로드 및 설정 \n",
    "# driver = webdriver.Chrome(ChromeDriverManager().install())\n",
    "\n",
    "\n",
    "# # webdriver_manager를 사용하여 ChromeDriver 다운로드 및 설정\n",
    "\n",
    "chromedriver_autoinstaller.install()\n",
    "driver = webdriver.Chrome()"
   ]
  },
  {
   "cell_type": "markdown",
   "metadata": {},
   "source": [
    "크롤링 시작"
   ]
  },
  {
   "cell_type": "code",
   "execution_count": 6,
   "metadata": {},
   "outputs": [
    {
     "name": "stderr",
     "output_type": "stream",
     "text": [
      "진행 중:   0%|          | 0/74 [00:00<?, ?it/s]"
     ]
    },
    {
     "name": "stderr",
     "output_type": "stream",
     "text": [
      "진행 중:   1%|▏         | 1/74 [00:07<09:41,  7.97s/it]"
     ]
    },
    {
     "name": "stdout",
     "output_type": "stream",
     "text": [
      "식당 이름: 치어스 강남일원점\n",
      "식당 카테고리: 맥주,호프\n",
      "주소: 서울 강남구 일원로9길 6 1층 치어스 강남일원점\n",
      "대표 메뉴: 치킨 플래터\n",
      "가격: 25,000원\n",
      "방문자리뷰 :  97\n",
      "블로그리뷰 :  5\n",
      "-----------------------------\n"
     ]
    },
    {
     "name": "stderr",
     "output_type": "stream",
     "text": [
      "진행 중:   3%|▎         | 2/74 [00:15<08:57,  7.47s/it]"
     ]
    },
    {
     "name": "stdout",
     "output_type": "stream",
     "text": [
      "식당 이름: 청사포산꼼장어\n",
      "식당 카테고리: 장어,먹장어요리\n",
      "주소: 서울 강남구 언주로150길 50 진명빌딩\n",
      "대표 메뉴: 청사포세트 2인\n",
      "가격: 71,000원\n",
      "방문자리뷰 :  37\n",
      "블로그리뷰 :  68\n",
      "-----------------------------\n"
     ]
    },
    {
     "name": "stderr",
     "output_type": "stream",
     "text": [
      "진행 중:   4%|▍         | 3/74 [00:22<08:32,  7.22s/it]"
     ]
    },
    {
     "name": "stdout",
     "output_type": "stream",
     "text": [
      "식당 이름: 비엔나커피하우스 압구정극동타워점\n",
      "식당 카테고리: 카페\n",
      "주소: 서울 강남구 압구정로 152 극동타워 110-115호\n",
      "대표 메뉴: 아인슈페너\n",
      "가격: 6,000원\n",
      "방문자리뷰 :  1107\n",
      "블로그리뷰 :  103\n",
      "-----------------------------\n"
     ]
    },
    {
     "name": "stderr",
     "output_type": "stream",
     "text": [
      "진행 중:   5%|▌         | 4/74 [00:26<07:13,  6.19s/it]"
     ]
    },
    {
     "name": "stdout",
     "output_type": "stream",
     "text": [
      "에러 메시지: Message: no such element: Unable to locate element: {\"method\":\"css selector\",\"selector\":\"[id=\"entryIframe\"]\"}\n",
      "  (Session info: chrome=122.0.6261.129); For documentation on this error, please visit: https://www.selenium.dev/documentation/webdriver/troubleshooting/errors#no-such-element-exception\n",
      "Stacktrace:\n",
      "\tGetHandleVerifier [0x00007FF60C9EAD02+56930]\n",
      "\t(No symbol) [0x00007FF60C95F602]\n",
      "\t(No symbol) [0x00007FF60C8142E5]\n",
      "\t(No symbol) [0x00007FF60C8598ED]\n",
      "\t(No symbol) [0x00007FF60C859A2C]\n",
      "\t(No symbol) [0x00007FF60C89A967]\n",
      "\t(No symbol) [0x00007FF60C87BCDF]\n",
      "\t(No symbol) [0x00007FF60C8981E2]\n",
      "\t(No symbol) [0x00007FF60C87BA43]\n",
      "\t(No symbol) [0x00007FF60C84D438]\n",
      "\t(No symbol) [0x00007FF60C84E4D1]\n",
      "\tGetHandleVerifier [0x00007FF60CD66F8D+3711213]\n",
      "\tGetHandleVerifier [0x00007FF60CDC04CD+4077101]\n",
      "\tGetHandleVerifier [0x00007FF60CDB865F+4044735]\n",
      "\tGetHandleVerifier [0x00007FF60CA89736+706710]\n",
      "\t(No symbol) [0x00007FF60C96B8DF]\n",
      "\t(No symbol) [0x00007FF60C966AC4]\n",
      "\t(No symbol) [0x00007FF60C966C1C]\n",
      "\t(No symbol) [0x00007FF60C9568D4]\n",
      "\tBaseThreadInitThunk [0x00007FF98A93257D+29]\n",
      "\tRtlUserThreadStart [0x00007FF98B7CAA58+40]\n",
      "\n",
      "식당 이름: 삼성로64길 49 노다지 삼겹살\n",
      "식당 카테고리: 전처리필요\n",
      "주소: 전처리필요\n",
      "대표 메뉴: 메뉴없음\n",
      "가격: 가격없음\n",
      "방문자리뷰 :  0\n",
      "블로그리뷰 :  0\n",
      "-----------------------------\n"
     ]
    },
    {
     "name": "stderr",
     "output_type": "stream",
     "text": [
      "진행 중:   7%|▋         | 5/74 [00:33<07:23,  6.43s/it]"
     ]
    },
    {
     "name": "stdout",
     "output_type": "stream",
     "text": [
      "식당 이름: 무등산\n",
      "식당 카테고리: 소고기구이\n",
      "주소: 서울 강남구 선릉로146길 3 승봉빌딩\n",
      "대표 메뉴: 생등심\n",
      "가격: 59,000원\n",
      "방문자리뷰 :  608\n",
      "블로그리뷰 :  291\n",
      "-----------------------------\n"
     ]
    },
    {
     "name": "stderr",
     "output_type": "stream",
     "text": [
      "진행 중:   8%|▊         | 6/74 [00:38<06:33,  5.79s/it]"
     ]
    },
    {
     "name": "stdout",
     "output_type": "stream",
     "text": [
      "에러 메시지: Message: no such element: Unable to locate element: {\"method\":\"css selector\",\"selector\":\"[id=\"entryIframe\"]\"}\n",
      "  (Session info: chrome=122.0.6261.129); For documentation on this error, please visit: https://www.selenium.dev/documentation/webdriver/troubleshooting/errors#no-such-element-exception\n",
      "Stacktrace:\n",
      "\tGetHandleVerifier [0x00007FF60C9EAD02+56930]\n",
      "\t(No symbol) [0x00007FF60C95F602]\n",
      "\t(No symbol) [0x00007FF60C8142E5]\n",
      "\t(No symbol) [0x00007FF60C8598ED]\n",
      "\t(No symbol) [0x00007FF60C859A2C]\n",
      "\t(No symbol) [0x00007FF60C89A967]\n",
      "\t(No symbol) [0x00007FF60C87BCDF]\n",
      "\t(No symbol) [0x00007FF60C8981E2]\n",
      "\t(No symbol) [0x00007FF60C87BA43]\n",
      "\t(No symbol) [0x00007FF60C84D438]\n",
      "\t(No symbol) [0x00007FF60C84E4D1]\n",
      "\tGetHandleVerifier [0x00007FF60CD66F8D+3711213]\n",
      "\tGetHandleVerifier [0x00007FF60CDC04CD+4077101]\n",
      "\tGetHandleVerifier [0x00007FF60CDB865F+4044735]\n",
      "\tGetHandleVerifier [0x00007FF60CA89736+706710]\n",
      "\t(No symbol) [0x00007FF60C96B8DF]\n",
      "\t(No symbol) [0x00007FF60C966AC4]\n",
      "\t(No symbol) [0x00007FF60C966C1C]\n",
      "\t(No symbol) [0x00007FF60C9568D4]\n",
      "\tBaseThreadInitThunk [0x00007FF98A93257D+29]\n",
      "\tRtlUserThreadStart [0x00007FF98B7CAA58+40]\n",
      "\n",
      "식당 이름: 논현로114길 10, 신천할매 떡볶이\n",
      "식당 카테고리: 전처리필요\n",
      "주소: 전처리필요\n",
      "대표 메뉴: 메뉴없음\n",
      "가격: 가격없음\n",
      "방문자리뷰 :  0\n",
      "블로그리뷰 :  0\n",
      "-----------------------------\n"
     ]
    },
    {
     "name": "stderr",
     "output_type": "stream",
     "text": [
      "진행 중:   9%|▉         | 7/74 [00:44<06:45,  6.05s/it]"
     ]
    },
    {
     "name": "stdout",
     "output_type": "stream",
     "text": [
      "식당 이름: 올데이사운드바\n",
      "식당 카테고리: 카페,디저트\n",
      "주소: 서울 강남구 도산대로11길 34 1층\n",
      "대표 메뉴: 롱아일랜드아이스티\n",
      "가격: 15,000원\n",
      "방문자리뷰 :  152\n",
      "블로그리뷰 :  158\n",
      "-----------------------------\n"
     ]
    },
    {
     "name": "stderr",
     "output_type": "stream",
     "text": [
      "진행 중:  11%|█         | 8/74 [00:51<06:56,  6.31s/it]"
     ]
    },
    {
     "name": "stdout",
     "output_type": "stream",
     "text": [
      "식당 이름: 모쿠\n",
      "식당 카테고리: 아시아음식\n",
      "주소: 서울 강남구 봉은사로44길 70\n",
      "대표 메뉴: 오비 생맥주\n",
      "가격: 4,500원\n",
      "방문자리뷰 :  261\n",
      "블로그리뷰 :  109\n",
      "-----------------------------\n"
     ]
    },
    {
     "name": "stderr",
     "output_type": "stream",
     "text": [
      "진행 중:  12%|█▏        | 9/74 [00:55<06:13,  5.75s/it]"
     ]
    },
    {
     "name": "stdout",
     "output_type": "stream",
     "text": [
      "에러 메시지: Message: no such element: Unable to locate element: {\"method\":\"css selector\",\"selector\":\"[id=\"entryIframe\"]\"}\n",
      "  (Session info: chrome=122.0.6261.129); For documentation on this error, please visit: https://www.selenium.dev/documentation/webdriver/troubleshooting/errors#no-such-element-exception\n",
      "Stacktrace:\n",
      "\tGetHandleVerifier [0x00007FF60C9EAD02+56930]\n",
      "\t(No symbol) [0x00007FF60C95F602]\n",
      "\t(No symbol) [0x00007FF60C8142E5]\n",
      "\t(No symbol) [0x00007FF60C8598ED]\n",
      "\t(No symbol) [0x00007FF60C859A2C]\n",
      "\t(No symbol) [0x00007FF60C89A967]\n",
      "\t(No symbol) [0x00007FF60C87BCDF]\n",
      "\t(No symbol) [0x00007FF60C8981E2]\n",
      "\t(No symbol) [0x00007FF60C87BA43]\n",
      "\t(No symbol) [0x00007FF60C84D438]\n",
      "\t(No symbol) [0x00007FF60C84E4D1]\n",
      "\tGetHandleVerifier [0x00007FF60CD66F8D+3711213]\n",
      "\tGetHandleVerifier [0x00007FF60CDC04CD+4077101]\n",
      "\tGetHandleVerifier [0x00007FF60CDB865F+4044735]\n",
      "\tGetHandleVerifier [0x00007FF60CA89736+706710]\n",
      "\t(No symbol) [0x00007FF60C96B8DF]\n",
      "\t(No symbol) [0x00007FF60C966AC4]\n",
      "\t(No symbol) [0x00007FF60C966C1C]\n",
      "\t(No symbol) [0x00007FF60C9568D4]\n",
      "\tBaseThreadInitThunk [0x00007FF98A93257D+29]\n",
      "\tRtlUserThreadStart [0x00007FF98B7CAA58+40]\n",
      "\n",
      "식당 이름: 선릉로82길 43, 선릉 불고기\n",
      "식당 카테고리: 전처리필요\n",
      "주소: 전처리필요\n",
      "대표 메뉴: 메뉴없음\n",
      "가격: 가격없음\n",
      "방문자리뷰 :  0\n",
      "블로그리뷰 :  0\n",
      "-----------------------------\n"
     ]
    },
    {
     "name": "stderr",
     "output_type": "stream",
     "text": [
      "진행 중:  14%|█▎        | 10/74 [01:02<06:24,  6.02s/it]"
     ]
    },
    {
     "name": "stdout",
     "output_type": "stream",
     "text": [
      "식당 이름: 돈주다 본점\n",
      "식당 카테고리: 돼지고기구이\n",
      "주소: 서울 강남구 영동대로138길 9\n",
      "대표 메뉴: 참숯 초벌 삼겹살\n",
      "가격: 15,000원\n",
      "방문자리뷰 :  109\n",
      "블로그리뷰 :  35\n",
      "-----------------------------\n"
     ]
    },
    {
     "name": "stderr",
     "output_type": "stream",
     "text": [
      "진행 중:  15%|█▍        | 11/74 [01:09<06:31,  6.21s/it]"
     ]
    },
    {
     "name": "stdout",
     "output_type": "stream",
     "text": [
      "식당 이름: 영동원삼겹살\n",
      "식당 카테고리: 돼지고기구이\n",
      "주소: 서울 강남구 강남대로 520 영동빌딩\n",
      "대표 메뉴: 삼겹살(150g)\n",
      "가격: 6,500원\n",
      "방문자리뷰 :  883\n",
      "블로그리뷰 :  429\n",
      "-----------------------------\n"
     ]
    },
    {
     "name": "stderr",
     "output_type": "stream",
     "text": [
      "진행 중:  16%|█▌        | 12/74 [01:16<06:35,  6.38s/it]"
     ]
    },
    {
     "name": "stdout",
     "output_type": "stream",
     "text": [
      "식당 이름: 티엔티엔티엔\n",
      "식당 카테고리: 중식당\n",
      "주소: 서울 강남구 테헤란로77길 22 풍림아파트\n",
      "대표 메뉴: 삼선 볶음밥\n",
      "가격: 9,000원\n",
      "방문자리뷰 :  177\n",
      "블로그리뷰 :  16\n",
      "-----------------------------\n"
     ]
    },
    {
     "name": "stderr",
     "output_type": "stream",
     "text": [
      "진행 중:  18%|█▊        | 13/74 [01:20<05:55,  5.82s/it]"
     ]
    },
    {
     "name": "stdout",
     "output_type": "stream",
     "text": [
      "에러 메시지: Message: no such element: Unable to locate element: {\"method\":\"css selector\",\"selector\":\"[id=\"entryIframe\"]\"}\n",
      "  (Session info: chrome=122.0.6261.129); For documentation on this error, please visit: https://www.selenium.dev/documentation/webdriver/troubleshooting/errors#no-such-element-exception\n",
      "Stacktrace:\n",
      "\tGetHandleVerifier [0x00007FF60C9EAD02+56930]\n",
      "\t(No symbol) [0x00007FF60C95F602]\n",
      "\t(No symbol) [0x00007FF60C8142E5]\n",
      "\t(No symbol) [0x00007FF60C8598ED]\n",
      "\t(No symbol) [0x00007FF60C859A2C]\n",
      "\t(No symbol) [0x00007FF60C89A967]\n",
      "\t(No symbol) [0x00007FF60C87BCDF]\n",
      "\t(No symbol) [0x00007FF60C8981E2]\n",
      "\t(No symbol) [0x00007FF60C87BA43]\n",
      "\t(No symbol) [0x00007FF60C84D438]\n",
      "\t(No symbol) [0x00007FF60C84E4D1]\n",
      "\tGetHandleVerifier [0x00007FF60CD66F8D+3711213]\n",
      "\tGetHandleVerifier [0x00007FF60CDC04CD+4077101]\n",
      "\tGetHandleVerifier [0x00007FF60CDB865F+4044735]\n",
      "\tGetHandleVerifier [0x00007FF60CA89736+706710]\n",
      "\t(No symbol) [0x00007FF60C96B8DF]\n",
      "\t(No symbol) [0x00007FF60C966AC4]\n",
      "\t(No symbol) [0x00007FF60C966C1C]\n",
      "\t(No symbol) [0x00007FF60C9568D4]\n",
      "\tBaseThreadInitThunk [0x00007FF98A93257D+29]\n",
      "\tRtlUserThreadStart [0x00007FF98B7CAA58+40]\n",
      "\n",
      "식당 이름: 봉은사로1길 38 역전할머니 맥주\n",
      "식당 카테고리: 전처리필요\n",
      "주소: 전처리필요\n",
      "대표 메뉴: 메뉴없음\n",
      "가격: 가격없음\n",
      "방문자리뷰 :  0\n",
      "블로그리뷰 :  0\n",
      "-----------------------------\n"
     ]
    },
    {
     "name": "stderr",
     "output_type": "stream",
     "text": [
      "진행 중:  19%|█▉        | 14/74 [01:27<06:08,  6.14s/it]"
     ]
    },
    {
     "name": "stdout",
     "output_type": "stream",
     "text": [
      "식당 이름: 파니엔테\n",
      "식당 카테고리: 와인\n",
      "주소: 서울 강남구 도산대로11길 21 1층 파니엔테\n",
      "대표 메뉴: 크리스피 칩 & 마스카포네\n",
      "가격: 19,000원\n",
      "방문자리뷰 :  69\n",
      "블로그리뷰 :  94\n",
      "-----------------------------\n"
     ]
    },
    {
     "name": "stderr",
     "output_type": "stream",
     "text": [
      "진행 중:  20%|██        | 15/74 [01:30<05:16,  5.36s/it]"
     ]
    },
    {
     "name": "stdout",
     "output_type": "stream",
     "text": [
      "에러 메시지: Message: no such element: Unable to locate element: {\"method\":\"css selector\",\"selector\":\".YwYLL\"}\n",
      "  (Session info: chrome=122.0.6261.129); For documentation on this error, please visit: https://www.selenium.dev/documentation/webdriver/troubleshooting/errors#no-such-element-exception\n",
      "Stacktrace:\n",
      "\tGetHandleVerifier [0x00007FF60C9EAD02+56930]\n",
      "\t(No symbol) [0x00007FF60C95F602]\n",
      "\t(No symbol) [0x00007FF60C8142E5]\n",
      "\t(No symbol) [0x00007FF60C8598ED]\n",
      "\t(No symbol) [0x00007FF60C859A2C]\n",
      "\t(No symbol) [0x00007FF60C89A967]\n",
      "\t(No symbol) [0x00007FF60C87BCDF]\n",
      "\t(No symbol) [0x00007FF60C8981E2]\n",
      "\t(No symbol) [0x00007FF60C87BA43]\n",
      "\t(No symbol) [0x00007FF60C84D438]\n",
      "\t(No symbol) [0x00007FF60C84E4D1]\n",
      "\tGetHandleVerifier [0x00007FF60CD66F8D+3711213]\n",
      "\tGetHandleVerifier [0x00007FF60CDC04CD+4077101]\n",
      "\tGetHandleVerifier [0x00007FF60CDB865F+4044735]\n",
      "\tGetHandleVerifier [0x00007FF60CA89736+706710]\n",
      "\t(No symbol) [0x00007FF60C96B8DF]\n",
      "\t(No symbol) [0x00007FF60C966AC4]\n",
      "\t(No symbol) [0x00007FF60C966C1C]\n",
      "\t(No symbol) [0x00007FF60C9568D4]\n",
      "\tBaseThreadInitThunk [0x00007FF98A93257D+29]\n",
      "\tRtlUserThreadStart [0x00007FF98B7CAA58+40]\n",
      "\n",
      "식당 이름: 영동대로65길 50 평강\n",
      "식당 카테고리: 전처리필요\n",
      "주소: 전처리필요\n",
      "대표 메뉴: 메뉴없음\n",
      "가격: 가격없음\n",
      "방문자리뷰 :  0\n",
      "블로그리뷰 :  0\n",
      "-----------------------------\n"
     ]
    },
    {
     "name": "stderr",
     "output_type": "stream",
     "text": [
      "진행 중:  22%|██▏       | 16/74 [01:37<05:33,  5.76s/it]"
     ]
    },
    {
     "name": "stdout",
     "output_type": "stream",
     "text": [
      "식당 이름: 옛날집\n",
      "식당 카테고리: 한정식-일반\n",
      "주소: 서울 강남구 선릉로148길 38\n",
      "대표 메뉴: 옛날집디럭스\n",
      "가격: 37,000원\n",
      "방문자리뷰 :  534\n",
      "블로그리뷰 :  271\n",
      "-----------------------------\n"
     ]
    },
    {
     "name": "stderr",
     "output_type": "stream",
     "text": [
      "진행 중:  23%|██▎       | 17/74 [01:44<05:43,  6.02s/it]"
     ]
    },
    {
     "name": "stdout",
     "output_type": "stream",
     "text": [
      "식당 이름: 마포갈비&갈매기\n",
      "식당 카테고리: 한식\n",
      "주소: 서울 강남구 논현로 333 역삼빌딩\n",
      "대표 메뉴: 메뉴없음\n",
      "가격: 가격없음\n",
      "방문자리뷰 :  61\n",
      "블로그리뷰 :  21\n",
      "-----------------------------\n"
     ]
    },
    {
     "name": "stderr",
     "output_type": "stream",
     "text": [
      "진행 중:  24%|██▍       | 18/74 [01:50<05:48,  6.22s/it]"
     ]
    },
    {
     "name": "stdout",
     "output_type": "stream",
     "text": [
      "식당 이름: 청담만옥\n",
      "식당 카테고리: 한식\n",
      "주소: 서울 강남구 선릉로152길 26 1층 청담만옥\n",
      "대표 메뉴: 청담만옥런치한상\n",
      "가격: 15,000원\n",
      "방문자리뷰 :  108\n",
      "블로그리뷰 :  106\n",
      "-----------------------------\n"
     ]
    },
    {
     "name": "stderr",
     "output_type": "stream",
     "text": [
      "진행 중:  26%|██▌       | 19/74 [01:57<05:52,  6.41s/it]"
     ]
    },
    {
     "name": "stdout",
     "output_type": "stream",
     "text": [
      "식당 이름: 얼큰이찌개마을\n",
      "식당 카테고리: 찌개,전골\n",
      "주소: 서울 강남구 역삼로 204 삼환 아르누보\n",
      "대표 메뉴: 메뉴없음\n",
      "가격: 가격없음\n",
      "방문자리뷰 :  7\n",
      "블로그리뷰 :  0\n",
      "-----------------------------\n"
     ]
    },
    {
     "name": "stderr",
     "output_type": "stream",
     "text": [
      "진행 중:  27%|██▋       | 20/74 [02:04<05:54,  6.57s/it]"
     ]
    },
    {
     "name": "stdout",
     "output_type": "stream",
     "text": [
      "식당 이름: 랍스터바 압구정점\n",
      "식당 카테고리: 바닷가재요리\n",
      "주소: 서울 강남구 압구정로 343 갤러리아백화점 명품관 WEST 지하 1층\n",
      "대표 메뉴: 랍스터롤메인\n",
      "가격: 21,000원\n",
      "방문자리뷰 :  309\n",
      "블로그리뷰 :  55\n",
      "-----------------------------\n"
     ]
    },
    {
     "name": "stderr",
     "output_type": "stream",
     "text": [
      "진행 중:  28%|██▊       | 21/74 [02:11<05:46,  6.54s/it]"
     ]
    },
    {
     "name": "stdout",
     "output_type": "stream",
     "text": [
      "식당 이름: 일일향 삼성11호점\n",
      "식당 카테고리: 중식당\n",
      "주소: 서울 강남구 테헤란로83길 20\n",
      "대표 메뉴: 옛날짬뽕\n",
      "가격: 10,000원\n",
      "방문자리뷰 :  790\n",
      "블로그리뷰 :  174\n",
      "-----------------------------\n"
     ]
    },
    {
     "name": "stderr",
     "output_type": "stream",
     "text": [
      "진행 중:  30%|██▉       | 22/74 [02:17<05:40,  6.56s/it]"
     ]
    },
    {
     "name": "stdout",
     "output_type": "stream",
     "text": [
      "식당 이름: 요술포차역삼점\n",
      "식당 카테고리: 요리주점\n",
      "주소: 서울 강남구 테헤란로19길 5 지하1층\n",
      "대표 메뉴: 찢어구운 먹태\n",
      "가격: 19,000원\n",
      "방문자리뷰 :  453\n",
      "블로그리뷰 :  173\n",
      "-----------------------------\n"
     ]
    },
    {
     "name": "stderr",
     "output_type": "stream",
     "text": [
      "진행 중:  31%|███       | 23/74 [02:24<05:34,  6.56s/it]"
     ]
    },
    {
     "name": "stdout",
     "output_type": "stream",
     "text": [
      "식당 이름: 알아차림 선릉\n",
      "식당 카테고리: 한식\n",
      "주소: 서울 강남구 봉은사로44길 68 1층\n",
      "대표 메뉴: 점심 맡김차림\n",
      "가격: 48,000원\n",
      "방문자리뷰 :  303\n",
      "블로그리뷰 :  241\n",
      "-----------------------------\n"
     ]
    },
    {
     "name": "stderr",
     "output_type": "stream",
     "text": [
      "진행 중:  32%|███▏      | 24/74 [02:30<05:27,  6.55s/it]"
     ]
    },
    {
     "name": "stdout",
     "output_type": "stream",
     "text": [
      "식당 이름: 365활새우 창우수산 강남본점\n",
      "식당 카테고리: 해물,생선요리\n",
      "주소: 서울 강남구 학동로 338 강남파라곤 로비층 107호, 108호\n",
      "대표 메뉴: 왕새우회\n",
      "가격: 55,000원\n",
      "방문자리뷰 :  466\n",
      "블로그리뷰 :  443\n",
      "-----------------------------\n"
     ]
    },
    {
     "name": "stderr",
     "output_type": "stream",
     "text": [
      "진행 중:  34%|███▍      | 25/74 [02:37<05:21,  6.57s/it]"
     ]
    },
    {
     "name": "stdout",
     "output_type": "stream",
     "text": [
      "식당 이름: 갓덴스시 강남점\n",
      "식당 카테고리: 초밥,롤\n",
      "주소: 서울 강남구 테헤란로 109 강남제일빌딩 1F\n",
      "대표 메뉴: 녹색접시\n",
      "가격: 1,500원\n",
      "방문자리뷰 :  3346\n",
      "블로그리뷰 :  1711\n",
      "-----------------------------\n"
     ]
    },
    {
     "name": "stderr",
     "output_type": "stream",
     "text": [
      "진행 중:  35%|███▌      | 26/74 [02:42<04:46,  5.96s/it]"
     ]
    },
    {
     "name": "stdout",
     "output_type": "stream",
     "text": [
      "에러 메시지: Message: no such element: Unable to locate element: {\"method\":\"css selector\",\"selector\":\"[id=\"entryIframe\"]\"}\n",
      "  (Session info: chrome=122.0.6261.129); For documentation on this error, please visit: https://www.selenium.dev/documentation/webdriver/troubleshooting/errors#no-such-element-exception\n",
      "Stacktrace:\n",
      "\tGetHandleVerifier [0x00007FF60C9EAD02+56930]\n",
      "\t(No symbol) [0x00007FF60C95F602]\n",
      "\t(No symbol) [0x00007FF60C8142E5]\n",
      "\t(No symbol) [0x00007FF60C8598ED]\n",
      "\t(No symbol) [0x00007FF60C859A2C]\n",
      "\t(No symbol) [0x00007FF60C89A967]\n",
      "\t(No symbol) [0x00007FF60C87BCDF]\n",
      "\t(No symbol) [0x00007FF60C8981E2]\n",
      "\t(No symbol) [0x00007FF60C87BA43]\n",
      "\t(No symbol) [0x00007FF60C84D438]\n",
      "\t(No symbol) [0x00007FF60C84E4D1]\n",
      "\tGetHandleVerifier [0x00007FF60CD66F8D+3711213]\n",
      "\tGetHandleVerifier [0x00007FF60CDC04CD+4077101]\n",
      "\tGetHandleVerifier [0x00007FF60CDB865F+4044735]\n",
      "\tGetHandleVerifier [0x00007FF60CA89736+706710]\n",
      "\t(No symbol) [0x00007FF60C96B8DF]\n",
      "\t(No symbol) [0x00007FF60C966AC4]\n",
      "\t(No symbol) [0x00007FF60C966C1C]\n",
      "\t(No symbol) [0x00007FF60C9568D4]\n",
      "\tBaseThreadInitThunk [0x00007FF98A93257D+29]\n",
      "\tRtlUserThreadStart [0x00007FF98B7CAA58+40]\n",
      "\n",
      "식당 이름: 논현로 848, 씨지브이 압구정1\n",
      "식당 카테고리: 전처리필요\n",
      "주소: 전처리필요\n",
      "대표 메뉴: 메뉴없음\n",
      "가격: 가격없음\n",
      "방문자리뷰 :  0\n",
      "블로그리뷰 :  0\n",
      "-----------------------------\n"
     ]
    },
    {
     "name": "stderr",
     "output_type": "stream",
     "text": [
      "진행 중:  36%|███▋      | 27/74 [02:46<04:19,  5.53s/it]"
     ]
    },
    {
     "name": "stdout",
     "output_type": "stream",
     "text": [
      "에러 메시지: Message: no such element: Unable to locate element: {\"method\":\"css selector\",\"selector\":\"[id=\"entryIframe\"]\"}\n",
      "  (Session info: chrome=122.0.6261.129); For documentation on this error, please visit: https://www.selenium.dev/documentation/webdriver/troubleshooting/errors#no-such-element-exception\n",
      "Stacktrace:\n",
      "\tGetHandleVerifier [0x00007FF60C9EAD02+56930]\n",
      "\t(No symbol) [0x00007FF60C95F602]\n",
      "\t(No symbol) [0x00007FF60C8142E5]\n",
      "\t(No symbol) [0x00007FF60C8598ED]\n",
      "\t(No symbol) [0x00007FF60C859A2C]\n",
      "\t(No symbol) [0x00007FF60C89A967]\n",
      "\t(No symbol) [0x00007FF60C87BCDF]\n",
      "\t(No symbol) [0x00007FF60C8981E2]\n",
      "\t(No symbol) [0x00007FF60C87BA43]\n",
      "\t(No symbol) [0x00007FF60C84D438]\n",
      "\t(No symbol) [0x00007FF60C84E4D1]\n",
      "\tGetHandleVerifier [0x00007FF60CD66F8D+3711213]\n",
      "\tGetHandleVerifier [0x00007FF60CDC04CD+4077101]\n",
      "\tGetHandleVerifier [0x00007FF60CDB865F+4044735]\n",
      "\tGetHandleVerifier [0x00007FF60CA89736+706710]\n",
      "\t(No symbol) [0x00007FF60C96B8DF]\n",
      "\t(No symbol) [0x00007FF60C966AC4]\n",
      "\t(No symbol) [0x00007FF60C966C1C]\n",
      "\t(No symbol) [0x00007FF60C9568D4]\n",
      "\tBaseThreadInitThunk [0x00007FF98A93257D+29]\n",
      "\tRtlUserThreadStart [0x00007FF98B7CAA58+40]\n",
      "\n",
      "식당 이름: 선릉로152길 21, 청담하우스\n",
      "식당 카테고리: 전처리필요\n",
      "주소: 전처리필요\n",
      "대표 메뉴: 메뉴없음\n",
      "가격: 가격없음\n",
      "방문자리뷰 :  0\n",
      "블로그리뷰 :  0\n",
      "-----------------------------\n"
     ]
    },
    {
     "name": "stderr",
     "output_type": "stream",
     "text": [
      "진행 중:  38%|███▊      | 28/74 [02:53<04:33,  5.94s/it]"
     ]
    },
    {
     "name": "stdout",
     "output_type": "stream",
     "text": [
      "식당 이름: Chai797 삼성점\n",
      "식당 카테고리: 중식당\n",
      "주소: 서울 강남구 테헤란로87길 35 금강타워 지하1층\n",
      "대표 메뉴: 소롱포 4pcs\n",
      "가격: 8,500원\n",
      "방문자리뷰 :  230\n",
      "블로그리뷰 :  199\n",
      "-----------------------------\n"
     ]
    },
    {
     "name": "stderr",
     "output_type": "stream",
     "text": [
      "진행 중:  39%|███▉      | 29/74 [03:01<04:52,  6.50s/it]"
     ]
    },
    {
     "name": "stdout",
     "output_type": "stream",
     "text": [
      "식당 이름: 카사아지오\n",
      "식당 카테고리: 양식\n",
      "주소: 서울 강남구 언주로93길 32-6\n",
      "대표 메뉴: 달팽이그라탕\n",
      "가격: 27,000원\n",
      "방문자리뷰 :  16\n",
      "블로그리뷰 :  0\n",
      "-----------------------------\n"
     ]
    },
    {
     "name": "stderr",
     "output_type": "stream",
     "text": [
      "진행 중:  41%|████      | 30/74 [03:07<04:46,  6.52s/it]"
     ]
    },
    {
     "name": "stdout",
     "output_type": "stream",
     "text": [
      "식당 이름: 아임샤인\n",
      "식당 카테고리: 카페,디저트\n",
      "주소: 서울 강남구 논현로12길 5 1층 아임샤인\n",
      "대표 메뉴: 아임샤인 캔(can)과일\n",
      "가격: 5,500원\n",
      "방문자리뷰 :  18\n",
      "블로그리뷰 :  1\n",
      "-----------------------------\n"
     ]
    },
    {
     "name": "stderr",
     "output_type": "stream",
     "text": [
      "진행 중:  42%|████▏     | 31/74 [03:14<04:42,  6.57s/it]"
     ]
    },
    {
     "name": "stdout",
     "output_type": "stream",
     "text": [
      "식당 이름: 육덕등심 정자점\n",
      "식당 카테고리: 육류,고기요리\n",
      "주소: 경기 성남시 분당구 정자일로 135 푸르지오시티 D동 206호\n",
      "대표 메뉴: 특안심 (150g)\n",
      "가격: 51,000원\n",
      "방문자리뷰 :  904\n",
      "블로그리뷰 :  2805\n",
      "-----------------------------\n"
     ]
    },
    {
     "name": "stderr",
     "output_type": "stream",
     "text": [
      "진행 중:  43%|████▎     | 32/74 [03:21<04:38,  6.63s/it]"
     ]
    },
    {
     "name": "stdout",
     "output_type": "stream",
     "text": [
      "식당 이름: 아루일식\n",
      "식당 카테고리: 일식당\n",
      "주소: 서울 강남구 압구정로 210 융기빌딩, 지하1층\n",
      "대표 메뉴: 점심 정식\n",
      "가격: 20,000원\n",
      "방문자리뷰 :  138\n",
      "블로그리뷰 :  16\n",
      "-----------------------------\n"
     ]
    },
    {
     "name": "stderr",
     "output_type": "stream",
     "text": [
      "진행 중:  45%|████▍     | 33/74 [03:28<04:37,  6.76s/it]"
     ]
    },
    {
     "name": "stdout",
     "output_type": "stream",
     "text": [
      "식당 이름: 금장한우 삼성본점\n",
      "식당 카테고리: 소고기구이\n",
      "주소: 서울 강남구 봉은사로82길 29\n",
      "대표 메뉴: 국내산 수제양념 돼지왕갈비(300g))\n",
      "가격: 20,000원\n",
      "방문자리뷰 :  156\n",
      "블로그리뷰 :  42\n",
      "-----------------------------\n"
     ]
    },
    {
     "name": "stderr",
     "output_type": "stream",
     "text": [
      "진행 중:  46%|████▌     | 34/74 [03:35<04:35,  6.89s/it]"
     ]
    },
    {
     "name": "stdout",
     "output_type": "stream",
     "text": [
      "식당 이름: 난장캠프\n",
      "식당 카테고리: 육류,고기요리\n",
      "주소: 서울 강남구 강남대로114길 10 2층\n",
      "대표 메뉴: 참숯초벌 삼겹살 (180g)\n",
      "가격: 15,000원\n",
      "방문자리뷰 :  962\n",
      "블로그리뷰 :  1385\n",
      "-----------------------------\n"
     ]
    },
    {
     "name": "stderr",
     "output_type": "stream",
     "text": [
      "진행 중:  47%|████▋     | 35/74 [03:42<04:27,  6.87s/it]"
     ]
    },
    {
     "name": "stdout",
     "output_type": "stream",
     "text": [
      "식당 이름: 카페알케미\n",
      "식당 카테고리: 카페,디저트\n",
      "주소: 서울 강남구 양재대로53길 7 1층\n",
      "대표 메뉴: 플랫화이트\n",
      "가격: 4,500원\n",
      "방문자리뷰 :  521\n",
      "블로그리뷰 :  411\n",
      "-----------------------------\n"
     ]
    },
    {
     "name": "stderr",
     "output_type": "stream",
     "text": [
      "진행 중:  49%|████▊     | 36/74 [03:49<04:18,  6.80s/it]"
     ]
    },
    {
     "name": "stdout",
     "output_type": "stream",
     "text": [
      "식당 이름: 진주정\n",
      "식당 카테고리: 한식\n",
      "주소: 광주 남구 봉선로133번길 15 더플레이스 1층 104호\n",
      "대표 메뉴: 옛날소불고기\n",
      "가격: 17,000원\n",
      "방문자리뷰 :  82\n",
      "블로그리뷰 :  23\n",
      "-----------------------------\n"
     ]
    },
    {
     "name": "stderr",
     "output_type": "stream",
     "text": [
      "진행 중:  50%|█████     | 37/74 [03:53<03:47,  6.16s/it]"
     ]
    },
    {
     "name": "stdout",
     "output_type": "stream",
     "text": [
      "에러 메시지: Message: no such element: Unable to locate element: {\"method\":\"css selector\",\"selector\":\"[id=\"entryIframe\"]\"}\n",
      "  (Session info: chrome=122.0.6261.129); For documentation on this error, please visit: https://www.selenium.dev/documentation/webdriver/troubleshooting/errors#no-such-element-exception\n",
      "Stacktrace:\n",
      "\tGetHandleVerifier [0x00007FF60C9EAD02+56930]\n",
      "\t(No symbol) [0x00007FF60C95F602]\n",
      "\t(No symbol) [0x00007FF60C8142E5]\n",
      "\t(No symbol) [0x00007FF60C8598ED]\n",
      "\t(No symbol) [0x00007FF60C859A2C]\n",
      "\t(No symbol) [0x00007FF60C89A967]\n",
      "\t(No symbol) [0x00007FF60C87BCDF]\n",
      "\t(No symbol) [0x00007FF60C8981E2]\n",
      "\t(No symbol) [0x00007FF60C87BA43]\n",
      "\t(No symbol) [0x00007FF60C84D438]\n",
      "\t(No symbol) [0x00007FF60C84E4D1]\n",
      "\tGetHandleVerifier [0x00007FF60CD66F8D+3711213]\n",
      "\tGetHandleVerifier [0x00007FF60CDC04CD+4077101]\n",
      "\tGetHandleVerifier [0x00007FF60CDB865F+4044735]\n",
      "\tGetHandleVerifier [0x00007FF60CA89736+706710]\n",
      "\t(No symbol) [0x00007FF60C96B8DF]\n",
      "\t(No symbol) [0x00007FF60C966AC4]\n",
      "\t(No symbol) [0x00007FF60C966C1C]\n",
      "\t(No symbol) [0x00007FF60C9568D4]\n",
      "\tBaseThreadInitThunk [0x00007FF98A93257D+29]\n",
      "\tRtlUserThreadStart [0x00007FF98B7CAA58+40]\n",
      "\n",
      "식당 이름: 영동대로 513, 캘리포니아 피자 키친\n",
      "식당 카테고리: 전처리필요\n",
      "주소: 전처리필요\n",
      "대표 메뉴: 메뉴없음\n",
      "가격: 가격없음\n",
      "방문자리뷰 :  0\n",
      "블로그리뷰 :  0\n",
      "-----------------------------\n"
     ]
    },
    {
     "name": "stderr",
     "output_type": "stream",
     "text": [
      "진행 중:  51%|█████▏    | 38/74 [04:00<03:47,  6.33s/it]"
     ]
    },
    {
     "name": "stdout",
     "output_type": "stream",
     "text": [
      "식당 이름: 명동칼국수\n",
      "식당 카테고리: 칼국수,만두\n",
      "주소: 서울 강남구 영동대로 513\n",
      "대표 메뉴: 메뉴없음\n",
      "가격: 가격없음\n",
      "방문자리뷰 :  104\n",
      "블로그리뷰 :  7\n",
      "-----------------------------\n"
     ]
    },
    {
     "name": "stderr",
     "output_type": "stream",
     "text": [
      "진행 중:  53%|█████▎    | 39/74 [04:05<03:23,  5.81s/it]"
     ]
    },
    {
     "name": "stdout",
     "output_type": "stream",
     "text": [
      "에러 메시지: Message: no such element: Unable to locate element: {\"method\":\"css selector\",\"selector\":\"[id=\"entryIframe\"]\"}\n",
      "  (Session info: chrome=122.0.6261.129); For documentation on this error, please visit: https://www.selenium.dev/documentation/webdriver/troubleshooting/errors#no-such-element-exception\n",
      "Stacktrace:\n",
      "\tGetHandleVerifier [0x00007FF60C9EAD02+56930]\n",
      "\t(No symbol) [0x00007FF60C95F602]\n",
      "\t(No symbol) [0x00007FF60C8142E5]\n",
      "\t(No symbol) [0x00007FF60C8598ED]\n",
      "\t(No symbol) [0x00007FF60C859A2C]\n",
      "\t(No symbol) [0x00007FF60C89A967]\n",
      "\t(No symbol) [0x00007FF60C87BCDF]\n",
      "\t(No symbol) [0x00007FF60C8981E2]\n",
      "\t(No symbol) [0x00007FF60C87BA43]\n",
      "\t(No symbol) [0x00007FF60C84D438]\n",
      "\t(No symbol) [0x00007FF60C84E4D1]\n",
      "\tGetHandleVerifier [0x00007FF60CD66F8D+3711213]\n",
      "\tGetHandleVerifier [0x00007FF60CDC04CD+4077101]\n",
      "\tGetHandleVerifier [0x00007FF60CDB865F+4044735]\n",
      "\tGetHandleVerifier [0x00007FF60CA89736+706710]\n",
      "\t(No symbol) [0x00007FF60C96B8DF]\n",
      "\t(No symbol) [0x00007FF60C966AC4]\n",
      "\t(No symbol) [0x00007FF60C966C1C]\n",
      "\t(No symbol) [0x00007FF60C9568D4]\n",
      "\tBaseThreadInitThunk [0x00007FF98A93257D+29]\n",
      "\tRtlUserThreadStart [0x00007FF98B7CAA58+40]\n",
      "\n",
      "식당 이름: 테헤란로33길 19 진지방순대국 직화닭갈비\n",
      "식당 카테고리: 전처리필요\n",
      "주소: 전처리필요\n",
      "대표 메뉴: 메뉴없음\n",
      "가격: 가격없음\n",
      "방문자리뷰 :  0\n",
      "블로그리뷰 :  0\n",
      "-----------------------------\n"
     ]
    },
    {
     "name": "stderr",
     "output_type": "stream",
     "text": [
      "진행 중:  54%|█████▍    | 40/74 [04:11<03:25,  6.05s/it]"
     ]
    },
    {
     "name": "stdout",
     "output_type": "stream",
     "text": [
      "식당 이름: 오동도\n",
      "식당 카테고리: 향토음식\n",
      "주소: 서울 강남구 삼성로71길 7 1층 오동도\n",
      "대표 메뉴: 새조개 샤브샤브 1人 [겨울]\n",
      "가격: 50,000원\n",
      "방문자리뷰 :  173\n",
      "블로그리뷰 :  113\n",
      "-----------------------------\n"
     ]
    },
    {
     "name": "stderr",
     "output_type": "stream",
     "text": [
      "진행 중:  55%|█████▌    | 41/74 [04:18<03:27,  6.28s/it]"
     ]
    },
    {
     "name": "stdout",
     "output_type": "stream",
     "text": [
      "식당 이름: 명동칼국수\n",
      "식당 카테고리: 칼국수,만두\n",
      "주소: 서울 강남구 강남대로84길 32\n",
      "대표 메뉴: 바지락칼국수\n",
      "가격: 7,000원\n",
      "방문자리뷰 :  602\n",
      "블로그리뷰 :  84\n",
      "-----------------------------\n"
     ]
    },
    {
     "name": "stderr",
     "output_type": "stream",
     "text": [
      "진행 중:  57%|█████▋    | 42/74 [04:23<03:04,  5.76s/it]"
     ]
    },
    {
     "name": "stdout",
     "output_type": "stream",
     "text": [
      "에러 메시지: Message: no such element: Unable to locate element: {\"method\":\"css selector\",\"selector\":\"[id=\"entryIframe\"]\"}\n",
      "  (Session info: chrome=122.0.6261.129); For documentation on this error, please visit: https://www.selenium.dev/documentation/webdriver/troubleshooting/errors#no-such-element-exception\n",
      "Stacktrace:\n",
      "\tGetHandleVerifier [0x00007FF60C9EAD02+56930]\n",
      "\t(No symbol) [0x00007FF60C95F602]\n",
      "\t(No symbol) [0x00007FF60C8142E5]\n",
      "\t(No symbol) [0x00007FF60C8598ED]\n",
      "\t(No symbol) [0x00007FF60C859A2C]\n",
      "\t(No symbol) [0x00007FF60C89A967]\n",
      "\t(No symbol) [0x00007FF60C87BCDF]\n",
      "\t(No symbol) [0x00007FF60C8981E2]\n",
      "\t(No symbol) [0x00007FF60C87BA43]\n",
      "\t(No symbol) [0x00007FF60C84D438]\n",
      "\t(No symbol) [0x00007FF60C84E4D1]\n",
      "\tGetHandleVerifier [0x00007FF60CD66F8D+3711213]\n",
      "\tGetHandleVerifier [0x00007FF60CDC04CD+4077101]\n",
      "\tGetHandleVerifier [0x00007FF60CDB865F+4044735]\n",
      "\tGetHandleVerifier [0x00007FF60CA89736+706710]\n",
      "\t(No symbol) [0x00007FF60C96B8DF]\n",
      "\t(No symbol) [0x00007FF60C966AC4]\n",
      "\t(No symbol) [0x00007FF60C966C1C]\n",
      "\t(No symbol) [0x00007FF60C9568D4]\n",
      "\tBaseThreadInitThunk [0x00007FF98A93257D+29]\n",
      "\tRtlUserThreadStart [0x00007FF98B7CAA58+40]\n",
      "\n",
      "식당 이름: 개포로20길 6, 하우츠\n",
      "식당 카테고리: 전처리필요\n",
      "주소: 전처리필요\n",
      "대표 메뉴: 메뉴없음\n",
      "가격: 가격없음\n",
      "방문자리뷰 :  0\n",
      "블로그리뷰 :  0\n",
      "-----------------------------\n"
     ]
    },
    {
     "name": "stderr",
     "output_type": "stream",
     "text": [
      "진행 중:  58%|█████▊    | 43/74 [04:29<03:06,  6.01s/it]"
     ]
    },
    {
     "name": "stdout",
     "output_type": "stream",
     "text": [
      "식당 이름: 희앤락\n",
      "식당 카테고리: 양갈비\n",
      "주소: 서울 강남구 남부순환로 2936 윈플러스상가 지하1층 B101-1호\n",
      "대표 메뉴: 프리미엄양갈비 250g\n",
      "가격: 35,000원\n",
      "방문자리뷰 :  193\n",
      "블로그리뷰 :  447\n",
      "-----------------------------\n"
     ]
    },
    {
     "name": "stderr",
     "output_type": "stream",
     "text": [
      "진행 중:  59%|█████▉    | 44/74 [04:36<03:05,  6.19s/it]"
     ]
    },
    {
     "name": "stdout",
     "output_type": "stream",
     "text": [
      "식당 이름: 라스키친\n",
      "식당 카테고리: 와인\n",
      "주소: 서울 강남구 테헤란로83길 40 2층\n",
      "대표 메뉴: burrata\n",
      "가격: 33,000원\n",
      "방문자리뷰 :  167\n",
      "블로그리뷰 :  263\n",
      "-----------------------------\n"
     ]
    },
    {
     "name": "stderr",
     "output_type": "stream",
     "text": [
      "진행 중:  61%|██████    | 45/74 [04:43<03:06,  6.43s/it]"
     ]
    },
    {
     "name": "stdout",
     "output_type": "stream",
     "text": [
      "식당 이름: 고반식당 가로수길점\n",
      "식당 카테고리: 돼지고기구이\n",
      "주소: 서울 강남구 강남대로156길 34\n",
      "대표 메뉴: 숙성 생삼겹살 160g\n",
      "가격: 16,000원\n",
      "방문자리뷰 :  945\n",
      "블로그리뷰 :  925\n",
      "-----------------------------\n"
     ]
    },
    {
     "name": "stderr",
     "output_type": "stream",
     "text": [
      "진행 중:  62%|██████▏   | 46/74 [04:50<03:05,  6.61s/it]"
     ]
    },
    {
     "name": "stdout",
     "output_type": "stream",
     "text": [
      "식당 이름: 바나프레소 역삼역점\n",
      "식당 카테고리: 바나프레소\n",
      "주소: 서울 강남구 강남대로94길 95 1층\n",
      "대표 메뉴: 스위티소금라떼\n",
      "가격: 4,300원\n",
      "방문자리뷰 :  1277\n",
      "블로그리뷰 :  17\n",
      "-----------------------------\n"
     ]
    },
    {
     "name": "stderr",
     "output_type": "stream",
     "text": [
      "진행 중:  64%|██████▎   | 47/74 [04:56<02:58,  6.60s/it]"
     ]
    },
    {
     "name": "stdout",
     "output_type": "stream",
     "text": [
      "식당 이름: 쌀통닭 개포역점\n",
      "식당 카테고리: 치킨,닭강정\n",
      "주소: 서울 강남구 개포로82길 13-9 세종빌딩\n",
      "대표 메뉴: 불닭발세트\n",
      "가격: 29,900원\n",
      "방문자리뷰 :  329\n",
      "블로그리뷰 :  49\n",
      "-----------------------------\n"
     ]
    },
    {
     "name": "stderr",
     "output_type": "stream",
     "text": [
      "진행 중:  65%|██████▍   | 48/74 [05:03<02:51,  6.60s/it]"
     ]
    },
    {
     "name": "stdout",
     "output_type": "stream",
     "text": [
      "식당 이름: 떡존 신사점\n",
      "식당 카테고리: 종합분식\n",
      "주소: 서울 강남구 논현로161길 37\n",
      "대표 메뉴: 매운떡볶이\n",
      "가격: 4,000원\n",
      "방문자리뷰 :  409\n",
      "블로그리뷰 :  67\n",
      "-----------------------------\n"
     ]
    },
    {
     "name": "stderr",
     "output_type": "stream",
     "text": [
      "진행 중:  66%|██████▌   | 49/74 [05:06<02:21,  5.66s/it]"
     ]
    },
    {
     "name": "stdout",
     "output_type": "stream",
     "text": [
      "에러 메시지: Message: no such element: Unable to locate element: {\"method\":\"css selector\",\"selector\":\"[id=\"searchIframe\"]\"}\n",
      "  (Session info: chrome=122.0.6261.129); For documentation on this error, please visit: https://www.selenium.dev/documentation/webdriver/troubleshooting/errors#no-such-element-exception\n",
      "Stacktrace:\n",
      "\tGetHandleVerifier [0x00007FF60C9EAD02+56930]\n",
      "\t(No symbol) [0x00007FF60C95F602]\n",
      "\t(No symbol) [0x00007FF60C8142E5]\n",
      "\t(No symbol) [0x00007FF60C8598ED]\n",
      "\t(No symbol) [0x00007FF60C859A2C]\n",
      "\t(No symbol) [0x00007FF60C89A967]\n",
      "\t(No symbol) [0x00007FF60C87BCDF]\n",
      "\t(No symbol) [0x00007FF60C8981E2]\n",
      "\t(No symbol) [0x00007FF60C87BA43]\n",
      "\t(No symbol) [0x00007FF60C84D438]\n",
      "\t(No symbol) [0x00007FF60C84E4D1]\n",
      "\tGetHandleVerifier [0x00007FF60CD66F8D+3711213]\n",
      "\tGetHandleVerifier [0x00007FF60CDC04CD+4077101]\n",
      "\tGetHandleVerifier [0x00007FF60CDB865F+4044735]\n",
      "\tGetHandleVerifier [0x00007FF60CA89736+706710]\n",
      "\t(No symbol) [0x00007FF60C96B8DF]\n",
      "\t(No symbol) [0x00007FF60C966AC4]\n",
      "\t(No symbol) [0x00007FF60C966C1C]\n",
      "\t(No symbol) [0x00007FF60C9568D4]\n",
      "\tBaseThreadInitThunk [0x00007FF98A93257D+29]\n",
      "\tRtlUserThreadStart [0x00007FF98B7CAA58+40]\n",
      "\n",
      "식당 이름: 학동로2길 51 매화양꼬치\n",
      "식당 카테고리: 전처리필요\n",
      "주소: 전처리필요\n",
      "대표 메뉴: 메뉴없음\n",
      "가격: 가격없음\n",
      "방문자리뷰 :  0\n",
      "블로그리뷰 :  0\n",
      "-----------------------------\n"
     ]
    },
    {
     "name": "stderr",
     "output_type": "stream",
     "text": [
      "진행 중:  68%|██████▊   | 50/74 [05:13<02:21,  5.91s/it]"
     ]
    },
    {
     "name": "stdout",
     "output_type": "stream",
     "text": [
      "식당 이름: 마포갈매기 신논현역점\n",
      "식당 카테고리: 돼지고기구이\n",
      "주소: 서울 강남구 강남대로110길 12\n",
      "대표 메뉴: 치즈갈매기\n",
      "가격: 13,900원\n",
      "방문자리뷰 :  462\n",
      "블로그리뷰 :  371\n",
      "-----------------------------\n"
     ]
    },
    {
     "name": "stderr",
     "output_type": "stream",
     "text": [
      "진행 중:  69%|██████▉   | 51/74 [05:19<02:20,  6.12s/it]"
     ]
    },
    {
     "name": "stdout",
     "output_type": "stream",
     "text": [
      "식당 이름: 히까리\n",
      "식당 카테고리: 이자카야\n",
      "주소: 서울 강남구 강남대로 506 2층\n",
      "대표 메뉴: 런치 오마카세\n",
      "가격: 45,000원\n",
      "방문자리뷰 :  67\n",
      "블로그리뷰 :  271\n",
      "-----------------------------\n"
     ]
    },
    {
     "name": "stderr",
     "output_type": "stream",
     "text": [
      "진행 중:  70%|███████   | 52/74 [05:26<02:18,  6.31s/it]"
     ]
    },
    {
     "name": "stdout",
     "output_type": "stream",
     "text": [
      "식당 이름: 쌍다리돼지불백 역삼직영점\n",
      "식당 카테고리: 돼지고기구이\n",
      "주소: 서울 강남구 강남대로94길 71\n",
      "대표 메뉴: 돼지불백 1인분\n",
      "가격: 12,000원\n",
      "방문자리뷰 :  518\n",
      "블로그리뷰 :  124\n",
      "-----------------------------\n"
     ]
    },
    {
     "name": "stderr",
     "output_type": "stream",
     "text": [
      "진행 중:  72%|███████▏  | 53/74 [05:33<02:13,  6.37s/it]"
     ]
    },
    {
     "name": "stdout",
     "output_type": "stream",
     "text": [
      "식당 이름: 오베로 압구정점\n",
      "식당 카테고리: 맥주,호프\n",
      "주소: 서울 강남구 압구정로30길 17\n",
      "대표 메뉴: 메뉴없음\n",
      "가격: 가격없음\n",
      "방문자리뷰 :  104\n",
      "블로그리뷰 :  2\n",
      "-----------------------------\n"
     ]
    },
    {
     "name": "stderr",
     "output_type": "stream",
     "text": [
      "진행 중:  73%|███████▎  | 54/74 [05:40<02:10,  6.53s/it]"
     ]
    },
    {
     "name": "stdout",
     "output_type": "stream",
     "text": [
      "식당 이름: 마이쏭\n",
      "식당 카테고리: 브런치\n",
      "주소: 서울 강남구 도산대로45길 16-4 1층\n",
      "대표 메뉴: 마이쏭 브런치 플레이트\n",
      "가격: 18,500원\n",
      "방문자리뷰 :  413\n",
      "블로그리뷰 :  644\n",
      "-----------------------------\n"
     ]
    },
    {
     "name": "stderr",
     "output_type": "stream",
     "text": [
      "진행 중:  74%|███████▍  | 55/74 [05:46<02:04,  6.56s/it]"
     ]
    },
    {
     "name": "stdout",
     "output_type": "stream",
     "text": [
      "식당 이름: 담미온 청담점\n",
      "식당 카테고리: 국밥\n",
      "주소: 서울 강남구 삼성로 771 백암빌딩\n",
      "대표 메뉴: 수육국밥\n",
      "가격: 10,000원\n",
      "방문자리뷰 :  600\n",
      "블로그리뷰 :  139\n",
      "-----------------------------\n"
     ]
    },
    {
     "name": "stderr",
     "output_type": "stream",
     "text": [
      "진행 중:  76%|███████▌  | 56/74 [05:53<01:58,  6.58s/it]"
     ]
    },
    {
     "name": "stdout",
     "output_type": "stream",
     "text": [
      "식당 이름: 더텍사스\n",
      "식당 카테고리: 맥주,호프\n",
      "주소: 서울 강남구 선릉로86길 48 2층\n",
      "대표 메뉴: 맥주, 음료 1FREE\n",
      "가격: 10,000원\n",
      "방문자리뷰 :  2\n",
      "블로그리뷰 :  1\n",
      "-----------------------------\n"
     ]
    },
    {
     "name": "stderr",
     "output_type": "stream",
     "text": [
      "진행 중:  77%|███████▋  | 57/74 [05:59<01:51,  6.54s/it]"
     ]
    },
    {
     "name": "stdout",
     "output_type": "stream",
     "text": [
      "식당 이름: 우가\n",
      "식당 카테고리: 소고기구이\n",
      "주소: 서울 강남구 도산대로49길 22 B1\n",
      "대표 메뉴: 와인 콜키지 무제한 Free\n",
      "가격: 무료\n",
      "방문자리뷰 :  939\n",
      "블로그리뷰 :  374\n",
      "-----------------------------\n"
     ]
    },
    {
     "name": "stderr",
     "output_type": "stream",
     "text": [
      "진행 중:  78%|███████▊  | 58/74 [06:04<01:35,  5.97s/it]"
     ]
    },
    {
     "name": "stdout",
     "output_type": "stream",
     "text": [
      "에러 메시지: Message: no such element: Unable to locate element: {\"method\":\"css selector\",\"selector\":\"[id=\"entryIframe\"]\"}\n",
      "  (Session info: chrome=122.0.6261.129); For documentation on this error, please visit: https://www.selenium.dev/documentation/webdriver/troubleshooting/errors#no-such-element-exception\n",
      "Stacktrace:\n",
      "\tGetHandleVerifier [0x00007FF60C9EAD02+56930]\n",
      "\t(No symbol) [0x00007FF60C95F602]\n",
      "\t(No symbol) [0x00007FF60C8142E5]\n",
      "\t(No symbol) [0x00007FF60C8598ED]\n",
      "\t(No symbol) [0x00007FF60C859A2C]\n",
      "\t(No symbol) [0x00007FF60C89A967]\n",
      "\t(No symbol) [0x00007FF60C87BCDF]\n",
      "\t(No symbol) [0x00007FF60C8981E2]\n",
      "\t(No symbol) [0x00007FF60C87BA43]\n",
      "\t(No symbol) [0x00007FF60C84D438]\n",
      "\t(No symbol) [0x00007FF60C84E4D1]\n",
      "\tGetHandleVerifier [0x00007FF60CD66F8D+3711213]\n",
      "\tGetHandleVerifier [0x00007FF60CDC04CD+4077101]\n",
      "\tGetHandleVerifier [0x00007FF60CDB865F+4044735]\n",
      "\tGetHandleVerifier [0x00007FF60CA89736+706710]\n",
      "\t(No symbol) [0x00007FF60C96B8DF]\n",
      "\t(No symbol) [0x00007FF60C966AC4]\n",
      "\t(No symbol) [0x00007FF60C966C1C]\n",
      "\t(No symbol) [0x00007FF60C9568D4]\n",
      "\tBaseThreadInitThunk [0x00007FF98A93257D+29]\n",
      "\tRtlUserThreadStart [0x00007FF98B7CAA58+40]\n",
      "\n",
      "식당 이름: 도산대로17길 12, 김봉남 포장마차\n",
      "식당 카테고리: 전처리필요\n",
      "주소: 전처리필요\n",
      "대표 메뉴: 메뉴없음\n",
      "가격: 가격없음\n",
      "방문자리뷰 :  0\n",
      "블로그리뷰 :  0\n",
      "-----------------------------\n"
     ]
    },
    {
     "name": "stderr",
     "output_type": "stream",
     "text": [
      "진행 중:  80%|███████▉  | 59/74 [06:11<01:32,  6.15s/it]"
     ]
    },
    {
     "name": "stdout",
     "output_type": "stream",
     "text": [
      "식당 이름: 학동나주곰탕\n",
      "식당 카테고리: 곰탕,설렁탕\n",
      "주소: 서울 강남구 논현로131길 7\n",
      "대표 메뉴: 나주곰탕\n",
      "가격: 9,000원\n",
      "방문자리뷰 :  182\n",
      "블로그리뷰 :  8\n",
      "-----------------------------\n"
     ]
    },
    {
     "name": "stderr",
     "output_type": "stream",
     "text": [
      "진행 중:  81%|████████  | 60/74 [06:15<01:19,  5.69s/it]"
     ]
    },
    {
     "name": "stdout",
     "output_type": "stream",
     "text": [
      "에러 메시지: Message: no such element: Unable to locate element: {\"method\":\"css selector\",\"selector\":\"[id=\"entryIframe\"]\"}\n",
      "  (Session info: chrome=122.0.6261.129); For documentation on this error, please visit: https://www.selenium.dev/documentation/webdriver/troubleshooting/errors#no-such-element-exception\n",
      "Stacktrace:\n",
      "\tGetHandleVerifier [0x00007FF60C9EAD02+56930]\n",
      "\t(No symbol) [0x00007FF60C95F602]\n",
      "\t(No symbol) [0x00007FF60C8142E5]\n",
      "\t(No symbol) [0x00007FF60C8598ED]\n",
      "\t(No symbol) [0x00007FF60C859A2C]\n",
      "\t(No symbol) [0x00007FF60C89A967]\n",
      "\t(No symbol) [0x00007FF60C87BCDF]\n",
      "\t(No symbol) [0x00007FF60C8981E2]\n",
      "\t(No symbol) [0x00007FF60C87BA43]\n",
      "\t(No symbol) [0x00007FF60C84D438]\n",
      "\t(No symbol) [0x00007FF60C84E4D1]\n",
      "\tGetHandleVerifier [0x00007FF60CD66F8D+3711213]\n",
      "\tGetHandleVerifier [0x00007FF60CDC04CD+4077101]\n",
      "\tGetHandleVerifier [0x00007FF60CDB865F+4044735]\n",
      "\tGetHandleVerifier [0x00007FF60CA89736+706710]\n",
      "\t(No symbol) [0x00007FF60C96B8DF]\n",
      "\t(No symbol) [0x00007FF60C966AC4]\n",
      "\t(No symbol) [0x00007FF60C966C1C]\n",
      "\t(No symbol) [0x00007FF60C9568D4]\n",
      "\tBaseThreadInitThunk [0x00007FF98A93257D+29]\n",
      "\tRtlUserThreadStart [0x00007FF98B7CAA58+40]\n",
      "\n",
      "식당 이름: 봉은사로108길 3-10 신의주 부대찌개\n",
      "식당 카테고리: 전처리필요\n",
      "주소: 전처리필요\n",
      "대표 메뉴: 메뉴없음\n",
      "가격: 가격없음\n",
      "방문자리뷰 :  0\n",
      "블로그리뷰 :  0\n",
      "-----------------------------\n"
     ]
    },
    {
     "name": "stderr",
     "output_type": "stream",
     "text": [
      "진행 중:  82%|████████▏ | 61/74 [06:19<01:05,  5.03s/it]"
     ]
    },
    {
     "name": "stdout",
     "output_type": "stream",
     "text": [
      "에러 메시지: Message: no such element: Unable to locate element: {\"method\":\"css selector\",\"selector\":\".YwYLL\"}\n",
      "  (Session info: chrome=122.0.6261.129); For documentation on this error, please visit: https://www.selenium.dev/documentation/webdriver/troubleshooting/errors#no-such-element-exception\n",
      "Stacktrace:\n",
      "\tGetHandleVerifier [0x00007FF60C9EAD02+56930]\n",
      "\t(No symbol) [0x00007FF60C95F602]\n",
      "\t(No symbol) [0x00007FF60C8142E5]\n",
      "\t(No symbol) [0x00007FF60C8598ED]\n",
      "\t(No symbol) [0x00007FF60C859A2C]\n",
      "\t(No symbol) [0x00007FF60C89A967]\n",
      "\t(No symbol) [0x00007FF60C87BCDF]\n",
      "\t(No symbol) [0x00007FF60C8981E2]\n",
      "\t(No symbol) [0x00007FF60C87BA43]\n",
      "\t(No symbol) [0x00007FF60C84D438]\n",
      "\t(No symbol) [0x00007FF60C84E4D1]\n",
      "\tGetHandleVerifier [0x00007FF60CD66F8D+3711213]\n",
      "\tGetHandleVerifier [0x00007FF60CDC04CD+4077101]\n",
      "\tGetHandleVerifier [0x00007FF60CDB865F+4044735]\n",
      "\tGetHandleVerifier [0x00007FF60CA89736+706710]\n",
      "\t(No symbol) [0x00007FF60C96B8DF]\n",
      "\t(No symbol) [0x00007FF60C966AC4]\n",
      "\t(No symbol) [0x00007FF60C966C1C]\n",
      "\t(No symbol) [0x00007FF60C9568D4]\n",
      "\tBaseThreadInitThunk [0x00007FF98A93257D+29]\n",
      "\tRtlUserThreadStart [0x00007FF98B7CAA58+40]\n",
      "\n",
      "식당 이름: 수서동 3-0번지 구구반점\n",
      "식당 카테고리: 전처리필요\n",
      "주소: 전처리필요\n",
      "대표 메뉴: 메뉴없음\n",
      "가격: 가격없음\n",
      "방문자리뷰 :  0\n",
      "블로그리뷰 :  0\n",
      "-----------------------------\n"
     ]
    },
    {
     "name": "stderr",
     "output_type": "stream",
     "text": [
      "진행 중:  84%|████████▍ | 62/74 [06:25<01:05,  5.49s/it]"
     ]
    },
    {
     "name": "stdout",
     "output_type": "stream",
     "text": [
      "식당 이름: 비재즈\n",
      "식당 카테고리: 한식\n",
      "주소: 서울 강남구 압구정로54길 6\n",
      "대표 메뉴: 제육덮밥\n",
      "가격: 8,000원\n",
      "방문자리뷰 :  98\n",
      "블로그리뷰 :  13\n",
      "-----------------------------\n"
     ]
    },
    {
     "name": "stderr",
     "output_type": "stream",
     "text": [
      "진행 중:  85%|████████▌ | 63/74 [06:32<01:04,  5.86s/it]"
     ]
    },
    {
     "name": "stdout",
     "output_type": "stream",
     "text": [
      "식당 이름: 우리생고기\n",
      "식당 카테고리: 육류,고기요리\n",
      "주소: 서울 강남구 개포로82길 13-17 대화빌딩 2층\n",
      "대표 메뉴: 생삼겹살\n",
      "가격: 17,000원\n",
      "방문자리뷰 :  260\n",
      "블로그리뷰 :  40\n",
      "-----------------------------\n"
     ]
    },
    {
     "name": "stderr",
     "output_type": "stream",
     "text": [
      "진행 중:  86%|████████▋ | 64/74 [06:39<01:00,  6.09s/it]"
     ]
    },
    {
     "name": "stdout",
     "output_type": "stream",
     "text": [
      "식당 이름: 기세끼 신사점\n",
      "식당 카테고리: 이자카야\n",
      "주소: 서울 강남구 강남대로152길 42 지하 1층\n",
      "대표 메뉴: 사시미 모리아와세\n",
      "가격: 45,000원\n",
      "방문자리뷰 :  305\n",
      "블로그리뷰 :  347\n",
      "-----------------------------\n"
     ]
    },
    {
     "name": "stderr",
     "output_type": "stream",
     "text": [
      "진행 중:  88%|████████▊ | 65/74 [06:45<00:56,  6.27s/it]"
     ]
    },
    {
     "name": "stdout",
     "output_type": "stream",
     "text": [
      "식당 이름: 마시아\n",
      "식당 카테고리: 한식\n",
      "주소: 서울 강남구 선릉로 514 지하1층 114호\n",
      "대표 메뉴: 알탕\n",
      "가격: 8,000원\n",
      "방문자리뷰 :  363\n",
      "블로그리뷰 :  5\n",
      "-----------------------------\n"
     ]
    },
    {
     "name": "stderr",
     "output_type": "stream",
     "text": [
      "진행 중:  89%|████████▉ | 66/74 [06:52<00:51,  6.38s/it]"
     ]
    },
    {
     "name": "stdout",
     "output_type": "stream",
     "text": [
      "식당 이름: 본투비\n",
      "식당 카테고리: 맥주,호프\n",
      "주소: 서울 강남구 삼성로104길 11\n",
      "대표 메뉴: 치킨\n",
      "가격: 17,000원\n",
      "방문자리뷰 :  118\n",
      "블로그리뷰 :  13\n",
      "-----------------------------\n"
     ]
    },
    {
     "name": "stderr",
     "output_type": "stream",
     "text": [
      "진행 중:  91%|█████████ | 67/74 [06:58<00:44,  6.42s/it]"
     ]
    },
    {
     "name": "stdout",
     "output_type": "stream",
     "text": [
      "식당 이름: 로얄출장부페\n",
      "식당 카테고리: 뷔페\n",
      "주소: 서울 강남구 남부순환로 2921 남서울종합상가 지하1층 1,9,10호\n",
      "대표 메뉴: S코스-5인분 홈파티\n",
      "가격: 159,000원\n",
      "방문자리뷰 :  36\n",
      "블로그리뷰 :  152\n",
      "-----------------------------\n"
     ]
    },
    {
     "name": "stderr",
     "output_type": "stream",
     "text": [
      "진행 중:  92%|█████████▏| 68/74 [07:05<00:38,  6.46s/it]"
     ]
    },
    {
     "name": "stdout",
     "output_type": "stream",
     "text": [
      "식당 이름: 수\n",
      "식당 카테고리: 바(BAR)\n",
      "주소: 서울 강남구 언주로93길 22-5 지하\n",
      "대표 메뉴: 메뉴없음\n",
      "가격: 가격없음\n",
      "방문자리뷰 :  40\n",
      "블로그리뷰 :  0\n",
      "-----------------------------\n"
     ]
    },
    {
     "name": "stderr",
     "output_type": "stream",
     "text": [
      "진행 중:  93%|█████████▎| 69/74 [07:11<00:32,  6.46s/it]"
     ]
    },
    {
     "name": "stdout",
     "output_type": "stream",
     "text": [
      "식당 이름: 가나안김밥\n",
      "식당 카테고리: 종합분식\n",
      "주소: 서울 강남구 역삼로 450 1층\n",
      "대표 메뉴: 콩나물 짬뽕라면\n",
      "가격: 5,000원\n",
      "방문자리뷰 :  372\n",
      "블로그리뷰 :  8\n",
      "-----------------------------\n"
     ]
    },
    {
     "name": "stderr",
     "output_type": "stream",
     "text": [
      "진행 중:  95%|█████████▍| 70/74 [07:18<00:25,  6.44s/it]"
     ]
    },
    {
     "name": "stdout",
     "output_type": "stream",
     "text": [
      "식당 이름: 중국전통요리링링\n",
      "식당 카테고리: 중식당\n",
      "주소: 서울 강남구 도산대로 521\n",
      "대표 메뉴: 마라탕\n",
      "가격: 3,000원\n",
      "방문자리뷰 :  143\n",
      "블로그리뷰 :  136\n",
      "-----------------------------\n"
     ]
    },
    {
     "name": "stderr",
     "output_type": "stream",
     "text": [
      "진행 중:  96%|█████████▌| 71/74 [07:24<00:19,  6.50s/it]"
     ]
    },
    {
     "name": "stdout",
     "output_type": "stream",
     "text": [
      "식당 이름: 풍년집 대치점\n",
      "식당 카테고리: 소고기구이\n",
      "주소: 서울 강남구 삼성로84길 22\n",
      "대표 메뉴: 참숯불 소갈비살\n",
      "가격: 17,000원\n",
      "방문자리뷰 :  378\n",
      "블로그리뷰 :  124\n",
      "-----------------------------\n"
     ]
    },
    {
     "name": "stderr",
     "output_type": "stream",
     "text": [
      "진행 중:  97%|█████████▋| 72/74 [07:31<00:13,  6.57s/it]"
     ]
    },
    {
     "name": "stdout",
     "output_type": "stream",
     "text": [
      "식당 이름: 경성양꼬치 선릉직영점\n",
      "식당 카테고리: 양꼬치\n",
      "주소: 서울 강남구 삼성로85길 39 가리온\n",
      "대표 메뉴: 고급갈비\n",
      "가격: 32,000원\n",
      "방문자리뷰 :  169\n",
      "블로그리뷰 :  122\n",
      "-----------------------------\n"
     ]
    },
    {
     "name": "stderr",
     "output_type": "stream",
     "text": [
      "진행 중:  99%|█████████▊| 73/74 [07:38<00:06,  6.60s/it]"
     ]
    },
    {
     "name": "stdout",
     "output_type": "stream",
     "text": [
      "식당 이름: 오발탄 대치점\n",
      "식당 카테고리: 곱창,막창,양\n",
      "주소: 서울 강남구 도곡로93길 7\n",
      "대표 메뉴: 특양구이\n",
      "가격: 43,000원\n",
      "방문자리뷰 :  223\n",
      "블로그리뷰 :  63\n",
      "-----------------------------\n"
     ]
    },
    {
     "name": "stderr",
     "output_type": "stream",
     "text": [
      "진행 중: 100%|██████████| 74/74 [07:44<00:00,  6.28s/it]"
     ]
    },
    {
     "name": "stdout",
     "output_type": "stream",
     "text": [
      "식당 이름: 룸카페헬로\n",
      "식당 카테고리: 룸카페\n",
      "주소: 서울 강남구 강남대로102길 16 까치빌딩 3층\n",
      "대표 메뉴: 메뉴없음\n",
      "가격: 가격없음\n",
      "방문자리뷰 :  107\n",
      "블로그리뷰 :  30\n",
      "-----------------------------\n"
     ]
    },
    {
     "name": "stderr",
     "output_type": "stream",
     "text": [
      "\n"
     ]
    }
   ],
   "source": [
    "# 가져올 정보들에 대한 리스트 지정\n",
    "# 가게명, 업태명, 주소, 주력메뉴(맨첫번째메뉴) + 가격까지, 방문자리뷰수,블로그리뷰수\n",
    "\n",
    "restaurant_name_list = []\n",
    "category_name_list = []\n",
    "address_list = []\n",
    "menu_list = []\n",
    "price_list = []\n",
    "visitor_review_list =[]\n",
    "blog_review_list =[]\n",
    "\n",
    "# 크롤링 시작합니다.\n",
    "total_iterations = len(res_df) # 크롤링 진행 과정을 파악하기 위해 tqdm 사용 \n",
    "for i in tqdm(range(total_iterations), desc='진행 중', position=0, leave=True):\n",
    "\n",
    "\n",
    "    # 검색어를 네이버 url에 포함시켜 이동 + 검색 \n",
    "        \n",
    "    name = res_df['검색어'][i]\n",
    "    driver.get('https://map.naver.com/p/search/{}'.format(name))\n",
    "\n",
    "        \n",
    "    time.sleep(3)  \n",
    "\n",
    "    ## 화면이 안넘어가고 검색결과에 머물러 있을 때는 entryIframe 이 없음\n",
    "    ## 그래서 검색어 쳤을때 entryIframe 있으면 --> 화면이 넘어갔다는 뜻이고 \n",
    "    ## 없으면 아직 안넘어간 뜻이니깐 searchIframe 에서 클릭해서 넘어가야함 .\n",
    "    try :\n",
    "        if driver.find_elements(By.ID,'entryIframe') :\n",
    "            entryIframe = driver.find_element(By.ID,'entryIframe')\n",
    "            driver.switch_to.frame(entryIframe)\n",
    "            \n",
    "            time.sleep(3) \n",
    "            \n",
    "            # 가게 이름, 변수로 지정\n",
    "            # 메뉴와 가격이 존재하는지의 여부를 고려 \n",
    "            # 매장마다 메뉴를 보여주는 테마가 2가지 존재하기 때문에 이를 고려\n",
    "\n",
    "            restaurant_name = driver.find_element(By.CLASS_NAME,'Fc1rA').text\n",
    "            category_name = driver.find_element(By.CLASS_NAME,'DJJvD').text\n",
    "            address = driver.find_element(By.CLASS_NAME,'LDgIH').text\n",
    "            if driver.find_elements(By.CLASS_NAME,'ihmWt') :\n",
    "                menu = driver.find_element(By.CLASS_NAME,'ihmWt').text\n",
    "                price = driver.find_element(By.CLASS_NAME,'mkBm3').text\n",
    "            elif driver.find_elements(By.CLASS_NAME,'VQvNX') :\n",
    "                menu = driver.find_element(By.CLASS_NAME,'VQvNX').text\n",
    "                price = driver.find_element(By.CLASS_NAME,'Yrsei').text\n",
    "            else : \n",
    "                menu = '메뉴없음'\n",
    "                price = \"가격없음\"\n",
    "            \n",
    "            # 리뷰 긁어오기 \n",
    "            # PXMot 클래스 요소들을 모두 찾음\n",
    "            # PXMot 는 리뷰의 클래스 이름인데 별점, 방문자리뷰, 블로그리뷰 총 3개가 존재\n",
    "            pxmot_elements = driver.find_elements(By.CLASS_NAME, 'PXMot')\n",
    "            \n",
    "            visitor_review = 0\n",
    "            blog_review = 0\n",
    "            # PXMot 가 존재할 때 (별점 방문자 블로그 중  뭐라도 존재)\n",
    "            if pxmot_elements:\n",
    "                for element in pxmot_elements:\n",
    "                    element_text = element.text\n",
    "                    if element_text.startswith('별점'):\n",
    "                        # 별점이 있으면 다음 요소 검사\n",
    "                        continue\n",
    "                    elif element_text.startswith('방문자리뷰'):\n",
    "                        # 방문자 리뷰가 존재하는 경우\n",
    "                        review_text = element_text.replace('방문자리뷰', '')\n",
    "                        # 쉼표(,) 제거 후 정수로 변환\n",
    "                        try : \n",
    "                            visitor_review = int(review_text.replace(',', '')) if ',' in review_text else int(review_text)\n",
    "                        except ValueError :\n",
    "                            visitor_review = 0\n",
    "                    elif element_text.startswith('블로그리뷰'):\n",
    "                        # 블로그 리뷰가 존재하는 경우\n",
    "                        review_text = element_text.replace('블로그리뷰', '')\n",
    "                        # 쉼표(,) 제거 후 정수로 변환\n",
    "                        try :\n",
    "                            blog_review = int(review_text.replace(',', '')) if ',' in review_text else int(review_text)\n",
    "                        except ValueError :\n",
    "                            blog_review = 0\n",
    "            # PXMot 가 없을 때(별점 방문자 블로그 중  뭐라도 존재x)\n",
    "            else  : \n",
    "                visitor_review = 0\n",
    "                blog_review = 0      \n",
    "        else: \n",
    "            # searchIframe 프레임 \n",
    "            # searchIframe 프레임으로 가야하는 경우는 검색했을 때 결과가 바로 안나오고 식당리스트가 먼저나오는 경우\n",
    "            # 그래서 searchIFrame에서 첫번쨰 식당을 선택하고 그다음에 entryIFrame으로 들어가야함\n",
    "            searchIframe = driver.find_element(By.ID,'searchIframe')\n",
    "            driver.switch_to.frame(searchIframe)\n",
    "\n",
    "\n",
    "            ## 클릭 \n",
    "            driver.find_element(By.CLASS_NAME,'YwYLL').click()\n",
    "            \n",
    "            # 기본프레임 \n",
    "            time.sleep(1)\n",
    "            driver.switch_to.default_content()\n",
    "        \n",
    "\n",
    "            # entryIframe 프레임 \n",
    "            entryIframe = driver.find_element(By.ID,'entryIframe')\n",
    "            driver.switch_to.frame(entryIframe)\n",
    "\n",
    "            time.sleep(3) \n",
    "            # 가게 이름, 변수로 지정\n",
    "            restaurant_name = driver.find_element(By.CLASS_NAME,'Fc1rA').text\n",
    "            category_name = driver.find_element(By.CLASS_NAME,'DJJvD').text\n",
    "            address = driver.find_element(By.CLASS_NAME,'LDgIH').text\n",
    "\n",
    "            # 메뉴와 가격이 존재하는지의 여부를 고려 \n",
    "            # 매장마다 메뉴를 보여주는 테마가 2가지 존재하기 때문에 이를 고려\n",
    "\n",
    "            if driver.find_elements(By.CLASS_NAME,'ihmWt') :\n",
    "                menu = driver.find_element(By.CLASS_NAME,'ihmWt').text\n",
    "                price = driver.find_element(By.CLASS_NAME,'mkBm3').text\n",
    "            elif driver.find_elements(By.CLASS_NAME,'VQvNX') :\n",
    "                menu = driver.find_element(By.CLASS_NAME,'VQvNX').text\n",
    "                price = driver.find_element(By.CLASS_NAME,'Yrsei').text\n",
    "            else : \n",
    "                menu = '메뉴없음'\n",
    "                price = \"가격없음\"\n",
    "\n",
    "            # 리뷰 수 긁어오기\n",
    "            # PXMot 클래스 요소들을 모두 찾음\n",
    "            # PXMot 는 리뷰의 클래스 이름인데 별점, 방문자리뷰, 블로그리뷰 총 3개가 존재\n",
    "            pxmot_elements = driver.find_elements(By.CLASS_NAME, 'PXMot')\n",
    "        \n",
    "            # PXMot 가 존재할 때 (별점 방문자 블로그 중  뭐라도 존재)\n",
    "            if pxmot_elements:\n",
    "                for element in pxmot_elements:\n",
    "                    element_text = element.text\n",
    "                    if element_text.startswith('별점'):\n",
    "                        # 별점이 있으면 다음 요소 검사\n",
    "                        continue\n",
    "                    elif element_text.startswith('방문자리뷰'):\n",
    "                        # 방문자 리뷰가 존재하는 경우\n",
    "                        review_text = element_text.replace('방문자리뷰', '')\n",
    "                        # 쉼표(,) 제거 후 정수로 변환\n",
    "                        try : \n",
    "                            visitor_review = int(review_text.replace(',', '')) if ',' in review_text else int(review_text)\n",
    "                        except ValueError :\n",
    "                            visitor_review = 0\n",
    "                    elif element_text.startswith('블로그리뷰'):\n",
    "                        # 블로그 리뷰가 존재하는 경우\n",
    "                        review_text = element_text.replace('블로그리뷰', '').strip()\n",
    "                        # 쉼표(,) 제거 후 정수로 변환\n",
    "                        try :\n",
    "                            blog_review = int(review_text.replace(',', '')) if ',' in review_text else int(review_text)\n",
    "                        except ValueError :\n",
    "                            blog_review = 0\n",
    "            # PXMot 가 없을 때(별점 방문자 블로그 중  뭐라도 존재x)\n",
    "            else  : \n",
    "                visitor_review = 0\n",
    "                blog_review = 0        \n",
    "    ## 예외처리 : vscode 상태가 안좋아서 그냥 검색이 안된경우 이거나 진짜 없는 식당일 때.\n",
    "    except Exception as e : \n",
    "        restaurant_name = name \n",
    "        category_name = '전처리필요'\n",
    "        address = '전처리필요'\n",
    "        menu = '메뉴없음'\n",
    "        price = \"가격없음\"\n",
    "        visitor_review = 0\n",
    "        blog_review = 0\n",
    "\n",
    "        print(f\"에러 메시지: {str(e)}\")\n",
    "\n",
    "\n",
    "    ## 리스트에 추가\n",
    "    restaurant_name_list.append(restaurant_name)\n",
    "    category_name_list.append(category_name)\n",
    "    address_list.append(address)\n",
    "    menu_list.append(menu)\n",
    "    price_list.append(price)\n",
    "    visitor_review_list.append(visitor_review)\n",
    "    blog_review_list.append(blog_review)\n",
    "\n",
    "    \n",
    "    print('식당 이름:',restaurant_name)\n",
    "    print('식당 카테고리:',category_name)\n",
    "    print('주소:',address)\n",
    "    print('대표 메뉴:',menu)\n",
    "    print('가격:',price)\n",
    "    print('방문자리뷰 : ',visitor_review)\n",
    "    print('블로그리뷰 : ',blog_review)\n",
    "    print('-----------------------------')\n",
    "res_info_df = pd.DataFrame({'식당이름':restaurant_name_list ,\n",
    "                             '업태구분' :category_name_list ,\n",
    "                             '주소' :address_list ,\n",
    "                             '메뉴': menu_list,\n",
    "                             '가격':price_list,\n",
    "                             '방문자리뷰':visitor_review_list,\n",
    "                             '블로그리뷰':blog_review_list,\n",
    "                             })\n",
    "driver.quit()\n",
    "\n",
    "## 결과 데이터에 검색어 칼럼 추가\n",
    "## 추후에 인덱스로 쓸 예정이기 떄문\n",
    "\n",
    "res_info_df['검색어'] = res_df['검색어']\n",
    "res_info_df.to_excel(f'./data/restaurant_info_data(2)/restaurant_info_data/restaurant_tag_df_{이름}_{start_num}_{end_num}.xlsx', index=False)\n",
    "\n",
    "# 100개 기준 16분 "
   ]
  },
  {
   "cell_type": "markdown",
   "metadata": {},
   "source": [
    "만약에 에러나면 에러난 식당의 리뷰가 그 전 식당의 리뷰수를 따라가더라 "
   ]
  },
  {
   "cell_type": "code",
   "execution_count": null,
   "metadata": {},
   "outputs": [],
   "source": [
    "# ## 잘 긁어왔나 확인합니다\n",
    "\n",
    "# res_info_df.head()"
   ]
  },
  {
   "cell_type": "code",
   "execution_count": null,
   "metadata": {},
   "outputs": [],
   "source": [
    "# ## 엑셀파일에 잘 저장합니다\n",
    "\n",
    "# res_info_df.to_excel('매장정보.xlsx')\n"
   ]
  },
  {
   "cell_type": "markdown",
   "metadata": {},
   "source": [
    "# --------------------------------------------------------------------------------------\n",
    "\n",
    "# 여기서부턴 파일 옮겨서 돌려야 할 듯 합니다\n",
    "\n",
    "# 업태가 뭐있는지 몰라서입니다  + 리뷰도 다른 파일에서 취합하는ㄱ네 맞는듯 싶습니다 \n"
   ]
  },
  {
   "cell_type": "code",
   "execution_count": null,
   "metadata": {},
   "outputs": [],
   "source": [
    "# res_info_df['업태구분'].unique()"
   ]
  },
  {
   "cell_type": "code",
   "execution_count": null,
   "metadata": {},
   "outputs": [],
   "source": [
    "# # 필요없는 카테고리(카페, 술, 출장요리 등등) 제거\n",
    "# 제외 = ['바나프레소','이자카야','바(BAR)','카페,디저트','요리주점','장소대여','카페','PC','예식장']\n",
    "# for i in 제외 :\n",
    "#     res_info_df = res_info_df.drop(res_info_df[res_info_df['업태구분'] == i].index)\n",
    "\n",
    "# len(res_info_df)"
   ]
  },
  {
   "cell_type": "code",
   "execution_count": null,
   "metadata": {},
   "outputs": [],
   "source": [
    "# res_info_df"
   ]
  },
  {
   "cell_type": "code",
   "execution_count": null,
   "metadata": {},
   "outputs": [],
   "source": [
    "# ## 한식 하나 더 만들어서 정렬되는지 확인하려고 만들었음 \n",
    "\n",
    "# res_info_df.loc[df_test_result['업태구분']=='한식뷔페','업태구분' ] = '한식'"
   ]
  },
  {
   "cell_type": "code",
   "execution_count": null,
   "metadata": {},
   "outputs": [],
   "source": [
    "# res_df_groupby = res_info_df.groupby('업태구분').apply(lambda x : x.sort_values(by='리뷰',ascending=False))\n"
   ]
  },
  {
   "cell_type": "code",
   "execution_count": null,
   "metadata": {},
   "outputs": [],
   "source": [
    "# res_df_groupby"
   ]
  },
  {
   "cell_type": "code",
   "execution_count": null,
   "metadata": {},
   "outputs": [],
   "source": [
    "\n",
    "# # 예제 데이터프레임 생성\n",
    "# test = pd.DataFrame({\n",
    "#     '업태구분': ['식당', '식당', '카페', '카페', '호텔', '호텔'],\n",
    "#     '리뷰': [5, 4, 3, 2, 1, 6]\n",
    "# })\n",
    "\n",
    "# # 상위 n개를 뽑는 함수 정의\n",
    "# def top_n(group, n=2):\n",
    "#     return group.head(n)\n",
    "\n",
    "# # '업태구분' 칼럼을 기준으로 그룹화하고, 각 그룹별로 정렬한 후 상위 2개의 데이터를 뽑아 새로운 데이터프레임으로 생성\n",
    "# test_groupby = test.groupby('업태구분', group_keys=False).apply(lambda x: x.sort_values(by='리뷰', ascending=False)).groupby('업태구분').apply(top_n, n=2)\n",
    "\n",
    "# print(test_groupby)"
   ]
  },
  {
   "cell_type": "code",
   "execution_count": null,
   "metadata": {},
   "outputs": [],
   "source": [
    "# res_df_groupby"
   ]
  },
  {
   "cell_type": "code",
   "execution_count": null,
   "metadata": {},
   "outputs": [],
   "source": [
    "# res_df_groupby.to_csv('매장_업태별_결과.csv')"
   ]
  }
 ],
 "metadata": {
  "kernelspec": {
   "display_name": "Python 3",
   "language": "python",
   "name": "python3"
  },
  "language_info": {
   "codemirror_mode": {
    "name": "ipython",
    "version": 3
   },
   "file_extension": ".py",
   "mimetype": "text/x-python",
   "name": "python",
   "nbconvert_exporter": "python",
   "pygments_lexer": "ipython3",
   "version": "3.10.5"
  }
 },
 "nbformat": 4,
 "nbformat_minor": 2
}
