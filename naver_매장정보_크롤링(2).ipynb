{
 "cells": [
  {
   "cell_type": "markdown",
   "metadata": {},
   "source": [
    "# 네이버 매장정보 크롤링\n",
    "\n",
    "### naver_매장존재확인_크롤링에서 만든 파일을 사용합니다"
   ]
  },
  {
   "cell_type": "code",
   "execution_count": 18,
   "metadata": {},
   "outputs": [],
   "source": [
    "# 웹 드라이버 설정\n",
    "from selenium import webdriver  \n",
    "from webdriver_manager.chrome import ChromeDriverManager \n",
    "\n",
    "# 대기 관련 라이브러리\n",
    "from selenium.webdriver.support.ui import WebDriverWait \n",
    "from selenium.webdriver.support import expected_conditions as EC \n",
    "\n",
    "# 예외 처리 관련 라이브러리\n",
    "from selenium.common.exceptions import TimeoutException, NoSuchElementException  \n",
    "\n",
    "# 웹 요소 찾기 관련 라이브러리\n",
    "from selenium.webdriver.common.by import By  \n",
    "from selenium.webdriver.support.ui import Select  \n",
    "from selenium.webdriver.common.keys import Keys  \n",
    "\n",
    "# 그 외 \n",
    "import time \n",
    "import warnings\n",
    "warnings.filterwarnings('ignore')\n",
    "from bs4 import BeautifulSoup \n",
    "import numpy as np  \n",
    "import pandas as pd \n",
    "import re  \n",
    "from tqdm import tqdm  "
   ]
  },
  {
   "cell_type": "markdown",
   "metadata": {},
   "source": [
    "데이터 가져오기"
   ]
  },
  {
   "cell_type": "code",
   "execution_count": 19,
   "metadata": {},
   "outputs": [],
   "source": [
    "# # 데이터 불러오기\n",
    "# original_res_df = pd.read_excel('combined_file.xlsx')\n",
    "# res_df = original_res_df.copy()\n",
    "# res_df = res_df.loc[res_df['검색여부'] == '가능'].reset_index(drop=True)\n",
    "# res_df.drop('Unnamed: 0', axis=1, inplace=True)\n",
    "\n",
    "\n",
    "# # 컬럼 순서 바꾸기 -> 보기 좋으라고 바꿈\n",
    "# res_df['검색어'] = res_df['상세주소'] + \" \" + res_df['사업장명']\n",
    "# column_order = ['검색어', '업태구분명', '사업장명', '사업장명_원본', '시도', '지역구', '상세주소', '소재지전체주소', '도로명전체주소', '좌표정보(x)', '좌표정보(y)', '검색여부', '영업상태명']\n",
    "# res_df = res_df[column_order]\n",
    "# res_df.tail()"
   ]
  },
  {
   "cell_type": "code",
   "execution_count": 20,
   "metadata": {},
   "outputs": [
    {
     "data": {
      "text/html": [
       "<div>\n",
       "<style scoped>\n",
       "    .dataframe tbody tr th:only-of-type {\n",
       "        vertical-align: middle;\n",
       "    }\n",
       "\n",
       "    .dataframe tbody tr th {\n",
       "        vertical-align: top;\n",
       "    }\n",
       "\n",
       "    .dataframe thead th {\n",
       "        text-align: right;\n",
       "    }\n",
       "</style>\n",
       "<table border=\"1\" class=\"dataframe\">\n",
       "  <thead>\n",
       "    <tr style=\"text-align: right;\">\n",
       "      <th></th>\n",
       "      <th>검색어</th>\n",
       "      <th>업태구분명</th>\n",
       "      <th>사업장명</th>\n",
       "      <th>사업장명_원본</th>\n",
       "      <th>시도</th>\n",
       "      <th>지역구</th>\n",
       "      <th>상세주소</th>\n",
       "      <th>소재지전체주소</th>\n",
       "      <th>도로명전체주소</th>\n",
       "      <th>좌표정보(x)</th>\n",
       "      <th>좌표정보(y)</th>\n",
       "      <th>검색여부</th>\n",
       "      <th>영업상태명</th>\n",
       "    </tr>\n",
       "  </thead>\n",
       "  <tbody>\n",
       "    <tr>\n",
       "      <th>0</th>\n",
       "      <td>언주로134길 29, 팔당푸드</td>\n",
       "      <td>김밥(도시락)</td>\n",
       "      <td>팔당푸드</td>\n",
       "      <td>팔당푸드</td>\n",
       "      <td>서울특별시</td>\n",
       "      <td>강남구</td>\n",
       "      <td>언주로134길 29,</td>\n",
       "      <td>서울특별시 강남구 논현동 113-25번지</td>\n",
       "      <td>서울특별시 강남구 언주로134길 29, 지상1층 (논현동)</td>\n",
       "      <td>203282.682258</td>\n",
       "      <td>446099.498941</td>\n",
       "      <td>가능</td>\n",
       "      <td>영업/정상</td>\n",
       "    </tr>\n",
       "    <tr>\n",
       "      <th>1</th>\n",
       "      <td>테헤란로 517, 나의가야</td>\n",
       "      <td>한식</td>\n",
       "      <td>나의가야</td>\n",
       "      <td>나의가야</td>\n",
       "      <td>서울특별시</td>\n",
       "      <td>강남구</td>\n",
       "      <td>테헤란로 517,</td>\n",
       "      <td>서울특별시 강남구 삼성동 159-7번지 현대백화점</td>\n",
       "      <td>서울특별시 강남구 테헤란로 517, 현대백화점 지상10층 (삼성동)</td>\n",
       "      <td>205210.358779</td>\n",
       "      <td>445154.422252</td>\n",
       "      <td>가능</td>\n",
       "      <td>영업/정상</td>\n",
       "    </tr>\n",
       "    <tr>\n",
       "      <th>2</th>\n",
       "      <td>도산대로75길 26, 청담99</td>\n",
       "      <td>한식</td>\n",
       "      <td>청담99</td>\n",
       "      <td>청담99</td>\n",
       "      <td>서울특별시</td>\n",
       "      <td>강남구</td>\n",
       "      <td>도산대로75길 26,</td>\n",
       "      <td>서울특별시 강남구 청담동 99-3번지</td>\n",
       "      <td>서울특별시 강남구 도산대로75길 26, 4층 (청담동, 가당빌딩)</td>\n",
       "      <td>203955.505490</td>\n",
       "      <td>447076.943748</td>\n",
       "      <td>가능</td>\n",
       "      <td>영업/정상</td>\n",
       "    </tr>\n",
       "    <tr>\n",
       "      <th>3</th>\n",
       "      <td>압구정로50길 5-12 빛나주</td>\n",
       "      <td>경양식</td>\n",
       "      <td>빛나주</td>\n",
       "      <td>빛나주</td>\n",
       "      <td>서울특별시</td>\n",
       "      <td>강남구</td>\n",
       "      <td>압구정로50길 5-12</td>\n",
       "      <td>서울특별시 강남구 신사동 661-10 지하1층</td>\n",
       "      <td>서울특별시 강남구 압구정로50길 5-12 (신사동,지하1층)</td>\n",
       "      <td>203405.290504</td>\n",
       "      <td>447261.135628</td>\n",
       "      <td>가능</td>\n",
       "      <td>영업/정상</td>\n",
       "    </tr>\n",
       "    <tr>\n",
       "      <th>4</th>\n",
       "      <td>개포로22길 10 서연옥</td>\n",
       "      <td>경양식</td>\n",
       "      <td>서연옥</td>\n",
       "      <td>서연옥</td>\n",
       "      <td>서울특별시</td>\n",
       "      <td>강남구</td>\n",
       "      <td>개포로22길 10</td>\n",
       "      <td>서울특별시 강남구 개포동 1231-4번지 지상1층</td>\n",
       "      <td>서울특별시 강남구 개포로22길 10 (개포동,지상1층)</td>\n",
       "      <td>204151.555648</td>\n",
       "      <td>441769.083699</td>\n",
       "      <td>가능</td>\n",
       "      <td>영업/정상</td>\n",
       "    </tr>\n",
       "  </tbody>\n",
       "</table>\n",
       "</div>"
      ],
      "text/plain": [
       "                검색어    업태구분명  사업장명 사업장명_원본     시도  지역구          상세주소  \\\n",
       "0  언주로134길 29, 팔당푸드  김밥(도시락)  팔당푸드    팔당푸드  서울특별시  강남구   언주로134길 29,   \n",
       "1    테헤란로 517, 나의가야       한식  나의가야    나의가야  서울특별시  강남구     테헤란로 517,   \n",
       "2  도산대로75길 26, 청담99       한식  청담99    청담99  서울특별시  강남구   도산대로75길 26,   \n",
       "3  압구정로50길 5-12 빛나주      경양식   빛나주     빛나주  서울특별시  강남구  압구정로50길 5-12   \n",
       "4     개포로22길 10 서연옥      경양식   서연옥     서연옥  서울특별시  강남구     개포로22길 10   \n",
       "\n",
       "                       소재지전체주소                                도로명전체주소  \\\n",
       "0       서울특별시 강남구 논현동 113-25번지       서울특별시 강남구 언주로134길 29, 지상1층 (논현동)   \n",
       "1  서울특별시 강남구 삼성동 159-7번지 현대백화점  서울특별시 강남구 테헤란로 517, 현대백화점 지상10층 (삼성동)   \n",
       "2         서울특별시 강남구 청담동 99-3번지   서울특별시 강남구 도산대로75길 26, 4층 (청담동, 가당빌딩)   \n",
       "3    서울특별시 강남구 신사동 661-10 지하1층      서울특별시 강남구 압구정로50길 5-12 (신사동,지하1층)   \n",
       "4  서울특별시 강남구 개포동 1231-4번지 지상1층         서울특별시 강남구 개포로22길 10 (개포동,지상1층)   \n",
       "\n",
       "         좌표정보(x)        좌표정보(y) 검색여부  영업상태명  \n",
       "0  203282.682258  446099.498941   가능  영업/정상  \n",
       "1  205210.358779  445154.422252   가능  영업/정상  \n",
       "2  203955.505490  447076.943748   가능  영업/정상  \n",
       "3  203405.290504  447261.135628   가능  영업/정상  \n",
       "4  204151.555648  441769.083699   가능  영업/정상  "
      ]
     },
     "execution_count": 20,
     "metadata": {},
     "output_type": "execute_result"
    }
   ],
   "source": [
    "이름 = '지선' # 본인 이름을 입력하세요\n",
    "\n",
    "# 데이터 불러오기\n",
    "original_res_df = pd.read_excel(f'data/restaurant_info_data(2)/{이름}.xlsx')\n",
    "original_df = original_res_df.copy()\n",
    "original_df.head()"
   ]
  },
  {
   "cell_type": "markdown",
   "metadata": {},
   "source": [
    "한번에 몇개씩 크롤링할지 결정"
   ]
  },
  {
   "cell_type": "code",
   "execution_count": 21,
   "metadata": {},
   "outputs": [
    {
     "data": {
      "text/html": [
       "<div>\n",
       "<style scoped>\n",
       "    .dataframe tbody tr th:only-of-type {\n",
       "        vertical-align: middle;\n",
       "    }\n",
       "\n",
       "    .dataframe tbody tr th {\n",
       "        vertical-align: top;\n",
       "    }\n",
       "\n",
       "    .dataframe thead th {\n",
       "        text-align: right;\n",
       "    }\n",
       "</style>\n",
       "<table border=\"1\" class=\"dataframe\">\n",
       "  <thead>\n",
       "    <tr style=\"text-align: right;\">\n",
       "      <th></th>\n",
       "      <th>검색어</th>\n",
       "      <th>업태구분명</th>\n",
       "      <th>사업장명</th>\n",
       "      <th>사업장명_원본</th>\n",
       "      <th>시도</th>\n",
       "      <th>지역구</th>\n",
       "      <th>상세주소</th>\n",
       "      <th>소재지전체주소</th>\n",
       "      <th>도로명전체주소</th>\n",
       "      <th>좌표정보(x)</th>\n",
       "      <th>좌표정보(y)</th>\n",
       "      <th>검색여부</th>\n",
       "      <th>영업상태명</th>\n",
       "    </tr>\n",
       "  </thead>\n",
       "  <tbody>\n",
       "    <tr>\n",
       "      <th>0</th>\n",
       "      <td>언주로134길 29, 팔당푸드</td>\n",
       "      <td>김밥(도시락)</td>\n",
       "      <td>팔당푸드</td>\n",
       "      <td>팔당푸드</td>\n",
       "      <td>서울특별시</td>\n",
       "      <td>강남구</td>\n",
       "      <td>언주로134길 29,</td>\n",
       "      <td>서울특별시 강남구 논현동 113-25번지</td>\n",
       "      <td>서울특별시 강남구 언주로134길 29, 지상1층 (논현동)</td>\n",
       "      <td>203282.682258</td>\n",
       "      <td>446099.498941</td>\n",
       "      <td>가능</td>\n",
       "      <td>영업/정상</td>\n",
       "    </tr>\n",
       "    <tr>\n",
       "      <th>1</th>\n",
       "      <td>테헤란로 517, 나의가야</td>\n",
       "      <td>한식</td>\n",
       "      <td>나의가야</td>\n",
       "      <td>나의가야</td>\n",
       "      <td>서울특별시</td>\n",
       "      <td>강남구</td>\n",
       "      <td>테헤란로 517,</td>\n",
       "      <td>서울특별시 강남구 삼성동 159-7번지 현대백화점</td>\n",
       "      <td>서울특별시 강남구 테헤란로 517, 현대백화점 지상10층 (삼성동)</td>\n",
       "      <td>205210.358779</td>\n",
       "      <td>445154.422252</td>\n",
       "      <td>가능</td>\n",
       "      <td>영업/정상</td>\n",
       "    </tr>\n",
       "    <tr>\n",
       "      <th>2</th>\n",
       "      <td>도산대로75길 26, 청담99</td>\n",
       "      <td>한식</td>\n",
       "      <td>청담99</td>\n",
       "      <td>청담99</td>\n",
       "      <td>서울특별시</td>\n",
       "      <td>강남구</td>\n",
       "      <td>도산대로75길 26,</td>\n",
       "      <td>서울특별시 강남구 청담동 99-3번지</td>\n",
       "      <td>서울특별시 강남구 도산대로75길 26, 4층 (청담동, 가당빌딩)</td>\n",
       "      <td>203955.505490</td>\n",
       "      <td>447076.943748</td>\n",
       "      <td>가능</td>\n",
       "      <td>영업/정상</td>\n",
       "    </tr>\n",
       "  </tbody>\n",
       "</table>\n",
       "</div>"
      ],
      "text/plain": [
       "                검색어    업태구분명  사업장명 사업장명_원본     시도  지역구         상세주소  \\\n",
       "0  언주로134길 29, 팔당푸드  김밥(도시락)  팔당푸드    팔당푸드  서울특별시  강남구  언주로134길 29,   \n",
       "1    테헤란로 517, 나의가야       한식  나의가야    나의가야  서울특별시  강남구    테헤란로 517,   \n",
       "2  도산대로75길 26, 청담99       한식  청담99    청담99  서울특별시  강남구  도산대로75길 26,   \n",
       "\n",
       "                       소재지전체주소                                도로명전체주소  \\\n",
       "0       서울특별시 강남구 논현동 113-25번지       서울특별시 강남구 언주로134길 29, 지상1층 (논현동)   \n",
       "1  서울특별시 강남구 삼성동 159-7번지 현대백화점  서울특별시 강남구 테헤란로 517, 현대백화점 지상10층 (삼성동)   \n",
       "2         서울특별시 강남구 청담동 99-3번지   서울특별시 강남구 도산대로75길 26, 4층 (청담동, 가당빌딩)   \n",
       "\n",
       "         좌표정보(x)        좌표정보(y) 검색여부  영업상태명  \n",
       "0  203282.682258  446099.498941   가능  영업/정상  \n",
       "1  205210.358779  445154.422252   가능  영업/정상  \n",
       "2  203955.505490  447076.943748   가능  영업/정상  "
      ]
     },
     "execution_count": 21,
     "metadata": {},
     "output_type": "execute_result"
    }
   ],
   "source": [
    "start_num = 0 # 할 차례, 여기를 계속 수정해주세요. \n",
    "num = 100 # 몇개씩 크롤링할지(기본은 100개를 추천합니다.)\n",
    "end_num = start_num + num\n",
    "res_df = original_df[start_num:end_num] # 맨 마지막 크롤링할떄는 end_num을 지우세요. [start_num:] <-이렇게 \n",
    "res_df = res_df.reset_index(drop=True)\n",
    "res_df.head(3)\n"
   ]
  },
  {
   "cell_type": "markdown",
   "metadata": {},
   "source": [
    "driver 세팅"
   ]
  },
  {
   "cell_type": "code",
   "execution_count": 22,
   "metadata": {},
   "outputs": [],
   "source": [
    "# webdriver_manager를 사용하여 ChromeDriver 다운로드 및 설정 \n",
    "driver = webdriver.Chrome(ChromeDriverManager().install())\n",
    "\n",
    "\n",
    "# # # webdriver_manager를 사용하여 ChromeDriver 다운로드 및 설정\n",
    "# import chromedriver_autoinstaller\n",
    "# chromedriver_autoinstaller.install()\n",
    "# driver = webdriver.Chrome()"
   ]
  },
  {
   "cell_type": "markdown",
   "metadata": {},
   "source": [
    "크롤링 시작"
   ]
  },
  {
   "cell_type": "code",
   "execution_count": 23,
   "metadata": {},
   "outputs": [
    {
     "name": "stderr",
     "output_type": "stream",
     "text": [
      "진행 중:   1%|          | 1/100 [00:06<10:10,  6.16s/it]"
     ]
    },
    {
     "name": "stdout",
     "output_type": "stream",
     "text": [
      "에러 메시지: Message: element click intercepted: Element <iframe id=\"searchIframe\" title=\"Naver Place Search\" src=\"https://pcmap.place.naver.com/place/list?query=%EC%96%B8%EC%A3%BC%EB%A1%9C134%EA%B8%B8%2029%2C%20%ED%8C%94%EB%8B%B9%ED%91%B8%EB%93%9C&amp;x=127.033357&amp;y=37.495484&amp;clientX=127.033357&amp;clientY=37.495484&amp;ts=1709800092191&amp;mapUrl=https%3A%2F%2Fmap.naver.com%2Fp%2Fsearch%2F%EC%96%B8%EC%A3%BC%EB%A1%9C134%EA%B8%B8%2029%2C%20%ED%8C%94%EB%8B%B9%ED%91%B8%EB%93%9C\" cd_frame_id_=\"7030d4b3a93e2d60cfa675ae7477197c\"></iframe> is not clickable at point (121, 106). Other element would receive the click: <div class=\"sc-tge8yo dGNdJi\">...</div>\n",
      "  (Session info: chrome=122.0.6261.95)\n",
      "\n",
      "식당 이름: 언주로134길 29, 팔당푸드\n",
      "식당 카테고리: 전처리필요\n",
      "주소: 전처리필요\n",
      "대표 메뉴: 메뉴없음\n",
      "가격: 가격없음\n",
      "방문자리뷰 :  0\n",
      "블로그리뷰 :  0\n",
      "-----------------------------\n"
     ]
    },
    {
     "name": "stderr",
     "output_type": "stream",
     "text": [
      "진행 중:   2%|▏         | 2/100 [00:15<13:22,  8.19s/it]"
     ]
    },
    {
     "name": "stdout",
     "output_type": "stream",
     "text": [
      "식당 이름: 나의가야\n",
      "식당 카테고리: 한식\n",
      "주소: 서울 강남구 테헤란로 517 현대백화점 무역센터점 10층\n",
      "대표 메뉴: 샤브샤브\n",
      "가격: 37,000원\n",
      "방문자리뷰 :  573\n",
      "블로그리뷰 :  102\n",
      "-----------------------------\n"
     ]
    },
    {
     "name": "stderr",
     "output_type": "stream",
     "text": [
      "진행 중:   3%|▎         | 3/100 [00:28<16:17, 10.08s/it]"
     ]
    },
    {
     "name": "stdout",
     "output_type": "stream",
     "text": [
      "식당 이름: 청담99\n",
      "식당 카테고리: 한식\n",
      "주소: 서울 강남구 도산대로75길 26\n",
      "대표 메뉴: 메뉴없음\n",
      "가격: 가격없음\n",
      "방문자리뷰 :  3\n",
      "블로그리뷰 :  102\n",
      "-----------------------------\n"
     ]
    },
    {
     "name": "stderr",
     "output_type": "stream",
     "text": [
      "진행 중:   4%|▍         | 4/100 [00:36<15:14,  9.53s/it]"
     ]
    },
    {
     "name": "stdout",
     "output_type": "stream",
     "text": [
      "식당 이름: 빛나주 압구정로데오점\n",
      "식당 카테고리: 요리주점\n",
      "주소: 서울 강남구 압구정로50길 5-12 지하1층\n",
      "대표 메뉴: 감귤소스 새우튀김\n",
      "가격: 22,000원\n",
      "방문자리뷰 :  141\n",
      "블로그리뷰 :  143\n",
      "-----------------------------\n"
     ]
    },
    {
     "name": "stderr",
     "output_type": "stream",
     "text": [
      "진행 중:   5%|▌         | 5/100 [00:45<14:33,  9.20s/it]"
     ]
    },
    {
     "name": "stdout",
     "output_type": "stream",
     "text": [
      "식당 이름: 서연옥\n",
      "식당 카테고리: 냉면\n",
      "주소: 울산 북구 괴정1길 122 1층 서연옥 본점\n",
      "대표 메뉴: 갈비찜 세트A\n",
      "가격: 65,000원\n",
      "방문자리뷰 :  546\n",
      "블로그리뷰 :  129\n",
      "-----------------------------\n"
     ]
    },
    {
     "name": "stderr",
     "output_type": "stream",
     "text": [
      "진행 중:   6%|▌         | 6/100 [00:54<14:28,  9.24s/it]"
     ]
    },
    {
     "name": "stdout",
     "output_type": "stream",
     "text": [
      "식당 이름: 아비꼬 압구정역점\n",
      "식당 카테고리: 카레\n",
      "주소: 서울 강남구 논현로171길 15 카로시티1\n",
      "대표 메뉴: 100시간카레\n",
      "가격: 7,200원\n",
      "방문자리뷰 :  429\n",
      "블로그리뷰 :  128\n",
      "-----------------------------\n"
     ]
    },
    {
     "name": "stderr",
     "output_type": "stream",
     "text": [
      "진행 중:   7%|▋         | 7/100 [01:03<13:57,  9.01s/it]"
     ]
    },
    {
     "name": "stdout",
     "output_type": "stream",
     "text": [
      "식당 이름: Fiera\n",
      "식당 카테고리: 양식\n",
      "주소: 서울 강남구 언주로 605 1층 5호\n",
      "대표 메뉴: Vongole\n",
      "가격: 14,000원\n",
      "방문자리뷰 :  243\n",
      "블로그리뷰 :  233\n",
      "-----------------------------\n"
     ]
    },
    {
     "name": "stderr",
     "output_type": "stream",
     "text": [
      "진행 중:   8%|▊         | 8/100 [01:12<13:55,  9.08s/it]"
     ]
    },
    {
     "name": "stdout",
     "output_type": "stream",
     "text": [
      "식당 이름: 한보식당\n",
      "식당 카테고리: 한식\n",
      "주소: 서울 강남구 남부순환로 2921 지하1층 11호\n",
      "대표 메뉴: 김치찌개\n",
      "가격: 5,000원\n",
      "방문자리뷰 :  91\n",
      "블로그리뷰 :  2\n",
      "-----------------------------\n"
     ]
    },
    {
     "name": "stderr",
     "output_type": "stream",
     "text": [
      "진행 중:   9%|▉         | 9/100 [01:21<13:43,  9.05s/it]"
     ]
    },
    {
     "name": "stdout",
     "output_type": "stream",
     "text": [
      "식당 이름: 네모오징어 강남파이낸스점\n",
      "식당 카테고리: 오징어요리\n",
      "주소: 서울 강남구 역삼로17길 61\n",
      "대표 메뉴: 갑오징어명란불고기\n",
      "가격: 38,000원\n",
      "방문자리뷰 :  607\n",
      "블로그리뷰 :  113\n",
      "-----------------------------\n"
     ]
    },
    {
     "name": "stderr",
     "output_type": "stream",
     "text": [
      "진행 중:  10%|█         | 10/100 [01:30<13:31,  9.02s/it]"
     ]
    },
    {
     "name": "stdout",
     "output_type": "stream",
     "text": [
      "식당 이름: 쟌비어\n",
      "식당 카테고리: 맥주,호프\n",
      "주소: 서울 강남구 강남대로98길 10 지하1층\n",
      "대표 메뉴: 클라우드생맥주\n",
      "가격: 3,900원\n",
      "방문자리뷰 :  106\n",
      "블로그리뷰 :  15\n",
      "-----------------------------\n"
     ]
    },
    {
     "name": "stderr",
     "output_type": "stream",
     "text": [
      "진행 중:  11%|█         | 11/100 [01:40<13:54,  9.37s/it]"
     ]
    },
    {
     "name": "stdout",
     "output_type": "stream",
     "text": [
      "식당 이름: 용수사\n",
      "식당 카테고리: 일식당\n",
      "주소: 서울 강남구 삼성로86길 7 삼성B.D 2F\n",
      "대표 메뉴: 모듬사시미(선)\n",
      "가격: 120,000원\n",
      "방문자리뷰 :  128\n",
      "블로그리뷰 :  151\n",
      "-----------------------------\n"
     ]
    },
    {
     "name": "stderr",
     "output_type": "stream",
     "text": [
      "진행 중:  12%|█▏        | 12/100 [01:58<17:40, 12.06s/it]"
     ]
    },
    {
     "name": "stdout",
     "output_type": "stream",
     "text": [
      "에러 메시지: Message: element click intercepted: Element <iframe id=\"searchIframe\" title=\"Naver Place Search\" src=\"https://pcmap.place.naver.com/place/list?query=%EB%B0%A4%EA%B3%A0%EA%B0%9C%EB%A1%9C14%EA%B8%B8%2013-50%20%EB%8B%A8%EB%AF%B8%EA%B7%B8%EB%A6%B0%EB%B9%84&amp;x=126.97825&amp;y=37.566551&amp;ts=1709800195400&amp;mapUrl=https%3A%2F%2Fmap.naver.com%2Fp%2Fsearch%2F%EB%B0%A4%EA%B3%A0%EA%B0%9C%EB%A1%9C14%EA%B8%B8%2013-50%20%EB%8B%A8%EB%AF%B8%EA%B7%B8%EB%A6%B0%EB%B9%84\" cd_frame_id_=\"93408b73d2110022daeaa4b7ff224df8\"></iframe> is not clickable at point (129, 106). Other element would receive the click: <iframe id=\"entryIframe\" title=\"Naver Place Entry\" src=\"https://pcmap.place.naver.com/place/36399035?from=map&amp;fromPanelNum=2&amp;timestamp=202403071730\"></iframe>\n",
      "  (Session info: chrome=122.0.6261.95)\n",
      "\n",
      "식당 이름: 밤고개로14길 13-50 단미그린비\n",
      "식당 카테고리: 전처리필요\n",
      "주소: 전처리필요\n",
      "대표 메뉴: 메뉴없음\n",
      "가격: 가격없음\n",
      "방문자리뷰 :  0\n",
      "블로그리뷰 :  0\n",
      "-----------------------------\n"
     ]
    },
    {
     "name": "stderr",
     "output_type": "stream",
     "text": [
      "진행 중:  13%|█▎        | 13/100 [02:07<16:11, 11.17s/it]"
     ]
    },
    {
     "name": "stdout",
     "output_type": "stream",
     "text": [
      "식당 이름: 작은집\n",
      "식당 카테고리: 한식\n",
      "주소: 서울 강남구 밤고개로1길 10 . 비102호\n",
      "대표 메뉴: 해물된장찌개\n",
      "가격: 9,000원\n",
      "방문자리뷰 :  379\n",
      "블로그리뷰 :  19\n",
      "-----------------------------\n"
     ]
    },
    {
     "name": "stderr",
     "output_type": "stream",
     "text": [
      "진행 중:  14%|█▍        | 14/100 [02:17<15:17, 10.67s/it]"
     ]
    },
    {
     "name": "stdout",
     "output_type": "stream",
     "text": [
      "식당 이름: 돼지네포차\n",
      "식당 카테고리: 포장마차\n",
      "주소: 서울 강남구 학동로81길 7\n",
      "대표 메뉴: 두부전\n",
      "가격: 10,000원\n",
      "방문자리뷰 :  51\n",
      "블로그리뷰 :  11\n",
      "-----------------------------\n"
     ]
    },
    {
     "name": "stderr",
     "output_type": "stream",
     "text": [
      "진행 중:  15%|█▌        | 15/100 [02:24<13:30,  9.53s/it]"
     ]
    },
    {
     "name": "stdout",
     "output_type": "stream",
     "text": [
      "에러 메시지: Message: element click intercepted: Element <iframe id=\"searchIframe\" title=\"Naver Place Search\" src=\"https://pcmap.place.naver.com/place/list?query=%EB%85%BC%ED%98%84%EB%A1%9C%20613%20%EB%8B%A4%EC%98%B4&amp;x=127.033357&amp;y=37.495484&amp;clientX=127.033357&amp;clientY=37.495484&amp;ts=1709800228827&amp;mapUrl=https%3A%2F%2Fmap.naver.com%2Fp%2Fsearch%2F%EB%85%BC%ED%98%84%EB%A1%9C%20613%20%EB%8B%A4%EC%98%B4\" cd_frame_id_=\"e5c71ae6ca6bf9eff6d5ea776fd1c201\"></iframe> is not clickable at point (165, 106). Other element would receive the click: <iframe id=\"entryIframe\" title=\"Naver Place Entry\" src=\"https://pcmap.place.naver.com/place/663621425?from=map&amp;fromPanelNum=2&amp;timestamp=202403071730\"></iframe>\n",
      "  (Session info: chrome=122.0.6261.95)\n",
      "\n",
      "식당 이름: 논현로 613 다옴\n",
      "식당 카테고리: 전처리필요\n",
      "주소: 전처리필요\n",
      "대표 메뉴: 메뉴없음\n",
      "가격: 가격없음\n",
      "방문자리뷰 :  0\n",
      "블로그리뷰 :  0\n",
      "-----------------------------\n"
     ]
    },
    {
     "name": "stderr",
     "output_type": "stream",
     "text": [
      "진행 중:  16%|█▌        | 16/100 [02:32<12:51,  9.18s/it]"
     ]
    },
    {
     "name": "stdout",
     "output_type": "stream",
     "text": [
      "식당 이름: 에픽버거\n",
      "식당 카테고리: 햄버거\n",
      "주소: 서울 강남구 삼성로 225 아주빌딩 102호 에픽버거\n",
      "대표 메뉴: 베이컨포테이토\n",
      "가격: 9,900원\n",
      "방문자리뷰 :  163\n",
      "블로그리뷰 :  14\n",
      "-----------------------------\n"
     ]
    },
    {
     "name": "stderr",
     "output_type": "stream",
     "text": [
      "진행 중:  17%|█▋        | 17/100 [02:42<12:54,  9.33s/it]"
     ]
    },
    {
     "name": "stdout",
     "output_type": "stream",
     "text": [
      "식당 이름: 감성캠핑 맥주창고\n",
      "식당 카테고리: 맥주,호프\n",
      "주소: 서울 강남구 봉은사로2길 17 지하1층\n",
      "대표 메뉴: 하이네켄 생맥주 세트\n",
      "가격: 48,900원\n",
      "방문자리뷰 :  86\n",
      "블로그리뷰 :  23\n",
      "-----------------------------\n"
     ]
    },
    {
     "name": "stderr",
     "output_type": "stream",
     "text": [
      "진행 중:  18%|█▊        | 18/100 [02:51<12:52,  9.42s/it]"
     ]
    },
    {
     "name": "stdout",
     "output_type": "stream",
     "text": [
      "식당 이름: 홍미닭발 신사본점\n",
      "식당 카테고리: 닭발\n",
      "주소: 서울 강남구 도산대로1길 6 1층 홍미닭발\n",
      "대표 메뉴: 통닭발\n",
      "가격: 16,000원\n",
      "방문자리뷰 :  1196\n",
      "블로그리뷰 :  705\n",
      "-----------------------------\n"
     ]
    },
    {
     "name": "stderr",
     "output_type": "stream",
     "text": [
      "진행 중:  19%|█▉        | 19/100 [03:01<12:46,  9.47s/it]"
     ]
    },
    {
     "name": "stdout",
     "output_type": "stream",
     "text": [
      "식당 이름: 돌곰네\n",
      "식당 카테고리: 해물,생선요리\n",
      "주소: 서울 강남구 언주로146길 18 동현상가 지하 돌곰네\n",
      "대표 메뉴: 돌문어톳쌈(대)\n",
      "가격: 58,000원\n",
      "방문자리뷰 :  655\n",
      "블로그리뷰 :  608\n",
      "-----------------------------\n"
     ]
    },
    {
     "name": "stderr",
     "output_type": "stream",
     "text": [
      "진행 중:  20%|██        | 20/100 [03:11<12:39,  9.49s/it]"
     ]
    },
    {
     "name": "stdout",
     "output_type": "stream",
     "text": [
      "식당 이름: Benebene2010\n",
      "식당 카테고리: 이탈리아음식\n",
      "주소: 서울 강남구 선릉로148길 52\n",
      "대표 메뉴: 이탈리아 가정식 점심코스\n",
      "가격: 38,000원\n",
      "방문자리뷰 :  426\n",
      "블로그리뷰 :  226\n",
      "-----------------------------\n"
     ]
    },
    {
     "name": "stderr",
     "output_type": "stream",
     "text": [
      "진행 중:  21%|██        | 21/100 [03:29<15:53, 12.07s/it]"
     ]
    },
    {
     "name": "stdout",
     "output_type": "stream",
     "text": [
      "에러 메시지: Message: element click intercepted: Element <iframe id=\"searchIframe\" title=\"Naver Place Search\" src=\"https://pcmap.place.naver.com/place/list?query=%ED%85%8C%ED%97%A4%EB%9E%80%EB%A1%9C52%EA%B8%B8%2016%2C%20%EB%8F%84%EB%8B%B4%EC%B9%98%ED%82%A8&amp;x=126.97825&amp;y=37.566551&amp;ts=1709800283305&amp;mapUrl=https%3A%2F%2Fmap.naver.com%2Fp%2Fsearch%2F%ED%85%8C%ED%97%A4%EB%9E%80%EB%A1%9C52%EA%B8%B8%2016%2C%20%EB%8F%84%EB%8B%B4%EC%B9%98%ED%82%A8\" cd_frame_id_=\"0d8e665158186f596bb87eabe0d0b07f\"></iframe> is not clickable at point (157, 106). Other element would receive the click: <div class=\"sc-tge8yo dGNdJi\">...</div>\n",
      "  (Session info: chrome=122.0.6261.95)\n",
      "\n",
      "식당 이름: 테헤란로52길 16, 도담치킨\n",
      "식당 카테고리: 전처리필요\n",
      "주소: 전처리필요\n",
      "대표 메뉴: 메뉴없음\n",
      "가격: 가격없음\n",
      "방문자리뷰 :  0\n",
      "블로그리뷰 :  0\n",
      "-----------------------------\n"
     ]
    },
    {
     "name": "stderr",
     "output_type": "stream",
     "text": [
      "진행 중:  22%|██▏       | 22/100 [03:39<14:57, 11.50s/it]"
     ]
    },
    {
     "name": "stdout",
     "output_type": "stream",
     "text": [
      "에러 메시지: Message: element click intercepted: Element <iframe id=\"searchIframe\" title=\"Naver Place Search\" src=\"https://pcmap.place.naver.com/place/list?query=%EB%85%BC%ED%98%84%EB%A1%9C%20334%20%EB%85%BC%EA%B3%A8%EC%A7%91&amp;x=127.033357&amp;y=37.495484&amp;clientX=127.033357&amp;clientY=37.495484&amp;ts=1709800302298&amp;mapUrl=https%3A%2F%2Fmap.naver.com%2Fp%2Fsearch%2F%EB%85%BC%ED%98%84%EB%A1%9C%20334%20%EB%85%BC%EA%B3%A8%EC%A7%91\" cd_frame_id_=\"2135d43a8102af1ab130418d570b08be\"></iframe> is not clickable at point (140, 106). Other element would receive the click: <iframe id=\"entryIframe\" title=\"Naver Place Entry\" src=\"https://pcmap.place.naver.com/place/13482651?from=map&amp;fromPanelNum=2&amp;timestamp=202403071731\"></iframe>\n",
      "  (Session info: chrome=122.0.6261.95)\n",
      "\n",
      "식당 이름: 논현로 334 논골집\n",
      "식당 카테고리: 전처리필요\n",
      "주소: 전처리필요\n",
      "대표 메뉴: 메뉴없음\n",
      "가격: 가격없음\n",
      "방문자리뷰 :  0\n",
      "블로그리뷰 :  0\n",
      "-----------------------------\n"
     ]
    },
    {
     "name": "stderr",
     "output_type": "stream",
     "text": [
      "진행 중:  23%|██▎       | 23/100 [03:49<14:07, 11.01s/it]"
     ]
    },
    {
     "name": "stdout",
     "output_type": "stream",
     "text": [
      "식당 이름: 텀블러비어 역삼직영점\n",
      "식당 카테고리: 맥주,호프\n",
      "주소: 서울 강남구 테헤란로20길 15 메이플라워멤버스빌오피스텔\n",
      "대표 메뉴: 고르곤졸라 피자\n",
      "가격: 22,000원\n",
      "방문자리뷰 :  290\n",
      "블로그리뷰 :  52\n",
      "-----------------------------\n"
     ]
    },
    {
     "name": "stderr",
     "output_type": "stream",
     "text": [
      "진행 중:  24%|██▍       | 24/100 [03:58<13:26, 10.61s/it]"
     ]
    },
    {
     "name": "stdout",
     "output_type": "stream",
     "text": [
      "식당 이름: 갤러리 로얄\n",
      "식당 카테고리: 갤러리,화랑\n",
      "주소: 서울 강남구 논현로 709 로얄라운지\n",
      "대표 메뉴: 메뉴없음\n",
      "가격: 가격없음\n",
      "방문자리뷰 :  5\n",
      "블로그리뷰 :  112\n",
      "-----------------------------\n"
     ]
    },
    {
     "name": "stderr",
     "output_type": "stream",
     "text": [
      "진행 중:  25%|██▌       | 25/100 [04:03<10:57,  8.77s/it]"
     ]
    },
    {
     "name": "stdout",
     "output_type": "stream",
     "text": [
      "에러 메시지: Message: no such element: Unable to locate element: {\"method\":\"css selector\",\"selector\":\"[id=\"searchIframe\"]\"}\n",
      "  (Session info: chrome=122.0.6261.95)\n",
      "\n",
      "식당 이름: 선릉로6길 9 개포마을\n",
      "식당 카테고리: 전처리필요\n",
      "주소: 전처리필요\n",
      "대표 메뉴: 메뉴없음\n",
      "가격: 가격없음\n",
      "방문자리뷰 :  0\n",
      "블로그리뷰 :  0\n",
      "-----------------------------\n"
     ]
    },
    {
     "name": "stderr",
     "output_type": "stream",
     "text": [
      "진행 중:  26%|██▌       | 26/100 [04:09<09:48,  7.96s/it]"
     ]
    },
    {
     "name": "stdout",
     "output_type": "stream",
     "text": [
      "에러 메시지: Message: no such element: Unable to locate element: {\"method\":\"css selector\",\"selector\":\"[id=\"searchIframe\"]\"}\n",
      "  (Session info: chrome=122.0.6261.95)\n",
      "\n",
      "식당 이름: 논현로167길 9 커피빈코리아\n",
      "식당 카테고리: 전처리필요\n",
      "주소: 전처리필요\n",
      "대표 메뉴: 메뉴없음\n",
      "가격: 가격없음\n",
      "방문자리뷰 :  0\n",
      "블로그리뷰 :  0\n",
      "-----------------------------\n"
     ]
    },
    {
     "name": "stderr",
     "output_type": "stream",
     "text": [
      "진행 중:  27%|██▋       | 27/100 [04:18<09:56,  8.17s/it]"
     ]
    },
    {
     "name": "stdout",
     "output_type": "stream",
     "text": [
      "식당 이름: 베이징코야 강남점\n",
      "식당 카테고리: 중식당\n",
      "주소: 서울 강남구 논현로86길 20 봉강빌딩 1층\n",
      "대표 메뉴: 북경오리\n",
      "가격: 89,000원\n",
      "방문자리뷰 :  394\n",
      "블로그리뷰 :  94\n",
      "-----------------------------\n"
     ]
    },
    {
     "name": "stderr",
     "output_type": "stream",
     "text": [
      "진행 중:  28%|██▊       | 28/100 [04:27<10:04,  8.39s/it]"
     ]
    },
    {
     "name": "stdout",
     "output_type": "stream",
     "text": [
      "식당 이름: 수서역 벌교한상\n",
      "식당 카테고리: 한식\n",
      "주소: 서울 강남구 광평로46길 7 벌교한상\n",
      "대표 메뉴: 점심한상\n",
      "가격: 13,000원\n",
      "방문자리뷰 :  1194\n",
      "블로그리뷰 :  3938\n",
      "-----------------------------\n"
     ]
    },
    {
     "name": "stderr",
     "output_type": "stream",
     "text": [
      "진행 중:  29%|██▉       | 29/100 [04:37<10:41,  9.04s/it]"
     ]
    },
    {
     "name": "stdout",
     "output_type": "stream",
     "text": [
      "식당 이름: 이츠돈까스\n",
      "식당 카테고리: 돈가스\n",
      "주소: 서울 강남구 도산대로37길 35 1층\n",
      "대표 메뉴: 돈가스 (2장)\n",
      "가격: 12,000원\n",
      "방문자리뷰 :  101\n",
      "블로그리뷰 :  20\n",
      "-----------------------------\n"
     ]
    },
    {
     "name": "stderr",
     "output_type": "stream",
     "text": [
      "진행 중:  30%|███       | 30/100 [04:46<10:20,  8.87s/it]"
     ]
    },
    {
     "name": "stdout",
     "output_type": "stream",
     "text": [
      "식당 이름: 맥주창고플러스\n",
      "식당 카테고리: 맥주,호프\n",
      "주소: 서울 강남구 선릉로129길 13\n",
      "대표 메뉴: 메뉴없음\n",
      "가격: 가격없음\n",
      "방문자리뷰 :  227\n",
      "블로그리뷰 :  23\n",
      "-----------------------------\n"
     ]
    },
    {
     "name": "stderr",
     "output_type": "stream",
     "text": [
      "진행 중:  31%|███       | 31/100 [04:54<10:10,  8.84s/it]"
     ]
    },
    {
     "name": "stdout",
     "output_type": "stream",
     "text": [
      "식당 이름: 알부자\n",
      "식당 카테고리: 해물,생선요리\n",
      "주소: 서울 강남구 강남대로98길 14 1층 알부자\n",
      "대표 메뉴: 알찜\n",
      "가격: 38,000~60,000\n",
      "방문자리뷰 :  5942\n",
      "블로그리뷰 :  1902\n",
      "-----------------------------\n"
     ]
    },
    {
     "name": "stderr",
     "output_type": "stream",
     "text": [
      "진행 중:  32%|███▏      | 32/100 [05:04<10:15,  9.05s/it]"
     ]
    },
    {
     "name": "stdout",
     "output_type": "stream",
     "text": [
      "식당 이름: 작품 파스타&피자\n",
      "식당 카테고리: 이탈리아음식\n",
      "주소: 서울 강남구 논현로30길 52 덕청빌딩 1층\n",
      "대표 메뉴: S모짜렐라 마르게리따 피자\n",
      "가격: 19,900원\n",
      "방문자리뷰 :  250\n",
      "블로그리뷰 :  52\n",
      "-----------------------------\n"
     ]
    },
    {
     "name": "stderr",
     "output_type": "stream",
     "text": [
      "진행 중:  33%|███▎      | 33/100 [05:13<10:03,  9.01s/it]"
     ]
    },
    {
     "name": "stdout",
     "output_type": "stream",
     "text": [
      "식당 이름: 남해안집\n",
      "식당 카테고리: 한식\n",
      "주소: 서울 강남구 논현로85길 29 1층 103호\n",
      "대표 메뉴: 사시미,숙성회,탕,튀김,초밥\n",
      "가격: 변동\n",
      "방문자리뷰 :  51\n",
      "블로그리뷰 :  42\n",
      "-----------------------------\n"
     ]
    },
    {
     "name": "stderr",
     "output_type": "stream",
     "text": [
      "진행 중:  34%|███▍      | 34/100 [05:22<09:52,  8.98s/it]"
     ]
    },
    {
     "name": "stdout",
     "output_type": "stream",
     "text": [
      "식당 이름: 일품장어\n",
      "식당 카테고리: 장어,먹장어요리\n",
      "주소: 서울 강남구 삼성로100길 14 1층\n",
      "대표 메뉴: 장어구이\n",
      "가격: 37,000원\n",
      "방문자리뷰 :  57\n",
      "블로그리뷰 :  54\n",
      "-----------------------------\n"
     ]
    },
    {
     "name": "stderr",
     "output_type": "stream",
     "text": [
      "진행 중:  35%|███▌      | 35/100 [05:31<09:48,  9.05s/it]"
     ]
    },
    {
     "name": "stdout",
     "output_type": "stream",
     "text": [
      "식당 이름: 정금식당\n",
      "식당 카테고리: 육류,고기요리\n",
      "주소: 서울 강남구 남부순환로 2615 극동스타클레스 110호\n",
      "대표 메뉴: 등심500g\n",
      "가격: 70,000원\n",
      "방문자리뷰 :  328\n",
      "블로그리뷰 :  42\n",
      "-----------------------------\n"
     ]
    },
    {
     "name": "stderr",
     "output_type": "stream",
     "text": [
      "진행 중:  36%|███▌      | 36/100 [05:47<11:51, 11.12s/it]"
     ]
    },
    {
     "name": "stdout",
     "output_type": "stream",
     "text": [
      "식당 이름: 막떼기\n",
      "식당 카테고리: 육류,고기요리\n",
      "주소: 서울 강남구 역삼로 420 8호 1층 막떼기\n",
      "대표 메뉴: 대구생왕막창 1인분(150g)\n",
      "가격: 15,000원\n",
      "방문자리뷰 :  75\n",
      "블로그리뷰 :  216\n",
      "-----------------------------\n"
     ]
    },
    {
     "name": "stderr",
     "output_type": "stream",
     "text": [
      "진행 중:  37%|███▋      | 37/100 [05:56<10:58, 10.46s/it]"
     ]
    },
    {
     "name": "stdout",
     "output_type": "stream",
     "text": [
      "식당 이름: 세광양대창 강남역중앙점\n",
      "식당 카테고리: 곱창,막창,양\n",
      "주소: 서울 강남구 강남대로94길 14 1층\n",
      "대표 메뉴: 모둠구이\n",
      "가격: 18,900원\n",
      "방문자리뷰 :  562\n",
      "블로그리뷰 :  475\n",
      "-----------------------------\n"
     ]
    },
    {
     "name": "stderr",
     "output_type": "stream",
     "text": [
      "진행 중:  38%|███▊      | 38/100 [06:06<10:39, 10.31s/it]"
     ]
    },
    {
     "name": "stdout",
     "output_type": "stream",
     "text": [
      "식당 이름: 보승회관 강남역직영점\n",
      "식당 카테고리: 국밥\n",
      "주소: 서울 강남구 테헤란로1길 17 101호\n",
      "대표 메뉴: 순대 항정수육 정식\n",
      "가격: 15,000원\n",
      "방문자리뷰 :  2248\n",
      "블로그리뷰 :  439\n",
      "-----------------------------\n"
     ]
    },
    {
     "name": "stderr",
     "output_type": "stream",
     "text": [
      "진행 중:  39%|███▉      | 39/100 [06:15<10:11, 10.02s/it]"
     ]
    },
    {
     "name": "stdout",
     "output_type": "stream",
     "text": [
      "식당 이름: 모리\n",
      "식당 카테고리: 일식당\n",
      "주소: 서울 강남구 삼성로84길 10\n",
      "대표 메뉴: 돈까스김치나베\n",
      "가격: 9,000원\n",
      "방문자리뷰 :  168\n",
      "블로그리뷰 :  17\n",
      "-----------------------------\n"
     ]
    },
    {
     "name": "stderr",
     "output_type": "stream",
     "text": [
      "진행 중:  40%|████      | 40/100 [06:25<10:02, 10.04s/it]"
     ]
    },
    {
     "name": "stdout",
     "output_type": "stream",
     "text": [
      "식당 이름: 바나프레소 대치점\n",
      "식당 카테고리: 바나프레소\n",
      "주소: 서울 강남구 테헤란로84길 14\n",
      "대표 메뉴: 스위티소금라떼\n",
      "가격: 4,300원\n",
      "방문자리뷰 :  1914\n",
      "블로그리뷰 :  20\n",
      "-----------------------------\n"
     ]
    },
    {
     "name": "stderr",
     "output_type": "stream",
     "text": [
      "진행 중:  41%|████      | 41/100 [06:33<09:14,  9.40s/it]"
     ]
    },
    {
     "name": "stdout",
     "output_type": "stream",
     "text": [
      "에러 메시지: Message: element click intercepted: Element <iframe id=\"searchIframe\" title=\"Naver Place Search\" src=\"https://pcmap.place.naver.com/place/list?query=%EB%85%BC%ED%98%84%EB%A1%9C18%EA%B8%B8%2015%2C%20%EC%8B%AC%EC%95%BC%EC%98%A4%EB%8E%85&amp;x=127.033357&amp;y=37.495484&amp;clientX=127.033357&amp;clientY=37.495484&amp;ts=1709800477099&amp;mapUrl=https%3A%2F%2Fmap.naver.com%2Fp%2Fsearch%2F%EB%85%BC%ED%98%84%EB%A1%9C18%EA%B8%B8%2015%2C%20%EC%8B%AC%EC%95%BC%EC%98%A4%EB%8E%85\" cd_frame_id_=\"49a9752bebadb5274c34cc95c6c30bfd\"></iframe> is not clickable at point (148, 106). Other element would receive the click: <iframe id=\"entryIframe\" title=\"Naver Place Entry\" src=\"https://pcmap.place.naver.com/place/1308965491?from=map&amp;fromPanelNum=2&amp;timestamp=202403071734\"></iframe>\n",
      "  (Session info: chrome=122.0.6261.95)\n",
      "\n",
      "식당 이름: 논현로18길 15, 심야오뎅\n",
      "식당 카테고리: 전처리필요\n",
      "주소: 전처리필요\n",
      "대표 메뉴: 메뉴없음\n",
      "가격: 가격없음\n",
      "방문자리뷰 :  0\n",
      "블로그리뷰 :  0\n",
      "-----------------------------\n"
     ]
    },
    {
     "name": "stderr",
     "output_type": "stream",
     "text": [
      "진행 중:  42%|████▏     | 42/100 [06:41<08:45,  9.06s/it]"
     ]
    },
    {
     "name": "stdout",
     "output_type": "stream",
     "text": [
      "에러 메시지: Message: element click intercepted: Element <iframe id=\"searchIframe\" title=\"Naver Place Search\" src=\"https://pcmap.place.naver.com/place/list?query=%EB%82%A8%EB%B6%80%EC%88%9C%ED%99%98%EB%A1%9C%202936%2C%20%EB%B0%94%EB%82%98%ED%94%84%EB%A0%88%EC%86%8C&amp;x=127.033357&amp;y=37.495484&amp;clientX=127.033357&amp;clientY=37.495484&amp;ts=1709800485220&amp;mapUrl=https%3A%2F%2Fmap.naver.com%2Fp%2Fsearch%2F%EB%82%A8%EB%B6%80%EC%88%9C%ED%99%98%EB%A1%9C%202936%2C%20%EB%B0%94%EB%82%98%ED%94%84%EB%A0%88%EC%86%8C\" cd_frame_id_=\"65872ff120ce3e9601d52d4c1c89593d\"></iframe> is not clickable at point (165, 106). Other element would receive the click: <iframe id=\"entryIframe\" title=\"Naver Place Entry\" src=\"https://pcmap.place.naver.com/place/1898081097?from=map&amp;fromPanelNum=2&amp;timestamp=202403071734\"></iframe>\n",
      "  (Session info: chrome=122.0.6261.95)\n",
      "\n",
      "식당 이름: 남부순환로 2936, 바나프레소\n",
      "식당 카테고리: 전처리필요\n",
      "주소: 전처리필요\n",
      "대표 메뉴: 메뉴없음\n",
      "가격: 가격없음\n",
      "방문자리뷰 :  0\n",
      "블로그리뷰 :  0\n",
      "-----------------------------\n"
     ]
    },
    {
     "name": "stderr",
     "output_type": "stream",
     "text": [
      "진행 중:  43%|████▎     | 43/100 [06:50<08:35,  9.04s/it]"
     ]
    },
    {
     "name": "stdout",
     "output_type": "stream",
     "text": [
      "식당 이름: 인사이드커피\n",
      "식당 카테고리: 카페,디저트\n",
      "주소: 서울 강남구 삼성로85길 33 1층 106호\n",
      "대표 메뉴: 카페라떼\n",
      "가격: 3,500원\n",
      "방문자리뷰 :  87\n",
      "블로그리뷰 :  8\n",
      "-----------------------------\n"
     ]
    },
    {
     "name": "stderr",
     "output_type": "stream",
     "text": [
      "진행 중:  44%|████▍     | 44/100 [07:00<08:32,  9.15s/it]"
     ]
    },
    {
     "name": "stdout",
     "output_type": "stream",
     "text": [
      "식당 이름: 카페 꼬미\n",
      "식당 카테고리: 카페,디저트\n",
      "주소: 서울 강남구 테헤란로53길 47 1층\n",
      "대표 메뉴: cmmis\n",
      "가격: 변동\n",
      "방문자리뷰 :  27\n",
      "블로그리뷰 :  4\n",
      "-----------------------------\n"
     ]
    },
    {
     "name": "stderr",
     "output_type": "stream",
     "text": [
      "진행 중:  45%|████▌     | 45/100 [07:12<09:14, 10.09s/it]"
     ]
    },
    {
     "name": "stdout",
     "output_type": "stream",
     "text": [
      "식당 이름: 브라운호프\n",
      "식당 카테고리: 맥주,호프\n",
      "주소: 서울 중구 퇴계로 252-1\n",
      "대표 메뉴: 후라이드한마리\n",
      "가격: 16,000원\n",
      "방문자리뷰 :  188\n",
      "블로그리뷰 :  134\n",
      "-----------------------------\n"
     ]
    },
    {
     "name": "stderr",
     "output_type": "stream",
     "text": [
      "진행 중:  46%|████▌     | 46/100 [07:19<08:19,  9.25s/it]"
     ]
    },
    {
     "name": "stdout",
     "output_type": "stream",
     "text": [
      "에러 메시지: Message: element click intercepted: Element <iframe id=\"searchIframe\" title=\"Naver Place Search\" src=\"https://pcmap.place.naver.com/place/list?query=%EB%85%BC%ED%98%84%EB%A1%9C38%EA%B8%B8%2018%2C%20%ED%83%9C%EC%98%81%EC%83%9D%EB%A7%89%EC%B0%BD&amp;x=127.033357&amp;y=37.495484&amp;clientX=127.033357&amp;clientY=37.495484&amp;ts=1709800524020&amp;mapUrl=https%3A%2F%2Fmap.naver.com%2Fp%2Fsearch%2F%EB%85%BC%ED%98%84%EB%A1%9C38%EA%B8%B8%2018%2C%20%ED%83%9C%EC%98%81%EC%83%9D%EB%A7%89%EC%B0%BD\" cd_frame_id_=\"e4a3014ce227d9f66682006736621bc6\"></iframe> is not clickable at point (165, 106). Other element would receive the click: <iframe id=\"entryIframe\" title=\"Naver Place Entry\" src=\"https://pcmap.place.naver.com/place/952289193?from=map&amp;fromPanelNum=2&amp;timestamp=202403071735\"></iframe>\n",
      "  (Session info: chrome=122.0.6261.95)\n",
      "\n",
      "식당 이름: 논현로38길 18, 태영생막창\n",
      "식당 카테고리: 전처리필요\n",
      "주소: 전처리필요\n",
      "대표 메뉴: 메뉴없음\n",
      "가격: 가격없음\n",
      "방문자리뷰 :  0\n",
      "블로그리뷰 :  0\n",
      "-----------------------------\n"
     ]
    },
    {
     "name": "stderr",
     "output_type": "stream",
     "text": [
      "진행 중:  47%|████▋     | 47/100 [07:29<08:10,  9.26s/it]"
     ]
    },
    {
     "name": "stdout",
     "output_type": "stream",
     "text": [
      "식당 이름: 진대감 삼성점\n",
      "식당 카테고리: 소고기구이\n",
      "주소: 서울 강남구 테헤란로81길 47\n",
      "대표 메뉴: 한우차돌삼합\n",
      "가격: 29,000원\n",
      "방문자리뷰 :  581\n",
      "블로그리뷰 :  295\n",
      "-----------------------------\n"
     ]
    },
    {
     "name": "stderr",
     "output_type": "stream",
     "text": [
      "진행 중:  48%|████▊     | 48/100 [07:39<08:12,  9.47s/it]"
     ]
    },
    {
     "name": "stdout",
     "output_type": "stream",
     "text": [
      "식당 이름: 스타벅스 청담스타R점\n",
      "식당 카테고리: 카페\n",
      "주소: 서울 강남구 도산대로57길 24\n",
      "대표 메뉴: 카스텔라 크럼블 딸기 블렌디드\n",
      "가격: 6,700원\n",
      "방문자리뷰 :  3332\n",
      "블로그리뷰 :  777\n",
      "-----------------------------\n"
     ]
    },
    {
     "name": "stderr",
     "output_type": "stream",
     "text": [
      "진행 중:  49%|████▉     | 49/100 [07:48<08:10,  9.61s/it]"
     ]
    },
    {
     "name": "stdout",
     "output_type": "stream",
     "text": [
      "식당 이름: 바르다김선생 논현아크로힐스점\n",
      "식당 카테고리: 분식\n",
      "주소: 서울 강남구 언주로 604 아크로힐스 논현상가 104호\n",
      "대표 메뉴: 2인세트\n",
      "가격: 22,000원\n",
      "방문자리뷰 :  496\n",
      "블로그리뷰 :  36\n",
      "-----------------------------\n"
     ]
    },
    {
     "name": "stderr",
     "output_type": "stream",
     "text": [
      "진행 중:  50%|█████     | 50/100 [07:58<07:54,  9.49s/it]"
     ]
    },
    {
     "name": "stdout",
     "output_type": "stream",
     "text": [
      "에러 메시지: Message: element click intercepted: Element <iframe id=\"searchIframe\" title=\"Naver Place Search\" src=\"https://pcmap.place.naver.com/place/list?query=%ED%85%8C%ED%97%A4%EB%9E%80%EB%A1%9C87%EA%B8%B8%2021%20%EB%A7%88%EB%85%B8%EB%94%94%EC%85%B0%ED%94%84&amp;x=127.033357&amp;y=37.495484&amp;clientX=127.033357&amp;clientY=37.495484&amp;ts=1709800560591&amp;mapUrl=https%3A%2F%2Fmap.naver.com%2Fp%2Fsearch%2F%ED%85%8C%ED%97%A4%EB%9E%80%EB%A1%9C87%EA%B8%B8%2021%20%EB%A7%88%EB%85%B8%EB%94%94%EC%85%B0%ED%94%84\" cd_frame_id_=\"90f76bfdcb16403905c4de70a8f7ab9c\"></iframe> is not clickable at point (157, 106). Other element would receive the click: <iframe id=\"entryIframe\" title=\"Naver Place Entry\" src=\"https://pcmap.place.naver.com/place/13096864?from=map&amp;fromPanelNum=2&amp;timestamp=202403071736\"></iframe>\n",
      "  (Session info: chrome=122.0.6261.95)\n",
      "\n",
      "식당 이름: 테헤란로87길 21 마노디셰프\n",
      "식당 카테고리: 전처리필요\n",
      "주소: 전처리필요\n",
      "대표 메뉴: 메뉴없음\n",
      "가격: 가격없음\n",
      "방문자리뷰 :  0\n",
      "블로그리뷰 :  0\n",
      "-----------------------------\n"
     ]
    },
    {
     "name": "stderr",
     "output_type": "stream",
     "text": [
      "진행 중:  51%|█████     | 51/100 [08:07<07:48,  9.56s/it]"
     ]
    },
    {
     "name": "stdout",
     "output_type": "stream",
     "text": [
      "식당 이름: 미소야 개포점\n",
      "식당 카테고리: 돈가스\n",
      "주소: 서울 강남구 개포로82길 7\n",
      "대표 메뉴: 히레카츠 정식\n",
      "가격: 9,500원\n",
      "방문자리뷰 :  208\n",
      "블로그리뷰 :  12\n",
      "-----------------------------\n"
     ]
    },
    {
     "name": "stderr",
     "output_type": "stream",
     "text": [
      "진행 중:  52%|█████▏    | 52/100 [08:17<07:42,  9.64s/it]"
     ]
    },
    {
     "name": "stdout",
     "output_type": "stream",
     "text": [
      "식당 이름: 대도식당 삼성점\n",
      "식당 카테고리: 소고기구이\n",
      "주소: 서울 강남구 삼성로 545 대도빌딩 1층 2층 3층\n",
      "대표 메뉴: 한우생등심(200g)\n",
      "가격: 55,000원\n",
      "방문자리뷰 :  530\n",
      "블로그리뷰 :  412\n",
      "-----------------------------\n"
     ]
    },
    {
     "name": "stderr",
     "output_type": "stream",
     "text": [
      "진행 중:  53%|█████▎    | 53/100 [08:27<07:33,  9.66s/it]"
     ]
    },
    {
     "name": "stdout",
     "output_type": "stream",
     "text": [
      "식당 이름: 마을로\n",
      "식당 카테고리: 바(BAR)\n",
      "주소: 서울 강남구 도산대로24길 4 2층 102호\n",
      "대표 메뉴: 원하는 메뉴\n",
      "가격: 변동\n",
      "방문자리뷰 :  0\n",
      "블로그리뷰 :  0\n",
      "-----------------------------\n"
     ]
    },
    {
     "name": "stderr",
     "output_type": "stream",
     "text": [
      "진행 중:  54%|█████▍    | 54/100 [08:36<07:10,  9.35s/it]"
     ]
    },
    {
     "name": "stdout",
     "output_type": "stream",
     "text": [
      "식당 이름: 비채\n",
      "식당 카테고리: 카페,디저트\n",
      "주소: 서울 강남구 강남대로58길 18\n",
      "대표 메뉴: 커피\n",
      "가격: 변동\n",
      "방문자리뷰 :  11\n",
      "블로그리뷰 :  0\n",
      "-----------------------------\n"
     ]
    },
    {
     "name": "stderr",
     "output_type": "stream",
     "text": [
      "진행 중:  55%|█████▌    | 55/100 [08:45<07:01,  9.37s/it]"
     ]
    },
    {
     "name": "stdout",
     "output_type": "stream",
     "text": [
      "식당 이름: 타미하우스 도곡점\n",
      "식당 카테고리: 카페\n",
      "주소: 서울 강남구 언주로30길 13 대림아크빌 지하1층\n",
      "대표 메뉴: 아메리카노\n",
      "가격: 2,800원\n",
      "방문자리뷰 :  175\n",
      "블로그리뷰 :  0\n",
      "-----------------------------\n"
     ]
    },
    {
     "name": "stderr",
     "output_type": "stream",
     "text": [
      "진행 중:  56%|█████▌    | 56/100 [08:55<07:03,  9.63s/it]"
     ]
    },
    {
     "name": "stdout",
     "output_type": "stream",
     "text": [
      "식당 이름: 경성양꼬치 청담점\n",
      "식당 카테고리: 양꼬치\n",
      "주소: 서울 강남구 도산대로 503\n",
      "대표 메뉴: 모듬꼬치\n",
      "가격: 40,000원\n",
      "방문자리뷰 :  110\n",
      "블로그리뷰 :  112\n",
      "-----------------------------\n"
     ]
    },
    {
     "name": "stderr",
     "output_type": "stream",
     "text": [
      "진행 중:  57%|█████▋    | 57/100 [09:04<06:47,  9.48s/it]"
     ]
    },
    {
     "name": "stdout",
     "output_type": "stream",
     "text": [
      "식당 이름: 놀부부대찌개 강남씨티점\n",
      "식당 카테고리: 찌개,전골\n",
      "주소: 서울 강남구 테헤란로1길 40\n",
      "대표 메뉴: 놀부부대찌개\n",
      "가격: 9,900원\n",
      "방문자리뷰 :  767\n",
      "블로그리뷰 :  125\n",
      "-----------------------------\n"
     ]
    },
    {
     "name": "stderr",
     "output_type": "stream",
     "text": [
      "진행 중:  58%|█████▊    | 58/100 [09:11<06:07,  8.74s/it]"
     ]
    },
    {
     "name": "stdout",
     "output_type": "stream",
     "text": [
      "에러 메시지: Message: no such element: Unable to locate element: {\"method\":\"css selector\",\"selector\":\"[id=\"entryIframe\"]\"}\n",
      "  (Session info: chrome=122.0.6261.95)\n",
      "\n",
      "식당 이름: 삼성로82길 19 고기집\n",
      "식당 카테고리: 전처리필요\n",
      "주소: 전처리필요\n",
      "대표 메뉴: 메뉴없음\n",
      "가격: 가격없음\n",
      "방문자리뷰 :  0\n",
      "블로그리뷰 :  0\n",
      "-----------------------------\n"
     ]
    },
    {
     "name": "stderr",
     "output_type": "stream",
     "text": [
      "진행 중:  59%|█████▉    | 59/100 [09:20<06:00,  8.79s/it]"
     ]
    },
    {
     "name": "stdout",
     "output_type": "stream",
     "text": [
      "식당 이름: 너무한육회연어\n",
      "식당 카테고리: 요리주점\n",
      "주소: 서울 강남구 테헤란로1길 19 B2\n",
      "대표 메뉴: 너무한 상차림小 (2~3인분)\n",
      "가격: 52,000원\n",
      "방문자리뷰 :  1023\n",
      "블로그리뷰 :  587\n",
      "-----------------------------\n"
     ]
    },
    {
     "name": "stderr",
     "output_type": "stream",
     "text": [
      "진행 중:  60%|██████    | 60/100 [09:31<06:15,  9.40s/it]"
     ]
    },
    {
     "name": "stdout",
     "output_type": "stream",
     "text": [
      "식당 이름: 풍천 숯불 명품웅장어\n",
      "식당 카테고리: 한식\n",
      "주소: 서울 강남구 선릉로93길 8 1층 104호\n",
      "대표 메뉴: 풍천민물장어(1KG)\n",
      "가격: 109,000원\n",
      "방문자리뷰 :  94\n",
      "블로그리뷰 :  34\n",
      "-----------------------------\n"
     ]
    },
    {
     "name": "stderr",
     "output_type": "stream",
     "text": [
      "진행 중:  61%|██████    | 61/100 [09:37<05:21,  8.24s/it]"
     ]
    },
    {
     "name": "stdout",
     "output_type": "stream",
     "text": [
      "에러 메시지: Message: no such element: Unable to locate element: {\"method\":\"css selector\",\"selector\":\"[id=\"entryIframe\"]\"}\n",
      "  (Session info: chrome=122.0.6261.95)\n",
      "\n",
      "식당 이름: 테헤란로8길 11-7 노란상 소갈비\n",
      "식당 카테고리: 전처리필요\n",
      "주소: 전처리필요\n",
      "대표 메뉴: 메뉴없음\n",
      "가격: 가격없음\n",
      "방문자리뷰 :  0\n",
      "블로그리뷰 :  0\n",
      "-----------------------------\n"
     ]
    },
    {
     "name": "stderr",
     "output_type": "stream",
     "text": [
      "진행 중:  62%|██████▏   | 62/100 [09:46<05:22,  8.49s/it]"
     ]
    },
    {
     "name": "stdout",
     "output_type": "stream",
     "text": [
      "식당 이름: 뻘밭에핀꽃\n",
      "식당 카테고리: 한식\n",
      "주소: 서울 강남구 테헤란로87길 21 동성빌딩 지하1층\n",
      "대표 메뉴: 꼬막야채비빔밥(꼬야)\n",
      "가격: 12,000원\n",
      "방문자리뷰 :  394\n",
      "블로그리뷰 :  231\n",
      "-----------------------------\n"
     ]
    },
    {
     "name": "stderr",
     "output_type": "stream",
     "text": [
      "진행 중:  63%|██████▎   | 63/100 [09:54<05:15,  8.53s/it]"
     ]
    },
    {
     "name": "stdout",
     "output_type": "stream",
     "text": [
      "식당 이름: 미스터시래기 대치점\n",
      "식당 카테고리: 육류,고기요리\n",
      "주소: 서울 강남구 삼성로63길 21\n",
      "대표 메뉴: 시래기한우전골\n",
      "가격: 21,000원\n",
      "방문자리뷰 :  214\n",
      "블로그리뷰 :  34\n",
      "-----------------------------\n"
     ]
    },
    {
     "name": "stderr",
     "output_type": "stream",
     "text": [
      "진행 중:  64%|██████▍   | 64/100 [10:06<05:37,  9.38s/it]"
     ]
    },
    {
     "name": "stdout",
     "output_type": "stream",
     "text": [
      "식당 이름: 그집갈비탕&매운갈비찜\n",
      "식당 카테고리: 육류,고기요리\n",
      "주소: 서울 강남구 개포로 230 영독빌딩\n",
      "대표 메뉴: 갈비탕\n",
      "가격: 15,000원\n",
      "방문자리뷰 :  234\n",
      "블로그리뷰 :  53\n",
      "-----------------------------\n"
     ]
    },
    {
     "name": "stderr",
     "output_type": "stream",
     "text": [
      "진행 중:  65%|██████▌   | 65/100 [10:17<05:43,  9.83s/it]"
     ]
    },
    {
     "name": "stdout",
     "output_type": "stream",
     "text": [
      "식당 이름: 온천집 스키야키\n",
      "식당 카테고리: 한식\n",
      "주소: 서울 강남구 압구정로42길 43 온천집 스키야키\n",
      "대표 메뉴: 온천집 1인 샤브샤브 (100g)\n",
      "가격: 21,000원\n",
      "방문자리뷰 :  1176\n",
      "블로그리뷰 :  823\n",
      "-----------------------------\n"
     ]
    },
    {
     "name": "stderr",
     "output_type": "stream",
     "text": [
      "진행 중:  66%|██████▌   | 66/100 [10:24<05:14,  9.25s/it]"
     ]
    },
    {
     "name": "stdout",
     "output_type": "stream",
     "text": [
      "식당 이름: 라라식당\n",
      "식당 카테고리: 육류,고기요리\n",
      "주소: 서울 강남구 테헤란로4길 6 지하1층 121호((지하철에서는 건물1층))\n",
      "대표 메뉴: 한돈 냉삼겹살\n",
      "가격: 17,000원\n",
      "방문자리뷰 :  135\n",
      "블로그리뷰 :  93\n",
      "-----------------------------\n"
     ]
    },
    {
     "name": "stderr",
     "output_type": "stream",
     "text": [
      "진행 중:  67%|██████▋   | 67/100 [10:34<05:09,  9.39s/it]"
     ]
    },
    {
     "name": "stdout",
     "output_type": "stream",
     "text": [
      "식당 이름: 왕스펍\n",
      "식당 카테고리: 맥주,호프\n",
      "주소: 서울 강남구 강남대로98길 11 메트로빌딩 1층\n",
      "대표 메뉴: 수비드학센\n",
      "가격: 35,000원\n",
      "방문자리뷰 :  787\n",
      "블로그리뷰 :  728\n",
      "-----------------------------\n"
     ]
    },
    {
     "name": "stderr",
     "output_type": "stream",
     "text": [
      "진행 중:  68%|██████▊   | 68/100 [10:43<04:59,  9.37s/it]"
     ]
    },
    {
     "name": "stdout",
     "output_type": "stream",
     "text": [
      "식당 이름: 데노체\n",
      "식당 카테고리: 바(BAR)\n",
      "주소: 서울 강남구 압구정로2길 46 1층\n",
      "대표 메뉴: 싱글몰트 위스키\n",
      "가격: 변동\n",
      "방문자리뷰 :  136\n",
      "블로그리뷰 :  43\n",
      "-----------------------------\n"
     ]
    },
    {
     "name": "stderr",
     "output_type": "stream",
     "text": [
      "진행 중:  69%|██████▉   | 69/100 [10:52<04:38,  8.99s/it]"
     ]
    },
    {
     "name": "stdout",
     "output_type": "stream",
     "text": [
      "에러 메시지: Message: element click intercepted: Element <iframe id=\"searchIframe\" title=\"Naver Place Search\" src=\"https://pcmap.place.naver.com/place/list?query=%EA%B0%95%EB%82%A8%EB%8C%80%EB%A1%9C122%EA%B8%B8%2030%2C%20%EB%A7%8C%EA%B5%AC%EA%B8%B0%EB%84%A4&amp;x=127.033357&amp;y=37.495484&amp;clientX=127.033357&amp;clientY=37.495484&amp;ts=1709800735719&amp;mapUrl=https%3A%2F%2Fmap.naver.com%2Fp%2Fsearch%2F%EA%B0%95%EB%82%A8%EB%8C%80%EB%A1%9C122%EA%B8%B8%2030%2C%20%EB%A7%8C%EA%B5%AC%EA%B8%B0%EB%84%A4\" cd_frame_id_=\"e2be712c71c1b1af8fd2a185d9385dd2\"></iframe> is not clickable at point (163, 106). Other element would receive the click: <iframe id=\"entryIframe\" title=\"Naver Place Entry\" src=\"https://pcmap.place.naver.com/place/1679293531?from=map&amp;fromPanelNum=2&amp;timestamp=202403071738\"></iframe>\n",
      "  (Session info: chrome=122.0.6261.95)\n",
      "\n",
      "식당 이름: 강남대로122길 30, 만구기네\n",
      "식당 카테고리: 전처리필요\n",
      "주소: 전처리필요\n",
      "대표 메뉴: 메뉴없음\n",
      "가격: 가격없음\n",
      "방문자리뷰 :  0\n",
      "블로그리뷰 :  0\n",
      "-----------------------------\n"
     ]
    },
    {
     "name": "stderr",
     "output_type": "stream",
     "text": [
      "진행 중:  70%|███████   | 70/100 [11:01<04:30,  9.00s/it]"
     ]
    },
    {
     "name": "stdout",
     "output_type": "stream",
     "text": [
      "식당 이름: 주요공간\n",
      "식당 카테고리: 양식\n",
      "주소: 서울 강남구 양재대로31길 6 1층\n",
      "대표 메뉴: 육회Set\n",
      "가격: 29,900원\n",
      "방문자리뷰 :  13\n",
      "블로그리뷰 :  2\n",
      "-----------------------------\n"
     ]
    },
    {
     "name": "stderr",
     "output_type": "stream",
     "text": [
      "진행 중:  71%|███████   | 71/100 [11:10<04:23,  9.08s/it]"
     ]
    },
    {
     "name": "stdout",
     "output_type": "stream",
     "text": [
      "식당 이름: 광수사\n",
      "식당 카테고리: 일식당\n",
      "주소: 서울 강남구 테헤란로77길 22\n",
      "대표 메뉴: C코스\n",
      "가격: 130,000원\n",
      "방문자리뷰 :  70\n",
      "블로그리뷰 :  17\n",
      "-----------------------------\n"
     ]
    },
    {
     "name": "stderr",
     "output_type": "stream",
     "text": [
      "진행 중:  72%|███████▏  | 72/100 [11:19<04:11,  8.98s/it]"
     ]
    },
    {
     "name": "stdout",
     "output_type": "stream",
     "text": [
      "식당 이름: 우주\n",
      "식당 카테고리: 한식\n",
      "주소: 서울 강남구 논현로30길 23 1층\n",
      "대표 메뉴: 1인\n",
      "가격: 75,000원\n",
      "방문자리뷰 :  31\n",
      "블로그리뷰 :  42\n",
      "-----------------------------\n"
     ]
    },
    {
     "name": "stderr",
     "output_type": "stream",
     "text": [
      "진행 중:  73%|███████▎  | 73/100 [11:28<04:09,  9.23s/it]"
     ]
    },
    {
     "name": "stdout",
     "output_type": "stream",
     "text": [
      "식당 이름: 동어동락 삼성본점\n",
      "식당 카테고리: 생선회\n",
      "주소: 서울 강남구 삼성로96길 7 동어동락 삼성본점\n",
      "대표 메뉴: 활!고등어회+특제양념장\n",
      "가격: 45,000원\n",
      "방문자리뷰 :  672\n",
      "블로그리뷰 :  481\n",
      "-----------------------------\n"
     ]
    },
    {
     "name": "stderr",
     "output_type": "stream",
     "text": [
      "진행 중:  74%|███████▍  | 74/100 [11:38<03:59,  9.23s/it]"
     ]
    },
    {
     "name": "stdout",
     "output_type": "stream",
     "text": [
      "식당 이름: 보노보노 삼성점\n",
      "식당 카테고리: 해산물뷔페\n",
      "주소: 서울 강남구 테헤란로 508 해성2빌딩 지하1층\n",
      "대표 메뉴: 평일점심성인\n",
      "가격: 65,000원\n",
      "방문자리뷰 :  8779\n",
      "블로그리뷰 :  1464\n",
      "-----------------------------\n"
     ]
    },
    {
     "name": "stderr",
     "output_type": "stream",
     "text": [
      "진행 중:  75%|███████▌  | 75/100 [11:48<03:55,  9.41s/it]"
     ]
    },
    {
     "name": "stdout",
     "output_type": "stream",
     "text": [
      "식당 이름: 골프존파크 역삼강남역점\n",
      "식당 카테고리: 스크린골프장\n",
      "주소: 서울 강남구 테헤란로7길 12 허바허바빌딩 지하1층\n",
      "대표 메뉴: 메뉴없음\n",
      "가격: 가격없음\n",
      "방문자리뷰 :  147\n",
      "블로그리뷰 :  34\n",
      "-----------------------------\n"
     ]
    },
    {
     "name": "stderr",
     "output_type": "stream",
     "text": [
      "진행 중:  76%|███████▌  | 76/100 [11:57<03:44,  9.37s/it]"
     ]
    },
    {
     "name": "stdout",
     "output_type": "stream",
     "text": [
      "식당 이름: 백암왕순대\n",
      "식당 카테고리: 순대,순댓국\n",
      "주소: 서울 강남구 선릉로129길 5\n",
      "대표 메뉴: 순대국밥(보통)\n",
      "가격: 10,000원\n",
      "방문자리뷰 :  834\n",
      "블로그리뷰 :  173\n",
      "-----------------------------\n"
     ]
    },
    {
     "name": "stderr",
     "output_type": "stream",
     "text": [
      "진행 중:  77%|███████▋  | 77/100 [12:06<03:36,  9.41s/it]"
     ]
    },
    {
     "name": "stdout",
     "output_type": "stream",
     "text": [
      "식당 이름: 프랭크버거 선릉역점\n",
      "식당 카테고리: 햄버거\n",
      "주소: 서울 강남구 선릉로86길 15 1층 102호\n",
      "대표 메뉴: 프랭크버거(R)\n",
      "가격: 4,600원\n",
      "방문자리뷰 :  586\n",
      "블로그리뷰 :  45\n",
      "-----------------------------\n"
     ]
    },
    {
     "name": "stderr",
     "output_type": "stream",
     "text": [
      "진행 중:  78%|███████▊  | 78/100 [12:16<03:26,  9.38s/it]"
     ]
    },
    {
     "name": "stdout",
     "output_type": "stream",
     "text": [
      "식당 이름: 삼성동커피볶는집\n",
      "식당 카테고리: 카페\n",
      "주소: 서울 강남구 봉은사로68길 49 진완빌딩\n",
      "대표 메뉴: 케냐AA\n",
      "가격: 5,000원\n",
      "방문자리뷰 :  469\n",
      "블로그리뷰 :  116\n",
      "-----------------------------\n"
     ]
    },
    {
     "name": "stderr",
     "output_type": "stream",
     "text": [
      "진행 중:  79%|███████▉  | 79/100 [12:25<03:16,  9.33s/it]"
     ]
    },
    {
     "name": "stdout",
     "output_type": "stream",
     "text": [
      "식당 이름: 쪼가리\n",
      "식당 카테고리: 포장마차\n",
      "주소: 서울 강남구 강남대로120길 31 1층쪼가리\n",
      "대표 메뉴: 고추장찌개\n",
      "가격: 25,000원\n",
      "방문자리뷰 :  71\n",
      "블로그리뷰 :  52\n",
      "-----------------------------\n"
     ]
    },
    {
     "name": "stderr",
     "output_type": "stream",
     "text": [
      "진행 중:  80%|████████  | 80/100 [12:34<03:05,  9.30s/it]"
     ]
    },
    {
     "name": "stdout",
     "output_type": "stream",
     "text": [
      "식당 이름: 양철집\n",
      "식당 카테고리: 돼지고기구이\n",
      "주소: 서울 강남구 언주로153길 16\n",
      "대표 메뉴: 김치찌개\n",
      "가격: 8,000원\n",
      "방문자리뷰 :  332\n",
      "블로그리뷰 :  118\n",
      "-----------------------------\n"
     ]
    },
    {
     "name": "stderr",
     "output_type": "stream",
     "text": [
      "진행 중:  81%|████████  | 81/100 [12:44<03:02,  9.61s/it]"
     ]
    },
    {
     "name": "stdout",
     "output_type": "stream",
     "text": [
      "식당 이름: 치킨뱅이 학동역점\n",
      "식당 카테고리: 치킨,닭강정\n",
      "주소: 서울 강남구 학동로23길 7\n",
      "대표 메뉴: 크리스피치킨\n",
      "가격: 18,000원\n",
      "방문자리뷰 :  264\n",
      "블로그리뷰 :  28\n",
      "-----------------------------\n"
     ]
    },
    {
     "name": "stderr",
     "output_type": "stream",
     "text": [
      "진행 중:  82%|████████▏ | 82/100 [12:53<02:46,  9.27s/it]"
     ]
    },
    {
     "name": "stdout",
     "output_type": "stream",
     "text": [
      "식당 이름: 밥위애\n",
      "식당 카테고리: 덮밥\n",
      "주소: 서울 강남구 논현로68길 13 지상1층 101호\n",
      "대표 메뉴: 스폐셜텐동\n",
      "가격: 17,000원\n",
      "방문자리뷰 :  94\n",
      "블로그리뷰 :  30\n",
      "-----------------------------\n"
     ]
    },
    {
     "name": "stderr",
     "output_type": "stream",
     "text": [
      "진행 중:  83%|████████▎ | 83/100 [13:05<02:50, 10.04s/it]"
     ]
    },
    {
     "name": "stdout",
     "output_type": "stream",
     "text": [
      "에러 메시지: Message: element click intercepted: Element <iframe id=\"searchIframe\" title=\"Naver Place Search\" src=\"https://pcmap.place.naver.com/place/list?query=%EA%B4%91%ED%8F%89%EB%A1%9C31%EA%B8%B8%2027%20%EA%B5%90%EC%B4%8C%EC%B9%98%ED%82%A8&amp;x=127.033357&amp;y=37.495484&amp;clientX=127.033357&amp;clientY=37.495484&amp;ts=1709800865665&amp;mapUrl=https%3A%2F%2Fmap.naver.com%2Fp%2Fsearch%2F%EA%B4%91%ED%8F%89%EB%A1%9C31%EA%B8%B8%2027%20%EA%B5%90%EC%B4%8C%EC%B9%98%ED%82%A8\" cd_frame_id_=\"813e70fca35dc2155edea7476d8b7ed9\"></iframe> is not clickable at point (165, 106). Other element would receive the click: <iframe id=\"entryIframe\" title=\"Naver Place Entry\" src=\"https://pcmap.place.naver.com/place/11802522?from=map&amp;fromPanelNum=2&amp;timestamp=202403071741\"></iframe>\n",
      "  (Session info: chrome=122.0.6261.95)\n",
      "\n",
      "식당 이름: 광평로31길 27 교촌치킨\n",
      "식당 카테고리: 전처리필요\n",
      "주소: 전처리필요\n",
      "대표 메뉴: 메뉴없음\n",
      "가격: 가격없음\n",
      "방문자리뷰 :  0\n",
      "블로그리뷰 :  0\n",
      "-----------------------------\n"
     ]
    },
    {
     "name": "stderr",
     "output_type": "stream",
     "text": [
      "진행 중:  84%|████████▍ | 84/100 [13:15<02:39, 10.00s/it]"
     ]
    },
    {
     "name": "stdout",
     "output_type": "stream",
     "text": [
      "식당 이름: 개성칡냉면\n",
      "식당 카테고리: 냉면\n",
      "주소: 서울 강남구 일원로9길 12\n",
      "대표 메뉴: 개성물냉면\n",
      "가격: 10,000원\n",
      "방문자리뷰 :  597\n",
      "블로그리뷰 :  61\n",
      "-----------------------------\n"
     ]
    },
    {
     "name": "stderr",
     "output_type": "stream",
     "text": [
      "진행 중:  85%|████████▌ | 85/100 [13:19<02:04,  8.31s/it]"
     ]
    },
    {
     "name": "stdout",
     "output_type": "stream",
     "text": [
      "에러 메시지: Message: no such element: Unable to locate element: {\"method\":\"css selector\",\"selector\":\".YwYLL\"}\n",
      "  (Session info: chrome=122.0.6261.95)\n",
      "\n",
      "식당 이름: 헌릉로569길 13, 역전우동 0410\n",
      "식당 카테고리: 전처리필요\n",
      "주소: 전처리필요\n",
      "대표 메뉴: 메뉴없음\n",
      "가격: 가격없음\n",
      "방문자리뷰 :  0\n",
      "블로그리뷰 :  0\n",
      "-----------------------------\n"
     ]
    },
    {
     "name": "stderr",
     "output_type": "stream",
     "text": [
      "진행 중:  86%|████████▌ | 86/100 [13:28<01:57,  8.42s/it]"
     ]
    },
    {
     "name": "stdout",
     "output_type": "stream",
     "text": [
      "식당 이름: 스시안\n",
      "식당 카테고리: 초밥,롤\n",
      "주소: 서울 강남구 논현로146길 13 1층\n",
      "대표 메뉴: 모듬초밥\n",
      "가격: 16,000원\n",
      "방문자리뷰 :  185\n",
      "블로그리뷰 :  30\n",
      "-----------------------------\n"
     ]
    },
    {
     "name": "stderr",
     "output_type": "stream",
     "text": [
      "진행 중:  87%|████████▋ | 87/100 [13:38<01:55,  8.86s/it]"
     ]
    },
    {
     "name": "stdout",
     "output_type": "stream",
     "text": [
      "식당 이름: 르 사이트\n",
      "식당 카테고리: 카페\n",
      "주소: 서울 강남구 도산대로11길 22\n",
      "대표 메뉴: EinSpanner\n",
      "가격: 6,300원\n",
      "방문자리뷰 :  914\n",
      "블로그리뷰 :  401\n",
      "-----------------------------\n"
     ]
    },
    {
     "name": "stderr",
     "output_type": "stream",
     "text": [
      "진행 중:  88%|████████▊ | 88/100 [13:47<01:48,  9.03s/it]"
     ]
    },
    {
     "name": "stdout",
     "output_type": "stream",
     "text": [
      "식당 이름: 사또치킨\n",
      "식당 카테고리: 치킨,닭강정\n",
      "주소: 서울 강남구 도산대로90길 3\n",
      "대표 메뉴: 후라이드치킨\n",
      "가격: 20,000원\n",
      "방문자리뷰 :  91\n",
      "블로그리뷰 :  22\n",
      "-----------------------------\n"
     ]
    },
    {
     "name": "stderr",
     "output_type": "stream",
     "text": [
      "진행 중:  89%|████████▉ | 89/100 [13:59<01:50, 10.08s/it]"
     ]
    },
    {
     "name": "stdout",
     "output_type": "stream",
     "text": [
      "에러 메시지: Message: element click intercepted: Element <iframe id=\"searchIframe\" title=\"Naver Place Search\" src=\"https://pcmap.place.naver.com/place/list?query=%ED%85%8C%ED%97%A4%EB%9E%80%EB%A1%9C33%EA%B8%B8%2023%20%EB%8F%BC%EC%A7%80%ED%86%B5&amp;x=126.97825&amp;y=37.566551&amp;ts=1709800920939&amp;mapUrl=https%3A%2F%2Fmap.naver.com%2Fp%2Fsearch%2F%ED%85%8C%ED%97%A4%EB%9E%80%EB%A1%9C33%EA%B8%B8%2023%20%EB%8F%BC%EC%A7%80%ED%86%B5\" cd_frame_id_=\"8fd082f77fc52ceaae1ef62a1943266e\"></iframe> is not clickable at point (153, 106). Other element would receive the click: <div class=\"sc-tge8yo dGNdJi\">...</div>\n",
      "  (Session info: chrome=122.0.6261.95)\n",
      "\n",
      "식당 이름: 테헤란로33길 23 돼지통\n",
      "식당 카테고리: 전처리필요\n",
      "주소: 전처리필요\n",
      "대표 메뉴: 메뉴없음\n",
      "가격: 가격없음\n",
      "방문자리뷰 :  0\n",
      "블로그리뷰 :  0\n",
      "-----------------------------\n"
     ]
    },
    {
     "name": "stderr",
     "output_type": "stream",
     "text": [
      "진행 중:  90%|█████████ | 90/100 [14:19<02:10, 13.02s/it]"
     ]
    },
    {
     "name": "stdout",
     "output_type": "stream",
     "text": [
      "에러 메시지: Message: element click intercepted: Element <iframe id=\"searchIframe\" title=\"Naver Place Search\" src=\"https://pcmap.place.naver.com/place/list?query=%EB%8F%84%EC%82%B0%EB%8C%80%EB%A1%9C%20510%2C%20%EC%B2%AD%EB%8B%B4%EB%8F%99%20%EC%88%9C%EB%8F%84%EB%A6%AC&amp;x=126.97825&amp;y=37.566551&amp;ts=1709800934260&amp;mapUrl=https%3A%2F%2Fmap.naver.com%2Fp%2Fsearch%2F%EB%8F%84%EC%82%B0%EB%8C%80%EB%A1%9C%20510%2C%20%EC%B2%AD%EB%8B%B4%EB%8F%99%20%EC%88%9C%EB%8F%84%EB%A6%AC\" cd_frame_id_=\"4c931c65ba9b82012856bdc626ef13ae\"></iframe> is not clickable at point (140, 106). Other element would receive the click: <iframe id=\"entryIframe\" title=\"Naver Place Entry\" src=\"https://pcmap.place.naver.com/place/1691368632?from=map&amp;fromPanelNum=2&amp;timestamp=202403071742\"></iframe>\n",
      "  (Session info: chrome=122.0.6261.95)\n",
      "\n",
      "식당 이름: 도산대로 510, 청담동 순도리\n",
      "식당 카테고리: 전처리필요\n",
      "주소: 전처리필요\n",
      "대표 메뉴: 메뉴없음\n",
      "가격: 가격없음\n",
      "방문자리뷰 :  0\n",
      "블로그리뷰 :  0\n",
      "-----------------------------\n"
     ]
    },
    {
     "name": "stderr",
     "output_type": "stream",
     "text": [
      "진행 중:  91%|█████████ | 91/100 [14:31<01:53, 12.63s/it]"
     ]
    },
    {
     "name": "stdout",
     "output_type": "stream",
     "text": [
      "식당 이름: 신사 모소리\n",
      "식당 카테고리: 육류,고기요리\n",
      "주소: 서울 강남구 도산대로1길 24 1층 신사모소리\n",
      "대표 메뉴: 모소리살+가오리살+가로막살\n",
      "가격: 46,000원\n",
      "방문자리뷰 :  2421\n",
      "블로그리뷰 :  804\n",
      "-----------------------------\n"
     ]
    },
    {
     "name": "stderr",
     "output_type": "stream",
     "text": [
      "진행 중:  92%|█████████▏| 92/100 [14:41<01:34, 11.83s/it]"
     ]
    },
    {
     "name": "stdout",
     "output_type": "stream",
     "text": [
      "식당 이름: 스시바라 자곡점\n",
      "식당 카테고리: 초밥,롤\n",
      "주소: 서울 강남구 밤고개로 231 강남훼미리타운 A동110호\n",
      "대표 메뉴: 모듬초밥\n",
      "가격: 14,000원\n",
      "방문자리뷰 :  179\n",
      "블로그리뷰 :  24\n",
      "-----------------------------\n"
     ]
    },
    {
     "name": "stderr",
     "output_type": "stream",
     "text": [
      "진행 중:  93%|█████████▎| 93/100 [14:51<01:18, 11.26s/it]"
     ]
    },
    {
     "name": "stdout",
     "output_type": "stream",
     "text": [
      "식당 이름: 이모네\n",
      "식당 카테고리: 한식\n",
      "주소: 서울 강남구 강남대로128길 27 1층 104호\n",
      "대표 메뉴: 아구찜\n",
      "가격: 38,000원\n",
      "방문자리뷰 :  62\n",
      "블로그리뷰 :  5\n",
      "-----------------------------\n"
     ]
    },
    {
     "name": "stderr",
     "output_type": "stream",
     "text": [
      "진행 중:  94%|█████████▍| 94/100 [14:59<01:02, 10.36s/it]"
     ]
    },
    {
     "name": "stdout",
     "output_type": "stream",
     "text": [
      "식당 이름: 문어야 도곡동본점\n",
      "식당 카테고리: 해물,생선요리\n",
      "주소: 서울 강남구 논현로38길 38-5 윤정빌딩\n",
      "대표 메뉴: 혼술세트\n",
      "가격: 17,000원\n",
      "방문자리뷰 :  52\n",
      "블로그리뷰 :  33\n",
      "-----------------------------\n"
     ]
    },
    {
     "name": "stderr",
     "output_type": "stream",
     "text": [
      "진행 중:  95%|█████████▌| 95/100 [15:11<00:53, 10.69s/it]"
     ]
    },
    {
     "name": "stdout",
     "output_type": "stream",
     "text": [
      "에러 메시지: Message: no such element: Unable to locate element: {\"method\":\"css selector\",\"selector\":\"[id=\"entryIframe\"]\"}\n",
      "  (Session info: chrome=122.0.6261.95)\n",
      "\n",
      "식당 이름: 광평로47길 17, 서울식당\n",
      "식당 카테고리: 전처리필요\n",
      "주소: 전처리필요\n",
      "대표 메뉴: 메뉴없음\n",
      "가격: 가격없음\n",
      "방문자리뷰 :  0\n",
      "블로그리뷰 :  0\n",
      "-----------------------------\n"
     ]
    },
    {
     "name": "stderr",
     "output_type": "stream",
     "text": [
      "진행 중:  96%|█████████▌| 96/100 [15:21<00:41, 10.43s/it]"
     ]
    },
    {
     "name": "stdout",
     "output_type": "stream",
     "text": [
      "식당 이름: 서문성\n",
      "식당 카테고리: 중식당\n",
      "주소: 서울 강남구 광평로51길 22 한아름아파트\n",
      "대표 메뉴: 짜장면\n",
      "가격: 6,000원\n",
      "방문자리뷰 :  479\n",
      "블로그리뷰 :  5\n",
      "-----------------------------\n"
     ]
    },
    {
     "name": "stderr",
     "output_type": "stream",
     "text": [
      "진행 중:  97%|█████████▋| 97/100 [15:37<00:37, 12.38s/it]"
     ]
    },
    {
     "name": "stdout",
     "output_type": "stream",
     "text": [
      "식당 이름: 멕시칸치킨 대치2점\n",
      "식당 카테고리: 치킨,닭강정\n",
      "주소: 서울 강남구 삼성로 347 대일빌딩\n",
      "대표 메뉴: 마늘양념치킨\n",
      "가격: 17,000원\n",
      "방문자리뷰 :  58\n",
      "블로그리뷰 :  9\n",
      "-----------------------------\n"
     ]
    },
    {
     "name": "stderr",
     "output_type": "stream",
     "text": [
      "진행 중:  98%|█████████▊| 98/100 [15:46<00:22, 11.15s/it]"
     ]
    },
    {
     "name": "stdout",
     "output_type": "stream",
     "text": [
      "식당 이름: 뉴 델리\n",
      "식당 카테고리: 인도음식\n",
      "주소: 서울 강남구 논현로176길 28\n",
      "대표 메뉴: 플레인난Plain naan\n",
      "가격: 2,500원\n",
      "방문자리뷰 :  390\n",
      "블로그리뷰 :  157\n",
      "-----------------------------\n"
     ]
    },
    {
     "name": "stderr",
     "output_type": "stream",
     "text": [
      "진행 중:  99%|█████████▉| 99/100 [15:55<00:10, 10.53s/it]"
     ]
    },
    {
     "name": "stdout",
     "output_type": "stream",
     "text": [
      "식당 이름: 풍천가 청담점\n",
      "식당 카테고리: 장어,먹장어요리\n",
      "주소: 서울 강남구 도산대로56길 7\n",
      "대표 메뉴: 강화갯벌장어(330g)\n",
      "가격: 78,000원\n",
      "방문자리뷰 :  531\n",
      "블로그리뷰 :  686\n",
      "-----------------------------\n"
     ]
    },
    {
     "name": "stderr",
     "output_type": "stream",
     "text": [
      "진행 중: 100%|██████████| 100/100 [16:04<00:00,  9.65s/it]"
     ]
    },
    {
     "name": "stdout",
     "output_type": "stream",
     "text": [
      "식당 이름: 이자카야 규네\n",
      "식당 카테고리: 이자카야\n",
      "주소: 서울 강남구 역삼로5길 21 1층\n",
      "대표 메뉴: 토리나베\n",
      "가격: 28,000원\n",
      "방문자리뷰 :  111\n",
      "블로그리뷰 :  93\n",
      "-----------------------------\n"
     ]
    },
    {
     "name": "stderr",
     "output_type": "stream",
     "text": [
      "\n"
     ]
    }
   ],
   "source": [
    "# 가져올 정보들에 대한 리스트 지정\n",
    "# 가게명, 업태명, 주소, 주력메뉴(맨첫번째메뉴) + 가격까지, 방문자리뷰수,블로그리뷰수\n",
    "\n",
    "restaurant_name_list = []\n",
    "category_name_list = []\n",
    "address_list = []\n",
    "menu_list = []\n",
    "price_list = []\n",
    "visitor_review_list =[]\n",
    "blog_review_list =[]\n",
    "\n",
    "# 크롤링 시작합니다.\n",
    "total_iterations = len(res_df) # 크롤링 진행 과정을 파악하기 위해 tqdm 사용 \n",
    "for i in tqdm(range(total_iterations), desc='진행 중', position=0, leave=True):\n",
    "\n",
    "\n",
    "    # 검색어를 네이버 url에 포함시켜 이동 + 검색 \n",
    "        \n",
    "    name = res_df['검색어'][i]\n",
    "    driver.get('https://map.naver.com/p/search/{}'.format(name))\n",
    "\n",
    "        \n",
    "    time.sleep(3)  \n",
    "\n",
    "    ## 화면이 안넘어가고 검색결과에 머물러 있을 때는 entryIframe 이 없음\n",
    "    ## 그래서 검색어 쳤을때 entryIframe 있으면 --> 화면이 넘어갔다는 뜻이고 \n",
    "    ## 없으면 아직 안넘어간 뜻이니깐 searchIframe 에서 클릭해서 넘어가야함 .\n",
    "    try :\n",
    "        if driver.find_elements(By.ID,'entryIframe') :\n",
    "            entryIframe = driver.find_element(By.ID,'entryIframe')\n",
    "            driver.switch_to.frame(entryIframe)\n",
    "            \n",
    "            time.sleep(3) \n",
    "            \n",
    "            # 가게 이름, 변수로 지정\n",
    "            # 메뉴와 가격이 존재하는지의 여부를 고려 \n",
    "            # 매장마다 메뉴를 보여주는 테마가 2가지 존재하기 때문에 이를 고려\n",
    "\n",
    "            restaurant_name = driver.find_element(By.CLASS_NAME,'Fc1rA').text\n",
    "            category_name = driver.find_element(By.CLASS_NAME,'DJJvD').text\n",
    "            address = driver.find_element(By.CLASS_NAME,'LDgIH').text\n",
    "            if driver.find_elements(By.CLASS_NAME,'ihmWt') :\n",
    "                menu = driver.find_element(By.CLASS_NAME,'ihmWt').text\n",
    "                price = driver.find_element(By.CLASS_NAME,'mkBm3').text\n",
    "            elif driver.find_elements(By.CLASS_NAME,'VQvNX') :\n",
    "                menu = driver.find_element(By.CLASS_NAME,'VQvNX').text\n",
    "                price = driver.find_element(By.CLASS_NAME,'Yrsei').text\n",
    "            else : \n",
    "                menu = '메뉴없음'\n",
    "                price = \"가격없음\"\n",
    "            \n",
    "            # 리뷰 긁어오기 \n",
    "            # PXMot 클래스 요소들을 모두 찾음\n",
    "            # PXMot 는 리뷰의 클래스 이름인데 별점, 방문자리뷰, 블로그리뷰 총 3개가 존재\n",
    "            pxmot_elements = driver.find_elements(By.CLASS_NAME, 'PXMot')\n",
    "            \n",
    "            visitor_review = 0\n",
    "            blog_review = 0\n",
    "            # PXMot 가 존재할 때 (별점 방문자 블로그 중  뭐라도 존재)\n",
    "            if pxmot_elements:\n",
    "                for element in pxmot_elements:\n",
    "                    element_text = element.text\n",
    "                    if element_text.startswith('별점'):\n",
    "                        # 별점이 있으면 다음 요소 검사\n",
    "                        continue\n",
    "                    elif element_text.startswith('방문자리뷰'):\n",
    "                        # 방문자 리뷰가 존재하는 경우\n",
    "                        review_text = element_text.replace('방문자리뷰', '')\n",
    "                        # 쉼표(,) 제거 후 정수로 변환\n",
    "                        try : \n",
    "                            visitor_review = int(review_text.replace(',', '')) if ',' in review_text else int(review_text)\n",
    "                        except ValueError :\n",
    "                            visitor_review = 0\n",
    "                    elif element_text.startswith('블로그리뷰'):\n",
    "                        # 블로그 리뷰가 존재하는 경우\n",
    "                        review_text = element_text.replace('블로그리뷰', '')\n",
    "                        # 쉼표(,) 제거 후 정수로 변환\n",
    "                        try :\n",
    "                            blog_review = int(review_text.replace(',', '')) if ',' in review_text else int(review_text)\n",
    "                        except ValueError :\n",
    "                            blog_review = 0\n",
    "            # PXMot 가 없을 때(별점 방문자 블로그 중  뭐라도 존재x)\n",
    "            else  : \n",
    "                visitor_review = 0\n",
    "                blog_review = 0      \n",
    "        else: \n",
    "            # searchIframe 프레임 \n",
    "            # searchIframe 프레임으로 가야하는 경우는 검색했을 때 결과가 바로 안나오고 식당리스트가 먼저나오는 경우\n",
    "            # 그래서 searchIFrame에서 첫번쨰 식당을 선택하고 그다음에 entryIFrame으로 들어가야함\n",
    "            searchIframe = driver.find_element(By.ID,'searchIframe')\n",
    "            driver.switch_to.frame(searchIframe)\n",
    "\n",
    "\n",
    "            ## 클릭 \n",
    "            driver.find_element(By.CLASS_NAME,'YwYLL').click()\n",
    "            \n",
    "            # 기본프레임 \n",
    "            time.sleep(1)\n",
    "            driver.switch_to.default_content()\n",
    "        \n",
    "\n",
    "            # entryIframe 프레임 \n",
    "            entryIframe = driver.find_element(By.ID,'entryIframe')\n",
    "            driver.switch_to.frame(entryIframe)\n",
    "\n",
    "            time.sleep(3) \n",
    "            # 가게 이름, 변수로 지정\n",
    "            restaurant_name = driver.find_element(By.CLASS_NAME,'Fc1rA').text\n",
    "            category_name = driver.find_element(By.CLASS_NAME,'DJJvD').text\n",
    "            address = driver.find_element(By.CLASS_NAME,'LDgIH').text\n",
    "\n",
    "            # 메뉴와 가격이 존재하는지의 여부를 고려 \n",
    "            # 매장마다 메뉴를 보여주는 테마가 2가지 존재하기 때문에 이를 고려\n",
    "\n",
    "            if driver.find_elements(By.CLASS_NAME,'ihmWt') :\n",
    "                menu = driver.find_element(By.CLASS_NAME,'ihmWt').text\n",
    "                price = driver.find_element(By.CLASS_NAME,'mkBm3').text\n",
    "            elif driver.find_elements(By.CLASS_NAME,'VQvNX') :\n",
    "                menu = driver.find_element(By.CLASS_NAME,'VQvNX').text\n",
    "                price = driver.find_element(By.CLASS_NAME,'Yrsei').text\n",
    "            else : \n",
    "                menu = '메뉴없음'\n",
    "                price = \"가격없음\"\n",
    "\n",
    "            # 리뷰 수 긁어오기\n",
    "            # PXMot 클래스 요소들을 모두 찾음\n",
    "            # PXMot 는 리뷰의 클래스 이름인데 별점, 방문자리뷰, 블로그리뷰 총 3개가 존재\n",
    "            pxmot_elements = driver.find_elements(By.CLASS_NAME, 'PXMot')\n",
    "        \n",
    "            # PXMot 가 존재할 때 (별점 방문자 블로그 중  뭐라도 존재)\n",
    "            if pxmot_elements:\n",
    "                for element in pxmot_elements:\n",
    "                    element_text = element.text\n",
    "                    if element_text.startswith('별점'):\n",
    "                        # 별점이 있으면 다음 요소 검사\n",
    "                        continue\n",
    "                    elif element_text.startswith('방문자리뷰'):\n",
    "                        # 방문자 리뷰가 존재하는 경우\n",
    "                        review_text = element_text.replace('방문자리뷰', '')\n",
    "                        # 쉼표(,) 제거 후 정수로 변환\n",
    "                        try : \n",
    "                            visitor_review = int(review_text.replace(',', '')) if ',' in review_text else int(review_text)\n",
    "                        except ValueError :\n",
    "                            visitor_review = 0\n",
    "                    elif element_text.startswith('블로그리뷰'):\n",
    "                        # 블로그 리뷰가 존재하는 경우\n",
    "                        review_text = element_text.replace('블로그리뷰', '').strip()\n",
    "                        # 쉼표(,) 제거 후 정수로 변환\n",
    "                        try :\n",
    "                            blog_review = int(review_text.replace(',', '')) if ',' in review_text else int(review_text)\n",
    "                        except ValueError :\n",
    "                            blog_review = 0\n",
    "            # PXMot 가 없을 때(별점 방문자 블로그 중  뭐라도 존재x)\n",
    "            else  : \n",
    "                visitor_review = 0\n",
    "                blog_review = 0        \n",
    "    ## 예외처리 : vscode 상태가 안좋아서 그냥 검색이 안된경우 이거나 진짜 없는 식당일 때.\n",
    "    except Exception as e : \n",
    "        restaurant_name = name \n",
    "        category_name = '전처리필요'\n",
    "        address = '전처리필요'\n",
    "        menu = '메뉴없음'\n",
    "        price = \"가격없음\"\n",
    "        visitor_review = 0\n",
    "        blog_review = 0\n",
    "\n",
    "        print(f\"에러 메시지: {str(e)}\")\n",
    "\n",
    "\n",
    "    ## 리스트에 추가\n",
    "    restaurant_name_list.append(restaurant_name)\n",
    "    category_name_list.append(category_name)\n",
    "    address_list.append(address)\n",
    "    menu_list.append(menu)\n",
    "    price_list.append(price)\n",
    "    visitor_review_list.append(visitor_review)\n",
    "    blog_review_list.append(blog_review)\n",
    "\n",
    "    \n",
    "    print('식당 이름:',restaurant_name)\n",
    "    print('식당 카테고리:',category_name)\n",
    "    print('주소:',address)\n",
    "    print('대표 메뉴:',menu)\n",
    "    print('가격:',price)\n",
    "    print('방문자리뷰 : ',visitor_review)\n",
    "    print('블로그리뷰 : ',blog_review)\n",
    "    print('-----------------------------')\n",
    "res_info_df = pd.DataFrame({'식당이름':restaurant_name_list ,\n",
    "                             '업태구분' :category_name_list ,\n",
    "                             '주소' :address_list ,\n",
    "                             '메뉴': menu_list,\n",
    "                             '가격':price_list,\n",
    "                             '방문자리뷰':visitor_review_list,\n",
    "                             '블로그리뷰':blog_review_list,\n",
    "                             })\n",
    "\n",
    "\n",
    "## 결과 데이터에 검색어 칼럼 추가\n",
    "## 추후에 인덱스로 쓸 예정이기 떄문\n",
    "\n",
    "res_info_df['검색어'] = res_df['검색어']\n",
    "res_info_df.to_excel(f'./data/restaurant_info_data(2)/restaurant_info_data/restaurant_tag_df_{이름}_{start_num}_{end_num}.xlsx', index=False)\n",
    "\n",
    "# 100개 기준 16분 "
   ]
  },
  {
   "cell_type": "markdown",
   "metadata": {},
   "source": []
  },
  {
   "cell_type": "markdown",
   "metadata": {},
   "source": []
  },
  {
   "cell_type": "markdown",
   "metadata": {},
   "source": []
  },
  {
   "cell_type": "markdown",
   "metadata": {},
   "source": [
    "만약에 에러나면 에러난 식당의 리뷰가 그 전 식당의 리뷰수를 따라가더라 "
   ]
  },
  {
   "cell_type": "code",
   "execution_count": 24,
   "metadata": {},
   "outputs": [],
   "source": [
    "# ## 잘 긁어왔나 확인합니다\n",
    "\n",
    "# res_info_df.head()"
   ]
  },
  {
   "cell_type": "code",
   "execution_count": 25,
   "metadata": {},
   "outputs": [],
   "source": [
    "# ## 엑셀파일에 잘 저장합니다\n",
    "\n",
    "# res_info_df.to_excel('매장정보.xlsx')\n"
   ]
  },
  {
   "cell_type": "markdown",
   "metadata": {},
   "source": [
    "# --------------------------------------------------------------------------------------\n",
    "\n",
    "# 여기서부턴 파일 옮겨서 돌려야 할 듯 합니다\n",
    "\n",
    "# 업태가 뭐있는지 몰라서입니다  + 리뷰도 다른 파일에서 취합하는ㄱ네 맞는듯 싶습니다 \n"
   ]
  },
  {
   "cell_type": "code",
   "execution_count": 26,
   "metadata": {},
   "outputs": [],
   "source": [
    "# res_info_df['업태구분'].unique()"
   ]
  },
  {
   "cell_type": "code",
   "execution_count": 27,
   "metadata": {},
   "outputs": [],
   "source": [
    "# # 필요없는 카테고리(카페, 술, 출장요리 등등) 제거\n",
    "# 제외 = ['바나프레소','이자카야','바(BAR)','카페,디저트','요리주점','장소대여','카페','PC','예식장']\n",
    "# for i in 제외 :\n",
    "#     res_info_df = res_info_df.drop(res_info_df[res_info_df['업태구분'] == i].index)\n",
    "\n",
    "# len(res_info_df)"
   ]
  },
  {
   "cell_type": "code",
   "execution_count": 28,
   "metadata": {},
   "outputs": [],
   "source": [
    "# res_info_df"
   ]
  },
  {
   "cell_type": "code",
   "execution_count": 29,
   "metadata": {},
   "outputs": [],
   "source": [
    "# ## 한식 하나 더 만들어서 정렬되는지 확인하려고 만들었음 \n",
    "\n",
    "# res_info_df.loc[df_test_result['업태구분']=='한식뷔페','업태구분' ] = '한식'"
   ]
  },
  {
   "cell_type": "code",
   "execution_count": 30,
   "metadata": {},
   "outputs": [],
   "source": [
    "# res_df_groupby = res_info_df.groupby('업태구분').apply(lambda x : x.sort_values(by='리뷰',ascending=False))\n"
   ]
  },
  {
   "cell_type": "code",
   "execution_count": 31,
   "metadata": {},
   "outputs": [],
   "source": [
    "# res_df_groupby"
   ]
  },
  {
   "cell_type": "code",
   "execution_count": 32,
   "metadata": {},
   "outputs": [],
   "source": [
    "\n",
    "# # 예제 데이터프레임 생성\n",
    "# test = pd.DataFrame({\n",
    "#     '업태구분': ['식당', '식당', '카페', '카페', '호텔', '호텔'],\n",
    "#     '리뷰': [5, 4, 3, 2, 1, 6]\n",
    "# })\n",
    "\n",
    "# # 상위 n개를 뽑는 함수 정의\n",
    "# def top_n(group, n=2):\n",
    "#     return group.head(n)\n",
    "\n",
    "# # '업태구분' 칼럼을 기준으로 그룹화하고, 각 그룹별로 정렬한 후 상위 2개의 데이터를 뽑아 새로운 데이터프레임으로 생성\n",
    "# test_groupby = test.groupby('업태구분', group_keys=False).apply(lambda x: x.sort_values(by='리뷰', ascending=False)).groupby('업태구분').apply(top_n, n=2)\n",
    "\n",
    "# print(test_groupby)"
   ]
  },
  {
   "cell_type": "code",
   "execution_count": 33,
   "metadata": {},
   "outputs": [],
   "source": [
    "# res_df_groupby"
   ]
  },
  {
   "cell_type": "code",
   "execution_count": 34,
   "metadata": {},
   "outputs": [],
   "source": [
    "# res_df_groupby.to_csv('매장_업태별_결과.csv')"
   ]
  }
 ],
 "metadata": {
  "kernelspec": {
   "display_name": "Python 3",
   "language": "python",
   "name": "python3"
  },
  "language_info": {
   "codemirror_mode": {
    "name": "ipython",
    "version": 3
   },
   "file_extension": ".py",
   "mimetype": "text/x-python",
   "name": "python",
   "nbconvert_exporter": "python",
   "pygments_lexer": "ipython3",
   "version": "3.10.5"
  }
 },
 "nbformat": 4,
 "nbformat_minor": 2
}
