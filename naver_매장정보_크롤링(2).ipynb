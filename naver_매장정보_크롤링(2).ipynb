{
 "cells": [
  {
   "cell_type": "markdown",
   "metadata": {},
   "source": [
    "# 네이버 매장정보 크롤링\n",
    "\n",
    "### naver_매장존재확인_크롤링에서 만든 파일을 사용합니다"
   ]
  },
  {
   "cell_type": "code",
   "execution_count": 3,
   "metadata": {},
   "outputs": [],
   "source": [
    "# 웹 드라이버 설정\n",
    "from selenium import webdriver  \n",
    "from webdriver_manager.chrome import ChromeDriverManager \n",
    "\n",
    "# 대기 관련 라이브러리\n",
    "from selenium.webdriver.support.ui import WebDriverWait \n",
    "from selenium.webdriver.support import expected_conditions as EC \n",
    "\n",
    "# 웹 요소 찾기 관련 라이브러리\n",
    "from selenium.webdriver.common.by import By  \n",
    "from selenium.webdriver.support.ui import Select  \n",
    "from selenium.webdriver.common.keys import Keys  \n",
    "import chromedriver_autoinstaller\n",
    "\n",
    "\n",
    "# 그 외 \n",
    "import time \n",
    "import warnings\n",
    "warnings.filterwarnings('ignore')\n",
    "from bs4 import BeautifulSoup \n",
    "import numpy as np  \n",
    "import pandas as pd \n",
    "from tqdm import tqdm  "
   ]
  },
  {
   "cell_type": "markdown",
   "metadata": {},
   "source": [
    "데이터 가져오기"
   ]
  },
  {
   "cell_type": "code",
   "execution_count": 4,
   "metadata": {},
   "outputs": [
    {
     "data": {
      "text/html": [
       "<div>\n",
       "<style scoped>\n",
       "    .dataframe tbody tr th:only-of-type {\n",
       "        vertical-align: middle;\n",
       "    }\n",
       "\n",
       "    .dataframe tbody tr th {\n",
       "        vertical-align: top;\n",
       "    }\n",
       "\n",
       "    .dataframe thead th {\n",
       "        text-align: right;\n",
       "    }\n",
       "</style>\n",
       "<table border=\"1\" class=\"dataframe\">\n",
       "  <thead>\n",
       "    <tr style=\"text-align: right;\">\n",
       "      <th></th>\n",
       "      <th>검색어</th>\n",
       "      <th>업태구분명</th>\n",
       "      <th>사업장명</th>\n",
       "      <th>사업장명_원본</th>\n",
       "      <th>시도</th>\n",
       "      <th>지역구</th>\n",
       "      <th>상세주소</th>\n",
       "      <th>소재지전체주소</th>\n",
       "      <th>도로명전체주소</th>\n",
       "      <th>좌표정보(x)</th>\n",
       "      <th>좌표정보(y)</th>\n",
       "      <th>검색여부</th>\n",
       "      <th>영업상태명</th>\n",
       "    </tr>\n",
       "  </thead>\n",
       "  <tbody>\n",
       "    <tr>\n",
       "      <th>8291</th>\n",
       "      <td>도곡로 401, 간코</td>\n",
       "      <td>일식</td>\n",
       "      <td>간코</td>\n",
       "      <td>간코 롯데백화점강남점</td>\n",
       "      <td>서울특별시</td>\n",
       "      <td>강남구</td>\n",
       "      <td>도곡로 401,</td>\n",
       "      <td>서울특별시 강남구 대치동 937 롯데백화점</td>\n",
       "      <td>서울특별시 강남구 도곡로 401, 롯데백화점 지하1층 (대치동)</td>\n",
       "      <td>204669.543367</td>\n",
       "      <td>443873.621189</td>\n",
       "      <td>가능</td>\n",
       "      <td>영업/정상</td>\n",
       "    </tr>\n",
       "    <tr>\n",
       "      <th>8292</th>\n",
       "      <td>압구정로 108, 오토김밥</td>\n",
       "      <td>분식</td>\n",
       "      <td>오토김밥</td>\n",
       "      <td>오토김밥 신사점</td>\n",
       "      <td>서울특별시</td>\n",
       "      <td>강남구</td>\n",
       "      <td>압구정로 108,</td>\n",
       "      <td>서울특별시 강남구 신사동 528-3 덕산빌딩</td>\n",
       "      <td>서울특별시 강남구 압구정로 108, 덕산빌딩 지상1층 10호 (신사동)</td>\n",
       "      <td>201749.456414</td>\n",
       "      <td>446742.828124</td>\n",
       "      <td>가능</td>\n",
       "      <td>영업/정상</td>\n",
       "    </tr>\n",
       "    <tr>\n",
       "      <th>8293</th>\n",
       "      <td>압구정로42길 36, 마들마들</td>\n",
       "      <td>한식</td>\n",
       "      <td>마들마들</td>\n",
       "      <td>마들마들</td>\n",
       "      <td>서울특별시</td>\n",
       "      <td>강남구</td>\n",
       "      <td>압구정로42길 36,</td>\n",
       "      <td>서울특별시 강남구 신사동 635-14 금광아크존1</td>\n",
       "      <td>서울특별시 강남구 압구정로42길 36, 지상1층 101호 (신사동, 금광아크존1)</td>\n",
       "      <td>202990.870783</td>\n",
       "      <td>447146.555568</td>\n",
       "      <td>가능</td>\n",
       "      <td>영업/정상</td>\n",
       "    </tr>\n",
       "    <tr>\n",
       "      <th>8294</th>\n",
       "      <td>언주로151길 21, 세바</td>\n",
       "      <td>경양식</td>\n",
       "      <td>세바</td>\n",
       "      <td>세바(Sevva)</td>\n",
       "      <td>서울특별시</td>\n",
       "      <td>강남구</td>\n",
       "      <td>언주로151길 21,</td>\n",
       "      <td>서울특별시 강남구 신사동 629-1</td>\n",
       "      <td>서울특별시 강남구 언주로151길 21, 지상1층 (신사동)</td>\n",
       "      <td>202731.421127</td>\n",
       "      <td>446609.460134</td>\n",
       "      <td>가능</td>\n",
       "      <td>영업/정상</td>\n",
       "    </tr>\n",
       "    <tr>\n",
       "      <th>8295</th>\n",
       "      <td>논현로161길 37, 구구구</td>\n",
       "      <td>경양식</td>\n",
       "      <td>구구구</td>\n",
       "      <td>구구구 (GOOGOOGOO)</td>\n",
       "      <td>서울특별시</td>\n",
       "      <td>강남구</td>\n",
       "      <td>논현로161길 37,</td>\n",
       "      <td>서울특별시 강남구 신사동 552-5</td>\n",
       "      <td>서울특별시 강남구 논현로161길 37, 동쪽 지상1층 (신사동)</td>\n",
       "      <td>202153.410454</td>\n",
       "      <td>446748.562578</td>\n",
       "      <td>가능</td>\n",
       "      <td>영업/정상</td>\n",
       "    </tr>\n",
       "  </tbody>\n",
       "</table>\n",
       "</div>"
      ],
      "text/plain": [
       "                   검색어 업태구분명  사업장명          사업장명_원본     시도  지역구         상세주소  \\\n",
       "8291       도곡로 401, 간코    일식    간코      간코 롯데백화점강남점  서울특별시  강남구     도곡로 401,   \n",
       "8292    압구정로 108, 오토김밥    분식  오토김밥         오토김밥 신사점  서울특별시  강남구    압구정로 108,   \n",
       "8293  압구정로42길 36, 마들마들    한식  마들마들             마들마들  서울특별시  강남구  압구정로42길 36,   \n",
       "8294    언주로151길 21, 세바   경양식    세바        세바(Sevva)  서울특별시  강남구  언주로151길 21,   \n",
       "8295  논현로161길 37, 구구구    경양식  구구구   구구구 (GOOGOOGOO)  서울특별시  강남구  논현로161길 37,   \n",
       "\n",
       "                          소재지전체주소  \\\n",
       "8291      서울특별시 강남구 대치동 937 롯데백화점   \n",
       "8292     서울특별시 강남구 신사동 528-3 덕산빌딩   \n",
       "8293  서울특별시 강남구 신사동 635-14 금광아크존1   \n",
       "8294          서울특별시 강남구 신사동 629-1   \n",
       "8295          서울특별시 강남구 신사동 552-5   \n",
       "\n",
       "                                            도로명전체주소        좌표정보(x)  \\\n",
       "8291            서울특별시 강남구 도곡로 401, 롯데백화점 지하1층 (대치동)  204669.543367   \n",
       "8292        서울특별시 강남구 압구정로 108, 덕산빌딩 지상1층 10호 (신사동)  201749.456414   \n",
       "8293  서울특별시 강남구 압구정로42길 36, 지상1층 101호 (신사동, 금광아크존1)  202990.870783   \n",
       "8294               서울특별시 강남구 언주로151길 21, 지상1층 (신사동)  202731.421127   \n",
       "8295            서울특별시 강남구 논현로161길 37, 동쪽 지상1층 (신사동)  202153.410454   \n",
       "\n",
       "            좌표정보(y) 검색여부  영업상태명  \n",
       "8291  443873.621189   가능  영업/정상  \n",
       "8292  446742.828124   가능  영업/정상  \n",
       "8293  447146.555568   가능  영업/정상  \n",
       "8294  446609.460134   가능  영업/정상  \n",
       "8295  446748.562578   가능  영업/정상  "
      ]
     },
     "execution_count": 4,
     "metadata": {},
     "output_type": "execute_result"
    }
   ],
   "source": [
    "# 데이터 불러오기\n",
    "original_res_df = pd.read_excel('combined_file.xlsx')\n",
    "res_df = original_res_df.copy()\n",
    "res_df = res_df.loc[res_df['검색여부'] == '가능'].reset_index(drop=True)\n",
    "res_df.drop('Unnamed: 0', axis=1, inplace=True)\n",
    "\n",
    "\n",
    "# 컬럼 순서 바꾸기 -> 보기 좋으라고 바꿈\n",
    "res_df['검색어'] = res_df['상세주소'] + \" \" + res_df['사업장명']\n",
    "column_order = ['검색어', '업태구분명', '사업장명', '사업장명_원본', '시도', '지역구', '상세주소', '소재지전체주소', '도로명전체주소', '좌표정보(x)', '좌표정보(y)', '검색여부', '영업상태명']\n",
    "res_df = res_df[column_order]\n",
    "res_df.tail()"
   ]
  },
  {
   "cell_type": "code",
   "execution_count": 5,
   "metadata": {},
   "outputs": [
    {
     "data": {
      "text/html": [
       "<div>\n",
       "<style scoped>\n",
       "    .dataframe tbody tr th:only-of-type {\n",
       "        vertical-align: middle;\n",
       "    }\n",
       "\n",
       "    .dataframe tbody tr th {\n",
       "        vertical-align: top;\n",
       "    }\n",
       "\n",
       "    .dataframe thead th {\n",
       "        text-align: right;\n",
       "    }\n",
       "</style>\n",
       "<table border=\"1\" class=\"dataframe\">\n",
       "  <thead>\n",
       "    <tr style=\"text-align: right;\">\n",
       "      <th></th>\n",
       "      <th>검색어</th>\n",
       "      <th>업태구분명</th>\n",
       "      <th>사업장명</th>\n",
       "      <th>사업장명_원본</th>\n",
       "      <th>시도</th>\n",
       "      <th>지역구</th>\n",
       "      <th>상세주소</th>\n",
       "      <th>소재지전체주소</th>\n",
       "      <th>도로명전체주소</th>\n",
       "      <th>좌표정보(x)</th>\n",
       "      <th>좌표정보(y)</th>\n",
       "      <th>검색여부</th>\n",
       "      <th>영업상태명</th>\n",
       "      <th>데이터기준일</th>\n",
       "      <th>담당자</th>\n",
       "    </tr>\n",
       "  </thead>\n",
       "  <tbody>\n",
       "    <tr>\n",
       "      <th>0</th>\n",
       "      <td>언주로134길 29, 팔당푸드</td>\n",
       "      <td>김밥(도시락)</td>\n",
       "      <td>팔당푸드</td>\n",
       "      <td>팔당푸드</td>\n",
       "      <td>서울특별시</td>\n",
       "      <td>강남구</td>\n",
       "      <td>언주로134길 29,</td>\n",
       "      <td>서울특별시 강남구 논현동 113-25번지</td>\n",
       "      <td>서울특별시 강남구 언주로134길 29, 지상1층 (논현동)</td>\n",
       "      <td>203282.682258</td>\n",
       "      <td>446099.498941</td>\n",
       "      <td>가능</td>\n",
       "      <td>영업/정상</td>\n",
       "      <td>2024-02-01</td>\n",
       "      <td>지선</td>\n",
       "    </tr>\n",
       "    <tr>\n",
       "      <th>1</th>\n",
       "      <td>테헤란로 517, 나의가야</td>\n",
       "      <td>한식</td>\n",
       "      <td>나의가야</td>\n",
       "      <td>나의가야</td>\n",
       "      <td>서울특별시</td>\n",
       "      <td>강남구</td>\n",
       "      <td>테헤란로 517,</td>\n",
       "      <td>서울특별시 강남구 삼성동 159-7번지 현대백화점</td>\n",
       "      <td>서울특별시 강남구 테헤란로 517, 현대백화점 지상10층 (삼성동)</td>\n",
       "      <td>205210.358779</td>\n",
       "      <td>445154.422252</td>\n",
       "      <td>가능</td>\n",
       "      <td>영업/정상</td>\n",
       "      <td>2024-02-01</td>\n",
       "      <td>지선</td>\n",
       "    </tr>\n",
       "    <tr>\n",
       "      <th>2</th>\n",
       "      <td>도산대로75길 26, 청담99</td>\n",
       "      <td>한식</td>\n",
       "      <td>청담99</td>\n",
       "      <td>청담99</td>\n",
       "      <td>서울특별시</td>\n",
       "      <td>강남구</td>\n",
       "      <td>도산대로75길 26,</td>\n",
       "      <td>서울특별시 강남구 청담동 99-3번지</td>\n",
       "      <td>서울특별시 강남구 도산대로75길 26, 4층 (청담동, 가당빌딩)</td>\n",
       "      <td>203955.505490</td>\n",
       "      <td>447076.943748</td>\n",
       "      <td>가능</td>\n",
       "      <td>영업/정상</td>\n",
       "      <td>2024-02-01</td>\n",
       "      <td>지선</td>\n",
       "    </tr>\n",
       "    <tr>\n",
       "      <th>3</th>\n",
       "      <td>압구정로50길 5-12 빛나주</td>\n",
       "      <td>경양식</td>\n",
       "      <td>빛나주</td>\n",
       "      <td>빛나주</td>\n",
       "      <td>서울특별시</td>\n",
       "      <td>강남구</td>\n",
       "      <td>압구정로50길 5-12</td>\n",
       "      <td>서울특별시 강남구 신사동 661-10 지하1층</td>\n",
       "      <td>서울특별시 강남구 압구정로50길 5-12 (신사동,지하1층)</td>\n",
       "      <td>203405.290504</td>\n",
       "      <td>447261.135628</td>\n",
       "      <td>가능</td>\n",
       "      <td>영업/정상</td>\n",
       "      <td>2024-02-01</td>\n",
       "      <td>지선</td>\n",
       "    </tr>\n",
       "    <tr>\n",
       "      <th>4</th>\n",
       "      <td>개포로22길 10 서연옥</td>\n",
       "      <td>경양식</td>\n",
       "      <td>서연옥</td>\n",
       "      <td>서연옥</td>\n",
       "      <td>서울특별시</td>\n",
       "      <td>강남구</td>\n",
       "      <td>개포로22길 10</td>\n",
       "      <td>서울특별시 강남구 개포동 1231-4번지 지상1층</td>\n",
       "      <td>서울특별시 강남구 개포로22길 10 (개포동,지상1층)</td>\n",
       "      <td>204151.555648</td>\n",
       "      <td>441769.083699</td>\n",
       "      <td>가능</td>\n",
       "      <td>영업/정상</td>\n",
       "      <td>2024-02-01</td>\n",
       "      <td>지선</td>\n",
       "    </tr>\n",
       "  </tbody>\n",
       "</table>\n",
       "</div>"
      ],
      "text/plain": [
       "                검색어    업태구분명  사업장명 사업장명_원본     시도  지역구          상세주소  \\\n",
       "0  언주로134길 29, 팔당푸드  김밥(도시락)  팔당푸드    팔당푸드  서울특별시  강남구   언주로134길 29,   \n",
       "1    테헤란로 517, 나의가야       한식  나의가야    나의가야  서울특별시  강남구     테헤란로 517,   \n",
       "2  도산대로75길 26, 청담99       한식  청담99    청담99  서울특별시  강남구   도산대로75길 26,   \n",
       "3  압구정로50길 5-12 빛나주      경양식   빛나주     빛나주  서울특별시  강남구  압구정로50길 5-12   \n",
       "4     개포로22길 10 서연옥      경양식   서연옥     서연옥  서울특별시  강남구     개포로22길 10   \n",
       "\n",
       "                       소재지전체주소                                도로명전체주소  \\\n",
       "0       서울특별시 강남구 논현동 113-25번지       서울특별시 강남구 언주로134길 29, 지상1층 (논현동)   \n",
       "1  서울특별시 강남구 삼성동 159-7번지 현대백화점  서울특별시 강남구 테헤란로 517, 현대백화점 지상10층 (삼성동)   \n",
       "2         서울특별시 강남구 청담동 99-3번지   서울특별시 강남구 도산대로75길 26, 4층 (청담동, 가당빌딩)   \n",
       "3    서울특별시 강남구 신사동 661-10 지하1층      서울특별시 강남구 압구정로50길 5-12 (신사동,지하1층)   \n",
       "4  서울특별시 강남구 개포동 1231-4번지 지상1층         서울특별시 강남구 개포로22길 10 (개포동,지상1층)   \n",
       "\n",
       "         좌표정보(x)        좌표정보(y) 검색여부  영업상태명      데이터기준일 담당자  \n",
       "0  203282.682258  446099.498941   가능  영업/정상  2024-02-01  지선  \n",
       "1  205210.358779  445154.422252   가능  영업/정상  2024-02-01  지선  \n",
       "2  203955.505490  447076.943748   가능  영업/정상  2024-02-01  지선  \n",
       "3  203405.290504  447261.135628   가능  영업/정상  2024-02-01  지선  \n",
       "4  204151.555648  441769.083699   가능  영업/정상  2024-02-01  지선  "
      ]
     },
     "execution_count": 5,
     "metadata": {},
     "output_type": "execute_result"
    }
   ],
   "source": [
    "이름 = '지선' # 본인 이름을 입력하세요\n",
    "\n",
    "# 데이터 불러오기\n",
    "original_res_df = pd.read_excel(f'data/restaurant_info_data(2)/{이름}.xlsx')\n",
    "original_df = original_res_df.copy()\n",
    "original_df.head()"
   ]
  },
  {
   "cell_type": "markdown",
   "metadata": {},
   "source": [
    "한번에 몇개씩 크롤링할지 결정"
   ]
  },
  {
   "cell_type": "code",
   "execution_count": 12,
   "metadata": {},
   "outputs": [
    {
     "data": {
      "text/html": [
       "<div>\n",
       "<style scoped>\n",
       "    .dataframe tbody tr th:only-of-type {\n",
       "        vertical-align: middle;\n",
       "    }\n",
       "\n",
       "    .dataframe tbody tr th {\n",
       "        vertical-align: top;\n",
       "    }\n",
       "\n",
       "    .dataframe thead th {\n",
       "        text-align: right;\n",
       "    }\n",
       "</style>\n",
       "<table border=\"1\" class=\"dataframe\">\n",
       "  <thead>\n",
       "    <tr style=\"text-align: right;\">\n",
       "      <th></th>\n",
       "      <th>검색어</th>\n",
       "      <th>업태구분명</th>\n",
       "      <th>사업장명</th>\n",
       "      <th>사업장명_원본</th>\n",
       "      <th>시도</th>\n",
       "      <th>지역구</th>\n",
       "      <th>상세주소</th>\n",
       "      <th>소재지전체주소</th>\n",
       "      <th>도로명전체주소</th>\n",
       "      <th>좌표정보(x)</th>\n",
       "      <th>좌표정보(y)</th>\n",
       "      <th>검색여부</th>\n",
       "      <th>영업상태명</th>\n",
       "      <th>데이터기준일</th>\n",
       "      <th>담당자</th>\n",
       "    </tr>\n",
       "  </thead>\n",
       "  <tbody>\n",
       "    <tr>\n",
       "      <th>0</th>\n",
       "      <td>언주로134길 29, 팔당푸드</td>\n",
       "      <td>김밥(도시락)</td>\n",
       "      <td>팔당푸드</td>\n",
       "      <td>팔당푸드</td>\n",
       "      <td>서울특별시</td>\n",
       "      <td>강남구</td>\n",
       "      <td>언주로134길 29,</td>\n",
       "      <td>서울특별시 강남구 논현동 113-25번지</td>\n",
       "      <td>서울특별시 강남구 언주로134길 29, 지상1층 (논현동)</td>\n",
       "      <td>203282.682258</td>\n",
       "      <td>446099.498941</td>\n",
       "      <td>가능</td>\n",
       "      <td>영업/정상</td>\n",
       "      <td>2024-02-01</td>\n",
       "      <td>지선</td>\n",
       "    </tr>\n",
       "    <tr>\n",
       "      <th>1</th>\n",
       "      <td>테헤란로 517, 나의가야</td>\n",
       "      <td>한식</td>\n",
       "      <td>나의가야</td>\n",
       "      <td>나의가야</td>\n",
       "      <td>서울특별시</td>\n",
       "      <td>강남구</td>\n",
       "      <td>테헤란로 517,</td>\n",
       "      <td>서울특별시 강남구 삼성동 159-7번지 현대백화점</td>\n",
       "      <td>서울특별시 강남구 테헤란로 517, 현대백화점 지상10층 (삼성동)</td>\n",
       "      <td>205210.358779</td>\n",
       "      <td>445154.422252</td>\n",
       "      <td>가능</td>\n",
       "      <td>영업/정상</td>\n",
       "      <td>2024-02-01</td>\n",
       "      <td>지선</td>\n",
       "    </tr>\n",
       "    <tr>\n",
       "      <th>2</th>\n",
       "      <td>도산대로75길 26, 청담99</td>\n",
       "      <td>한식</td>\n",
       "      <td>청담99</td>\n",
       "      <td>청담99</td>\n",
       "      <td>서울특별시</td>\n",
       "      <td>강남구</td>\n",
       "      <td>도산대로75길 26,</td>\n",
       "      <td>서울특별시 강남구 청담동 99-3번지</td>\n",
       "      <td>서울특별시 강남구 도산대로75길 26, 4층 (청담동, 가당빌딩)</td>\n",
       "      <td>203955.505490</td>\n",
       "      <td>447076.943748</td>\n",
       "      <td>가능</td>\n",
       "      <td>영업/정상</td>\n",
       "      <td>2024-02-01</td>\n",
       "      <td>지선</td>\n",
       "    </tr>\n",
       "  </tbody>\n",
       "</table>\n",
       "</div>"
      ],
      "text/plain": [
       "                검색어    업태구분명  사업장명 사업장명_원본     시도  지역구         상세주소  \\\n",
       "0  언주로134길 29, 팔당푸드  김밥(도시락)  팔당푸드    팔당푸드  서울특별시  강남구  언주로134길 29,   \n",
       "1    테헤란로 517, 나의가야       한식  나의가야    나의가야  서울특별시  강남구    테헤란로 517,   \n",
       "2  도산대로75길 26, 청담99       한식  청담99    청담99  서울특별시  강남구  도산대로75길 26,   \n",
       "\n",
       "                       소재지전체주소                                도로명전체주소  \\\n",
       "0       서울특별시 강남구 논현동 113-25번지       서울특별시 강남구 언주로134길 29, 지상1층 (논현동)   \n",
       "1  서울특별시 강남구 삼성동 159-7번지 현대백화점  서울특별시 강남구 테헤란로 517, 현대백화점 지상10층 (삼성동)   \n",
       "2         서울특별시 강남구 청담동 99-3번지   서울특별시 강남구 도산대로75길 26, 4층 (청담동, 가당빌딩)   \n",
       "\n",
       "         좌표정보(x)        좌표정보(y) 검색여부  영업상태명      데이터기준일 담당자  \n",
       "0  203282.682258  446099.498941   가능  영업/정상  2024-02-01  지선  \n",
       "1  205210.358779  445154.422252   가능  영업/정상  2024-02-01  지선  \n",
       "2  203955.505490  447076.943748   가능  영업/정상  2024-02-01  지선  "
      ]
     },
     "execution_count": 12,
     "metadata": {},
     "output_type": "execute_result"
    }
   ],
   "source": [
    "start_num = 0 # 할 차례, 여기를 계속 수정해주세요. \n",
    "num = 30  # 몇개씩 크롤링할지(기본은 100개를 추천합니다. -> 16분)\n",
    "end_num = start_num + num\n",
    "res_df = original_df[start_num:end_num] # 맨 마지막 크롤링할떄는 end_num을 지우세요. [start_num:] <-이렇게 \n",
    "res_df = res_df.reset_index(drop=True)\n",
    "res_df.head(3)"
   ]
  },
  {
   "cell_type": "markdown",
   "metadata": {},
   "source": [
    "driver 세팅"
   ]
  },
  {
   "cell_type": "code",
   "execution_count": 14,
   "metadata": {},
   "outputs": [],
   "source": [
    "# # webdriver_manager를 사용하여 ChromeDriver 다운로드 및 설정 \n",
    "driver = webdriver.Chrome(ChromeDriverManager().install())\n",
    "\n",
    "\n",
    "# # # webdriver_manager를 사용하여 ChromeDriver 다운로드 및 설정\n",
    "# \n",
    "# chromedriver_autoinstaller.install()\n",
    "# driver = webdriver.Chrome()"
   ]
  },
  {
   "cell_type": "markdown",
   "metadata": {},
   "source": [
    "크롤링 시작"
   ]
  },
  {
   "cell_type": "code",
   "execution_count": 15,
   "metadata": {},
   "outputs": [
    {
     "name": "stderr",
     "output_type": "stream",
     "text": [
      "진행 중:   3%|▎         | 1/30 [00:08<03:54,  8.07s/it]"
     ]
    },
    {
     "name": "stdout",
     "output_type": "stream",
     "text": [
      "식당 이름: 팔당푸드\n",
      "식당 카테고리: 한식\n",
      "주소: 서울 강남구 언주로134길 29\n",
      "대표 메뉴: 메뉴없음\n",
      "가격: 가격없음\n",
      "방문자리뷰 :  557\n",
      "블로그리뷰 :  3\n",
      "-----------------------------\n"
     ]
    },
    {
     "name": "stderr",
     "output_type": "stream",
     "text": [
      "진행 중:   7%|▋         | 2/30 [00:15<03:43,  7.98s/it]"
     ]
    },
    {
     "name": "stdout",
     "output_type": "stream",
     "text": [
      "식당 이름: 나의가야\n",
      "식당 카테고리: 한식\n",
      "주소: 서울 강남구 테헤란로 517 현대백화점 무역센터점 10층\n",
      "대표 메뉴: 샤브샤브\n",
      "가격: 37,000원\n",
      "방문자리뷰 :  574\n",
      "블로그리뷰 :  102\n",
      "-----------------------------\n"
     ]
    },
    {
     "name": "stderr",
     "output_type": "stream",
     "text": [
      "진행 중:  10%|█         | 3/30 [00:25<03:48,  8.47s/it]"
     ]
    },
    {
     "name": "stdout",
     "output_type": "stream",
     "text": [
      "식당 이름: 청담99\n",
      "식당 카테고리: 한식\n",
      "주소: 서울 강남구 도산대로75길 26\n",
      "대표 메뉴: 메뉴없음\n",
      "가격: 가격없음\n",
      "방문자리뷰 :  3\n",
      "블로그리뷰 :  102\n",
      "-----------------------------\n"
     ]
    },
    {
     "name": "stderr",
     "output_type": "stream",
     "text": [
      "진행 중:  13%|█▎        | 4/30 [00:32<03:27,  7.99s/it]"
     ]
    },
    {
     "name": "stdout",
     "output_type": "stream",
     "text": [
      "식당 이름: 빛나주 압구정로데오점\n",
      "식당 카테고리: 요리주점\n",
      "주소: 서울 강남구 압구정로50길 5-12 지하1층\n",
      "대표 메뉴: 감귤소스 새우튀김\n",
      "가격: 22,000원\n",
      "방문자리뷰 :  142\n",
      "블로그리뷰 :  144\n",
      "-----------------------------\n"
     ]
    },
    {
     "name": "stderr",
     "output_type": "stream",
     "text": [
      "진행 중:  17%|█▋        | 5/30 [00:38<03:07,  7.48s/it]"
     ]
    },
    {
     "name": "stdout",
     "output_type": "stream",
     "text": [
      "식당 이름: 서연옥\n",
      "식당 카테고리: 냉면\n",
      "주소: 울산 북구 괴정1길 122 1층 서연옥 본점\n",
      "대표 메뉴: 갈비찜 세트A\n",
      "가격: 65,000원\n",
      "방문자리뷰 :  551\n",
      "블로그리뷰 :  130\n",
      "-----------------------------\n"
     ]
    },
    {
     "name": "stderr",
     "output_type": "stream",
     "text": [
      "진행 중:  20%|██        | 6/30 [00:45<02:51,  7.17s/it]"
     ]
    },
    {
     "name": "stdout",
     "output_type": "stream",
     "text": [
      "식당 이름: 아비꼬 압구정역점\n",
      "식당 카테고리: 카레\n",
      "주소: 서울 강남구 논현로171길 15 카로시티1\n",
      "대표 메뉴: 100시간카레\n",
      "가격: 7,200원\n",
      "방문자리뷰 :  430\n",
      "블로그리뷰 :  128\n",
      "-----------------------------\n"
     ]
    },
    {
     "name": "stderr",
     "output_type": "stream",
     "text": [
      "진행 중:  23%|██▎       | 7/30 [00:52<02:41,  7.00s/it]"
     ]
    },
    {
     "name": "stdout",
     "output_type": "stream",
     "text": [
      "식당 이름: Fiera\n",
      "식당 카테고리: 양식\n",
      "주소: 서울 강남구 언주로 605 1층 5호\n",
      "대표 메뉴: Vongole\n",
      "가격: 14,000원\n",
      "방문자리뷰 :  243\n",
      "블로그리뷰 :  234\n",
      "-----------------------------\n"
     ]
    },
    {
     "name": "stderr",
     "output_type": "stream",
     "text": [
      "진행 중:  27%|██▋       | 8/30 [00:58<02:31,  6.89s/it]"
     ]
    },
    {
     "name": "stdout",
     "output_type": "stream",
     "text": [
      "식당 이름: 한보식당\n",
      "식당 카테고리: 한식\n",
      "주소: 서울 강남구 남부순환로 2921 지하1층 11호\n",
      "대표 메뉴: 김치찌개\n",
      "가격: 5,000원\n",
      "방문자리뷰 :  91\n",
      "블로그리뷰 :  2\n",
      "-----------------------------\n"
     ]
    },
    {
     "name": "stderr",
     "output_type": "stream",
     "text": [
      "진행 중:  30%|███       | 9/30 [01:05<02:23,  6.85s/it]"
     ]
    },
    {
     "name": "stdout",
     "output_type": "stream",
     "text": [
      "식당 이름: 네모오징어 강남파이낸스점\n",
      "식당 카테고리: 오징어요리\n",
      "주소: 서울 강남구 역삼로17길 61\n",
      "대표 메뉴: 갑오징어명란불고기\n",
      "가격: 38,000원\n",
      "방문자리뷰 :  609\n",
      "블로그리뷰 :  116\n",
      "-----------------------------\n"
     ]
    },
    {
     "name": "stderr",
     "output_type": "stream",
     "text": [
      "진행 중:  33%|███▎      | 10/30 [01:12<02:15,  6.79s/it]"
     ]
    },
    {
     "name": "stdout",
     "output_type": "stream",
     "text": [
      "식당 이름: 쟌비어\n",
      "식당 카테고리: 맥주,호프\n",
      "주소: 서울 강남구 강남대로98길 10 지하1층\n",
      "대표 메뉴: 클라우드생맥주\n",
      "가격: 3,900원\n",
      "방문자리뷰 :  106\n",
      "블로그리뷰 :  15\n",
      "-----------------------------\n"
     ]
    },
    {
     "name": "stderr",
     "output_type": "stream",
     "text": [
      "진행 중:  37%|███▋      | 11/30 [01:18<02:08,  6.77s/it]"
     ]
    },
    {
     "name": "stdout",
     "output_type": "stream",
     "text": [
      "식당 이름: 용수사\n",
      "식당 카테고리: 일식당\n",
      "주소: 서울 강남구 삼성로86길 7 삼성B.D 2F\n",
      "대표 메뉴: 모듬사시미(선)\n",
      "가격: 120,000원\n",
      "방문자리뷰 :  128\n",
      "블로그리뷰 :  151\n",
      "-----------------------------\n"
     ]
    },
    {
     "name": "stderr",
     "output_type": "stream",
     "text": [
      "진행 중:  40%|████      | 12/30 [01:25<02:01,  6.73s/it]"
     ]
    },
    {
     "name": "stdout",
     "output_type": "stream",
     "text": [
      "식당 이름: 단미그린비\n",
      "식당 카테고리: 한식\n",
      "주소: 서울 강남구 밤고개로14길 13-50\n",
      "대표 메뉴: 자연정찬\n",
      "가격: 45,000원\n",
      "방문자리뷰 :  387\n",
      "블로그리뷰 :  318\n",
      "-----------------------------\n"
     ]
    },
    {
     "name": "stderr",
     "output_type": "stream",
     "text": [
      "진행 중:  43%|████▎     | 13/30 [01:32<01:54,  6.72s/it]"
     ]
    },
    {
     "name": "stdout",
     "output_type": "stream",
     "text": [
      "식당 이름: 작은집\n",
      "식당 카테고리: 한식\n",
      "주소: 서울 강남구 밤고개로1길 10 . 비102호\n",
      "대표 메뉴: 해물된장찌개\n",
      "가격: 9,000원\n",
      "방문자리뷰 :  379\n",
      "블로그리뷰 :  19\n",
      "-----------------------------\n"
     ]
    },
    {
     "name": "stderr",
     "output_type": "stream",
     "text": [
      "진행 중:  47%|████▋     | 14/30 [01:38<01:46,  6.64s/it]"
     ]
    },
    {
     "name": "stdout",
     "output_type": "stream",
     "text": [
      "에러 메시지: Message: no such element: Unable to locate element: {\"method\":\"css selector\",\"selector\":\".Fc1rA\"}\n",
      "  (Session info: chrome=122.0.6261.112)\n",
      "\n",
      "식당 이름: 학동로81길 7 돼지네포장마차\n",
      "식당 카테고리: 전처리필요\n",
      "주소: 전처리필요\n",
      "대표 메뉴: 메뉴없음\n",
      "가격: 가격없음\n",
      "방문자리뷰 :  0\n",
      "블로그리뷰 :  0\n",
      "-----------------------------\n"
     ]
    },
    {
     "name": "stderr",
     "output_type": "stream",
     "text": [
      "진행 중:  50%|█████     | 15/30 [01:45<01:39,  6.64s/it]"
     ]
    },
    {
     "name": "stdout",
     "output_type": "stream",
     "text": [
      "식당 이름: 다옴 차병원사거리점\n",
      "식당 카테고리: 김밥\n",
      "주소: 서울 강남구 논현로 613\n",
      "대표 메뉴: 다옴김밥\n",
      "가격: 3,500원\n",
      "방문자리뷰 :  1280\n",
      "블로그리뷰 :  46\n",
      "-----------------------------\n"
     ]
    },
    {
     "name": "stderr",
     "output_type": "stream",
     "text": [
      "진행 중:  53%|█████▎    | 16/30 [01:51<01:32,  6.63s/it]"
     ]
    },
    {
     "name": "stdout",
     "output_type": "stream",
     "text": [
      "식당 이름: 에픽버거\n",
      "식당 카테고리: 햄버거\n",
      "주소: 서울 강남구 삼성로 225 아주빌딩 102호 에픽버거\n",
      "대표 메뉴: 베이컨포테이토\n",
      "가격: 9,900원\n",
      "방문자리뷰 :  163\n",
      "블로그리뷰 :  14\n",
      "-----------------------------\n"
     ]
    },
    {
     "name": "stderr",
     "output_type": "stream",
     "text": [
      "진행 중:  57%|█████▋    | 17/30 [01:58<01:25,  6.61s/it]"
     ]
    },
    {
     "name": "stdout",
     "output_type": "stream",
     "text": [
      "식당 이름: 감성캠핑 맥주창고\n",
      "식당 카테고리: 맥주,호프\n",
      "주소: 서울 강남구 봉은사로2길 17 지하1층\n",
      "대표 메뉴: 하이네켄 생맥주 세트\n",
      "가격: 48,900원\n",
      "방문자리뷰 :  87\n",
      "블로그리뷰 :  23\n",
      "-----------------------------\n"
     ]
    },
    {
     "name": "stderr",
     "output_type": "stream",
     "text": [
      "진행 중:  60%|██████    | 18/30 [02:05<01:19,  6.61s/it]"
     ]
    },
    {
     "name": "stdout",
     "output_type": "stream",
     "text": [
      "식당 이름: 홍미닭발 신사본점\n",
      "식당 카테고리: 닭발\n",
      "주소: 서울 강남구 도산대로1길 6 1층 홍미닭발\n",
      "대표 메뉴: 통닭발\n",
      "가격: 16,000원\n",
      "방문자리뷰 :  1199\n",
      "블로그리뷰 :  707\n",
      "-----------------------------\n"
     ]
    },
    {
     "name": "stderr",
     "output_type": "stream",
     "text": [
      "진행 중:  63%|██████▎   | 19/30 [02:11<01:12,  6.58s/it]"
     ]
    },
    {
     "name": "stdout",
     "output_type": "stream",
     "text": [
      "식당 이름: 돌곰네\n",
      "식당 카테고리: 해물,생선요리\n",
      "주소: 서울 강남구 언주로146길 18 동현상가 지하 돌곰네\n",
      "대표 메뉴: 돌문어톳쌈(대)\n",
      "가격: 58,000원\n",
      "방문자리뷰 :  655\n",
      "블로그리뷰 :  608\n",
      "-----------------------------\n"
     ]
    },
    {
     "name": "stderr",
     "output_type": "stream",
     "text": [
      "진행 중:  67%|██████▋   | 20/30 [02:18<01:05,  6.58s/it]"
     ]
    },
    {
     "name": "stdout",
     "output_type": "stream",
     "text": [
      "식당 이름: Benebene2010\n",
      "식당 카테고리: 이탈리아음식\n",
      "주소: 서울 강남구 선릉로148길 52\n",
      "대표 메뉴: 이탈리아 가정식 점심코스\n",
      "가격: 38,000원\n",
      "방문자리뷰 :  426\n",
      "블로그리뷰 :  227\n",
      "-----------------------------\n"
     ]
    },
    {
     "name": "stderr",
     "output_type": "stream",
     "text": [
      "진행 중:  70%|███████   | 21/30 [02:24<00:59,  6.58s/it]"
     ]
    },
    {
     "name": "stdout",
     "output_type": "stream",
     "text": [
      "식당 이름: 도담치킨 선릉역점\n",
      "식당 카테고리: 치킨,닭강정\n",
      "주소: 서울 강남구 테헤란로52길 16 테헤란IPARK\n",
      "대표 메뉴: 화이트어니언\n",
      "가격: 23,000원\n",
      "방문자리뷰 :  153\n",
      "블로그리뷰 :  9\n",
      "-----------------------------\n"
     ]
    },
    {
     "name": "stderr",
     "output_type": "stream",
     "text": [
      "진행 중:  73%|███████▎  | 22/30 [02:31<00:52,  6.60s/it]"
     ]
    },
    {
     "name": "stdout",
     "output_type": "stream",
     "text": [
      "식당 이름: 논골집 역삼점\n",
      "식당 카테고리: 소고기구이\n",
      "주소: 서울 강남구 논현로 334\n",
      "대표 메뉴: 갈비살 (150g)\n",
      "가격: 16,000원\n",
      "방문자리뷰 :  382\n",
      "블로그리뷰 :  44\n",
      "-----------------------------\n"
     ]
    },
    {
     "name": "stderr",
     "output_type": "stream",
     "text": [
      "진행 중:  77%|███████▋  | 23/30 [02:37<00:46,  6.59s/it]"
     ]
    },
    {
     "name": "stdout",
     "output_type": "stream",
     "text": [
      "식당 이름: 텀블러비어 역삼직영점\n",
      "식당 카테고리: 맥주,호프\n",
      "주소: 서울 강남구 테헤란로20길 15 메이플라워멤버스빌오피스텔\n",
      "대표 메뉴: 고르곤졸라 피자\n",
      "가격: 22,000원\n",
      "방문자리뷰 :  290\n",
      "블로그리뷰 :  52\n",
      "-----------------------------\n"
     ]
    },
    {
     "name": "stderr",
     "output_type": "stream",
     "text": [
      "진행 중:  80%|████████  | 24/30 [02:44<00:39,  6.55s/it]"
     ]
    },
    {
     "name": "stdout",
     "output_type": "stream",
     "text": [
      "식당 이름: 갤러리 로얄\n",
      "식당 카테고리: 갤러리,화랑\n",
      "주소: 서울 강남구 논현로 709 로얄라운지\n",
      "대표 메뉴: 메뉴없음\n",
      "가격: 가격없음\n",
      "방문자리뷰 :  5\n",
      "블로그리뷰 :  112\n",
      "-----------------------------\n"
     ]
    },
    {
     "name": "stderr",
     "output_type": "stream",
     "text": [
      "진행 중:  83%|████████▎ | 25/30 [02:47<00:27,  5.60s/it]"
     ]
    },
    {
     "name": "stdout",
     "output_type": "stream",
     "text": [
      "에러 메시지: Message: no such element: Unable to locate element: {\"method\":\"css selector\",\"selector\":\"[id=\"searchIframe\"]\"}\n",
      "  (Session info: chrome=122.0.6261.112)\n",
      "\n",
      "식당 이름: 선릉로6길 9 개포마을\n",
      "식당 카테고리: 전처리필요\n",
      "주소: 전처리필요\n",
      "대표 메뉴: 메뉴없음\n",
      "가격: 가격없음\n",
      "방문자리뷰 :  0\n",
      "블로그리뷰 :  0\n",
      "-----------------------------\n"
     ]
    },
    {
     "name": "stderr",
     "output_type": "stream",
     "text": [
      "진행 중:  87%|████████▋ | 26/30 [02:54<00:23,  5.92s/it]"
     ]
    },
    {
     "name": "stdout",
     "output_type": "stream",
     "text": [
      "식당 이름: 커피빈 뉴압구정점\n",
      "식당 카테고리: 카페\n",
      "주소: 서울 강남구 논현로167길 9 낙산프라자\n",
      "대표 메뉴: 아메리카노\n",
      "가격: 5,000원\n",
      "방문자리뷰 :  1397\n",
      "블로그리뷰 :  55\n",
      "-----------------------------\n"
     ]
    },
    {
     "name": "stderr",
     "output_type": "stream",
     "text": [
      "진행 중:  90%|█████████ | 27/30 [03:01<00:18,  6.13s/it]"
     ]
    },
    {
     "name": "stdout",
     "output_type": "stream",
     "text": [
      "식당 이름: 베이징코야 강남점\n",
      "식당 카테고리: 중식당\n",
      "주소: 서울 강남구 논현로86길 20 봉강빌딩 1층\n",
      "대표 메뉴: 북경오리\n",
      "가격: 89,000원\n",
      "방문자리뷰 :  395\n",
      "블로그리뷰 :  94\n",
      "-----------------------------\n"
     ]
    },
    {
     "name": "stderr",
     "output_type": "stream",
     "text": [
      "진행 중:  93%|█████████▎| 28/30 [03:07<00:12,  6.26s/it]"
     ]
    },
    {
     "name": "stdout",
     "output_type": "stream",
     "text": [
      "식당 이름: 수서역 벌교한상\n",
      "식당 카테고리: 한식\n",
      "주소: 서울 강남구 광평로46길 7 벌교한상\n",
      "대표 메뉴: 점심한상\n",
      "가격: 13,000원\n",
      "방문자리뷰 :  1200\n",
      "블로그리뷰 :  3925\n",
      "-----------------------------\n"
     ]
    },
    {
     "name": "stderr",
     "output_type": "stream",
     "text": [
      "진행 중:  97%|█████████▋| 29/30 [03:15<00:06,  6.85s/it]"
     ]
    },
    {
     "name": "stdout",
     "output_type": "stream",
     "text": [
      "식당 이름: Its 찜이야기\n",
      "식당 카테고리: 한식\n",
      "주소: 경기 광명시 오리로985번길 11 두성노빌리아오피스텔\n",
      "대표 메뉴: (2인)아구찜(탕),해물찜(탕)\n",
      "가격: 39,000원\n",
      "방문자리뷰 :  829\n",
      "블로그리뷰 :  57\n",
      "-----------------------------\n"
     ]
    },
    {
     "name": "stderr",
     "output_type": "stream",
     "text": [
      "진행 중: 100%|██████████| 30/30 [03:22<00:00,  6.77s/it]"
     ]
    },
    {
     "name": "stdout",
     "output_type": "stream",
     "text": [
      "식당 이름: 맥주창고플러스\n",
      "식당 카테고리: 맥주,호프\n",
      "주소: 서울 강남구 선릉로129길 13\n",
      "대표 메뉴: 메뉴없음\n",
      "가격: 가격없음\n",
      "방문자리뷰 :  228\n",
      "블로그리뷰 :  23\n",
      "-----------------------------\n"
     ]
    },
    {
     "name": "stderr",
     "output_type": "stream",
     "text": [
      "\n"
     ]
    }
   ],
   "source": [
    "# 가져올 정보들에 대한 리스트 지정\n",
    "# 가게명, 업태명, 주소, 주력메뉴(맨첫번째메뉴) + 가격까지, 방문자리뷰수,블로그리뷰수\n",
    "\n",
    "restaurant_name_list = []\n",
    "category_name_list = []\n",
    "address_list = []\n",
    "menu_list = []\n",
    "price_list = []\n",
    "visitor_review_list =[]\n",
    "blog_review_list =[]\n",
    "\n",
    "# 크롤링 시작합니다.\n",
    "total_iterations = len(res_df) # 크롤링 진행 과정을 파악하기 위해 tqdm 사용 \n",
    "for i in tqdm(range(total_iterations), desc='진행 중', position=0, leave=True):\n",
    "\n",
    "\n",
    "    # 검색어를 네이버 url에 포함시켜 이동 + 검색 \n",
    "        \n",
    "    name = res_df['검색어'][i]\n",
    "    driver.get('https://map.naver.com/p/search/{}'.format(name))\n",
    "\n",
    "        \n",
    "    time.sleep(3)  \n",
    "\n",
    "    ## 화면이 안넘어가고 검색결과에 머물러 있을 때는 entryIframe 이 없음\n",
    "    ## 그래서 검색어 쳤을때 entryIframe 있으면 --> 화면이 넘어갔다는 뜻이고 \n",
    "    ## 없으면 아직 안넘어간 뜻이니깐 searchIframe 에서 클릭해서 넘어가야함 .\n",
    "    try :\n",
    "        if driver.find_elements(By.ID,'entryIframe') :\n",
    "            entryIframe = driver.find_element(By.ID,'entryIframe')\n",
    "            driver.switch_to.frame(entryIframe)\n",
    "            \n",
    "            time.sleep(3) \n",
    "            \n",
    "            # 가게 이름, 변수로 지정\n",
    "            # 메뉴와 가격이 존재하는지의 여부를 고려 \n",
    "            # 매장마다 메뉴를 보여주는 테마가 2가지 존재하기 때문에 이를 고려\n",
    "\n",
    "            restaurant_name = driver.find_element(By.CLASS_NAME,'Fc1rA').text\n",
    "            category_name = driver.find_element(By.CLASS_NAME,'DJJvD').text\n",
    "            address = driver.find_element(By.CLASS_NAME,'LDgIH').text\n",
    "            if driver.find_elements(By.CLASS_NAME,'ihmWt') :\n",
    "                menu = driver.find_element(By.CLASS_NAME,'ihmWt').text\n",
    "                price = driver.find_element(By.CLASS_NAME,'mkBm3').text\n",
    "            elif driver.find_elements(By.CLASS_NAME,'VQvNX') :\n",
    "                menu = driver.find_element(By.CLASS_NAME,'VQvNX').text\n",
    "                price = driver.find_element(By.CLASS_NAME,'Yrsei').text\n",
    "            else : \n",
    "                menu = '메뉴없음'\n",
    "                price = \"가격없음\"\n",
    "            \n",
    "            # 리뷰 긁어오기 \n",
    "            # PXMot 클래스 요소들을 모두 찾음\n",
    "            # PXMot 는 리뷰의 클래스 이름인데 별점, 방문자리뷰, 블로그리뷰 총 3개가 존재\n",
    "            pxmot_elements = driver.find_elements(By.CLASS_NAME, 'PXMot')\n",
    "            \n",
    "            visitor_review = 0\n",
    "            blog_review = 0\n",
    "            # PXMot 가 존재할 때 (별점 방문자 블로그 중  뭐라도 존재)\n",
    "            if pxmot_elements:\n",
    "                for element in pxmot_elements:\n",
    "                    element_text = element.text\n",
    "                    if element_text.startswith('별점'):\n",
    "                        # 별점이 있으면 다음 요소 검사\n",
    "                        continue\n",
    "                    elif element_text.startswith('방문자리뷰'):\n",
    "                        # 방문자 리뷰가 존재하는 경우\n",
    "                        review_text = element_text.replace('방문자리뷰', '')\n",
    "                        # 쉼표(,) 제거 후 정수로 변환\n",
    "                        try : \n",
    "                            visitor_review = int(review_text.replace(',', '')) if ',' in review_text else int(review_text)\n",
    "                        except ValueError :\n",
    "                            visitor_review = 0\n",
    "                    elif element_text.startswith('블로그리뷰'):\n",
    "                        # 블로그 리뷰가 존재하는 경우\n",
    "                        review_text = element_text.replace('블로그리뷰', '')\n",
    "                        # 쉼표(,) 제거 후 정수로 변환\n",
    "                        try :\n",
    "                            blog_review = int(review_text.replace(',', '')) if ',' in review_text else int(review_text)\n",
    "                        except ValueError :\n",
    "                            blog_review = 0\n",
    "            # PXMot 가 없을 때(별점 방문자 블로그 중  뭐라도 존재x)\n",
    "            else  : \n",
    "                visitor_review = 0\n",
    "                blog_review = 0      \n",
    "        else: \n",
    "            # searchIframe 프레임 \n",
    "            # searchIframe 프레임으로 가야하는 경우는 검색했을 때 결과가 바로 안나오고 식당리스트가 먼저나오는 경우\n",
    "            # 그래서 searchIFrame에서 첫번쨰 식당을 선택하고 그다음에 entryIFrame으로 들어가야함\n",
    "            searchIframe = driver.find_element(By.ID,'searchIframe')\n",
    "            driver.switch_to.frame(searchIframe)\n",
    "\n",
    "\n",
    "            ## 클릭 \n",
    "            driver.find_element(By.CLASS_NAME,'YwYLL').click()\n",
    "            \n",
    "            # 기본프레임 \n",
    "            time.sleep(1)\n",
    "            driver.switch_to.default_content()\n",
    "        \n",
    "\n",
    "            # entryIframe 프레임 \n",
    "            entryIframe = driver.find_element(By.ID,'entryIframe')\n",
    "            driver.switch_to.frame(entryIframe)\n",
    "\n",
    "            time.sleep(3) \n",
    "            # 가게 이름, 변수로 지정\n",
    "            restaurant_name = driver.find_element(By.CLASS_NAME,'Fc1rA').text\n",
    "            category_name = driver.find_element(By.CLASS_NAME,'DJJvD').text\n",
    "            address = driver.find_element(By.CLASS_NAME,'LDgIH').text\n",
    "\n",
    "            # 메뉴와 가격이 존재하는지의 여부를 고려 \n",
    "            # 매장마다 메뉴를 보여주는 테마가 2가지 존재하기 때문에 이를 고려\n",
    "\n",
    "            if driver.find_elements(By.CLASS_NAME,'ihmWt') :\n",
    "                menu = driver.find_element(By.CLASS_NAME,'ihmWt').text\n",
    "                price = driver.find_element(By.CLASS_NAME,'mkBm3').text\n",
    "            elif driver.find_elements(By.CLASS_NAME,'VQvNX') :\n",
    "                menu = driver.find_element(By.CLASS_NAME,'VQvNX').text\n",
    "                price = driver.find_element(By.CLASS_NAME,'Yrsei').text\n",
    "            else : \n",
    "                menu = '메뉴없음'\n",
    "                price = \"가격없음\"\n",
    "\n",
    "            # 리뷰 수 긁어오기\n",
    "            # PXMot 클래스 요소들을 모두 찾음\n",
    "            # PXMot 는 리뷰의 클래스 이름인데 별점, 방문자리뷰, 블로그리뷰 총 3개가 존재\n",
    "            pxmot_elements = driver.find_elements(By.CLASS_NAME, 'PXMot')\n",
    "        \n",
    "            # PXMot 가 존재할 때 (별점 방문자 블로그 중  뭐라도 존재)\n",
    "            if pxmot_elements:\n",
    "                for element in pxmot_elements:\n",
    "                    element_text = element.text\n",
    "                    if element_text.startswith('별점'):\n",
    "                        # 별점이 있으면 다음 요소 검사\n",
    "                        continue\n",
    "                    elif element_text.startswith('방문자리뷰'):\n",
    "                        # 방문자 리뷰가 존재하는 경우\n",
    "                        review_text = element_text.replace('방문자리뷰', '')\n",
    "                        # 쉼표(,) 제거 후 정수로 변환\n",
    "                        try : \n",
    "                            visitor_review = int(review_text.replace(',', '')) if ',' in review_text else int(review_text)\n",
    "                        except ValueError :\n",
    "                            visitor_review = 0\n",
    "                    elif element_text.startswith('블로그리뷰'):\n",
    "                        # 블로그 리뷰가 존재하는 경우\n",
    "                        review_text = element_text.replace('블로그리뷰', '').strip()\n",
    "                        # 쉼표(,) 제거 후 정수로 변환\n",
    "                        try :\n",
    "                            blog_review = int(review_text.replace(',', '')) if ',' in review_text else int(review_text)\n",
    "                        except ValueError :\n",
    "                            blog_review = 0\n",
    "            # PXMot 가 없을 때(별점 방문자 블로그 중  뭐라도 존재x)\n",
    "            else  : \n",
    "                visitor_review = 0\n",
    "                blog_review = 0        \n",
    "    ## 예외처리 : vscode 상태가 안좋아서 그냥 검색이 안된경우 이거나 진짜 없는 식당일 때.\n",
    "    except Exception as e : \n",
    "        restaurant_name = name \n",
    "        category_name = '전처리필요'\n",
    "        address = '전처리필요'\n",
    "        menu = '메뉴없음'\n",
    "        price = \"가격없음\"\n",
    "        visitor_review = 0\n",
    "        blog_review = 0\n",
    "\n",
    "        print(f\"에러 메시지: {str(e)}\")\n",
    "\n",
    "\n",
    "    ## 리스트에 추가\n",
    "    restaurant_name_list.append(restaurant_name)\n",
    "    category_name_list.append(category_name)\n",
    "    address_list.append(address)\n",
    "    menu_list.append(menu)\n",
    "    price_list.append(price)\n",
    "    visitor_review_list.append(visitor_review)\n",
    "    blog_review_list.append(blog_review)\n",
    "\n",
    "    \n",
    "    print('식당 이름:',restaurant_name)\n",
    "    print('식당 카테고리:',category_name)\n",
    "    print('주소:',address)\n",
    "    print('대표 메뉴:',menu)\n",
    "    print('가격:',price)\n",
    "    print('방문자리뷰 : ',visitor_review)\n",
    "    print('블로그리뷰 : ',blog_review)\n",
    "    print('-----------------------------')\n",
    "res_info_df = pd.DataFrame({'식당이름':restaurant_name_list ,\n",
    "                             '업태구분' :category_name_list ,\n",
    "                             '주소' :address_list ,\n",
    "                             '메뉴': menu_list,\n",
    "                             '가격':price_list,\n",
    "                             '방문자리뷰':visitor_review_list,\n",
    "                             '블로그리뷰':blog_review_list,\n",
    "                             })\n",
    "driver.quit()\n",
    "\n",
    "## 결과 데이터에 검색어 칼럼 추가\n",
    "## 추후에 인덱스로 쓸 예정이기 떄문\n",
    "\n",
    "res_info_df['검색어'] = res_df['검색어']\n",
    "res_info_df.to_excel(f'./data/restaurant_info_data(2)/restaurant_info_data/restaurant_tag_df_{이름}_{start_num}_{end_num}.xlsx', index=False)\n",
    "\n",
    "# 100개 기준 16분 "
   ]
  },
  {
   "cell_type": "markdown",
   "metadata": {},
   "source": []
  },
  {
   "cell_type": "markdown",
   "metadata": {},
   "source": []
  },
  {
   "cell_type": "markdown",
   "metadata": {},
   "source": []
  },
  {
   "cell_type": "markdown",
   "metadata": {},
   "source": [
    "만약에 에러나면 에러난 식당의 리뷰가 그 전 식당의 리뷰수를 따라가더라 "
   ]
  },
  {
   "cell_type": "code",
   "execution_count": null,
   "metadata": {},
   "outputs": [],
   "source": [
    "# ## 잘 긁어왔나 확인합니다\n",
    "\n",
    "# res_info_df.head()"
   ]
  },
  {
   "cell_type": "code",
   "execution_count": null,
   "metadata": {},
   "outputs": [],
   "source": [
    "# ## 엑셀파일에 잘 저장합니다\n",
    "\n",
    "# res_info_df.to_excel('매장정보.xlsx')\n"
   ]
  },
  {
   "cell_type": "markdown",
   "metadata": {},
   "source": [
    "# --------------------------------------------------------------------------------------\n",
    "\n",
    "# 여기서부턴 파일 옮겨서 돌려야 할 듯 합니다\n",
    "\n",
    "# 업태가 뭐있는지 몰라서입니다  + 리뷰도 다른 파일에서 취합하는ㄱ네 맞는듯 싶습니다 \n"
   ]
  },
  {
   "cell_type": "code",
   "execution_count": null,
   "metadata": {},
   "outputs": [],
   "source": [
    "# res_info_df['업태구분'].unique()"
   ]
  },
  {
   "cell_type": "code",
   "execution_count": null,
   "metadata": {},
   "outputs": [],
   "source": [
    "# # 필요없는 카테고리(카페, 술, 출장요리 등등) 제거\n",
    "# 제외 = ['바나프레소','이자카야','바(BAR)','카페,디저트','요리주점','장소대여','카페','PC','예식장']\n",
    "# for i in 제외 :\n",
    "#     res_info_df = res_info_df.drop(res_info_df[res_info_df['업태구분'] == i].index)\n",
    "\n",
    "# len(res_info_df)"
   ]
  },
  {
   "cell_type": "code",
   "execution_count": null,
   "metadata": {},
   "outputs": [],
   "source": [
    "# res_info_df"
   ]
  },
  {
   "cell_type": "code",
   "execution_count": null,
   "metadata": {},
   "outputs": [],
   "source": [
    "# ## 한식 하나 더 만들어서 정렬되는지 확인하려고 만들었음 \n",
    "\n",
    "# res_info_df.loc[df_test_result['업태구분']=='한식뷔페','업태구분' ] = '한식'"
   ]
  },
  {
   "cell_type": "code",
   "execution_count": null,
   "metadata": {},
   "outputs": [],
   "source": [
    "# res_df_groupby = res_info_df.groupby('업태구분').apply(lambda x : x.sort_values(by='리뷰',ascending=False))\n"
   ]
  },
  {
   "cell_type": "code",
   "execution_count": null,
   "metadata": {},
   "outputs": [],
   "source": [
    "# res_df_groupby"
   ]
  },
  {
   "cell_type": "code",
   "execution_count": null,
   "metadata": {},
   "outputs": [],
   "source": [
    "\n",
    "# # 예제 데이터프레임 생성\n",
    "# test = pd.DataFrame({\n",
    "#     '업태구분': ['식당', '식당', '카페', '카페', '호텔', '호텔'],\n",
    "#     '리뷰': [5, 4, 3, 2, 1, 6]\n",
    "# })\n",
    "\n",
    "# # 상위 n개를 뽑는 함수 정의\n",
    "# def top_n(group, n=2):\n",
    "#     return group.head(n)\n",
    "\n",
    "# # '업태구분' 칼럼을 기준으로 그룹화하고, 각 그룹별로 정렬한 후 상위 2개의 데이터를 뽑아 새로운 데이터프레임으로 생성\n",
    "# test_groupby = test.groupby('업태구분', group_keys=False).apply(lambda x: x.sort_values(by='리뷰', ascending=False)).groupby('업태구분').apply(top_n, n=2)\n",
    "\n",
    "# print(test_groupby)"
   ]
  },
  {
   "cell_type": "code",
   "execution_count": null,
   "metadata": {},
   "outputs": [],
   "source": [
    "# res_df_groupby"
   ]
  },
  {
   "cell_type": "code",
   "execution_count": null,
   "metadata": {},
   "outputs": [],
   "source": [
    "# res_df_groupby.to_csv('매장_업태별_결과.csv')"
   ]
  }
 ],
 "metadata": {
  "kernelspec": {
   "display_name": "Python 3",
   "language": "python",
   "name": "python3"
  },
  "language_info": {
   "codemirror_mode": {
    "name": "ipython",
    "version": 3
   },
   "file_extension": ".py",
   "mimetype": "text/x-python",
   "name": "python",
   "nbconvert_exporter": "python",
   "pygments_lexer": "ipython3",
   "version": "3.10.5"
  }
 },
 "nbformat": 4,
 "nbformat_minor": 2
}
