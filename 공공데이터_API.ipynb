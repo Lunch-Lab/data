{
 "cells": [
  {
   "cell_type": "markdown",
   "metadata": {},
   "source": [
    "음식점 공공데이터 불러오기"
   ]
  },
  {
   "cell_type": "markdown",
   "metadata": {},
   "source": [
    "https://www.localdata.go.kr/devcenter/apiGuide.do?menuNo=20002"
   ]
  },
  {
   "cell_type": "markdown",
   "metadata": {},
   "source": [
    "### 요청변수 설명\n",
    "\n",
    "| 변수명         | 변수타입   | 설명                                      | 필수여부   |\n",
    "| -------------- | ---------- | ----------------------------------------- | ---------- |\n",
    "| authKey        | String     | 인증키                                    | 필수       |\n",
    "| localCode      | String     | 개방자치단체코드(신고지역)                 |            |\n",
    "| bgnYmd         | String     | 인허가일자기준 검색 시작일자(YYYYMMDD)     |            |\n",
    "| endYmd         | String     | 인허가일자기준 검색 종료일자(YYYYMMDD)     |            |\n",
    "| lastModTsBgn   | String     | 데이터갱신일자기준 검색 시작일자(YYYYMMDD) |            |\n",
    "| lastModTsEnd   | String     | 데이터갱신일자기준 검색 종료일자(YYYYMMDD) |            |\n",
    "| state          | String     | 운영상태코드 - 01: 영업/정상, 02:휴업, ... |            |\n",
    "| pageIndex      | String     | 페이지 번호                                |            |\n",
    "| pageSize       | String     | 페이지당 출력 갯수 (def. 10)                |            |\n",
    "| resultFileYn   | String     | 파일 처리 여부 : y,n                       |            |\n",
    "| resultType     | String     | 출력형식 : xml,json (파일:xls,xlsx,csv)... |            |\n",
    "| opnSvcId       | String     | 개방서비스ID                                |            |\n"
   ]
  },
  {
   "cell_type": "markdown",
   "metadata": {},
   "source": [
    "| API 구분   | 개발    |\n",
    "| ---------- | ------- |\n",
    "| 요청 URL   | http://www.localdata.go.kr/platform/rest/GR0/openDataApi?authKey=DyMZ4R8=lfXGvx0v4bWP/jFeXZWg=ABEIBFnigoBOxU= |\n",
    "| 인증키     | DyMZ4R8=lfXGvx0v4bWP/jFeXZWg=ABEIBFnigoBOxU= |\n"
   ]
  },
  {
   "cell_type": "markdown",
   "metadata": {},
   "source": []
  },
  {
   "cell_type": "markdown",
   "metadata": {},
   "source": []
  },
  {
   "cell_type": "markdown",
   "metadata": {},
   "source": [
    "### 응답변수 설명\n",
    "\n",
    "| 변수명          | 변수타입   | 설명               | 필수여부   |\n",
    "| --------------- | ---------- | ------------------ | ---------- |\n",
    "| rowNum          | Number     | 번호               |            |\n",
    "| opnSfTeamCode   | String     | 개방자치단체코드   | 필수       |\n",
    "| mgtNo           | String     | 관리번호           | 필수       |\n",
    "| opnSvcId        | String     | 개방서비스ID       | 필수       |\n",
    "| updateGbn       | String     | 데이터갱신구분     |            |\n",
    "| updateDt        | String     | 데이터갱신일자     |            |\n",
    "| opnSvcNm        | String     | 개방서비스명       |            |\n",
    "| bplcNm          | String     | 사업장명           |            |\n",
    "| sitePostNo      | String     | 지번우편번호       |            |\n",
    "| siteWhlAddr     | String     | 지번주소           |            |\n",
    "| rdnPostNo       | String     | 도로명우편번호     |            |\n",
    "| rdnWhlAddr      | String     | 도로명주소         |            |\n",
    "| siteArea        | String     | 소재지면적         |            |\n",
    "| apvPermYmd      | String     | 인허가일자         |            |\n",
    "| apvCancelYmd    | String     | 인허가취소일자     |            |\n",
    "| dcbYmd          | String     | 폐업일자           |            |\n",
    "| clgStdt         | String     | 휴업시작일자       |            |\n",
    "| clgEnddt        | String     | 휴업종료일자       |            |\n",
    "| ropnYmd         | String     | 재개업일자         |            |\n",
    "| trdStateGbn     | String     | 영업상태코드       |            |\n",
    "| trdStateNm      | String     | 영업상태명         |            |\n",
    "| dtlStateGbn     | String     | 상세영업상태코드   |            |\n",
    "| dtlStateNm      | String     | 상세영업상태명     |            |\n",
    "| x               | String     | 좌표정보(X)        |            |\n",
    "| y               | String     | 좌표정보(Y)        |            |\n",
    "| lastModTs       | String     | 최종수정일자       |            |\n",
    "| uptaeNm         | String     | 업태구분명         |            |\n",
    "| siteTel         | String     | 전화번호           |            |\n"
   ]
  },
  {
   "cell_type": "markdown",
   "metadata": {},
   "source": [
    "| 신청항목(영문명)          | 신청항목(한글명)       |\n",
    "| ------------------------- | --------------------- |\n",
    "| OPN_SF_TEAM_CODE          | 개방자치단체코드       |\n",
    "| MGT_NO                    | 관리번호               |\n",
    "| OPN_SVC_ID                | 개방서비스ID           |\n",
    "| UPDATE_GBN                | 데이터갱신구분         |\n",
    "| UPDATE_DT                 | 데이터갱신일자         |\n",
    "| OPN_SVC_NM                | 개방서비스명           |\n",
    "| BPLC_NM                   | 사업장명               |\n",
    "| SITE_POST_NO              | 지번우편번호           |\n",
    "| SITE_WHL_ADDR             | 지번주소               |\n",
    "| RDN_POST_NO               | 도로명우편번호         |\n",
    "| RDN_WHL_ADDR              | 도로명주소             |\n",
    "| SITE_AREA                 | 소재지면적             |\n",
    "| APV_PERM_YMD              | 인허가일자             |\n",
    "| APV_CANCEL_YMD            | 인허가취소일자         |\n",
    "| DCB_YMD                   | 폐업일자               |\n",
    "| CLG_STDT                  | 휴업시작일자           |\n",
    "| CLG_ENDDT                 | 휴업종료일자           |\n",
    "| ROPN_YMD                  | 재개업일자             |\n",
    "| TRD_STATE_GBN             | 영업상태코드           |\n",
    "| TRD_STATE_NM              | 영업상태명             |\n",
    "| DTL_STATE_GBN             | 상세영업상태코드       |\n",
    "| DTL_STATE_NM              | 상세영업상태명         |\n",
    "| X                         | 좌표정보(X)            |\n",
    "| Y                         | 좌표정보(Y)            |\n",
    "| LAST_MOD_TS               | 최종수정일자           |\n",
    "| UPTAE_NM                  | 업태구분명             |\n",
    "| SITE_TEL                  | 전화번호               |\n",
    "| STROOM_CNT                | 객실수                 |\n",
    "| BDNG_OWN_SE_NM            | 건물소유구분명         |\n",
    "| BDNG_SRV_NM               | 건물용도명             |\n",
    "| ...                       | ...                   |\n",
    "| ENG_STN_TRNM_NM           | 영문상호명             |\n",
    "| ENG_STN_TRNM_ADDR         | 영문상호주소           |\n",
    "| TRDP_JUBN_SE_NM           | 영업장주변구분명       |\n",
    "| MON_AM                    | 월세액                 |\n",
    "| SNT_UPTAE_NM              | 위생업태명             |\n",
    "| DISPEN_EN                 | 의무실유무             |\n",
    "| ...                       | ...                   |\n",
    "| HOMEPAGE                  | 홈페이지               |\n",
    "| MEET_SAM_TIME_SYG_STF     | 회의실별동시수용인원   |\n"
   ]
  },
  {
   "cell_type": "markdown",
   "metadata": {},
   "source": []
  },
  {
   "cell_type": "code",
   "execution_count": 9,
   "metadata": {},
   "outputs": [
    {
     "name": "stdout",
     "output_type": "stream",
     "text": [
      "\n",
      "\n",
      "<!DOCTYPE html>\n",
      "<html lang=\"ko\">\n",
      "  <head>\n",
      "    <meta charset=\"UTF-8\">\n",
      "    <meta http-equiv=\"X-UA-Compatible\" content=\"IE=edge\">\n",
      "    <link rel=\"stylesheet\" type=\"text/css\" href=\"/css/egovframework/portal/ladosErrorPage.css\">\n",
      "\t<title>지방행정데이터개방 - 페이지를 찾을 수 없습니다.</title>    \n",
      "\t<script>\n",
      "\tfunction fncGoAfterErrorPage(){\n",
      "\t    history.back(-2);\n",
      "\t}\n",
      "</script>\n",
      "  </head>\n",
      "  <body>\n",
      "   \t<div class=\"container-error-wrap\">\n",
      "   \t\t<div class=\"container-error\">\n",
      "   \t\t\t<div class=\"error-img-area\"><a href=\"/main.do\"><img src=\"/images/egovframework/portal/img_er_log.gif\" alt=\"지방행정 데이터개방 로고\" /></a></div>\n",
      "   \t\t\t<div class=\"error-img-area\"><img src=\"/images/egovframework/portal/img_er_img.gif\" alt=\"지방행정 데이터개방 에러\" /></div>\n",
      "   \t\t\t<h2><span>해당 서비스 접속이 원활하지 않습니다.</span></h2>\n",
      "   \t\t\t<p>보다 신속하게 문제를 해결하고자 노력 중이며 원활한 서비스를 제공할 수 있도록 최선을 다하겠습니다.<br>본 화면이 계속 보이실 경우 관리자에게 문의해 주시기 바랍니다.</p>\n",
      "   \t\t\t<div class=\"btn-group\">\n",
      "   \t\t\t\t<a href=\"javascript:fncGoAfterErrorPage();\" class=\"btn\">이전페이지</a>\n",
      "   \t\t\t\t<a href=\"/main.do\" class=\"btn btn-home\">홈으로</a>\n",
      "   \t\t\t</div>\n",
      "   \t\t\t<table class=\"error-table\">\n",
      "   \t\t\t\t<tr>\n",
      "   \t\t\t\t\t<td class=\"td-hd td-hd-gbn\">구분</td>\n",
      "   \t\t\t\t\t<td class=\"td-hd td-hd-call\">연락처</td>\n",
      "   \t\t\t\t\t<td class=\"td-hd td-hd-time\">시간</td>\n",
      "   \t\t\t\t</tr>\n",
      "   \t\t\t\t<tr>\n",
      "   \t\t\t\t\t<td>평일</td>\n",
      "   \t\t\t\t\t<td>02-2195-1103/1137</td>\n",
      "   \t\t\t\t\t<td rowspan='2'>09:00 ~ 18:00</td>\n",
      "   \t\t\t\t</tr>\n",
      "   \t\t\t\t<tr>\n",
      "   \t\t\t\t\t<td>주말 및 공휴일</td>\n",
      "   \t\t\t\t\t<td>02-2076-5800<br>※3번 (시도·새올) 안내멘트 수신 후 0번 (당직자 연결)</td>\n",
      "   \t\t\t\t</tr>\n",
      "   \t\t\t</table> \t\n",
      "   \t\t</div>  \n",
      "   \t</div>\n",
      "   </body>\n",
      "  </html>\n"
     ]
    }
   ],
   "source": [
    "import requests\n",
    "\n",
    "def get_api_data(localcode, bgnYmd, endYmd):\n",
    "    # API 신청 시 발급받은 인증키 설정\n",
    "    AUTH_KEY = \"DyMZ4R8=lfXGvx0v4bWP/jFeXZWg=ABEIBFnigoBOxU=\"\n",
    "\n",
    "    # API 호출 시 조회 할 변수 설정 - 요청 변수\n",
    "    apiurl = \"http://www.localdata.go.kr/platform/rest/인증키유형/openDataApi\"\n",
    "    \n",
    "    # 요청 변수 추가\n",
    "    params = {'authKey': AUTH_KEY}\n",
    "\n",
    "    if localcode:\n",
    "        params['localCode'] = localcode\n",
    "    if bgnYmd and endYmd:\n",
    "        params['bgnYmd'] = bgnYmd\n",
    "        params['endYmd'] = endYmd\n",
    "\n",
    "    # API 호출\n",
    "    response = requests.post(apiurl, params=params)\n",
    "\n",
    "    # 응답 확인\n",
    "    if response.status_code == 200:\n",
    "        return response.text\n",
    "    else:\n",
    "        print(f\"에러 발생! 응답 코드: {response.status_code}\")\n",
    "        return None\n",
    "\n",
    "\n",
    "# 테스트\n",
    "localcode = \"지역코드\"  # 원하는 값으로 대체\n",
    "bgnYmd = \"시작날짜\"    # 원하는 값으로 대체\n",
    "endYmd = \"종료날짜\"    # 원하는 값으로 대체\n",
    "\n",
    "api_data = get_api_data(localcode, bgnYmd, endYmd)\n",
    "\n",
    "if api_data:\n",
    "    print(api_data)\n",
    "else:\n",
    "    print(\"API 호출 중 에러 발생\")\n"
   ]
  },
  {
   "cell_type": "code",
   "execution_count": 5,
   "metadata": {},
   "outputs": [
    {
     "data": {
      "text/plain": [
       "2750.0"
      ]
     },
     "execution_count": 5,
     "metadata": {},
     "output_type": "execute_result"
    }
   ],
   "source": [
    "a = '2,750'\n",
    "try :\n",
    "    a = a.replace(',','')\n",
    "    a = float(a)\n",
    "except :\n",
    "    a= float(a)\n",
    "a"
   ]
  }
 ],
 "metadata": {
  "kernelspec": {
   "display_name": "Python 3",
   "language": "python",
   "name": "python3"
  },
  "language_info": {
   "codemirror_mode": {
    "name": "ipython",
    "version": 3
   },
   "file_extension": ".py",
   "mimetype": "text/x-python",
   "name": "python",
   "nbconvert_exporter": "python",
   "pygments_lexer": "ipython3",
   "version": "3.10.5"
  }
 },
 "nbformat": 4,
 "nbformat_minor": 2
}
