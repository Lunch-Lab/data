{
 "cells": [
  {
   "cell_type": "markdown",
   "metadata": {},
   "source": [
    "# EDA \n"
   ]
  },
  {
   "cell_type": "code",
   "execution_count": 11,
   "metadata": {},
   "outputs": [
    {
     "data": {
      "text/html": [
       "<div>\n",
       "<style scoped>\n",
       "    .dataframe tbody tr th:only-of-type {\n",
       "        vertical-align: middle;\n",
       "    }\n",
       "\n",
       "    .dataframe tbody tr th {\n",
       "        vertical-align: top;\n",
       "    }\n",
       "\n",
       "    .dataframe thead th {\n",
       "        text-align: right;\n",
       "    }\n",
       "</style>\n",
       "<table border=\"1\" class=\"dataframe\">\n",
       "  <thead>\n",
       "    <tr style=\"text-align: right;\">\n",
       "      <th></th>\n",
       "      <th>식당이름</th>\n",
       "      <th>업태구분</th>\n",
       "      <th>주소</th>\n",
       "      <th>메뉴</th>\n",
       "      <th>가격</th>\n",
       "      <th>방문자리뷰</th>\n",
       "      <th>블로그리뷰</th>\n",
       "      <th>검색어</th>\n",
       "      <th>담당</th>\n",
       "    </tr>\n",
       "  </thead>\n",
       "  <tbody>\n",
       "    <tr>\n",
       "      <th>0</th>\n",
       "      <td>하영호신촌설렁탕 역삼로점</td>\n",
       "      <td>곰탕,설렁탕</td>\n",
       "      <td>서울 강남구 역삼로 215 1층</td>\n",
       "      <td>설렁탕</td>\n",
       "      <td>11,000원</td>\n",
       "      <td>397</td>\n",
       "      <td>13</td>\n",
       "      <td>역삼로 215, 신촌설렁탕</td>\n",
       "      <td>정훈</td>\n",
       "    </tr>\n",
       "    <tr>\n",
       "      <th>1</th>\n",
       "      <td>사보텐 압구정본점</td>\n",
       "      <td>돈가스</td>\n",
       "      <td>서울 강남구 압구정로32길 32 1층</td>\n",
       "      <td>시그니처카츠(히레)</td>\n",
       "      <td>18,500원</td>\n",
       "      <td>555</td>\n",
       "      <td>109</td>\n",
       "      <td>압구정로32길 32 캘리스코 사보텐</td>\n",
       "      <td>정훈</td>\n",
       "    </tr>\n",
       "    <tr>\n",
       "      <th>2</th>\n",
       "      <td>피오렌티나</td>\n",
       "      <td>이탈리아음식</td>\n",
       "      <td>서울 강남구 논현로 841 제이비 미소 빌딩</td>\n",
       "      <td>디너 코스 1인</td>\n",
       "      <td>70,000원</td>\n",
       "      <td>90</td>\n",
       "      <td>53</td>\n",
       "      <td>논현로 841 피오렌티나</td>\n",
       "      <td>정훈</td>\n",
       "    </tr>\n",
       "    <tr>\n",
       "      <th>3</th>\n",
       "      <td>압구정변강쇠떡볶이</td>\n",
       "      <td>떡볶이</td>\n",
       "      <td>서울 강남구 도산대로46길 21 한진로즈힐아파트 101동 상가117호</td>\n",
       "      <td>쌀떡볶이(4줄) 1인분</td>\n",
       "      <td>4,500원</td>\n",
       "      <td>1583</td>\n",
       "      <td>526</td>\n",
       "      <td>도산대로46길 21 압구정변강쇠떡볶이</td>\n",
       "      <td>정훈</td>\n",
       "    </tr>\n",
       "    <tr>\n",
       "      <th>4</th>\n",
       "      <td>마포만두 역삼점</td>\n",
       "      <td>만두</td>\n",
       "      <td>서울 강남구 논현로 429</td>\n",
       "      <td>메뉴없음</td>\n",
       "      <td>가격없음</td>\n",
       "      <td>25</td>\n",
       "      <td>3</td>\n",
       "      <td>논현로 429 마포만두</td>\n",
       "      <td>정훈</td>\n",
       "    </tr>\n",
       "  </tbody>\n",
       "</table>\n",
       "</div>"
      ],
      "text/plain": [
       "            식당이름    업태구분                                      주소  \\\n",
       "0  하영호신촌설렁탕 역삼로점  곰탕,설렁탕                       서울 강남구 역삼로 215 1층   \n",
       "1      사보텐 압구정본점     돈가스                    서울 강남구 압구정로32길 32 1층   \n",
       "2          피오렌티나  이탈리아음식                서울 강남구 논현로 841 제이비 미소 빌딩   \n",
       "3      압구정변강쇠떡볶이     떡볶이  서울 강남구 도산대로46길 21 한진로즈힐아파트 101동 상가117호   \n",
       "4       마포만두 역삼점      만두                          서울 강남구 논현로 429   \n",
       "\n",
       "             메뉴       가격  방문자리뷰  블로그리뷰                   검색어  담당  \n",
       "0           설렁탕  11,000원    397     13        역삼로 215, 신촌설렁탕  정훈  \n",
       "1    시그니처카츠(히레)  18,500원    555    109   압구정로32길 32 캘리스코 사보텐  정훈  \n",
       "2      디너 코스 1인  70,000원     90     53         논현로 841 피오렌티나  정훈  \n",
       "3  쌀떡볶이(4줄) 1인분   4,500원   1583    526  도산대로46길 21 압구정변강쇠떡볶이  정훈  \n",
       "4          메뉴없음     가격없음     25      3          논현로 429 마포만두  정훈  "
      ]
     },
     "execution_count": 11,
     "metadata": {},
     "output_type": "execute_result"
    }
   ],
   "source": [
    "import pandas as pd \n",
    "res_info_df = pd.read_excel(f'data/res_info_data(2).xlsx')\n",
    "res_info_df.head()"
   ]
  },
  {
   "cell_type": "markdown",
   "metadata": {},
   "source": [
    "## 1) 메뉴 카테고리 수"
   ]
  },
  {
   "cell_type": "code",
   "execution_count": 14,
   "metadata": {},
   "outputs": [
    {
     "data": {
      "text/plain": [
       "262"
      ]
     },
     "execution_count": 14,
     "metadata": {},
     "output_type": "execute_result"
    }
   ],
   "source": [
    "len(res_info_df['업태구분'].unique())"
   ]
  },
  {
   "cell_type": "code",
   "execution_count": 16,
   "metadata": {},
   "outputs": [],
   "source": [
    "## 애매한 업태명\n",
    "애매 = [ '전,빈대떡','요리주점', '곱창,막창,양','일식튀김,꼬치', '오뎅,꼬치','치킨,닭강정', '생선회', '포장마차','소고기구이', '바(BAR)','조개요리', '양꼬치','맥주,호프', \n",
    "           '와인','돼지고기구이', '이자카야', '핫도그', '양갈비', '주류',\n",
    "            '닭발', '전통,민속주점','브런치카페', '브런치','야식', '오징어요리', '뷔페','달빛오징어광어','음식점',\n",
    "            '강화통통생고기', '수산물', '식료품제조',   '바닷가재요리',  '전복요리', '심야오뎅', '화덕고깃간', '채소','닭장수후라이드','제사음식',\n",
    "            '쌀똑핫도그', '식품', '대게요리','카페','카페,디저트','베이커리','도시락,조리식품제조','과일,주스전문점', '떡,한과','아이스크림', '도넛', '과일','빵류제조','초콜릿전문점', '크레페', \n",
    "             '와플', '과자,사탕,초코렛','커피가공,제조','호두과자','차,커피', '한방카페','힐링카페'\n",
    "            ]"
   ]
  },
  {
   "cell_type": "code",
   "execution_count": null,
   "metadata": {},
   "outputs": [],
   "source": []
  },
  {
   "cell_type": "code",
   "execution_count": 17,
   "metadata": {},
   "outputs": [
    {
     "data": {
      "text/plain": [
       "7591"
      ]
     },
     "execution_count": 17,
     "metadata": {},
     "output_type": "execute_result"
    }
   ],
   "source": [
    "# 필요없는 카테고리(카페, 술, 출장요리 등등) 제거\n",
    "제외 = [ '사주카페', '전처리필요','기업', '빙수', '우편취급국', '테이크아웃커피', \n",
    "       '광고대행', '네일아트,네일샵', '4성급', '패션', '프랜차이즈본사',\n",
    "       '셀프,대여스튜디오', '바나프레소', '음료', '플라워카페', '편의점', '케이크전문', '스터디카페', '편의시설', \n",
    "       'PC방',  '노래방', '보드카페', '애견카페',\n",
    "       '2성급',  '예식장', '식료품', '라이브카페', '부속건물', '모텔', '호텔', '유흥주점',\n",
    "       '기업,빌딩', '공방', '영어회화','갤러리카페', '목욕탕,사우나','미용실', '도서관', '만화방', '골프용품', '초콜릿전문점',\n",
    "        '영상,음향가전', '차','수제화', '주택',\n",
    "       '인테리어디자인', '반찬가게', '헬스장','장소대여', '당구장', '요리교육', '무용,댄스', '스크린골프장', '종합패션', '댄스교육',\n",
    "       '수예,자수',\n",
    "       '경기장', '복합문화공간','임대업', \n",
    "       '모델하우스', '공연장', '꽃집,꽃배달', '스포츠시설', '취미,레저용품', '스포츠,오락', \n",
    "        '갤러리,화랑', '슈퍼,마트', '북카페', '애견훈련', '가공식품', '정육점','룸카페', '클럽', '오락시설', '실외골프연습장', '5성급',\n",
    "       '종합가전', '테마카페',  '종합도소매',\n",
    "       '콘도,리조트부속건물', '벽지,장판,마루', '중개업', '건강기능보조식품', '피부,체형관리', '경영컨설팅', '무용,발레',\n",
    "       '찜질방', '미용','고시원,고시텔', '연예기획사', '남성정장','영화관','남성의류', '서적출판',\n",
    "        '반려동물', '문구,팬시용품',\n",
    "       '수입식품', '화장품,향수', '소프트웨어개발', '3성급', '운세,사주', '키즈카페,실내놀이터', '수입의류',\n",
    "        '단란주점', '머리염색'  ]\n",
    "for i in 제외 :\n",
    "    res_info_df = res_info_df.drop(res_info_df[res_info_df['업태구분'] == i].index)\n",
    "\n",
    "len(res_info_df)"
   ]
  },
  {
   "cell_type": "code",
   "execution_count": 20,
   "metadata": {},
   "outputs": [
    {
     "data": {
      "text/plain": [
       "105"
      ]
     },
     "execution_count": 20,
     "metadata": {},
     "output_type": "execute_result"
    }
   ],
   "source": [
    "len(제외)"
   ]
  },
  {
   "cell_type": "code",
   "execution_count": 19,
   "metadata": {},
   "outputs": [
    {
     "data": {
      "text/plain": [
       "157"
      ]
     },
     "execution_count": 19,
     "metadata": {},
     "output_type": "execute_result"
    }
   ],
   "source": [
    "len(res_info_df['업태구분'].unique())"
   ]
  },
  {
   "cell_type": "code",
   "execution_count": null,
   "metadata": {},
   "outputs": [],
   "source": []
  }
 ],
 "metadata": {
  "kernelspec": {
   "display_name": "Python 3",
   "language": "python",
   "name": "python3"
  },
  "language_info": {
   "codemirror_mode": {
    "name": "ipython",
    "version": 3
   },
   "file_extension": ".py",
   "mimetype": "text/x-python",
   "name": "python",
   "nbconvert_exporter": "python",
   "pygments_lexer": "ipython3",
   "version": "3.9.13"
  }
 },
 "nbformat": 4,
 "nbformat_minor": 2
}
