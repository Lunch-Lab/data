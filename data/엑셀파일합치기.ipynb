{
 "cells": [
  {
   "cell_type": "code",
   "execution_count": 22,
   "metadata": {},
   "outputs": [],
   "source": [
    "import os\n",
    "import pandas as pd\n"
   ]
  },
  {
   "cell_type": "code",
   "execution_count": 27,
   "metadata": {},
   "outputs": [],
   "source": [
    "folder_path = 'D:/파이썬/data/data/temp'\n",
    "\n",
    "# 폴더 내의 모든 파일 목록 가져오기\n",
    "file_list = os.listdir(folder_path)\n",
    "\n",
    "# 모든 Excel 파일을 하나의 DataFrame으로 합치기\n",
    "combined_df = pd.concat([pd.read_excel(os.path.join(folder_path, file)) for file in file_list], ignore_index=True)\n",
    "\n",
    "# 결과를 새로운 Excel 파일로 저장\n",
    "combined_df.to_excel('combined_file_origin.xlsx', index=False)"
   ]
  },
  {
   "cell_type": "code",
   "execution_count": 30,
   "metadata": {},
   "outputs": [
    {
     "name": "stdout",
     "output_type": "stream",
     "text": [
      "8296 12404\n"
     ]
    }
   ],
   "source": [
    "# 'index_original' 컬럼 삭제\n",
    "combined_df.drop('index_original', axis=1, inplace=True)\n",
    "\n",
    "# 중복 제거\n",
    "combined_df.drop_duplicates(inplace=True)\n",
    "\n",
    "# '검색여부'가 '가능'인 행만 추출\n",
    "filtered_df = combined_df[combined_df['검색여부'] == '가능'].copy()\n",
    "\n",
    "print(len(filtered_df),len(combined_df))"
   ]
  },
  {
   "cell_type": "code",
   "execution_count": null,
   "metadata": {},
   "outputs": [],
   "source": [
    "filtered_df.to_excel('combined_file.xlsx', index=False)"
   ]
  }
 ],
 "metadata": {
  "kernelspec": {
   "display_name": "Python 3",
   "language": "python",
   "name": "python3"
  },
  "language_info": {
   "codemirror_mode": {
    "name": "ipython",
    "version": 3
   },
   "file_extension": ".py",
   "mimetype": "text/x-python",
   "name": "python",
   "nbconvert_exporter": "python",
   "pygments_lexer": "ipython3",
   "version": "3.10.5"
  }
 },
 "nbformat": 4,
 "nbformat_minor": 2
}
