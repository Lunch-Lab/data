{
 "cells": [
  {
   "cell_type": "code",
   "execution_count": 1,
   "metadata": {},
   "outputs": [],
   "source": [
    "# 그 외 \n",
    "import numpy as np  \n",
    "import pandas as pd "
   ]
  },
  {
   "cell_type": "code",
   "execution_count": null,
   "metadata": {},
   "outputs": [],
   "source": [
    "# # 데이터 불러오기\n",
    "# original_res_df = pd.read_excel('combined_file.xlsx')\n",
    "# res_df = original_res_df.copy()\n",
    "# res_df = res_df.loc[res_df['검색여부'] == '가능'].reset_index(drop=True)\n",
    "# res_df.drop('Unnamed: 0', axis=1, inplace=True)\n",
    "\n",
    "\n",
    "# # 컬럼 순서 바꾸기 -> 보기 좋으라고 바꿈\n",
    "# res_df['데이터기준일'] = '2024-02-01'\n",
    "# res_df['검색어'] = res_df['상세주소'] + \" \" + res_df['사업장명']\n",
    "# column_order = ['검색어', '업태구분명', '사업장명', '사업장명_원본', '시도', '지역구', '상세주소', '소재지전체주소', '도로명전체주소', '좌표정보(x)', '좌표정보(y)', '검색여부', '영업상태명','데이터기준일']\n",
    "# res_df = res_df[column_order]\n",
    "# res_df.tail()"
   ]
  },
  {
   "cell_type": "code",
   "execution_count": null,
   "metadata": {},
   "outputs": [],
   "source": [
    "# div = len(res_df)//4\n",
    "\n",
    "# 지은 = res_df[:div].reset_index(drop=True)\n",
    "# 정훈 = res_df[div:div*2].reset_index(drop=True)\n",
    "# 해민 = res_df[div*2:div*3].reset_index(drop=True)\n",
    "# 지선 = res_df[div*3:].reset_index(drop=True)\n",
    "\n",
    "# 지은['담당자'] = '지은'\n",
    "# 정훈['담당자'] = '정훈'\n",
    "# 해민['담당자'] = '해민'\n",
    "# 지선['담당자'] = '지선'\n"
   ]
  },
  {
   "cell_type": "code",
   "execution_count": null,
   "metadata": {},
   "outputs": [],
   "source": [
    "# # 자기 이름을 입력해서 잘 돌아가나 봅니다. \n",
    "# 지선.head()"
   ]
  },
  {
   "cell_type": "code",
   "execution_count": null,
   "metadata": {},
   "outputs": [],
   "source": [
    "# # 위에서 생성한 데이터프레임들\n",
    "# 지은.to_excel('지은.xlsx', index=False)\n",
    "# 정훈.to_excel('정훈.xlsx', index=False)\n",
    "# 해민.to_excel('해민.xlsx', index=False)\n",
    "# 지선.to_excel('지선.xlsx', index=False)"
   ]
  },
  {
   "cell_type": "markdown",
   "metadata": {},
   "source": [
    "restaurant_info_data 안에 있는 엑셀 파일을 담당자 이름을 붙여서 한 개의 엑셀 파일로 코딩"
   ]
  },
  {
   "cell_type": "code",
   "execution_count": 2,
   "metadata": {},
   "outputs": [],
   "source": [
    "import os\n",
    "\n",
    "folder_path = 'D:/파이썬/data/data/restaurant_info_data(2)/restaurant_info_data'  # 폴더 경로를 지정해주세요.\n",
    "\n",
    "# 폴더 내 모든 파일의 이름을 읽어오기\n",
    "file_names = []\n",
    "for file in os.listdir(folder_path):\n",
    "    if os.path.isfile(os.path.join(folder_path, file)):\n",
    "        file_names.append(os.path.join(folder_path, file))\n",
    "\n",
    "# 각 파일에 대해 처리\n",
    "for file_name in file_names:\n",
    "    # xlsx 파일을 DataFrame으로 읽어옴\n",
    "    df = pd.read_excel(file_name)\n",
    "    \n",
    "    # '담당'이라는 새로운 컬럼을 추가하고 tags 값을 할당\n",
    "    tag = file_name.split(\"restaurant_tag_df_\")[1][:2]\n",
    "    df['담당'] = tag\n",
    "    \n",
    "    # 새로운 DataFrame을 같은 파일에 덮어쓰기\n",
    "    df.to_excel(file_name, index=False)"
   ]
  },
  {
   "cell_type": "code",
   "execution_count": 3,
   "metadata": {},
   "outputs": [
    {
     "name": "stdout",
     "output_type": "stream",
     "text": [
      "모든 xlsx 파일을 res_info_data.xlsx로 병합했습니다.\n"
     ]
    }
   ],
   "source": [
    "\n",
    "# 폴더 내 모든 파일의 이름을 읽어오기\n",
    "file_names = []\n",
    "for file in os.listdir(folder_path):\n",
    "    if os.path.isfile(os.path.join(folder_path, file)) and file.endswith('.xlsx'):\n",
    "        file_names.append(os.path.join(folder_path, file))\n",
    "\n",
    "# 모든 엑셀 파일을 읽어서 DataFrame으로 저장\n",
    "dfs = []\n",
    "for file_name in file_names:\n",
    "    df = pd.read_excel(file_name)\n",
    "    dfs.append(df)\n",
    "\n",
    "# 모든 DataFrame을 합치기\n",
    "merged_df = pd.concat(dfs, ignore_index=True)\n",
    "\n",
    "# 결과를 하나의 엑셀 파일로 저장\n",
    "output_file_path = 'res_info_data.xlsx'\n",
    "merged_df.to_excel(output_file_path, index=False)\n",
    "\n",
    "print(f\"모든 xlsx 파일을 {output_file_path}로 병합했습니다.\")"
   ]
  }
 ],
 "metadata": {
  "kernelspec": {
   "display_name": "Python 3",
   "language": "python",
   "name": "python3"
  },
  "language_info": {
   "codemirror_mode": {
    "name": "ipython",
    "version": 3
   },
   "file_extension": ".py",
   "mimetype": "text/x-python",
   "name": "python",
   "nbconvert_exporter": "python",
   "pygments_lexer": "ipython3",
   "version": "3.10.5"
  }
 },
 "nbformat": 4,
 "nbformat_minor": 2
}
