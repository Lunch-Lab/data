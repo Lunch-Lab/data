{
 "cells": [
  {
   "cell_type": "markdown",
   "metadata": {},
   "source": [
    "# 카카오에서 별점 가져오기"
   ]
  },
  {
   "cell_type": "code",
   "execution_count": 1,
   "metadata": {},
   "outputs": [
    {
     "name": "stderr",
     "output_type": "stream",
     "text": [
      "c:\\Users\\hare0\\AppData\\Local\\Programs\\Python\\Python310\\lib\\site-packages\\requests\\__init__.py:109: RequestsDependencyWarning: urllib3 (1.26.12) or chardet (5.2.0)/charset_normalizer (2.0.12) doesn't match a supported version!\n",
      "  warnings.warn(\n"
     ]
    }
   ],
   "source": [
    "# 웹 드라이버 설정\n",
    "from selenium import webdriver  \n",
    "from webdriver_manager.chrome import ChromeDriverManager \n",
    "\n",
    "# 대기 관련 라이브러리\n",
    "from selenium.webdriver.support.ui import WebDriverWait \n",
    "from selenium.webdriver.support import expected_conditions as EC \n",
    "\n",
    "# 웹 요소 찾기 관련 라이브러리\n",
    "from selenium.webdriver.common.by import By  \n",
    "from selenium.webdriver.common.keys import Keys  \n",
    "\n",
    "# 그 외 \n",
    "import time \n",
    "import warnings\n",
    "warnings.filterwarnings('ignore')\n"
   ]
  },
  {
   "cell_type": "code",
   "execution_count": 7,
   "metadata": {},
   "outputs": [],
   "source": [
    "# 카카오 별점 가져오는 함수 \n",
    "def kakao_finder(place,name) :\n",
    "    # 검색어 = 지역명 + 가게명 ex) 강남구 떡도리탕\n",
    "    kakao_search_term = place + \" \" + name\n",
    "\n",
    "    # 검색 결과가 있을 때\n",
    "    try :               \n",
    "        time.sleep(3)\n",
    "        WebDriverWait(driver,3).until(EC.presence_of_all_elements_located((By.ID,'search.keyword.query')))\n",
    "        # 검색 박스 비우고 검색어 입력하고 enter\n",
    "        driver.find_element(By.ID,'search.keyword.query').clear()\n",
    "        driver.find_element(By.ID,'search.keyword.query').send_keys(kakao_search_term)\n",
    "        driver.find_element(By.ID,'search.keyword.query').send_keys(Keys.RETURN)\n",
    "\n",
    "        # 2초 대기\n",
    "        time.sleep(2)\n",
    "\n",
    "        # 별점 저장\n",
    "        kakao_star = driver.find_element(By.XPATH,'//*[@id=\"info.search.place.list\"]/li[1]/div[4]/span[1]/em').text\n",
    "        kakao_star = float(kakao_star)\n",
    "        \n",
    "    # 검색 결과가 없을 때\n",
    "    except :\n",
    "        kakao_star = '없음' \n",
    "    \n",
    "    return kakao_star"
   ]
  },
  {
   "cell_type": "code",
   "execution_count": 9,
   "metadata": {},
   "outputs": [
    {
     "data": {
      "text/plain": [
       "{'맥도날드': 2.8, '호랑가시': 4.0, '떡도리탕': 3.7}"
      ]
     },
     "execution_count": 9,
     "metadata": {},
     "output_type": "execute_result"
    }
   ],
   "source": [
    "# test \n",
    "url = 'https://map.kakao.com/'\n",
    "\n",
    "driver = webdriver.Chrome(ChromeDriverManager().install())\n",
    "driver.get(url)\n",
    "\n",
    "지역구 = '강남구'\n",
    "매장명 = ['맥도날드','호랑가시','떡도리탕']\n",
    "star = {}\n",
    "\n",
    "for i in range(len(매장명)) :\n",
    "    star[매장명[i]] = kakao_finder(지역구,매장명[i])\n",
    "\n",
    "star"
   ]
  }
 ],
 "metadata": {
  "kernelspec": {
   "display_name": "Python 3",
   "language": "python",
   "name": "python3"
  },
  "language_info": {
   "codemirror_mode": {
    "name": "ipython",
    "version": 3
   },
   "file_extension": ".py",
   "mimetype": "text/x-python",
   "name": "python",
   "nbconvert_exporter": "python",
   "pygments_lexer": "ipython3",
   "version": "3.10.5"
  }
 },
 "nbformat": 4,
 "nbformat_minor": 2
}
